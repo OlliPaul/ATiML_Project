{
 "cells": [
  {
   "cell_type": "code",
   "execution_count": 1,
   "metadata": {
    "id": "1HcqGdp6YwMf",
    "pycharm": {
     "name": "#%%\n"
    }
   },
   "outputs": [],
   "source": [
    "import msmbuilder.clustering\n",
    "import tensorflow as tf\n",
    "import tensorflow_datasets as tfds\n",
    "from matplotlib import pyplot as plt\n",
    "from sklearn.cluster import KMeans\n",
    "from sklearn import metrics\n",
    "import cv2\n",
    "import os\n",
    "import random\n",
    "import pylab as pl\n",
    "import numpy as np\n",
    "import cv2 as cv\n",
    "import numpy as np\n",
    "import tensorflow as tf\n",
    "import tensorflow_datasets as tfds\n",
    "from matplotlib import pyplot as plt\n",
    "from sklearn.cluster import KMeans, AgglomerativeClustering\n",
    "from sklearn import metrics\n",
    "from sklearn.neighbors import NearestNeighbors\n",
    "from active_semi_clustering.semi_supervised.pairwise_constraints import PCKMeans,COPKMeans, MPCKMeansMF, MPCKMeans\n",
    "from active_semi_clustering.active.pairwise_constraints import ExampleOracle, ExploreConsolidate, MinMax\n",
    "import active_semi_clustering.active.pairwise_constraints.random\n",
    "import pickle\n",
    "import shap\n",
    "import imagehash\n",
    "from PIL import Image\n",
    "from operator import itemgetter"
   ]
  },
  {
   "cell_type": "code",
   "execution_count": 2,
   "metadata": {
    "id": "zDXKu_2uYwMq",
    "pycharm": {
     "name": "#%%\n"
    }
   },
   "outputs": [],
   "source": [
    "builder = tfds.builder('voc/2007')\n",
    "builder.download_and_prepare()\n",
    "datasets = builder.as_dataset()\n",
    "train_data, val_data, test_data = datasets['train'], datasets['validation'], datasets['test']\n"
   ]
  },
  {
   "cell_type": "code",
   "execution_count": 3,
   "metadata": {
    "pycharm": {
     "name": "#%%\n"
    }
   },
   "outputs": [],
   "source": [
    "des_list=[]\n",
    "images = train_data.map(lambda x: x[\"image\"])"
   ]
  },
  {
   "cell_type": "code",
   "execution_count": 4,
   "metadata": {
    "pycharm": {
     "name": "#%%\n"
    }
   },
   "outputs": [],
   "source": [
    "orb= cv.ORB_create()\n",
    "for image_pat in images:\n",
    "\n",
    "    kp=orb.detect(image_pat.numpy(),None)\n",
    "    keypoints,descriptor= orb.compute(image_pat.numpy(), kp)\n",
    "    des_list.append(descriptor)"
   ]
  },
  {
   "cell_type": "code",
   "execution_count": 5,
   "metadata": {
    "pycharm": {
     "name": "#%%\n"
    }
   },
   "outputs": [
    {
     "name": "stdout",
     "output_type": "stream",
     "text": [
      "2501\n"
     ]
    }
   ],
   "source": [
    "print(len(des_list))"
   ]
  },
  {
   "cell_type": "code",
   "execution_count": 6,
   "metadata": {
    "id": "oDeXF_JWYwNY",
    "pycharm": {
     "name": "#%%\n"
    }
   },
   "outputs": [],
   "source": [
    "#print(keypoints)"
   ]
  },
  {
   "cell_type": "code",
   "execution_count": 7,
   "metadata": {
    "colab": {
     "base_uri": "https://localhost:8080/"
    },
    "id": "AjSUckRPYwNa",
    "outputId": "7cd8e635-27c1-479f-c76f-732a814f4a41",
    "pycharm": {
     "name": "#%%\n"
    }
   },
   "outputs": [
    {
     "data": {
      "text/plain": "array([[173,  68, 213, ..., 251,  66, 160],\n       [ 43, 160, 176, ...,  12, 222, 198],\n       [202, 189, 255, ..., 244, 199, 127],\n       ...,\n       [120,  15, 114, ..., 171, 124, 130],\n       [255,  87, 190, ..., 247, 102, 119],\n       [227,  38,  81, ..., 208, 198, 100]], dtype=uint8)"
     },
     "execution_count": 7,
     "metadata": {},
     "output_type": "execute_result"
    }
   ],
   "source": [
    "des_list[0]"
   ]
  },
  {
   "cell_type": "code",
   "execution_count": 8,
   "metadata": {
    "id": "5Aso2HeKYwNe",
    "pycharm": {
     "name": "#%%\n"
    }
   },
   "outputs": [],
   "source": [
    "descriptors=np.vstack(des_list)"
   ]
  },
  {
   "cell_type": "code",
   "execution_count": 9,
   "metadata": {
    "pycharm": {
     "name": "#%%\n"
    }
   },
   "outputs": [
    {
     "data": {
      "text/plain": "(1227245, 32)"
     },
     "execution_count": 9,
     "metadata": {},
     "output_type": "execute_result"
    }
   ],
   "source": [
    "descriptors.shape"
   ]
  },
  {
   "cell_type": "code",
   "execution_count": 10,
   "metadata": {
    "colab": {
     "base_uri": "https://localhost:8080/"
    },
    "id": "Qe4GQ2ElYwNg",
    "outputId": "11e587a8-08cc-49a1-a71a-40cf168258b2",
    "pycharm": {
     "name": "#%%\n"
    }
   },
   "outputs": [
    {
     "name": "stdout",
     "output_type": "stream",
     "text": [
      "[173  68 213 111  13 110 103  24 230 178 231  88 211 113  25 251  73 212\n",
      " 122 106 105 244 217  10 199 251  69  20 218 251  66 160]\n"
     ]
    }
   ],
   "source": [
    "print(descriptors[0])"
   ]
  },
  {
   "cell_type": "code",
   "execution_count": 11,
   "metadata": {
    "id": "hKZQBa0tYwNj",
    "pycharm": {
     "name": "#%%\n"
    }
   },
   "outputs": [],
   "source": [
    "#descriptors_float=descriptors.astype(float)"
   ]
  },
  {
   "cell_type": "code",
   "execution_count": 12,
   "metadata": {
    "id": "L59nVhSgrsbE",
    "pycharm": {
     "name": "#%%\n"
    }
   },
   "outputs": [],
   "source": [
    "#!pip install scikit-learn-extra"
   ]
  },
  {
   "cell_type": "code",
   "execution_count": 13,
   "metadata": {
    "id": "Pn1YYxbY1DHw",
    "pycharm": {
     "name": "#%%\n"
    }
   },
   "outputs": [],
   "source": [
    "from scipy.spatial.distance import hamming"
   ]
  },
  {
   "cell_type": "code",
   "execution_count": 14,
   "metadata": {
    "id": "K-kvSdG8n1VN",
    "pycharm": {
     "name": "#%%\n"
    }
   },
   "outputs": [],
   "source": [
    "out_arr = np.unpackbits(descriptors, axis = 1)"
   ]
  },
  {
   "cell_type": "code",
   "execution_count": 15,
   "metadata": {
    "colab": {
     "base_uri": "https://localhost:8080/"
    },
    "id": "HTcKi2MZoJMg",
    "outputId": "0362eab1-cedc-46f2-f235-8e900e6841ff",
    "pycharm": {
     "name": "#%%\n"
    }
   },
   "outputs": [
    {
     "data": {
      "text/plain": "array([1, 1, 0, 0, 1, 0, 1, 0, 1, 0, 1, 1, 1, 1, 0, 1, 1, 1, 1, 1, 1, 1,\n       1, 1, 0, 1, 0, 1, 0, 1, 1, 0, 1, 1, 1, 1, 0, 0, 0, 1, 0, 1, 1, 1,\n       1, 1, 0, 0, 0, 0, 1, 1, 1, 1, 0, 1, 1, 0, 0, 1, 0, 1, 1, 0, 1, 1,\n       1, 1, 1, 0, 1, 1, 1, 1, 1, 1, 1, 1, 0, 1, 0, 0, 1, 0, 1, 1, 1, 1,\n       0, 0, 1, 1, 1, 0, 0, 0, 1, 1, 1, 1, 1, 1, 0, 0, 1, 0, 1, 1, 1, 1,\n       1, 1, 1, 1, 0, 0, 1, 1, 1, 0, 0, 0, 1, 1, 1, 1, 1, 1, 1, 0, 1, 0,\n       0, 1, 1, 1, 0, 1, 1, 1, 1, 1, 1, 1, 1, 1, 1, 1, 1, 1, 0, 1, 0, 0,\n       0, 1, 1, 1, 0, 0, 1, 0, 1, 1, 0, 0, 0, 0, 1, 1, 0, 0, 1, 0, 0, 1,\n       1, 0, 1, 1, 1, 0, 1, 0, 0, 1, 1, 0, 0, 0, 0, 0, 0, 1, 1, 0, 1, 0,\n       1, 1, 1, 1, 1, 1, 1, 1, 1, 1, 0, 1, 1, 1, 0, 1, 0, 0, 1, 0, 1, 0,\n       1, 0, 1, 1, 1, 1, 0, 0, 0, 0, 1, 0, 1, 1, 1, 1, 0, 1, 0, 0, 1, 1,\n       0, 0, 0, 1, 1, 1, 0, 1, 1, 1, 1, 1, 1, 1], dtype=uint8)"
     },
     "execution_count": 15,
     "metadata": {},
     "output_type": "execute_result"
    }
   ],
   "source": [
    "out_arr[2]"
   ]
  },
  {
   "cell_type": "code",
   "execution_count": 16,
   "metadata": {
    "id": "UCfgzS-4pPXZ",
    "pycharm": {
     "name": "#%%\n"
    }
   },
   "outputs": [],
   "source": [
    "from scipy.spatial.distance import pdist"
   ]
  },
  {
   "cell_type": "code",
   "execution_count": 16,
   "metadata": {
    "id": "873K5BegoR7d",
    "pycharm": {
     "name": "#%%\n"
    }
   },
   "outputs": [],
   "source": []
  },
  {
   "cell_type": "code",
   "execution_count": 17,
   "metadata": {
    "id": "YKeITBJdvIGv",
    "pycharm": {
     "name": "#%%\n"
    }
   },
   "outputs": [],
   "source": [
    "#pip install scikit-learn-extra"
   ]
  },
  {
   "cell_type": "code",
   "execution_count": 18,
   "metadata": {
    "id": "7XkAHUmHssAw",
    "pycharm": {
     "name": "#%%\n"
    }
   },
   "outputs": [],
   "source": [
    "from sklearn_extra.cluster import KMedoids\n",
    "from sklearn.metrics import make_scorer"
   ]
  },
  {
   "cell_type": "code",
   "execution_count": 19,
   "metadata": {
    "id": "lktytlWv32Yx",
    "pycharm": {
     "name": "#%%\n"
    }
   },
   "outputs": [],
   "source": [
    "#dt=DistanceMetric.get_metric('pyfunc',func=ham_dis)"
   ]
  },
  {
   "cell_type": "code",
   "execution_count": 20,
   "metadata": {
    "id": "0QzmX97c8XZ7",
    "pycharm": {
     "name": "#%%\n"
    }
   },
   "outputs": [],
   "source": [
    "#score = make_scorer(ham_dis)\n"
   ]
  },
  {
   "cell_type": "code",
   "execution_count": 21,
   "metadata": {
    "id": "ELROooLi1Y8J",
    "pycharm": {
     "name": "#%%\n"
    }
   },
   "outputs": [],
   "source": [
    "from scipy.spatial import distance\n",
    "import time\n",
    "\n",
    "\n",
    "class KMajority:\n",
    "    def __init__(self,n_clusters=8,max_iter=100,):\n",
    "        \n",
    "        self.n_cluster=n_clusters\n",
    "        self.max_iter=max_iter\n",
    "        \n",
    "    def fit(self,X,y=None,centroid=None):\n",
    "        X=np.array(X, dtype=bool)\n",
    "        #random centriods\n",
    "        if centroid is None:\n",
    "            centroids=np.random.randint(2, size=(self.n_cluster,X.shape[1]))\n",
    "            self.centroids=np.array(centroids, dtype=bool)\n",
    "        else:\n",
    "            self.centroids=centroid\n",
    "        centroids=None\n",
    "            \n",
    "        for i in range(self.max_iter):\n",
    "            #distance from each point in X and the centroids so ouput is shape (number_samples, number_clusters)\n",
    "            number_samples =X.shape[0]\n",
    "            number_features=X.shape[1]\n",
    "            \n",
    "            dist=distance.cdist(X,self.centroids,'hamming')\n",
    "            #shape (number_samples,)\n",
    "            cluster_assigned=np.argmin(dist,axis=1)\n",
    "            \n",
    "            \n",
    "            #we calculate one hot encodings to select the rows we want to sum over using matrix multiplication\n",
    "            #test=np.zeros((X.shape[0],self.n_cluster))\n",
    "            #test[np.arange(X.shape[0]),cluster_assigned]=1\n",
    "            #out=test.T@X\n",
    "            \n",
    "            row_sum = np.array([X[cluster_assigned==i].sum(axis=0) for i in range(self.n_cluster)])\n",
    "            row_count = np.array([(cluster_assigned==i).sum(axis=0) for i in range(self.n_cluster)])\n",
    "\n",
    "            #print(row_sum)\n",
    "            #print(row_count)\n",
    "            new_centroids=row_sum>(row_count/2).reshape(-1,1)\n",
    "            #remove empty clusering init randomly again nets bad results but setting it to actual points helps\n",
    "            nullcheck=row_count==0\n",
    "            if(np.any(nullcheck)):\n",
    "                for k in np.argwhere(nullcheck):\n",
    "                    #does not work to bad performance in comparision to already fitted clusters\n",
    "                    #zw=np.random.randint(2, size=(X.shape[1]))\n",
    "                    \n",
    "                    index = np.random.choice(X.shape[0], 1, replace=False) \n",
    "                    new_centroids[k[0]]=X[index]\n",
    "                    \n",
    "            #print(centroids[0])\n",
    "            #print(new_centroids[0])\n",
    "            print(i)\n",
    "            if(np.array_equal(self.centroids,new_centroids)):\n",
    "                self.labels=cluster_assigned\n",
    "                self.centroids=new_centroids\n",
    "                return self\n",
    "            \n",
    "            self.labels=cluster_assigned\n",
    "            self.centroids=new_centroids\n",
    "            \n",
    "        return self\n",
    "            \n",
    "    def predict(self,X):\n",
    "        X=np.array(X, dtype=bool)\n",
    "            #distance from each point in X and the centroids so ouput is shape (number_samples, number_clusters)\n",
    "        number_samples =X.shape[0]\n",
    "        number_features=X.shape[1]\n",
    "        dist=distance.cdist(X,self.centroids,'hamming')\n",
    "        cluster_assigned=np.argmin(dist,axis=1)\n",
    "        return cluster_assigned\n",
    "\n",
    "            \n"
   ]
  },
  {
   "cell_type": "code",
   "execution_count": 22,
   "metadata": {
    "pycharm": {
     "name": "#%%\n"
    }
   },
   "outputs": [],
   "source": [
    "kmajority = KMajority(n_clusters=1000,max_iter=25)\n",
    "import pickle"
   ]
  },
  {
   "cell_type": "code",
   "execution_count": 23,
   "metadata": {
    "colab": {
     "base_uri": "https://localhost:8080/"
    },
    "id": "g8HO_Lhg6yMe",
    "outputId": "82e88bcd-c9cd-43e5-da8b-c812eade47b7",
    "pycharm": {
     "name": "#%%\n"
    }
   },
   "outputs": [
    {
     "name": "stdout",
     "output_type": "stream",
     "text": [
      "0\n",
      "1\n",
      "2\n",
      "3\n",
      "4\n",
      "5\n",
      "6\n",
      "7\n",
      "8\n",
      "9\n",
      "10\n",
      "11\n",
      "12\n",
      "13\n",
      "14\n",
      "15\n",
      "16\n",
      "17\n",
      "18\n",
      "19\n",
      "20\n",
      "21\n",
      "22\n",
      "23\n",
      "24\n",
      "25\n",
      "26\n",
      "27\n",
      "28\n",
      "29\n",
      "30\n",
      "31\n",
      "32\n",
      "167.45888090133667\n"
     ]
    }
   ],
   "source": [
    "index = np.random.choice(out_arr.shape[0], 20000, replace=False) \n",
    "kmajority.max_iter=50\n",
    "start = time.time()\n",
    "kmajority.fit(out_arr[index])\n",
    "end = time.time()\n",
    "print(end-start)\n",
    "with open('dumped_centroids1.pkl', 'wb') as fid:\n",
    "    pickle.dump(kmajority.centroids, fid)   "
   ]
  },
  {
   "cell_type": "code",
   "execution_count": 24,
   "metadata": {
    "pycharm": {
     "name": "#%%\n"
    }
   },
   "outputs": [
    {
     "name": "stdout",
     "output_type": "stream",
     "text": [
      "0\n",
      "1\n",
      "2\n",
      "3\n",
      "4\n",
      "5\n",
      "6\n",
      "7\n",
      "8\n",
      "9\n",
      "10\n",
      "11\n",
      "12\n",
      "13\n",
      "14\n",
      "15\n",
      "16\n",
      "17\n",
      "18\n",
      "19\n",
      "20\n",
      "21\n",
      "22\n",
      "23\n",
      "24\n",
      "25\n",
      "26\n",
      "27\n",
      "28\n",
      "29\n",
      "30\n",
      "31\n",
      "32\n",
      "33\n",
      "34\n",
      "35\n",
      "1866.8678879737854\n"
     ]
    }
   ],
   "source": [
    "index = np.random.choice(out_arr.shape[0], 200000, replace=False)\n",
    "kmajority.max_iter=75\n",
    "start = time.time()\n",
    "kmajority.fit(out_arr[index],centroid=kmajority.centroids)\n",
    "end = time.time()\n",
    "print(end-start)\n",
    "with open('dumped_centroids2.pkl', 'wb') as fid:\n",
    "    pickle.dump(kmajority.centroids, fid)   "
   ]
  },
  {
   "cell_type": "code",
   "execution_count": 25,
   "metadata": {
    "pycharm": {
     "name": "#%%\n"
    }
   },
   "outputs": [
    {
     "name": "stdout",
     "output_type": "stream",
     "text": [
      "0\n",
      "1\n",
      "2\n",
      "3\n",
      "4\n",
      "5\n",
      "6\n",
      "7\n",
      "8\n",
      "9\n",
      "10\n",
      "11\n",
      "12\n",
      "13\n",
      "14\n",
      "15\n",
      "16\n",
      "17\n",
      "18\n"
     ]
    },
    {
     "ename": "KeyboardInterrupt",
     "evalue": "",
     "output_type": "error",
     "traceback": [
      "\u001B[1;31m---------------------------------------------------------------------------\u001B[0m",
      "\u001B[1;31mKeyboardInterrupt\u001B[0m                         Traceback (most recent call last)",
      "\u001B[1;32m~\\AppData\\Local\\Temp\\ipykernel_19784\\3729081373.py\u001B[0m in \u001B[0;36m<module>\u001B[1;34m\u001B[0m\n\u001B[0;32m      2\u001B[0m \u001B[1;33m\u001B[0m\u001B[0m\n\u001B[0;32m      3\u001B[0m \u001B[0mstart\u001B[0m \u001B[1;33m=\u001B[0m \u001B[0mtime\u001B[0m\u001B[1;33m.\u001B[0m\u001B[0mtime\u001B[0m\u001B[1;33m(\u001B[0m\u001B[1;33m)\u001B[0m\u001B[1;33m\u001B[0m\u001B[1;33m\u001B[0m\u001B[0m\n\u001B[1;32m----> 4\u001B[1;33m \u001B[0mkmajority\u001B[0m\u001B[1;33m.\u001B[0m\u001B[0mfit\u001B[0m\u001B[1;33m(\u001B[0m\u001B[0mout_arr\u001B[0m\u001B[1;33m,\u001B[0m\u001B[0mcentroid\u001B[0m\u001B[1;33m=\u001B[0m\u001B[0mkmajority\u001B[0m\u001B[1;33m.\u001B[0m\u001B[0mcentroids\u001B[0m\u001B[1;33m)\u001B[0m\u001B[1;33m\u001B[0m\u001B[1;33m\u001B[0m\u001B[0m\n\u001B[0m\u001B[0;32m      5\u001B[0m \u001B[0mend\u001B[0m \u001B[1;33m=\u001B[0m \u001B[0mtime\u001B[0m\u001B[1;33m.\u001B[0m\u001B[0mtime\u001B[0m\u001B[1;33m(\u001B[0m\u001B[1;33m)\u001B[0m\u001B[1;33m\u001B[0m\u001B[1;33m\u001B[0m\u001B[0m\n\u001B[0;32m      6\u001B[0m \u001B[0mprint\u001B[0m\u001B[1;33m(\u001B[0m\u001B[0mend\u001B[0m\u001B[1;33m-\u001B[0m\u001B[0mstart\u001B[0m\u001B[1;33m)\u001B[0m\u001B[1;33m\u001B[0m\u001B[1;33m\u001B[0m\u001B[0m\n",
      "\u001B[1;32m~\\AppData\\Local\\Temp\\ipykernel_19784\\266635497.py\u001B[0m in \u001B[0;36mfit\u001B[1;34m(self, X, y, centroid)\u001B[0m\n\u001B[0;32m     24\u001B[0m             \u001B[0mnumber_features\u001B[0m\u001B[1;33m=\u001B[0m\u001B[0mX\u001B[0m\u001B[1;33m.\u001B[0m\u001B[0mshape\u001B[0m\u001B[1;33m[\u001B[0m\u001B[1;36m1\u001B[0m\u001B[1;33m]\u001B[0m\u001B[1;33m\u001B[0m\u001B[1;33m\u001B[0m\u001B[0m\n\u001B[0;32m     25\u001B[0m \u001B[1;33m\u001B[0m\u001B[0m\n\u001B[1;32m---> 26\u001B[1;33m             \u001B[0mdist\u001B[0m\u001B[1;33m=\u001B[0m\u001B[0mdistance\u001B[0m\u001B[1;33m.\u001B[0m\u001B[0mcdist\u001B[0m\u001B[1;33m(\u001B[0m\u001B[0mX\u001B[0m\u001B[1;33m,\u001B[0m\u001B[0mself\u001B[0m\u001B[1;33m.\u001B[0m\u001B[0mcentroids\u001B[0m\u001B[1;33m,\u001B[0m\u001B[1;34m'hamming'\u001B[0m\u001B[1;33m)\u001B[0m\u001B[1;33m\u001B[0m\u001B[1;33m\u001B[0m\u001B[0m\n\u001B[0m\u001B[0;32m     27\u001B[0m             \u001B[1;31m#shape (number_samples,)\u001B[0m\u001B[1;33m\u001B[0m\u001B[1;33m\u001B[0m\u001B[1;33m\u001B[0m\u001B[0m\n\u001B[0;32m     28\u001B[0m             \u001B[0mcluster_assigned\u001B[0m\u001B[1;33m=\u001B[0m\u001B[0mnp\u001B[0m\u001B[1;33m.\u001B[0m\u001B[0margmin\u001B[0m\u001B[1;33m(\u001B[0m\u001B[0mdist\u001B[0m\u001B[1;33m,\u001B[0m\u001B[0maxis\u001B[0m\u001B[1;33m=\u001B[0m\u001B[1;36m1\u001B[0m\u001B[1;33m)\u001B[0m\u001B[1;33m\u001B[0m\u001B[1;33m\u001B[0m\u001B[0m\n",
      "\u001B[1;32m~\\anaconda3\\envs\\ATiML_Project\\lib\\site-packages\\scipy\\spatial\\distance.py\u001B[0m in \u001B[0;36mcdist\u001B[1;34m(XA, XB, metric, out, **kwargs)\u001B[0m\n\u001B[0;32m   2952\u001B[0m         \u001B[1;32mif\u001B[0m \u001B[0mmetric_info\u001B[0m \u001B[1;32mis\u001B[0m \u001B[1;32mnot\u001B[0m \u001B[1;32mNone\u001B[0m\u001B[1;33m:\u001B[0m\u001B[1;33m\u001B[0m\u001B[1;33m\u001B[0m\u001B[0m\n\u001B[0;32m   2953\u001B[0m             \u001B[0mcdist_fn\u001B[0m \u001B[1;33m=\u001B[0m \u001B[0mmetric_info\u001B[0m\u001B[1;33m.\u001B[0m\u001B[0mcdist_func\u001B[0m\u001B[1;33m\u001B[0m\u001B[1;33m\u001B[0m\u001B[0m\n\u001B[1;32m-> 2954\u001B[1;33m             \u001B[1;32mreturn\u001B[0m \u001B[0mcdist_fn\u001B[0m\u001B[1;33m(\u001B[0m\u001B[0mXA\u001B[0m\u001B[1;33m,\u001B[0m \u001B[0mXB\u001B[0m\u001B[1;33m,\u001B[0m \u001B[0mout\u001B[0m\u001B[1;33m=\u001B[0m\u001B[0mout\u001B[0m\u001B[1;33m,\u001B[0m \u001B[1;33m**\u001B[0m\u001B[0mkwargs\u001B[0m\u001B[1;33m)\u001B[0m\u001B[1;33m\u001B[0m\u001B[1;33m\u001B[0m\u001B[0m\n\u001B[0m\u001B[0;32m   2955\u001B[0m         \u001B[1;32melif\u001B[0m \u001B[0mmstr\u001B[0m\u001B[1;33m.\u001B[0m\u001B[0mstartswith\u001B[0m\u001B[1;33m(\u001B[0m\u001B[1;34m\"test_\"\u001B[0m\u001B[1;33m)\u001B[0m\u001B[1;33m:\u001B[0m\u001B[1;33m\u001B[0m\u001B[1;33m\u001B[0m\u001B[0m\n\u001B[0;32m   2956\u001B[0m             \u001B[0mmetric_info\u001B[0m \u001B[1;33m=\u001B[0m \u001B[0m_TEST_METRICS\u001B[0m\u001B[1;33m.\u001B[0m\u001B[0mget\u001B[0m\u001B[1;33m(\u001B[0m\u001B[0mmstr\u001B[0m\u001B[1;33m,\u001B[0m \u001B[1;32mNone\u001B[0m\u001B[1;33m)\u001B[0m\u001B[1;33m\u001B[0m\u001B[1;33m\u001B[0m\u001B[0m\n",
      "\u001B[1;32m~\\anaconda3\\envs\\ATiML_Project\\lib\\site-packages\\scipy\\spatial\\distance.py\u001B[0m in \u001B[0;36m__call__\u001B[1;34m(self, XA, XB, out, **kwargs)\u001B[0m\n\u001B[0;32m   1696\u001B[0m         \u001B[1;31m# get cdist wrapper\u001B[0m\u001B[1;33m\u001B[0m\u001B[1;33m\u001B[0m\u001B[1;33m\u001B[0m\u001B[0m\n\u001B[0;32m   1697\u001B[0m         \u001B[0mcdist_fn\u001B[0m \u001B[1;33m=\u001B[0m \u001B[0mgetattr\u001B[0m\u001B[1;33m(\u001B[0m\u001B[0m_distance_wrap\u001B[0m\u001B[1;33m,\u001B[0m \u001B[1;34mf'cdist_{metric_name}_{typ}_wrap'\u001B[0m\u001B[1;33m)\u001B[0m\u001B[1;33m\u001B[0m\u001B[1;33m\u001B[0m\u001B[0m\n\u001B[1;32m-> 1698\u001B[1;33m         \u001B[0mcdist_fn\u001B[0m\u001B[1;33m(\u001B[0m\u001B[0mXA\u001B[0m\u001B[1;33m,\u001B[0m \u001B[0mXB\u001B[0m\u001B[1;33m,\u001B[0m \u001B[0mdm\u001B[0m\u001B[1;33m,\u001B[0m \u001B[1;33m**\u001B[0m\u001B[0mkwargs\u001B[0m\u001B[1;33m)\u001B[0m\u001B[1;33m\u001B[0m\u001B[1;33m\u001B[0m\u001B[0m\n\u001B[0m\u001B[0;32m   1699\u001B[0m         \u001B[1;32mreturn\u001B[0m \u001B[0mdm\u001B[0m\u001B[1;33m\u001B[0m\u001B[1;33m\u001B[0m\u001B[0m\n\u001B[0;32m   1700\u001B[0m \u001B[1;33m\u001B[0m\u001B[0m\n",
      "\u001B[1;31mKeyboardInterrupt\u001B[0m: "
     ]
    }
   ],
   "source": [
    "kmajority.max_iter=25\n",
    "\n",
    "start = time.time()\n",
    "kmajority.fit(out_arr,centroid=kmajority.centroids)\n",
    "end = time.time()\n",
    "print(end-start)"
   ]
  },
  {
   "cell_type": "code",
   "execution_count": 27,
   "metadata": {
    "pycharm": {
     "name": "#%%\n"
    }
   },
   "outputs": [],
   "source": [
    "\n",
    "with open('dumped_centroids.pkl', 'wb') as fid:\n",
    "    pickle.dump(kmajority.centroids, fid)   \n",
    "    \n",
    "with open('dumped_kmajority.pkl', 'wb') as fid2:\n",
    "    pickle.dump(kmajority, fid2)   "
   ]
  },
  {
   "cell_type": "code",
   "execution_count": null,
   "metadata": {
    "pycharm": {
     "name": "#%%\n"
    }
   },
   "outputs": [],
   "source": [
    "#kmajority.fit(zw,centroid=kmajority.centroids)"
   ]
  },
  {
   "cell_type": "code",
   "execution_count": 191,
   "metadata": {
    "pycharm": {
     "name": "#%%\n"
    }
   },
   "outputs": [
    {
     "data": {
      "text/plain": [
       "array([198, 882, 617, ..., 655, 364, 559], dtype=int64)"
      ]
     },
     "execution_count": 191,
     "metadata": {},
     "output_type": "execute_result"
    }
   ],
   "source": [
    "kmajority.predict(out_arr[index])"
   ]
  },
  {
   "cell_type": "code",
   "execution_count": 32,
   "outputs": [
    {
     "name": "stdout",
     "output_type": "stream",
     "text": [
      "Collecting mdtraj\n",
      "  Downloading mdtraj-1.9.7.tar.gz (2.1 MB)\n",
      "  Installing build dependencies: started\n",
      "  Installing build dependencies: finished with status 'done'\n",
      "  Getting requirements to build wheel: started\n",
      "  Getting requirements to build wheel: finished with status 'done'\n",
      "    Preparing wheel metadata: started\n",
      "    Preparing wheel metadata: finished with status 'done'\n",
      "Requirement already satisfied: numpy>=1.6 in c:\\users\\root\\anaconda3\\envs\\atiml_project\\lib\\site-packages (from mdtraj) (1.21.6)\n",
      "Requirement already satisfied: pyparsing in c:\\users\\root\\anaconda3\\envs\\atiml_project\\lib\\site-packages (from mdtraj) (2.4.7)\n",
      "Requirement already satisfied: scipy in c:\\users\\root\\anaconda3\\envs\\atiml_project\\lib\\site-packages (from mdtraj) (1.7.3)\n",
      "Requirement already satisfied: astunparse in c:\\users\\root\\anaconda3\\envs\\atiml_project\\lib\\site-packages (from mdtraj) (1.6.3)\n",
      "Requirement already satisfied: wheel<1.0,>=0.23.0 in c:\\users\\root\\anaconda3\\envs\\atiml_project\\lib\\site-packages (from astunparse->mdtraj) (0.37.1)\n",
      "Requirement already satisfied: six<2.0,>=1.6.1 in c:\\users\\root\\anaconda3\\envs\\atiml_project\\lib\\site-packages (from astunparse->mdtraj) (1.16.0)\n",
      "Building wheels for collected packages: mdtraj\n",
      "  Building wheel for mdtraj (PEP 517): started\n",
      "  Building wheel for mdtraj (PEP 517): finished with status 'done'\n",
      "  Created wheel for mdtraj: filename=mdtraj-1.9.7-cp37-cp37m-win_amd64.whl size=1441507 sha256=503b6d61dab3c27ad8b5b6eea381154e6691fdd475253ead9f7f1e4b51838704\n",
      "  Stored in directory: c:\\users\\root\\appdata\\local\\pip\\cache\\wheels\\6f\\84\\9d\\6854e5264a4423209de26a6e4b34d13750289c72ba0439bbfd\n",
      "Successfully built mdtraj\n",
      "Installing collected packages: mdtraj\n",
      "Successfully installed mdtraj-1.9.7\n"
     ]
    },
    {
     "name": "stderr",
     "output_type": "stream",
     "text": [
      "WARNING: Ignoring invalid distribution -rotobuf (c:\\users\\root\\anaconda3\\envs\\atiml_project\\lib\\site-packages)\n",
      "WARNING: Ignoring invalid distribution -rotobuf (c:\\users\\root\\anaconda3\\envs\\atiml_project\\lib\\site-packages)\n",
      "WARNING: Ignoring invalid distribution -rotobuf (c:\\users\\root\\anaconda3\\envs\\atiml_project\\lib\\site-packages)\n",
      "WARNING: Ignoring invalid distribution -rotobuf (c:\\users\\root\\anaconda3\\envs\\atiml_project\\lib\\site-packages)\n",
      "WARNING: Ignoring invalid distribution -rotobuf (c:\\users\\root\\anaconda3\\envs\\atiml_project\\lib\\site-packages)\n",
      "WARNING: Ignoring invalid distribution -rotobuf (c:\\users\\root\\anaconda3\\envs\\atiml_project\\lib\\site-packages)\n",
      "WARNING: Ignoring invalid distribution -rotobuf (c:\\users\\root\\anaconda3\\envs\\atiml_project\\lib\\site-packages)\n"
     ]
    }
   ],
   "source": [
    "!pip install mdtraj"
   ],
   "metadata": {
    "collapsed": false,
    "pycharm": {
     "name": "#%%\n"
    }
   }
  },
  {
   "cell_type": "code",
   "execution_count": null,
   "outputs": [],
   "source": [
    "!pip install msmbuilder"
   ],
   "metadata": {
    "collapsed": false,
    "pycharm": {
     "name": "#%%\n"
    }
   }
  },
  {
   "cell_type": "code",
   "execution_count": 37,
   "outputs": [
    {
     "name": "stderr",
     "output_type": "stream",
     "text": [
      "WARNING: Ignoring invalid distribution -rotobuf (c:\\users\\root\\anaconda3\\envs\\atiml_project\\lib\\site-packages)\n",
      "WARNING: Ignoring invalid distribution -rotobuf (c:\\users\\root\\anaconda3\\envs\\atiml_project\\lib\\site-packages)\n",
      "ERROR: Could not find a version that satisfies the requirement yaml (from versions: none)\n",
      "ERROR: No matching distribution found for yaml\n",
      "WARNING: Ignoring invalid distribution -rotobuf (c:\\users\\root\\anaconda3\\envs\\atiml_project\\lib\\site-packages)\n",
      "WARNING: Ignoring invalid distribution -rotobuf (c:\\users\\root\\anaconda3\\envs\\atiml_project\\lib\\site-packages)\n",
      "WARNING: Ignoring invalid distribution -rotobuf (c:\\users\\root\\anaconda3\\envs\\atiml_project\\lib\\site-packages)\n",
      "unclosed socket <zmq.Socket(zmq.PUSH) at 0x253331c9f98>\n",
      "unclosed file <_io.BufferedWriter name=4>\n",
      "unclosed file <_io.BufferedReader name=5>\n",
      "unclosed file <_io.BufferedReader name=6>\n"
     ]
    }
   ],
   "source": [
    "!pip install tables"
   ],
   "metadata": {
    "collapsed": false,
    "pycharm": {
     "name": "#%%\n"
    }
   }
  },
  {
   "cell_type": "code",
   "execution_count": 40,
   "outputs": [
    {
     "name": "stdout",
     "output_type": "stream",
     "text": [
      "Collecting pyyaml\n",
      "  Downloading PyYAML-6.0-cp37-cp37m-win_amd64.whl (153 kB)\n",
      "Installing collected packages: pyyaml\n",
      "Successfully installed pyyaml-6.0\n"
     ]
    },
    {
     "name": "stderr",
     "output_type": "stream",
     "text": [
      "WARNING: Ignoring invalid distribution -rotobuf (c:\\users\\root\\anaconda3\\envs\\atiml_project\\lib\\site-packages)unclosed socket <zmq.Socket(zmq.PUSH) at 0x253331df7b8>\n",
      "\n",
      "WARNING: Ignoring invalid distribution -rotobuf (c:\\users\\root\\anaconda3\\envs\\atiml_project\\lib\\site-packages)\n",
      "WARNING: Ignoring invalid distribution -rotobuf (c:\\users\\root\\anaconda3\\envs\\atiml_project\\lib\\site-packages)\n",
      "WARNING: Ignoring invalid distribution -rotobuf (c:\\users\\root\\anaconda3\\envs\\atiml_project\\lib\\site-packages)\n",
      "WARNING: Ignoring invalid distribution -rotobuf (c:\\users\\root\\anaconda3\\envs\\atiml_project\\lib\\site-packages)\n",
      "WARNING: Ignoring invalid distribution -rotobuf (c:\\users\\root\\anaconda3\\envs\\atiml_project\\lib\\site-packages)\n",
      "WARNING: Ignoring invalid distribution -rotobuf (c:\\users\\root\\anaconda3\\envs\\atiml_project\\lib\\site-packages)\n",
      "unclosed socket <zmq.Socket(zmq.PUSH) at 0x253331df748>\n",
      "unclosed file <_io.BufferedWriter name=4>\n",
      "unclosed file <_io.BufferedReader name=5>\n",
      "unclosed file <_io.BufferedReader name=6>\n"
     ]
    }
   ],
   "source": [
    "!pip install pyyaml"
   ],
   "metadata": {
    "collapsed": false,
    "pycharm": {
     "name": "#%%\n"
    }
   }
  },
  {
   "cell_type": "code",
   "execution_count": 43,
   "outputs": [
    {
     "ename": "ImportError",
     "evalue": "cannot import name 'cluster' from 'msmbuilder' (C:\\Users\\root\\anaconda3\\envs\\ATiML_Project\\lib\\site-packages\\msmbuilder\\__init__.py)",
     "output_type": "error",
     "traceback": [
      "\u001B[1;31m---------------------------------------------------------------------------\u001B[0m",
      "\u001B[1;31mImportError\u001B[0m                               Traceback (most recent call last)",
      "\u001B[1;32m~\\AppData\\Local\\Temp\\ipykernel_19784\\512084937.py\u001B[0m in \u001B[0;36m<module>\u001B[1;34m\u001B[0m\n\u001B[1;32m----> 1\u001B[1;33m \u001B[1;32mfrom\u001B[0m \u001B[0mmsmbuilder\u001B[0m \u001B[1;32mimport\u001B[0m \u001B[0mcluster\u001B[0m\u001B[1;33m\u001B[0m\u001B[1;33m\u001B[0m\u001B[0m\n\u001B[0m",
      "\u001B[1;31mImportError\u001B[0m: cannot import name 'cluster' from 'msmbuilder' (C:\\Users\\root\\anaconda3\\envs\\ATiML_Project\\lib\\site-packages\\msmbuilder\\__init__.py)"
     ]
    }
   ],
   "source": [],
   "metadata": {
    "collapsed": false,
    "pycharm": {
     "name": "#%%\n"
    }
   }
  },
  {
   "cell_type": "code",
   "execution_count": 42,
   "outputs": [
    {
     "ename": "NameError",
     "evalue": "name 'msmbuilder' is not defined",
     "output_type": "error",
     "traceback": [
      "\u001B[1;31m---------------------------------------------------------------------------\u001B[0m",
      "\u001B[1;31mNameError\u001B[0m                                 Traceback (most recent call last)",
      "\u001B[1;32m~\\AppData\\Local\\Temp\\ipykernel_19784\\944550111.py\u001B[0m in \u001B[0;36m<module>\u001B[1;34m\u001B[0m\n\u001B[1;32m----> 1\u001B[1;33m \u001B[0mmsmbuilder\u001B[0m\u001B[1;33m.\u001B[0m\u001B[0mcluster\u001B[0m\u001B[1;33m.\u001B[0m\u001B[0mMiniBatchKMedoids\u001B[0m\u001B[1;33m\u001B[0m\u001B[1;33m\u001B[0m\u001B[0m\n\u001B[0m",
      "\u001B[1;31mNameError\u001B[0m: name 'msmbuilder' is not defined"
     ]
    }
   ],
   "source": [],
   "metadata": {
    "collapsed": false,
    "pycharm": {
     "name": "#%%\n"
    }
   }
  },
  {
   "cell_type": "code",
   "execution_count": null,
   "outputs": [],
   "source": [],
   "metadata": {
    "collapsed": false,
    "pycharm": {
     "name": "#%%\n"
    }
   }
  }
 ],
 "metadata": {
  "colab": {
   "name": "VBoWnew.ipynb",
   "provenance": []
  },
  "kernelspec": {
   "display_name": "Python 3 (ipykernel)",
   "language": "python",
   "name": "python3"
  },
  "language_info": {
   "codemirror_mode": {
    "name": "ipython",
    "version": 3
   },
   "file_extension": ".py",
   "mimetype": "text/x-python",
   "name": "python",
   "nbconvert_exporter": "python",
   "pygments_lexer": "ipython3",
   "version": "3.7.13"
  }
 },
 "nbformat": 4,
 "nbformat_minor": 1
}