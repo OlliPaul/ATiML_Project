{
 "cells": [
  {
   "cell_type": "code",
   "execution_count": 1,
   "metadata": {
    "execution": {
     "iopub.execute_input": "2022-06-14T13:19:54.285698Z",
     "iopub.status.busy": "2022-06-14T13:19:54.285300Z",
     "iopub.status.idle": "2022-06-14T13:19:55.968323Z",
     "shell.execute_reply": "2022-06-14T13:19:55.967720Z",
     "shell.execute_reply.started": "2022-06-14T13:19:54.285658Z"
    },
    "pycharm": {
     "is_executing": true,
     "name": "#%%\n"
    },
    "tags": []
   },
   "outputs": [
    {
     "name": "stdout",
     "output_type": "stream",
     "text": [
      "Requirement already satisfied: sklearn in c:\\users\\root\\anaconda3\\envs\\atiml_project\\lib\\site-packages (from -r ../requirements.txt (line 1)) (0.0)\n",
      "Requirement already satisfied: opencv-contrib-python==3.4.2.17 in c:\\users\\root\\anaconda3\\envs\\atiml_project\\lib\\site-packages (from -r ../requirements.txt (line 2)) (3.4.2.17)\n",
      "Requirement already satisfied: tensorflow in c:\\users\\root\\anaconda3\\envs\\atiml_project\\lib\\site-packages (from -r ../requirements.txt (line 3)) (2.8.2)\n",
      "Requirement already satisfied: matplotlib in c:\\users\\root\\anaconda3\\envs\\atiml_project\\lib\\site-packages (from -r ../requirements.txt (line 4)) (3.5.2)\n",
      "Requirement already satisfied: tensorflow-datasets in c:\\users\\root\\anaconda3\\envs\\atiml_project\\lib\\site-packages (from -r ../requirements.txt (line 5)) (4.5.2)\n",
      "Requirement already satisfied: active-semi-supervised-clustering in c:\\users\\root\\anaconda3\\envs\\atiml_project\\lib\\site-packages (from -r ../requirements.txt (line 6)) (0.0.1)\n",
      "Requirement already satisfied: shap in c:\\users\\root\\anaconda3\\envs\\atiml_project\\lib\\site-packages (from -r ../requirements.txt (line 7)) (0.40.0)\n",
      "Requirement already satisfied: lime in c:\\users\\root\\anaconda3\\envs\\atiml_project\\lib\\site-packages (from -r ../requirements.txt (line 8)) (0.2.0.1)\n",
      "Requirement already satisfied: imagehash in c:\\users\\root\\anaconda3\\envs\\atiml_project\\lib\\site-packages (from -r ../requirements.txt (line 9)) (4.2.1)\n",
      "Requirement already satisfied: scikit-learn-extra in c:\\users\\root\\anaconda3\\envs\\atiml_project\\lib\\site-packages (from -r ../requirements.txt (line 10)) (0.2.0)\n",
      "Requirement already satisfied: seaborn in c:\\users\\root\\anaconda3\\envs\\atiml_project\\lib\\site-packages (from -r ../requirements.txt (line 11)) (0.11.2)\n",
      "Requirement already satisfied: numpy>=1.14.5 in c:\\users\\root\\anaconda3\\envs\\atiml_project\\lib\\site-packages (from opencv-contrib-python==3.4.2.17->-r ../requirements.txt (line 2)) (1.21.6)\n",
      "Requirement already satisfied: scikit-learn in c:\\users\\root\\anaconda3\\envs\\atiml_project\\lib\\site-packages (from sklearn->-r ../requirements.txt (line 1)) (1.0.2)\n",
      "Requirement already satisfied: tensorflow-io-gcs-filesystem>=0.23.1 in c:\\users\\root\\anaconda3\\envs\\atiml_project\\lib\\site-packages (from tensorflow->-r ../requirements.txt (line 3)) (0.25.0)\n",
      "Requirement already satisfied: flatbuffers>=1.12 in c:\\users\\root\\anaconda3\\envs\\atiml_project\\lib\\site-packages (from tensorflow->-r ../requirements.txt (line 3)) (2.0)\n",
      "Requirement already satisfied: google-pasta>=0.1.1 in c:\\users\\root\\anaconda3\\envs\\atiml_project\\lib\\site-packages (from tensorflow->-r ../requirements.txt (line 3)) (0.2.0)\n",
      "Requirement already satisfied: setuptools in c:\\users\\root\\anaconda3\\envs\\atiml_project\\lib\\site-packages (from tensorflow->-r ../requirements.txt (line 3)) (61.2.0)\n",
      "Requirement already satisfied: grpcio<2.0,>=1.24.3 in c:\\users\\root\\anaconda3\\envs\\atiml_project\\lib\\site-packages (from tensorflow->-r ../requirements.txt (line 3)) (1.46.3)\n",
      "Requirement already satisfied: wrapt>=1.11.0 in c:\\users\\root\\anaconda3\\envs\\atiml_project\\lib\\site-packages (from tensorflow->-r ../requirements.txt (line 3)) (1.14.1)\n",
      "Requirement already satisfied: absl-py>=0.4.0 in c:\\users\\root\\anaconda3\\envs\\atiml_project\\lib\\site-packages (from tensorflow->-r ../requirements.txt (line 3)) (1.0.0)\n",
      "Requirement already satisfied: gast>=0.2.1 in c:\\users\\root\\anaconda3\\envs\\atiml_project\\lib\\site-packages (from tensorflow->-r ../requirements.txt (line 3)) (0.5.3)\n",
      "Requirement already satisfied: libclang>=9.0.1 in c:\\users\\root\\anaconda3\\envs\\atiml_project\\lib\\site-packages (from tensorflow->-r ../requirements.txt (line 3)) (14.0.1)\n",
      "Requirement already satisfied: six>=1.12.0 in c:\\users\\root\\anaconda3\\envs\\atiml_project\\lib\\site-packages (from tensorflow->-r ../requirements.txt (line 3)) (1.16.0)\n",
      "Requirement already satisfied: keras-preprocessing>=1.1.1 in c:\\users\\root\\anaconda3\\envs\\atiml_project\\lib\\site-packages (from tensorflow->-r ../requirements.txt (line 3)) (1.1.2)\n",
      "Requirement already satisfied: typing-extensions>=3.6.6 in c:\\users\\root\\anaconda3\\envs\\atiml_project\\lib\\site-packages (from tensorflow->-r ../requirements.txt (line 3)) (4.1.1)\n",
      "Requirement already satisfied: h5py>=2.9.0 in c:\\users\\root\\anaconda3\\envs\\atiml_project\\lib\\site-packages (from tensorflow->-r ../requirements.txt (line 3)) (3.6.0)\n",
      "Requirement already satisfied: tensorflow-estimator<2.9,>=2.8 in c:\\users\\root\\anaconda3\\envs\\atiml_project\\lib\\site-packages (from tensorflow->-r ../requirements.txt (line 3)) (2.8.0)\n",
      "Requirement already satisfied: termcolor>=1.1.0 in c:\\users\\root\\anaconda3\\envs\\atiml_project\\lib\\site-packages (from tensorflow->-r ../requirements.txt (line 3)) (1.1.0)\n",
      "Requirement already satisfied: opt-einsum>=2.3.2 in c:\\users\\root\\anaconda3\\envs\\atiml_project\\lib\\site-packages (from tensorflow->-r ../requirements.txt (line 3)) (3.3.0)\n",
      "Requirement already satisfied: tensorboard<2.9,>=2.8 in c:\\users\\root\\anaconda3\\envs\\atiml_project\\lib\\site-packages (from tensorflow->-r ../requirements.txt (line 3)) (2.8.0)\n",
      "Requirement already satisfied: astunparse>=1.6.0 in c:\\users\\root\\anaconda3\\envs\\atiml_project\\lib\\site-packages (from tensorflow->-r ../requirements.txt (line 3)) (1.6.3)\n",
      "Requirement already satisfied: protobuf<3.20,>=3.9.2 in c:\\users\\root\\anaconda3\\envs\\atiml_project\\lib\\site-packages (from tensorflow->-r ../requirements.txt (line 3)) (3.19.4)\n",
      "Requirement already satisfied: keras<2.9,>=2.8.0rc0 in c:\\users\\root\\anaconda3\\envs\\atiml_project\\lib\\site-packages (from tensorflow->-r ../requirements.txt (line 3)) (2.8.0)\n",
      "Requirement already satisfied: kiwisolver>=1.0.1 in c:\\users\\root\\anaconda3\\envs\\atiml_project\\lib\\site-packages (from matplotlib->-r ../requirements.txt (line 4)) (1.4.2)\n",
      "Requirement already satisfied: packaging>=20.0 in c:\\users\\root\\anaconda3\\envs\\atiml_project\\lib\\site-packages (from matplotlib->-r ../requirements.txt (line 4)) (21.3)\n",
      "Requirement already satisfied: pillow>=6.2.0 in c:\\users\\root\\anaconda3\\envs\\atiml_project\\lib\\site-packages (from matplotlib->-r ../requirements.txt (line 4)) (9.1.0)\n",
      "Requirement already satisfied: python-dateutil>=2.7 in c:\\users\\root\\anaconda3\\envs\\atiml_project\\lib\\site-packages (from matplotlib->-r ../requirements.txt (line 4)) (2.8.2)\n",
      "Requirement already satisfied: fonttools>=4.22.0 in c:\\users\\root\\anaconda3\\envs\\atiml_project\\lib\\site-packages (from matplotlib->-r ../requirements.txt (line 4)) (4.33.3)\n",
      "Requirement already satisfied: pyparsing>=2.2.1 in c:\\users\\root\\anaconda3\\envs\\atiml_project\\lib\\site-packages (from matplotlib->-r ../requirements.txt (line 4)) (2.4.7)\n",
      "Requirement already satisfied: cycler>=0.10 in c:\\users\\root\\anaconda3\\envs\\atiml_project\\lib\\site-packages (from matplotlib->-r ../requirements.txt (line 4)) (0.11.0)\n",
      "Requirement already satisfied: importlib-resources in c:\\users\\root\\anaconda3\\envs\\atiml_project\\lib\\site-packages (from tensorflow-datasets->-r ../requirements.txt (line 5)) (5.2.0)\n",
      "Requirement already satisfied: dill in c:\\users\\root\\anaconda3\\envs\\atiml_project\\lib\\site-packages (from tensorflow-datasets->-r ../requirements.txt (line 5)) (0.3.1.1)\n",
      "Requirement already satisfied: requests>=2.19.0 in c:\\users\\root\\anaconda3\\envs\\atiml_project\\lib\\site-packages (from tensorflow-datasets->-r ../requirements.txt (line 5)) (2.27.1)\n",
      "Requirement already satisfied: tensorflow-metadata in c:\\users\\root\\anaconda3\\envs\\atiml_project\\lib\\site-packages (from tensorflow-datasets->-r ../requirements.txt (line 5)) (1.8.0)\n",
      "Requirement already satisfied: tqdm in c:\\users\\root\\anaconda3\\envs\\atiml_project\\lib\\site-packages (from tensorflow-datasets->-r ../requirements.txt (line 5)) (4.64.0)\n",
      "Requirement already satisfied: promise in c:\\users\\root\\anaconda3\\envs\\atiml_project\\lib\\site-packages (from tensorflow-datasets->-r ../requirements.txt (line 5)) (2.3)\n",
      "Requirement already satisfied: metric-learn>=0.4 in c:\\users\\root\\anaconda3\\envs\\atiml_project\\lib\\site-packages (from active-semi-supervised-clustering->-r ../requirements.txt (line 6)) (0.6.2)\n",
      "Requirement already satisfied: scipy in c:\\users\\root\\anaconda3\\envs\\atiml_project\\lib\\site-packages (from active-semi-supervised-clustering->-r ../requirements.txt (line 6)) (1.7.3)\n",
      "Requirement already satisfied: numba in c:\\users\\root\\anaconda3\\envs\\atiml_project\\lib\\site-packages (from shap->-r ../requirements.txt (line 7)) (0.55.2)\n",
      "Requirement already satisfied: cloudpickle in c:\\users\\root\\anaconda3\\envs\\atiml_project\\lib\\site-packages (from shap->-r ../requirements.txt (line 7)) (2.1.0)\n",
      "Requirement already satisfied: pandas in c:\\users\\root\\anaconda3\\envs\\atiml_project\\lib\\site-packages (from shap->-r ../requirements.txt (line 7)) (1.3.5)\n",
      "Requirement already satisfied: slicer==0.0.7 in c:\\users\\root\\anaconda3\\envs\\atiml_project\\lib\\site-packages (from shap->-r ../requirements.txt (line 7)) (0.0.7)\n",
      "Requirement already satisfied: scikit-image>=0.12 in c:\\users\\root\\anaconda3\\envs\\atiml_project\\lib\\site-packages (from lime->-r ../requirements.txt (line 8)) (0.19.2)\n",
      "Requirement already satisfied: PyWavelets in c:\\users\\root\\anaconda3\\envs\\atiml_project\\lib\\site-packages (from imagehash->-r ../requirements.txt (line 9)) (1.3.0)\n",
      "Requirement already satisfied: wheel<1.0,>=0.23.0 in c:\\users\\root\\anaconda3\\envs\\atiml_project\\lib\\site-packages (from astunparse>=1.6.0->tensorflow->-r ../requirements.txt (line 3)) (0.37.1)\n",
      "Requirement already satisfied: cached-property in c:\\users\\root\\anaconda3\\envs\\atiml_project\\lib\\site-packages (from h5py>=2.9.0->tensorflow->-r ../requirements.txt (line 3)) (1.5.2)\n",
      "Requirement already satisfied: pytz>=2017.3 in c:\\users\\root\\anaconda3\\envs\\atiml_project\\lib\\site-packages (from pandas->shap->-r ../requirements.txt (line 7)) (2022.1)\n",
      "Requirement already satisfied: urllib3<1.27,>=1.21.1 in c:\\users\\root\\anaconda3\\envs\\atiml_project\\lib\\site-packages (from requests>=2.19.0->tensorflow-datasets->-r ../requirements.txt (line 5)) (1.26.9)\n",
      "Requirement already satisfied: certifi>=2017.4.17 in c:\\users\\root\\anaconda3\\envs\\atiml_project\\lib\\site-packages (from requests>=2.19.0->tensorflow-datasets->-r ../requirements.txt (line 5)) (2022.5.18.1)\n",
      "Requirement already satisfied: idna<4,>=2.5 in c:\\users\\root\\anaconda3\\envs\\atiml_project\\lib\\site-packages (from requests>=2.19.0->tensorflow-datasets->-r ../requirements.txt (line 5)) (3.3)\n",
      "Requirement already satisfied: charset-normalizer~=2.0.0 in c:\\users\\root\\anaconda3\\envs\\atiml_project\\lib\\site-packages (from requests>=2.19.0->tensorflow-datasets->-r ../requirements.txt (line 5)) (2.0.12)\n",
      "Requirement already satisfied: tifffile>=2019.7.26 in c:\\users\\root\\anaconda3\\envs\\atiml_project\\lib\\site-packages (from scikit-image>=0.12->lime->-r ../requirements.txt (line 8)) (2021.11.2)\n",
      "Requirement already satisfied: networkx>=2.2 in c:\\users\\root\\anaconda3\\envs\\atiml_project\\lib\\site-packages (from scikit-image>=0.12->lime->-r ../requirements.txt (line 8)) (2.6.3)\n",
      "Requirement already satisfied: imageio>=2.4.1 in c:\\users\\root\\anaconda3\\envs\\atiml_project\\lib\\site-packages (from scikit-image>=0.12->lime->-r ../requirements.txt (line 8)) (2.19.2)\n",
      "Requirement already satisfied: joblib>=0.11 in c:\\users\\root\\anaconda3\\envs\\atiml_project\\lib\\site-packages (from scikit-learn->sklearn->-r ../requirements.txt (line 1)) (1.1.0)\n",
      "Requirement already satisfied: threadpoolctl>=2.0.0 in c:\\users\\root\\anaconda3\\envs\\atiml_project\\lib\\site-packages (from scikit-learn->sklearn->-r ../requirements.txt (line 1)) (3.1.0)\n",
      "Requirement already satisfied: tensorboard-data-server<0.7.0,>=0.6.0 in c:\\users\\root\\anaconda3\\envs\\atiml_project\\lib\\site-packages (from tensorboard<2.9,>=2.8->tensorflow->-r ../requirements.txt (line 3)) (0.6.1)\n",
      "Requirement already satisfied: google-auth<3,>=1.6.3 in c:\\users\\root\\anaconda3\\envs\\atiml_project\\lib\\site-packages (from tensorboard<2.9,>=2.8->tensorflow->-r ../requirements.txt (line 3)) (1.35.0)\n",
      "Requirement already satisfied: markdown>=2.6.8 in c:\\users\\root\\anaconda3\\envs\\atiml_project\\lib\\site-packages (from tensorboard<2.9,>=2.8->tensorflow->-r ../requirements.txt (line 3)) (3.3.7)\n",
      "Requirement already satisfied: werkzeug>=0.11.15 in c:\\users\\root\\anaconda3\\envs\\atiml_project\\lib\\site-packages (from tensorboard<2.9,>=2.8->tensorflow->-r ../requirements.txt (line 3)) (2.1.2)\n",
      "Requirement already satisfied: tensorboard-plugin-wit>=1.6.0 in c:\\users\\root\\anaconda3\\envs\\atiml_project\\lib\\site-packages (from tensorboard<2.9,>=2.8->tensorflow->-r ../requirements.txt (line 3)) (1.8.1)\n",
      "Requirement already satisfied: google-auth-oauthlib<0.5,>=0.4.1 in c:\\users\\root\\anaconda3\\envs\\atiml_project\\lib\\site-packages (from tensorboard<2.9,>=2.8->tensorflow->-r ../requirements.txt (line 3)) (0.4.6)\n",
      "Requirement already satisfied: pyasn1-modules>=0.2.1 in c:\\users\\root\\anaconda3\\envs\\atiml_project\\lib\\site-packages (from google-auth<3,>=1.6.3->tensorboard<2.9,>=2.8->tensorflow->-r ../requirements.txt (line 3)) (0.2.8)\n",
      "Requirement already satisfied: cachetools<5.0,>=2.0.0 in c:\\users\\root\\anaconda3\\envs\\atiml_project\\lib\\site-packages (from google-auth<3,>=1.6.3->tensorboard<2.9,>=2.8->tensorflow->-r ../requirements.txt (line 3)) (4.2.4)\n",
      "Requirement already satisfied: rsa<5,>=3.1.4 in c:\\users\\root\\anaconda3\\envs\\atiml_project\\lib\\site-packages (from google-auth<3,>=1.6.3->tensorboard<2.9,>=2.8->tensorflow->-r ../requirements.txt (line 3)) (4.8)\n",
      "Requirement already satisfied: requests-oauthlib>=0.7.0 in c:\\users\\root\\anaconda3\\envs\\atiml_project\\lib\\site-packages (from google-auth-oauthlib<0.5,>=0.4.1->tensorboard<2.9,>=2.8->tensorflow->-r ../requirements.txt (line 3)) (1.3.1)\n",
      "Requirement already satisfied: importlib-metadata>=4.4 in c:\\users\\root\\anaconda3\\envs\\atiml_project\\lib\\site-packages (from markdown>=2.6.8->tensorboard<2.9,>=2.8->tensorflow->-r ../requirements.txt (line 3)) (4.11.3)\n",
      "Requirement already satisfied: zipp>=0.5 in c:\\users\\root\\anaconda3\\envs\\atiml_project\\lib\\site-packages (from importlib-metadata>=4.4->markdown>=2.6.8->tensorboard<2.9,>=2.8->tensorflow->-r ../requirements.txt (line 3)) (3.7.0)\n",
      "Requirement already satisfied: pyasn1<0.5.0,>=0.4.6 in c:\\users\\root\\anaconda3\\envs\\atiml_project\\lib\\site-packages (from pyasn1-modules>=0.2.1->google-auth<3,>=1.6.3->tensorboard<2.9,>=2.8->tensorflow->-r ../requirements.txt (line 3)) (0.4.8)\n",
      "Requirement already satisfied: oauthlib>=3.0.0 in c:\\users\\root\\anaconda3\\envs\\atiml_project\\lib\\site-packages (from requests-oauthlib>=0.7.0->google-auth-oauthlib<0.5,>=0.4.1->tensorboard<2.9,>=2.8->tensorflow->-r ../requirements.txt (line 3)) (3.2.0)\n",
      "Requirement already satisfied: colorama in c:\\users\\root\\anaconda3\\envs\\atiml_project\\lib\\site-packages (from tqdm->tensorflow-datasets->-r ../requirements.txt (line 5)) (0.4.4)\n",
      "Requirement already satisfied: llvmlite<0.39,>=0.38.0rc1 in c:\\users\\root\\anaconda3\\envs\\atiml_project\\lib\\site-packages (from numba->shap->-r ../requirements.txt (line 7)) (0.38.1)\n",
      "Requirement already satisfied: googleapis-common-protos<2,>=1.52.0 in c:\\users\\root\\anaconda3\\envs\\atiml_project\\lib\\site-packages (from tensorflow-metadata->tensorflow-datasets->-r ../requirements.txt (line 5)) (1.56.0)\n"
     ]
    },
    {
     "name": "stderr",
     "output_type": "stream",
     "text": [
      "WARNING: Ignoring invalid distribution -rotobuf (c:\\users\\root\\anaconda3\\envs\\atiml_project\\lib\\site-packages)\n",
      "WARNING: Ignoring invalid distribution -rotobuf (c:\\users\\root\\anaconda3\\envs\\atiml_project\\lib\\site-packages)\n",
      "WARNING: Ignoring invalid distribution -rotobuf (c:\\users\\root\\anaconda3\\envs\\atiml_project\\lib\\site-packages)\n",
      "WARNING: Ignoring invalid distribution -rotobuf (c:\\users\\root\\anaconda3\\envs\\atiml_project\\lib\\site-packages)\n",
      "WARNING: Ignoring invalid distribution -rotobuf (c:\\users\\root\\anaconda3\\envs\\atiml_project\\lib\\site-packages)\n",
      "WARNING: Ignoring invalid distribution -rotobuf (c:\\users\\root\\anaconda3\\envs\\atiml_project\\lib\\site-packages)\n"
     ]
    }
   ],
   "source": [
    "#For surf features using we need this version it is only available til python 3.7\n",
    "!pip install -r ../requirements.txt"
   ]
  },
  {
   "cell_type": "code",
   "execution_count": null,
   "metadata": {},
   "outputs": [],
   "source": []
  },
  {
   "cell_type": "code",
   "execution_count": null,
   "metadata": {
    "pycharm": {
     "name": "#%%\n"
    }
   },
   "outputs": [],
   "source": []
  },
  {
   "cell_type": "code",
   "execution_count": 2,
   "metadata": {
    "execution": {
     "iopub.execute_input": "2022-06-14T13:19:12.868300Z",
     "iopub.status.busy": "2022-06-14T13:19:12.868114Z",
     "iopub.status.idle": "2022-06-14T13:19:12.872898Z",
     "shell.execute_reply": "2022-06-14T13:19:12.872239Z",
     "shell.execute_reply.started": "2022-06-14T13:19:12.868279Z"
    },
    "pycharm": {
     "name": "#%%\n"
    },
    "tags": []
   },
   "outputs": [],
   "source": [
    "import cv2 as cv\n",
    "import numpy as np\n",
    "import tensorflow as tf\n",
    "import tensorflow_datasets as tfds\n",
    "from matplotlib import pyplot as plt\n",
    "from sklearn.cluster import KMeans, AgglomerativeClustering\n",
    "from sklearn import metrics\n",
    "from sklearn.neighbors import NearestNeighbors\n",
    "from active_semi_clustering.semi_supervised.pairwise_constraints import PCKMeans,COPKMeans, MPCKMeansMF, MPCKMeans\n",
    "from active_semi_clustering.active.pairwise_constraints import ExampleOracle, ExploreConsolidate, MinMax\n",
    "import active_semi_clustering.active.pairwise_constraints.random\n",
    "import pickle\n",
    "import shap\n",
    "import imagehash\n",
    "from PIL import Image\n",
    "from operator import itemgetter"
   ]
  },
  {
   "cell_type": "code",
   "execution_count": 3,
   "metadata": {
    "execution": {
     "iopub.execute_input": "2022-06-14T13:10:16.341338Z",
     "iopub.status.busy": "2022-06-14T13:10:16.341144Z",
     "iopub.status.idle": "2022-06-14T13:10:17.517675Z",
     "shell.execute_reply": "2022-06-14T13:10:17.516763Z",
     "shell.execute_reply.started": "2022-06-14T13:10:16.341313Z"
    },
    "jupyter": {
     "source_hidden": true
    },
    "pycharm": {
     "name": "#%%\n"
    },
    "tags": []
   },
   "outputs": [],
   "source": [
    "builder = tfds.builder('voc/2007')\n",
    "builder.download_and_prepare()\n",
    "datasets = builder.as_dataset()\n",
    "train_data, val_data, test_data = datasets['train'], datasets['validation'], datasets['test']"
   ]
  },
  {
   "cell_type": "code",
   "execution_count": 4,
   "metadata": {
    "execution": {
     "iopub.execute_input": "2022-06-14T13:10:17.518999Z",
     "iopub.status.busy": "2022-06-14T13:10:17.518789Z",
     "iopub.status.idle": "2022-06-14T13:10:18.259788Z",
     "shell.execute_reply": "2022-06-14T13:10:18.259263Z",
     "shell.execute_reply.started": "2022-06-14T13:10:17.518972Z"
    },
    "pycharm": {
     "name": "#%%\n"
    },
    "tags": []
   },
   "outputs": [],
   "source": [
    "#hyperparamets\n",
    "rows_cld=8\n",
    "columns_cld=8\n",
    "\n",
    "\n",
    "def create_zigzag_flat(rows,columns):\n",
    "    a=np.arange(0,rows*columns,1,dtype=int).reshape((rows,columns))\n",
    "    #needed to extact the diagonals because they can only go left to right\n",
    "    a=np.flipud(a)\n",
    "    flip=1\n",
    "    diagonal=[]\n",
    "    for i in range(1-rows, columns):\n",
    "        diagonal.append(np.diagonal(a,i)[::flip])\n",
    "        flip=-flip\n",
    "    return np.concatenate(diagonal)  \n",
    "    \n",
    "zigzag_flat = create_zigzag_flat(rows_cld,columns_cld)\n",
    "\n",
    "\n",
    "def color_layout_descriptor(im):\n",
    "    # numpy is a bit faster than using tensors\n",
    "    im = np.array(im)\n",
    "    # could do these as a hyperparameter\n",
    "    rows = rows_cld\n",
    "    columns = columns_cld\n",
    "    small_image = np.zeros((rows, columns, 3))\n",
    "    height, width = im.shape[:2]\n",
    "    percentage_w = width / columns\n",
    "    percentage_h = height / rows\n",
    "    for row in range(rows):\n",
    "        for column in range(columns):\n",
    "            # Note this partion should propably be checked against a reference implementation. However the difference should be minimal\n",
    "            portion = im[int(percentage_h * row):int(percentage_h * (row + 1)),\n",
    "                      int(percentage_w * column):int(percentage_w * (column + 1))]\n",
    "            small_image[row, column] = np.mean(np.mean(portion, axis=0), axis=0)\n",
    "            \n",
    "    small_image = cv.cvtColor(small_image.astype(np.uint8), cv.COLOR_RGB2BGR)\n",
    "    small_image = cv.cvtColor(small_image.astype(np.uint8), cv.COLOR_BGR2YCrCb)\n",
    "    y, cr, cb = cv.split(small_image)\n",
    "    dct_y = cv.dct(y.astype(np.float32))\n",
    "    dct_cb = cv.dct(cb.astype(np.float32))\n",
    "    dct_cr = cv.dct(cr.astype(np.float32))\n",
    "    return np.concatenate((dct_y.flatten()[zigzag_flat], dct_cb.flatten()[zigzag_flat], dct_cr.flatten()[zigzag_flat]))"
   ]
  },
  {
   "cell_type": "code",
   "execution_count": null,
   "metadata": {
    "pycharm": {
     "name": "#%%\n"
    }
   },
   "outputs": [],
   "source": []
  },
  {
   "cell_type": "code",
   "execution_count": 5,
   "metadata": {
    "execution": {
     "iopub.execute_input": "2022-06-14T13:10:18.261274Z",
     "iopub.status.busy": "2022-06-14T13:10:18.260895Z",
     "iopub.status.idle": "2022-06-14T13:10:19.268825Z",
     "shell.execute_reply": "2022-06-14T13:10:19.267620Z",
     "shell.execute_reply.started": "2022-06-14T13:10:18.261247Z"
    },
    "pycharm": {
     "name": "#%%\n"
    },
    "tags": []
   },
   "outputs": [],
   "source": [
    "#0.01203213019504501  for 64 ahash\n",
    "#0.011844196784313301 for 32 ahash\n",
    "#0.007797600576972058 for 16 ahash\n",
    "#performs bettetter even if euclidian distance is technically wrong here\n",
    "def difference_hashing(im):\n",
    "    hashed_img = imagehash.average_hash(Image.fromarray(im.numpy().astype(np.uint8)),hash_size=32)\n",
    "\n",
    "    imhash = np.array(list(str(hashed_img)))\n",
    "    \n",
    "    converted_hash = []\n",
    "    n = 0\n",
    "    for i in imhash:\n",
    "        converted_hash.append(float.fromhex(imhash[n]))\n",
    "        n = n + 1\n",
    "    \n",
    "    out_hash = np.array(converted_hash)/16.0\n",
    "    #print(\"image hash:\", imhash)\n",
    "    #print(\"hash converted to array:\", out_hash)\n",
    "    \n",
    "    return out_hash\n"
   ]
  },
  {
   "cell_type": "code",
   "execution_count": null,
   "metadata": {
    "pycharm": {
     "name": "#%%\n"
    }
   },
   "outputs": [],
   "source": []
  },
  {
   "cell_type": "code",
   "execution_count": 6,
   "metadata": {
    "execution": {
     "iopub.execute_input": "2022-06-14T13:10:19.270799Z",
     "iopub.status.busy": "2022-06-14T13:10:19.270340Z",
     "iopub.status.idle": "2022-06-14T13:10:20.347523Z",
     "shell.execute_reply": "2022-06-14T13:10:20.346644Z",
     "shell.execute_reply.started": "2022-06-14T13:10:19.270748Z"
    },
    "pycharm": {
     "name": "#%%\n"
    },
    "tags": []
   },
   "outputs": [],
   "source": [
    "_VOC_LABELS = (\n",
    "    \"aeroplane\",\n",
    "    \"bicycle\",\n",
    "    \"bird\",\n",
    "    \"boat\",\n",
    "    \"bottle\",\n",
    "    \"bus\",\n",
    "    \"car\",\n",
    "    \"cat\",\n",
    "    \"chair\",\n",
    "    \"cow\",\n",
    "    \"diningtable\",\n",
    "    \"dog\",\n",
    "    \"horse\",\n",
    "    \"motorbike\",\n",
    "    \"person\",\n",
    "    \"pottedplant\",\n",
    "    \"sheep\",\n",
    "    \"sofa\",\n",
    "    \"train\",\n",
    "    \"tvmonitor\",\n",
    ")"
   ]
  },
  {
   "cell_type": "code",
   "execution_count": 7,
   "metadata": {
    "execution": {
     "iopub.execute_input": "2022-06-14T13:10:20.348755Z",
     "iopub.status.busy": "2022-06-14T13:10:20.348543Z",
     "iopub.status.idle": "2022-06-14T13:10:21.422680Z",
     "shell.execute_reply": "2022-06-14T13:10:21.421337Z",
     "shell.execute_reply.started": "2022-06-14T13:10:20.348727Z"
    },
    "pycharm": {
     "name": "#%%\n"
    },
    "tags": []
   },
   "outputs": [],
   "source": [
    "#helper functions\n",
    "def calculate_label_area(objects,labels):\n",
    "        obj_labels=objects[\"label\"]\n",
    "        obj_boundingbox=objects[\"bbox\"]\n",
    "        return calculate_label_area_helper(obj_labels,obj_boundingbox,labels)\n",
    "    \n",
    "def calculate_label_area_helper(obj_labels,obj_boundingbox,labels):\n",
    "        areas=[]\n",
    "        for label in labels:\n",
    "            area_estimate=0\n",
    "            foundbbox=[]\n",
    "            for k,boundinglabel in enumerate(obj_labels):\n",
    "                if(boundinglabel!=label): continue\n",
    "                y_min,x_min,y_max,x_max=obj_boundingbox[k]\n",
    "                #Here we could calulate the overlap to the other boxes\n",
    "                area_estimate+=(y_max-y_min)*(x_max-x_min)\n",
    "            areas.append(area_estimate)\n",
    "        return areas \n",
    "    \n",
    "def get_max_label_helper(obj_labels,obj_boundingbox,labels):\n",
    "        areas=calculate_label_area_helper(obj_labels,obj_boundingbox,labels)\n",
    "        max_arg,_=max(enumerate(areas), key=itemgetter(1))\n",
    "        return labels[max_arg]\n",
    "\n",
    "def get_max_label(objects,labels):\n",
    "        obj_labels=objects[\"label\"]\n",
    "        obj_boundingbox=objects[\"bbox\"]\n",
    "        return get_max_label_helper(obj_labels,obj_boundingbox,labels)"
   ]
  },
  {
   "cell_type": "code",
   "execution_count": 8,
   "metadata": {
    "execution": {
     "iopub.execute_input": "2022-06-14T13:10:21.424830Z",
     "iopub.status.busy": "2022-06-14T13:10:21.424209Z",
     "iopub.status.idle": "2022-06-14T13:10:22.433712Z",
     "shell.execute_reply": "2022-06-14T13:10:22.432318Z",
     "shell.execute_reply.started": "2022-06-14T13:10:21.424796Z"
    },
    "pycharm": {
     "name": "#%%\n"
    },
    "tags": []
   },
   "outputs": [],
   "source": [
    "import ipywidgets as widgets\n",
    "import asyncio\n",
    "from IPython.display import display\n",
    "import time\n",
    "\n",
    "\n",
    "#this is only an estimate because overlap is not considered\n",
    "#TODO correcly calculate overlap\n",
    "\n",
    "\n",
    "from active_semi_clustering.active.pairwise_constraints.example_oracle import MaximumQueriesExceeded\n",
    "\n",
    "\n",
    "class LabelOracle:\n",
    "    def __init__(self, data, max_queries_cnt=100,max_querry=False,area_difference_weight=1.0,different_labels_weight=2):\n",
    "        self.data = data\n",
    "        self.queries_cnt = 0\n",
    "        self.max_queries_cnt = max_queries_cnt\n",
    "        self.different_labels_weight=different_labels_weight\n",
    "        self.area_difference_weight=area_difference_weight\n",
    "        if(max_querry):\n",
    "            self.query=self.query_max\n",
    "        else:\n",
    "            self.query=self.query_heuristic\n",
    "\n",
    "\n",
    "    def query_heuristic(self, i, j):\n",
    "        \"Query the oracle to find out whether i and j should be must-linked\"\n",
    "        if self.queries_cnt < self.max_queries_cnt:\n",
    "            self.queries_cnt += 1\n",
    "            set_a=set(self.data[i][\"labels\"])\n",
    "            set_b=set(self.data[j][\"labels\"])\n",
    "            sameclasses=set_a.intersection(set_b)\n",
    "            only_a=set_a-set_b\n",
    "            only_b=set_b-set_a\n",
    "            if(len(sameclasses)==0) :return False\n",
    "            same_area_i=sum(calculate_label_area(self.data[i][\"objects\"],sameclasses))\n",
    "            same_area_j=sum(calculate_label_area(self.data[j][\"objects\"],sameclasses))\n",
    "            \n",
    "            diff_area_i=sum(calculate_label_area(self.data[i][\"objects\"],only_a))\n",
    "            diff_area_j=sum(calculate_label_area(self.data[j][\"objects\"],only_b))\n",
    "            areaquot=same_area_i/same_area_j\n",
    "            if(areaquot<1):\n",
    "                areaquot=1.0/areaquot\n",
    "            score1=1/(1+self.area_difference_weight*areaquot)\n",
    "            #heuristics 2 depends on share of similiar clases to difference clasesses\n",
    "            difference_adjusted_i=diff_area_i/same_area_i\n",
    "            difference_adjusted_j=diff_area_j/same_area_j\n",
    "            #heuristics are multiplied\n",
    "            score2=1/(1+self.different_labels_weight*(difference_adjusted_j+difference_adjusted_i))\n",
    "            score12=score1*score2\n",
    "            if(score12<0.1):\n",
    "                if(score12>0.05):\n",
    "                    #print(set_a)\n",
    "                    #print(set_b)\n",
    "                    #print(score1)\n",
    "                    #print(difference_adjusted_i)\n",
    "                    #print(difference_adjusted_j)\n",
    "                    #print(score2)\n",
    "                    #print(score12)\n",
    "                    #f, ax = plt.subplots(1,2) \n",
    "                    #ax[0].imshow(self.data[i][\"image\"])\n",
    "                    #ax[1].imshow(self.data[j][\"image\"])\n",
    "                    #plt.show()\n",
    "                    pass\n",
    "                return False\n",
    "            return True                  \n",
    "                            \n",
    "        else:\n",
    "            raise MaximumQueriesExceeded\n",
    "    #helps with evaluation because the result depends only on one label so labeled cluster evaultion methods can be used       \n",
    "    def query_max(self, i, j):\n",
    "        \"Query the oracle to find out whether i and j should be must-linked\"\n",
    "        if self.queries_cnt < self.max_queries_cnt:\n",
    "            self.queries_cnt += 1\n",
    "            max_label_i=get_max_label(self.data[i][\"objects\"],self.data[i][\"labels\"])\n",
    "            max_label_j=get_max_label(self.data[j][\"objects\"],self.data[j][\"labels\"])\n",
    "            #if((max_label_i == self.data[j][\"labels\"][max_arg_j])):\n",
    "                    #f, ax = plt.subplots(1,2) \n",
    "                    #ax[0].imshow(self.data[i][\"image\"])\n",
    "                    #ax[1].imshow(self.data[j][\"image\"])\n",
    "                    #plt.show()\n",
    "            return max_label_i == max_label_j      \n",
    "        else:\n",
    "            raise MaximumQueriesExceeded\n",
    "\n",
    "    \n",
    "\n",
    "# y for must link, everything else is cannot link\n",
    "class ExpertOracle:\n",
    "    def __init__(self, data, max_queries_cnt=100):\n",
    "        self.data = data\n",
    "        self.queries_cnt = 0\n",
    "        self.max_queries_cnt = max_queries_cnt\n",
    "\n",
    "    def query(self, i, j):\n",
    "        \"Query the oracle to find out whether i and j should be must-linked\"\n",
    "        if self.queries_cnt < self.max_queries_cnt:\n",
    "            self.queries_cnt += 1\n",
    "            #return len(set(self.labels[i]).intersection(set(self.labels[j])))>0\n",
    "            \n",
    "            #The synchronised content blocks while waiting for unsynchronized one, not sure if there is a way around this\n",
    "            #x = asyncio.run(f(self.buttonAcc,self.buttonRej))\n",
    "            \n",
    "            #now i use busy waiting which needs another thread\n",
    "            f, ax = plt.subplots(1,2) \n",
    "            ax[0].imshow(self.data[i][\"image\"])\n",
    "            ax[1].imshow(self.data[j][\"image\"])\n",
    "            plt.show()\n",
    "            x=input() \n",
    "            clear_output(wait=True)\n",
    "            if x==\"y\":\n",
    "                return True\n",
    "            else:\n",
    "                \n",
    "                return False\n",
    "     \n",
    "        else:\n",
    "            raise MaximumQueriesExceeded\n",
    "#Press Button for answer, needs seperate thread            \n",
    "from IPython.display import clear_output            \n",
    "            \n",
    "class ExpertOracle2:\n",
    "    def __init__(self, data, max_queries_cnt=100):\n",
    "        self.data = data\n",
    "        self.queries_cnt = 0\n",
    "        self.max_queries_cnt = max_queries_cnt\n",
    "        self.buttonAcc=widgets.Button(description=\"Must Link\")\n",
    "        self.buttonRej=widgets.Button(description=\"Cannot Link\")\n",
    "        self.buttonAcc.on_click(self.retTrue)\n",
    "        self.buttonRej.on_click(self.retFalse)\n",
    "        self.result=-1\n",
    "        \n",
    "\n",
    "    def retTrue(a,b):\n",
    "         a.result=1\n",
    "    def retFalse(a,b):\n",
    "         a.result=0    \n",
    "\n",
    "    def query(self, i, j):\n",
    "        \"Query the oracle to find out whether i and j should be must-linked\"\n",
    "        if self.queries_cnt < self.max_queries_cnt:\n",
    "            self.queries_cnt += 1\n",
    "            #return len(set(self.labels[i]).intersection(set(self.labels[j])))>0\n",
    "            \n",
    "            #The synchronised content blocks while waiting for unsynchronized one, not sure if there is a way around this\n",
    "            #x = asyncio.ensure_future(f(self.buttonAcc,self.buttonRej))\n",
    "            \n",
    "            #now i use busy waiting which needs another thread\n",
    "            display(widgets.HBox([self.buttonAcc,self.buttonRej]))\n",
    "            f, ax = plt.subplots(1,2) \n",
    "            ax[0].imshow(self.data[i][\"image\"])\n",
    "            ax[1].imshow(self.data[j][\"image\"])\n",
    "            plt.show()\n",
    "            \n",
    "            while(self.result==-1):\n",
    "                time.sleep(0.05)\n",
    "                pass\n",
    "            clear_output(wait=True)\n",
    "            if self.result== 1:\n",
    "                self.result=-1\n",
    "                return True\n",
    "            else:\n",
    "                self.result=-1\n",
    "                return False\n",
    "        else:\n",
    "            raise MaximumQueriesExceeded\n"
   ]
  },
  {
   "cell_type": "code",
   "execution_count": 9,
   "metadata": {
    "execution": {
     "iopub.execute_input": "2022-06-14T13:10:22.436277Z",
     "iopub.status.busy": "2022-06-14T13:10:22.435778Z",
     "iopub.status.idle": "2022-06-14T13:10:23.158817Z",
     "shell.execute_reply": "2022-06-14T13:10:23.158247Z",
     "shell.execute_reply.started": "2022-06-14T13:10:22.436227Z"
    },
    "pycharm": {
     "name": "#%%\n"
    },
    "tags": []
   },
   "outputs": [
    {
     "data": {
      "image/png": "[encoded data removed]",
      "text/plain": [
       "<Figure size 432x288 with 1 Axes>"
      ]
     },
     "metadata": {
      "needs_background": "light"
     },
     "output_type": "display_data"
    },
    {
     "name": "stdout",
     "output_type": "stream",
     "text": [
      "(256,)\n"
     ]
    }
   ],
   "source": [
    "for x in train_data:\n",
    "    image = x[\"image\"]\n",
    "    plt.imshow(image)\n",
    "    plt.show()\n",
    "    print(difference_hashing(image).shape)\n",
    "    break"
   ]
  },
  {
   "cell_type": "code",
   "execution_count": null,
   "outputs": [],
   "source": [
    "\n",
    "LOAD_CONSTRAINTS=False\n",
    "\n",
    "# Disable enable Features here\n",
    "\n",
    "CLD_ENABLED = True\n",
    "\n",
    "EFFNET_ENABLED = True\n",
    "\n",
    "HASHING_ENABLED = True\n",
    "\n",
    "SURF_ENABLED = True\n",
    "\n",
    "ORB_ENABLED = False\n",
    "\n",
    "enabled_names = []\n",
    "feature_weights=[]\n",
    "\n",
    "if CLD_ENABLED:\n",
    "    enabled_names.append(\"cld\")\n",
    "    feature_weights.append(0.0065)\n",
    "    \n",
    "\n",
    "if EFFNET_ENABLED:\n",
    "    enabled_names.append(\"effnet\")\n",
    "    feature_weights.append(2)\n",
    "\n",
    "pooling=\"avg\"\n",
    "\n",
    "\n",
    "if HASHING_ENABLED:\n",
    "    enabled_names.append(\"hash\")\n",
    "    feature_weights.append(0.45)\n",
    "\n",
    "if SURF_ENABLED:\n",
    "    enabled_names.append(\"surf\")\n",
    "    feature_weights.append(1.0)\n",
    "    \n",
    "if ORB_ENABLED:\n",
    "    enabled_names.append(\"orb\")\n",
    "    feature_weights.append(1.0)"
   ],
   "metadata": {
    "collapsed": false,
    "pycharm": {
     "name": "#%%\n"
    }
   }
  },
  {
   "cell_type": "code",
   "execution_count": null,
   "outputs": [],
   "source": [
    "effnet = tf.keras.applications.EfficientNetV2B1(\n",
    "    include_top=False,\n",
    "    weights=\"imagenet\",\n",
    "    input_tensor=None,\n",
    "    input_shape=None,\n",
    "    pooling=pooling,\n",
    "    classes=1000,\n",
    "    classifier_activation=\"softmax\",\n",
    "    include_preprocessing=True,\n",
    ")\n"
   ],
   "metadata": {
    "collapsed": false,
    "pycharm": {
     "name": "#%%\n"
    }
   }
  },
  {
   "cell_type": "code",
   "execution_count": null,
   "outputs": [],
   "source": [
    "\n",
    "from scipy.spatial import distance\n",
    "import time\n",
    "\n",
    "\n",
    "class KMajority:\n",
    "    def __init__(self,n_clusters=8,max_iter=100,):\n",
    "        \n",
    "        self.n_cluster=n_clusters\n",
    "        self.max_iter=max_iter\n",
    "        \n",
    "    def fit(self,X,y=None,centroid=None):\n",
    "        X=np.array(X, dtype=bool)\n",
    "        #random centriods\n",
    "        if centroid is None:\n",
    "            centroids=np.random.randint(2, size=(self.n_cluster,X.shape[1]))\n",
    "            self.centroids=np.array(centroids, dtype=bool)\n",
    "        else:\n",
    "            self.centroids=centroid\n",
    "        centroids=None\n",
    "            \n",
    "        for i in range(self.max_iter):\n",
    "            #distance from each point in X and the centroids so ouput is shape (number_samples, number_clusters)\n",
    "            number_samples =X.shape[0]\n",
    "            number_features=X.shape[1]\n",
    "            \n",
    "            dist=distance.cdist(X,self.centroids,'hamming')\n",
    "            #shape (number_samples,)\n",
    "            cluster_assigned=np.argmin(dist,axis=1)\n",
    "            \n",
    "            \n",
    "            #we calculate one hot encodings to select the rows we want to sum over using matrix multiplication\n",
    "            #test=np.zeros((X.shape[0],self.n_cluster))\n",
    "            #test[np.arange(X.shape[0]),cluster_assigned]=1\n",
    "            #out=test.T@X\n",
    "            \n",
    "            row_sum = np.array([X[cluster_assigned==i].sum(axis=0) for i in range(self.n_cluster)])\n",
    "            row_count = np.array([(cluster_assigned==i).sum(axis=0) for i in range(self.n_cluster)])\n",
    "\n",
    "            #print(row_sum)\n",
    "            #print(row_count)\n",
    "            new_centroids=row_sum>(row_count/2).reshape(-1,1)\n",
    "            #remove empty clusering init randomly again nets bad results but setting it to actual points helps\n",
    "            nullcheck=row_count==0\n",
    "            if(np.any(nullcheck)):\n",
    "                for k in np.argwhere(nullcheck):\n",
    "                    #does not work to bad performance in comparision to already fitted clusters\n",
    "                    #zw=np.random.randint(2, size=(X.shape[1]))\n",
    "                    \n",
    "                    index = np.random.choice(X.shape[0], 1, replace=False) \n",
    "                    new_centroids[k[0]]=X[index]\n",
    "                    \n",
    "            #print(centroids[0])\n",
    "            #print(new_centroids[0])\n",
    "            print(i)\n",
    "            if(np.array_equal(self.centroids,new_centroids)):\n",
    "                self.labels=cluster_assigned\n",
    "                self.centroids=new_centroids\n",
    "                return self\n",
    "            \n",
    "            self.labels=cluster_assigned\n",
    "            self.centroids=new_centroids\n",
    "            \n",
    "        return self\n",
    "            \n",
    "    def predict(self,X):\n",
    "        X=np.array(X, dtype=bool)\n",
    "            #distance from each point in X and the centroids so ouput is shape (number_samples, number_clusters)\n",
    "        number_samples =X.shape[0]\n",
    "        number_features=X.shape[1]\n",
    "        dist=distance.cdist(X,self.centroids,'hamming')\n",
    "        cluster_assigned=np.argmin(dist,axis=1)\n",
    "        return cluster_assigned"
   ],
   "metadata": {
    "collapsed": false,
    "pycharm": {
     "name": "#%%\n"
    }
   }
  },
  {
   "cell_type": "code",
   "execution_count": null,
   "outputs": [],
   "source": [
    "#Preparing surf features\n",
    "\n",
    "surf_clusers=1000\n",
    "if SURF_ENABLED:\n",
    "        surf = cv.xfeatures2d.SURF_create(hessianThreshold = 25,upright =True,extended  =True)\n",
    "        def calculate_surf_image(surf,img):\n",
    "            kp = surf.detect(img,None)\n",
    "            kp, des = surf.compute(img, kp)\n",
    "            return des\n",
    "\n",
    "        def calculate_surf(image_list):\n",
    "            des=list(map(lambda x : calculate_surf_image(surf,x),image_list))\n",
    "            return np.vstack(des)\n",
    "\n",
    "        try: \n",
    "            with open(\"data/k_means_surf.pkl\", \"rb\") as f:\n",
    "                k_means_surf = pickle.load(f)\n",
    "        except:\n",
    "            image_list = list(train_data.map(lambda x: x['image']).as_numpy_iterator())\n",
    "            descriptors=calculate_surf(image_list)\n",
    "            print(len(descriptors))\n",
    "            from sklearn.cluster import MiniBatchKMeans\n",
    "            k_means_surf=MiniBatchKMeans(n_clusters=surf_clusers,reassignment_ratio=0.02,n_init=4,max_iter=200)\n",
    "            k_means_surf.fit(descriptors)\n",
    "            print(metrics.calinski_harabasz_score(descriptors, k_means_surf.predict(descriptors)))\n",
    "            \n",
    "            with open(\"data/k_means_surf.pkl\", \"wb\") as f:\n",
    "                pickle.dump(k_means_surf, f)\n",
    "                \n",
    "        def calculate_bow(ima):\n",
    "            histogram=np.zeros((surf_clusers))\n",
    "            des=calculate_surf_image(surf,ima.numpy().astype(np.uint8))\n",
    "            index=k_means_surf.predict(des)\n",
    "            np.add.at(histogram,index,1)\n",
    "            return histogram\n",
    "        \n",
    "orb_clusters=1000   \n",
    "if ORB_ENABLED:  \n",
    "    orb= cv.ORB_create()\n",
    "    def calculate_orb_image(orb,image):\n",
    "        kp = orb.detect(image,None)\n",
    "        kp, des = orb.compute(image, kp)\n",
    "        return des\n",
    "\n",
    "    def calculate_orb(image_list):\n",
    "        des=list(map(lambda x : calculate_orb_image(x),image_list))\n",
    "        return np.vstack(des)\n",
    "    \n",
    "    try: \n",
    "        with open(\"data/dumped_kmajority.pkl\", \"rb\") as f:\n",
    "                k_majority_orb = pickle.load(f)\n",
    "    except Exception as e:\n",
    "        print(str(e))\n",
    "        print(\"Our K majority implemention is to slow to run here. Please use stored weights\")\n",
    "        ORB_ENABLED=False\n",
    "    \n",
    "    \n",
    "    def calculate_bow_orb(ima):\n",
    "        histogram=np.zeros((orb_clusters))\n",
    "        des=calculate_orb_image(orb,ima.numpy().astype(np.uint8))\n",
    "        des=np.unpackbits(des, axis = 1)\n",
    "        index=k_majority_orb.predict(des)\n",
    "        np.add.at(histogram,index,1)\n",
    "        return histogram\n",
    "\n"
   ],
   "metadata": {
    "collapsed": false,
    "pycharm": {
     "name": "#%%\n"
    }
   }
  },
  {
   "cell_type": "code",
   "execution_count": null,
   "outputs": [],
   "source": [],
   "metadata": {
    "collapsed": false,
    "pycharm": {
     "name": "#%%\n"
    }
   }
  },
  {
   "cell_type": "code",
   "execution_count": null,
   "outputs": [],
   "source": [],
   "metadata": {
    "collapsed": false,
    "pycharm": {
     "name": "#%%\n"
    }
   }
  },
  {
   "cell_type": "code",
   "execution_count": null,
   "outputs": [],
   "source": [
    "#histogram=histogram/histogram.sum(axis=1,keepdims=True)\n",
    "#for image in image_list:\n",
    "    #calculate_bow(image)"
   ],
   "metadata": {
    "collapsed": false,
    "pycharm": {
     "name": "#%%\n"
    }
   }
  },
  {
   "cell_type": "code",
   "execution_count": null,
   "outputs": [],
   "source": [
    "from sklearn.decomposition import PCA\n",
    "def get_all_features(datapoint):\n",
    "    return tf.concat([datapoint[enabled_names[i]]*feature_weights[i] for i in range(len(enabled_names))],0)\n",
    "\n",
    "\n",
    "class DatasetPreprocessor:\n",
    "    def __init__(self):\n",
    "        self.norm1=None\n",
    "        self.norm2=None\n",
    "        self.norm3=None\n",
    "        self.norm4=None\n",
    "        self.norm5=None\n",
    "        self.pca1=None\n",
    "        self.pca2=None\n",
    "        self.pca3=None\n",
    "        self.fitted=False\n",
    "\n",
    "        \n",
    "    def add_features_to_dataset(self,dataset,cachename,fit=False):\n",
    "        if(self.fitted==False and fit==False):\n",
    "            print(\"fit before use\")\n",
    "            raise Exception()\n",
    "        self.fitted=True \n",
    "        images = dataset.map(lambda x: x[\"image\"])\n",
    "        feature_sets = []\n",
    "\n",
    "        # order is important here, must be same as defined in enabled_names\n",
    "        if CLD_ENABLED:\n",
    "            cld_features = images.map(lambda x: tf.py_function(func=color_layout_descriptor, inp=[x], Tout=np.float32),\n",
    "                                      num_parallel_calls=tf.data.experimental.AUTOTUNE).cache(\"data/\"+cachename+\"_cld\" if cachename!=None else '').prefetch(\n",
    "                tf.data.experimental.AUTOTUNE)\n",
    "            shape=cld_features.take(1).get_single_element().shape\n",
    "            cld_features = cld_features.map(lambda t: tf.ensure_shape(t,shape)).cache(\"data/\"+cachename+\"_cld2\" if cachename!=None else '').prefetch(\n",
    "                tf.data.experimental.AUTOTUNE)\n",
    "            if fit==True:\n",
    "                self.norm1=tf.keras.layers.Normalization();\n",
    "                self.norm1.adapt(cld_features)\n",
    "            cld_features=cld_features.map(lambda x:self.norm1(x))\n",
    "            feature_sets.append(cld_features)\n",
    "            \n",
    "\n",
    "        if EFFNET_ENABLED:\n",
    "            resized_images = dataset.map(lambda x: tf.image.resize(x[\"image\"], [240, 240])).batch(1024)\n",
    "            effnet_features = resized_images.map(lambda x: effnet(x)).cache().unbatch().cache(\"data/\"+cachename+\"_effnet\" if cachename!=None else '').prefetch(\n",
    "                tf.data.experimental.AUTOTUNE)\n",
    "\n",
    "            if fit==True:\n",
    "                self.norm2=tf.keras.layers.Normalization();\n",
    "                self.norm2.adapt(effnet_features)\n",
    "                self.pca = PCA(n_components=320) \n",
    "                effnet_list = np.array(list(effnet_features.as_numpy_iterator()))\n",
    "                self.pca.fit(effnet_list)\n",
    "            effnet_features= effnet_features.map(lambda x:self.norm2(x))  \n",
    "            effnet_features= effnet_features.map(lambda x: tf.reshape(tf.py_function(func=self.pca.transform, inp=[tf.reshape(x,(1, -1))], Tout=np.float32),[-1]),\n",
    "                                      num_parallel_calls=tf.data.experimental.AUTOTUNE)\n",
    "            feature_sets.append(effnet_features)\n",
    "            \n",
    "\n",
    "        if HASHING_ENABLED:\n",
    "            hashing_features = images.map(lambda x: tf.py_function(func=difference_hashing, inp=[x], Tout=np.float32),\n",
    "                                      num_parallel_calls=tf.data.experimental.AUTOTUNE)\n",
    "            shape=hashing_features.take(1).get_single_element().shape\n",
    "            hashing_features = hashing_features.map(lambda t: tf.ensure_shape(t,shape)).cache(\"data/\"+cachename+\"_hash\" if cachename!=None else '').prefetch(\n",
    "                tf.data.experimental.AUTOTUNE)\n",
    "            if fit==True:\n",
    "                self.norm3=tf.keras.layers.Normalization();\n",
    "                self.norm3.adapt(hashing_features)\n",
    "            hashing_features=hashing_features.map(lambda x:self.norm3(x))\n",
    "            feature_sets.append(hashing_features)\n",
    "            \n",
    "            \n",
    "\n",
    "        if SURF_ENABLED:\n",
    "            surf_features = images.map(lambda x: tf.py_function(func=calculate_bow, inp=[x], Tout=np.float32),\n",
    "                                      num_parallel_calls=tf.data.experimental.AUTOTUNE)\n",
    "            surf_features = surf_features.map(lambda t: tf.ensure_shape(t,(surf_clusers,))).cache(\"data/\"+cachename+\"_surf\" if cachename!=None else '')\n",
    "            if fit==True:\n",
    "                self.norm4=tf.keras.layers.Normalization();\n",
    "                self.norm4.adapt(surf_features)\n",
    "                self.pca2 = PCA(n_components=250) \n",
    "                surf_list = np.array(list(surf_features.as_numpy_iterator()))\n",
    "                self.pca2.fit(surf_list)\n",
    "                \n",
    "            surf_features=surf_features.map(lambda x:self.norm4(x))\n",
    "            surf_features=surf_features.map(lambda x: tf.reshape(tf.py_function(func=self.pca2.transform, inp=[tf.reshape(x,(1, -1))], Tout=np.float32),[-1]),\n",
    "                                      num_parallel_calls=tf.data.experimental.AUTOTUNE)\n",
    "            feature_sets.append(surf_features)\n",
    "            \n",
    "            \n",
    "        if ORB_ENABLED:\n",
    "            orb_features = images.map(lambda x: tf.py_function(func=calculate_bow_orb, inp=[x], Tout=np.float32),\n",
    "                                      num_parallel_calls=tf.data.experimental.AUTOTUNE)\n",
    "            orb_features = orb_features.map(lambda t: tf.ensure_shape(t,(orb_clusters,))).cache(\"data/\"+cachename+\"_orb\" if cachename!=None else '')\n",
    "            if fit==True:\n",
    "                self.norm5=tf.keras.layers.Normalization();\n",
    "                self.norm5.adapt(orb_features)\n",
    "                self.pca3 = PCA(n_components=250) \n",
    "                orb_list = np.array(list(orb_features.as_numpy_iterator()))\n",
    "                self.pca3.fit(orb_list)\n",
    "                \n",
    "            orb_features=orb_features.map(lambda x:self.norm5(x))\n",
    "            orb_features=orb_features.map(lambda x: tf.reshape(tf.py_function(func=self.pca3.transform, inp=[tf.reshape(x,(1, -1))], Tout=np.float32),[-1]),\n",
    "                                      num_parallel_calls=tf.data.experimental.AUTOTUNE)\n",
    "            feature_sets.append(orb_features)\n",
    "            \n",
    "\n",
    "\n",
    "        # We could do feature scaling here\n",
    "        # this here insers the values of all featuresets into the dictionary\n",
    "        complete_dataset = tf.data.Dataset.zip((dataset,) + tuple(feature_sets)).map(\n",
    "            lambda x, *y: x.update({enabled_names[i]: y[i] for i in range(len(enabled_names))})\\\n",
    "            or x, num_parallel_calls=tf.data.experimental.AUTOTUNE).map(lambda x:x.update({\"feature\":get_all_features(x)}) or x, num_parallel_calls=tf.data.experimental.AUTOTUNE).prefetch(tf.data.experimental.AUTOTUNE)\n",
    "        # I dediced to return dict here. They have the advantage that you can disable/add Features add will without having to condider ordering. Also we do not loose any information, which we might use later\n",
    "        return complete_dataset\n",
    "\n",
    "data_pre=DatasetPreprocessor()\n",
    "# after first run this should be cached memory (needs full run)\n",
    "train_complete = data_pre.add_features_to_dataset(train_data,\"train\",fit=True)\n",
    "val_complete = data_pre.add_features_to_dataset(val_data, \"val\")\n",
    "\n",
    "\n",
    "#PrefetchDataset element_spec=TensorSpec(shape=(1280,)"
   ],
   "metadata": {
    "collapsed": false,
    "pycharm": {
     "name": "#%%\n"
    }
   }
  },
  {
   "cell_type": "code",
   "execution_count": null,
   "outputs": [],
   "source": [
    "# forces caching\n",
    "counter=0\n",
    "for i in train_complete:\n",
    "    counter+=1\n",
    "    pass\n",
    "for i in val_complete:\n",
    "    pass\n",
    "print(counter)"
   ],
   "metadata": {
    "collapsed": false,
    "pycharm": {
     "name": "#%%\n"
    }
   }
  },
  {
   "cell_type": "code",
   "execution_count": null,
   "outputs": [],
   "source": [
    "for i in train_complete:\n",
    "    print(i.keys())\n",
    "    print(len(i[\"feature\"]))\n",
    "    break"
   ],
   "metadata": {
    "collapsed": false,
    "pycharm": {
     "name": "#%%\n"
    }
   }
  },
  {
   "cell_type": "code",
   "execution_count": null,
   "outputs": [],
   "source": [
    "\n",
    "\n"
   ],
   "metadata": {
    "collapsed": false,
    "pycharm": {
     "name": "#%%\n"
    }
   }
  },
  {
   "cell_type": "code",
   "execution_count": null,
   "outputs": [],
   "source": [
    "def filter_dataset(dataset,number_neighboors):\n",
    "    train_knn_arr = np.array(list(dataset.map(lambda x:tf.reshape(tf.image.resize(x[\"image\"],[200,200]),[-1])).as_numpy_iterator()))\n",
    "    def get_KNN_points(numb_neigh, query_point, X):\n",
    "        neigh = NearestNeighbors(n_neighbors=numb_neigh).fit(X)\n",
    "        dist_arr, ind_array = neigh.kneighbors(X=X[query_point].reshape(1, -1))\n",
    "        return ind_array.flatten('c')\n",
    "    filter_ind=get_KNN_points(number_neighboors,0,train_knn_arr)\n",
    "    filter_arr=np.zeros((train_knn_arr.shape[0]))\n",
    "    filter_arr[filter_ind]=1\n",
    "    filter_arr=tf.convert_to_tensor(filter_arr, np.uint8)\n",
    "    return dataset.enumerate().filter(lambda x,y:filter_arr[x]==1).\\\n",
    "        map(lambda x,y:y)"
   ],
   "metadata": {
    "collapsed": false,
    "pycharm": {
     "name": "#%%\n"
    }
   }
  },
  {
   "cell_type": "code",
   "execution_count": null,
   "outputs": [],
   "source": [
    "\n"
   ],
   "metadata": {
    "collapsed": false,
    "pycharm": {
     "name": "#%%\n"
    }
   }
  },
  {
   "cell_type": "code",
   "execution_count": null,
   "outputs": [],
   "source": [
    "train_filtered=filter_dataset(train_complete,500)\n",
    "train_filtered_list=list(train_filtered.as_numpy_iterator())\n",
    "len(train_filtered_list)"
   ],
   "metadata": {
    "collapsed": false,
    "pycharm": {
     "name": "#%%\n"
    }
   }
  },
  {
   "cell_type": "code",
   "execution_count": null,
   "outputs": [],
   "source": [
    "n_cluster=20\n",
    "from sklearn.preprocessing import StandardScaler\n",
    "# uses the label with estimated maximum size\n",
    "y = list(train_filtered.map(lambda x: (x['objects']['label'],x['objects']['bbox'],x['labels'])).map(lambda x,y,z:tf.py_function(func=get_max_label_helper, inp=[x,y,z], Tout=np.int64),num_parallel_calls=tf.data.AUTOTUNE).as_numpy_iterator())\n",
    "features = np.array(list(train_filtered.map(lambda x: x['feature']).as_numpy_iterator()), dtype=np.float64)\n",
    "\n"
   ],
   "metadata": {
    "collapsed": false,
    "pycharm": {
     "name": "#%%\n"
    }
   }
  },
  {
   "cell_type": "code",
   "execution_count": null,
   "outputs": [],
   "source": [
    "test_feature_1 = np.array(list(train_filtered.map(lambda x: x['surf']).as_numpy_iterator()), dtype=np.float64)\n",
    "test_feature_2 = np.array(list(train_filtered.map(lambda x: x['effnet']).as_numpy_iterator()), dtype=np.float64)\n",
    "test_feature_3 = np.array(list(train_filtered.map(lambda x: x['cld']).as_numpy_iterator()), dtype=np.float64)\n",
    "test_feature_4 = np.array(list(train_filtered.map(lambda x: x['hash']).as_numpy_iterator()), dtype=np.float64)\n",
    "#test_feature_5 = np.array(list(train_filtered.map(lambda x: x['orb']).as_numpy_iterator()), dtype=np.float64)"
   ],
   "metadata": {
    "collapsed": false,
    "pycharm": {
     "name": "#%%\n"
    }
   }
  },
  {
   "cell_type": "code",
   "execution_count": null,
   "outputs": [],
   "source": [],
   "metadata": {
    "collapsed": false,
    "pycharm": {
     "name": "#%%\n"
    }
   }
  },
  {
   "cell_type": "code",
   "execution_count": null,
   "outputs": [],
   "source": [],
   "metadata": {
    "collapsed": false,
    "pycharm": {
     "name": "#%%\n"
    }
   }
  },
  {
   "cell_type": "code",
   "execution_count": null,
   "outputs": [],
   "source": [
    "#1280 is best w"
   ],
   "metadata": {
    "collapsed": false,
    "pycharm": {
     "name": "#%%\n"
    }
   }
  },
  {
   "cell_type": "code",
   "execution_count": null,
   "outputs": [],
   "source": [
    "def test_for_querry(data,filtered_list,n_cluster,y,power_of_query_count=5,tries=1,use_explore_consolidate=False):\n",
    "    values_random=[]\n",
    "    values_sil=[]\n",
    "    querry_counts=[]\n",
    "    for i in range (power_of_query_count):\n",
    "        cnt=100*(2**(i))\n",
    "        querry_counts.append(cnt)\n",
    "        values_random_per_try=[]\n",
    "        values_sil_per_try=[]\n",
    "\n",
    "        for k in range(tries):\n",
    "\n",
    "            #Gives way more constraints by trying to find neighboorhoods, but ammount is random\n",
    "            #active_learner = active_semi_clustering.active.pairwise_constraints.explore_consolidate.ExploreConsolidate(n_clusters=20)\n",
    "            fitted=False\n",
    "            while (not fitted):\n",
    "                oracle = LabelOracle(filtered_list, max_queries_cnt=cnt,max_querry=True)\n",
    "                if(use_explore_consolidate):\n",
    "                     active_learner = active_semi_clustering.active.pairwise_constraints.explore_consolidate.ExploreConsolidate(n_clusters=n_cluster)\n",
    "                else:\n",
    "                    active_learner = active_semi_clustering.active.pairwise_constraints.random.Random(n_clusters=n_cluster)\n",
    "                active_learner.fit(data, oracle)\n",
    "                pairwise_constraints = active_learner.pairwise_constraints_\n",
    "                pck = PCKMeans(n_clusters=n_cluster,max_iter=100,w=500)\n",
    "                try:\n",
    "                    pck.fit(data, ml=pairwise_constraints[0], cl=pairwise_constraints[1])\n",
    "                    values_random_per_try.append(metrics.adjusted_rand_score(y, pck.labels_))\n",
    "                    values_sil_per_try.append(metrics.silhouette_score(data, pck.labels_, metric='euclidean'))\n",
    "                    fitted=True\n",
    "                except Exception as e:\n",
    "                    if str(e) == \"KeyboardInterrupt\":\n",
    "                        raise\n",
    "                    else:\n",
    "                        print(str(e))\n",
    "                    pass\n",
    "        values_random.append(values_random_per_try)\n",
    "        values_sil.append(values_sil_per_try)\n",
    "        print(np.mean(values_random_per_try))\n",
    "        print(np.mean(values_sil_per_try))\n",
    "    return values_random,values_sil,querry_counts\n",
    "\n",
    "\n",
    "\n",
    "\n",
    "\n"
   ],
   "metadata": {
    "collapsed": false,
    "pycharm": {
     "name": "#%%\n"
    }
   }
  },
  {
   "cell_type": "code",
   "execution_count": null,
   "outputs": [],
   "source": [
    "start=time.time()\n",
    "import tmp_func\n",
    "import multiprocessing\n",
    "pool = multiprocessing.Pool(processes=8)\n",
    "kwargs={\"power_of_query_count\":5,\"tries\":4}\n",
    "kwargs2={\"power_of_query_count\":4,\"tries\":4,\"use_explore_consolidate\":False}\n",
    "kwargs3={\"power_of_query_count\":4,\"tries\":4,\"use_explore_consolidate\":True}\n",
    "async_result1=pool.apply_async(tmp_func.task,(features,train_filtered_list,n_cluster,y),kwargs)\n",
    "async_result2=pool.apply_async(tmp_func.task,(test_feature_1,train_filtered_list,n_cluster,y),kwargs)\n",
    "async_result3=pool.apply_async(tmp_func.task,(test_feature_2,train_filtered_list,n_cluster,y),kwargs)\n",
    "async_result4=pool.apply_async(tmp_func.task,(test_feature_3,train_filtered_list,n_cluster,y),kwargs)\n",
    "async_result5=pool.apply_async(tmp_func.task,(test_feature_4,train_filtered_list,n_cluster,y),kwargs)\n",
    "#async_result6=pool.apply_async(tmp_func.task,(test_feature_5,train_filtered_list,n_cluster,y),kwargs)\n",
    "async_result7=pool.apply_async(tmp_func.task,(features,train_filtered_list,n_cluster,y),kwargs2)\n",
    "async_result8=pool.apply_async(tmp_func.task,(features,train_filtered_list,n_cluster,y),kwargs3)\n",
    "\n",
    "values_random,values_sil,querry_counts = async_result1.get(timeout=1800)\n",
    "values_random_surf,values_sil_surf,querry_counts = async_result2.get(timeout=1800)\n",
    "values_random_effnet,values_sil_effnet,querry_counts = async_result3.get(timeout=1800)\n",
    "values_random_cld,values_sil_cld,querry_counts=async_result4.get(timeout=1800)\n",
    "values_random_hash,values_sil_hash,querry_counts=async_result5.get(timeout=1800)\n",
    "#values_random_orb,values_orb_hash,querry_counts=async_result6.get(timeout=1800)\n",
    "values_random_random,values_sil_random,querry_counts2 = async_result7.get(timeout=1800)\n",
    "values_random_explore,values_sil_explore,querry_counts2 = async_result8.get(timeout=1800)\n",
    "pool.close()\n",
    "pool.join()\n",
    "print(time.time()-start)"
   ],
   "metadata": {
    "collapsed": false,
    "pycharm": {
     "name": "#%%\n"
    }
   }
  },
  {
   "cell_type": "code",
   "execution_count": null,
   "outputs": [],
   "source": [],
   "metadata": {
    "collapsed": false,
    "pycharm": {
     "name": "#%%\n"
    }
   }
  },
  {
   "cell_type": "code",
   "execution_count": null,
   "outputs": [],
   "source": [
    "start=time.time()\n",
    "values_random,values_sil,querry_counts=test_for_querry(features,train_filtered_list,n_cluster,y)\n",
    "values_random_surf,values_sil_surf,querry_counts=test_for_querry(test_feature_1,train_filtered_list,n_cluster,y)\n",
    "values_random_effnet,values_sil_effnet,querry_counts=test_for_querry(test_feature_2,train_filtered_list,n_cluster,y)\n",
    "values_random_cld,values_sil_cld,querry_counts=test_for_querry(test_feature_3,train_filtered_list,n_cluster,y)\n",
    "values_random_hash,values_sil_hash,querry_counts=test_for_querry(test_feature_4,train_filtered_list,n_cluster,y)\n",
    "print(time.time()-start)"
   ],
   "metadata": {
    "collapsed": false,
    "pycharm": {
     "name": "#%%\n"
    }
   }
  },
  {
   "cell_type": "code",
   "execution_count": null,
   "outputs": [],
   "source": [
    "fig, ax = plt.subplots(1, 1)\n",
    "fig.dpi=300\n",
    "ax.set_title(\"Adjusted Random Score for number of queries\")\n",
    "ax.set_xlabel(\"number of queries\")\n",
    "ax.set_ylabel(\"Score\")\n",
    "score_arr=np.array(values_random)\n",
    "train_scores_mean = np.mean(score_arr, axis=1)\n",
    "train_scores_std = np.std(score_arr, axis=1)\n",
    "ax.grid()\n",
    "ax.fill_between(querry_counts, train_scores_mean - train_scores_std,\n",
    "                    train_scores_mean + train_scores_std, alpha=0.1, color=\"r\")\n",
    "ax.plot(querry_counts, train_scores_mean, 'o-', color=\"r\",\n",
    "            label=\"Training score\")\n",
    "#ax.tick_params(labelsize=text_fontsize)\n",
    "#ax.legend(loc=\"best\", fontsize=text_fontsize)\n",
    "plt.show()"
   ],
   "metadata": {
    "collapsed": false,
    "pycharm": {
     "name": "#%%\n"
    }
   }
  },
  {
   "cell_type": "code",
   "execution_count": null,
   "outputs": [],
   "source": [
    "fig, ax = plt.subplots(1, 1)\n",
    "fig.dpi=300\n",
    "ax.set_title(\"Silhouette score for number of queries\")\n",
    "ax.set_xlabel(\"number of queries\")\n",
    "ax.set_ylabel(\"Score\")\n",
    "score_arr=np.array(values_sil)\n",
    "train_scores_mean = np.mean(score_arr, axis=1)\n",
    "train_scores_std = np.std(score_arr, axis=1)\n",
    "ax.grid()\n",
    "ax.fill_between(querry_counts, train_scores_mean - train_scores_std,\n",
    "                    train_scores_mean + train_scores_std, alpha=0.1, color=\"r\")\n",
    "ax.plot(querry_counts, train_scores_mean, 'o-', color=\"r\",\n",
    "            label=\"Training score\")\n",
    "#ax.tick_params(labelsize=text_fontsize)\n",
    "#ax.legend(loc=\"best\", fontsize=text_fontsize)\n",
    "plt.show()"
   ],
   "metadata": {
    "collapsed": false,
    "pycharm": {
     "name": "#%%\n"
    }
   }
  },
  {
   "cell_type": "code",
   "execution_count": null,
   "outputs": [],
   "source": [],
   "metadata": {
    "collapsed": false,
    "pycharm": {
     "name": "#%%\n"
    }
   }
  },
  {
   "cell_type": "code",
   "execution_count": null,
   "outputs": [],
   "source": [
    "fig, ax = plt.subplots(1, 1)\n",
    "fig.dpi=300\n",
    "ax.set_title(\"Adjusted Random Score using labels over different numbers of queries\")\n",
    "ax.set_xlabel(\"Number of queries\")\n",
    "ax.set_ylabel(\"Adjusted Random Score\")\n",
    "#dict_random={\"surf\":values_random_surf,\"cld\":values_random_cld,\"ahash\":values_random_hash}\n",
    "dict_random={\"all\":values_random,\"effnet\":values_random_effnet,\"surf\":values_random_surf,\"cld\":values_random_cld,\"ahash\":values_random_hash}\n",
    "for key in dict_random:\n",
    "    score_arr=np.array(dict_random[key])\n",
    "    train_scores_mean = np.mean(score_arr, axis=1)\n",
    "    train_scores_std = np.std(score_arr, axis=1)\n",
    "    ax.grid()\n",
    "    ax.fill_between(querry_counts, train_scores_mean - train_scores_std,\n",
    "                        train_scores_mean + train_scores_std, alpha=0.2)\n",
    "    ax.plot(querry_counts, train_scores_mean, 'o-',\n",
    "                label=key)\n",
    "#ax.tick_params(labelsize=text_fontsizew)\n",
    "#ax.legend(loc=\"best\", fontsize=text_fontsize)\n",
    "plt.legend()\n",
    "plt.show()"
   ],
   "metadata": {
    "collapsed": false,
    "pycharm": {
     "name": "#%%\n"
    }
   }
  },
  {
   "cell_type": "code",
   "execution_count": null,
   "outputs": [],
   "source": [
    "fig, ax = plt.subplots(1, 1)\n",
    "fig.dpi=300\n",
    "ax.set_title(\"Silhouette score over different numbers of queries\")\n",
    "ax.set_xlabel(\"Number of queries\")\n",
    "ax.set_ylabel(\"Adjusted Random Score\")\n",
    "#dict_random={\"surf\":values_random_surf,\"cld\":values_random_cld,\"ahash\":values_random_hash}\n",
    "dict_random={\"all\":values_sil,\"effnet\":values_sil_effnet,\"surf\":values_sil_surf,\"cld\":values_sil_cld,\"ahash\":values_sil_hash}\n",
    "for key in dict_random:\n",
    "    score_arr=np.array(dict_random[key])\n",
    "    train_scores_mean = np.mean(score_arr, axis=1)\n",
    "    train_scores_std = np.std(score_arr, axis=1)\n",
    "    ax.grid()\n",
    "    ax.fill_between(querry_counts, train_scores_mean - train_scores_std,\n",
    "                        train_scores_mean + train_scores_std, alpha=0.2)\n",
    "    ax.plot(querry_counts, train_scores_mean, 'o-',\n",
    "                label=key)\n",
    "#ax.tick_params(labelsize=text_fontsizew)\n",
    "#ax.legend(loc=\"best\", fontsize=text_fontsize)\n",
    "plt.legend()\n",
    "plt.show()"
   ],
   "metadata": {
    "collapsed": false,
    "pycharm": {
     "name": "#%%\n"
    }
   }
  },
  {
   "cell_type": "code",
   "execution_count": null,
   "outputs": [],
   "source": [
    "\n",
    "fig, ax = plt.subplots(1, 1)\n",
    "fig.dpi=300\n",
    "ax.set_title(\"Adjusted Random Score using labels over different numbers of queries\")\n",
    "ax.set_xlabel(\"Number of queries\")\n",
    "ax.set_ylabel(\"Adjusted Random Score\")\n",
    "#dict_random={\"surf\":values_random_surf,\"cld\":values_random_cld,\"ahash\":values_random_hash}\n",
    "dict_random={\"random\":values_random_random,\"explore consolidate\":values_random_explore}\n",
    "for key in dict_random:\n",
    "    score_arr=np.array(dict_random[key])\n",
    "    train_scores_mean = np.mean(score_arr, axis=1)\n",
    "    train_scores_std = np.std(score_arr, axis=1)\n",
    "    ax.grid()\n",
    "    ax.fill_between(querry_counts2, train_scores_mean - train_scores_std,\n",
    "                        train_scores_mean + train_scores_std, alpha=0.2)\n",
    "    ax.plot(querry_counts2, train_scores_mean, 'o-',\n",
    "                label=key)\n",
    "#ax.tick_params(labelsize=text_fontsizew)\n",
    "#ax.legend(loc=\"best\", fontsize=text_fontsize)\n",
    "plt.legend()\n",
    "plt.show()"
   ],
   "metadata": {
    "collapsed": false,
    "pycharm": {
     "name": "#%%\n"
    }
   }
  },
  {
   "cell_type": "code",
   "execution_count": null,
   "outputs": [],
   "source": [
    "fig, ax = plt.subplots(1, 1)\n",
    "fig.dpi=300\n",
    "ax.set_title(\"Silhouette score over different numbers of queries\")\n",
    "ax.set_xlabel(\"Number of queries\")\n",
    "ax.set_ylabel(\"Adjusted Random Score\")\n",
    "#dict_random={\"surf\":values_random_surf,\"cld\":values_random_cld,\"ahash\":values_random_hash}\n",
    "dict_random={\"random\":values_sil_random,\"explore consolidate\":values_sil_explore}\n",
    "for key in dict_random:\n",
    "    score_arr=np.array(dict_random[key])\n",
    "    train_scores_mean = np.mean(score_arr, axis=1)\n",
    "    train_scores_std = np.std(score_arr, axis=1)\n",
    "    ax.grid()\n",
    "    ax.fill_between(querry_counts2, train_scores_mean - train_scores_std,\n",
    "                        train_scores_mean + train_scores_std, alpha=0.2)\n",
    "    ax.plot(querry_counts2, train_scores_mean, 'o-',\n",
    "                label=key)\n",
    "#ax.tick_params(labelsize=text_fontsizew)\n",
    "#ax.legend(loc=\"best\", fontsize=text_fontsize)\n",
    "plt.legend()\n",
    "plt.show()"
   ],
   "metadata": {
    "collapsed": false,
    "pycharm": {
     "name": "#%%\n"
    }
   }
  },
  {
   "cell_type": "code",
   "execution_count": null,
   "metadata": {
    "pycharm": {
     "name": "#%%\n"
    }
   },
   "outputs": [],
   "source": [
    "fig, ax = plt.subplots(1, 1)\n",
    "fig.dpi=300\n",
    "ax.set_title(\"Silhouette score over different numbers of queries\")\n",
    "ax.set_xlabel(\"Number of queries\")\n",
    "ax.set_ylabel(\"Adjusted Random Score\")\n",
    "#dict_random={\"surf\":values_random_surf,\"cld\":values_random_cld,\"ahash\":values_random_hash}\n",
    "dict_random={\"random\":values_sil_random,\"explore consolidate\":values_sil_explore}\n",
    "for key in dict_random:\n",
    "    score_arr=np.array(dict_random[key])\n",
    "    train_scores_mean = np.mean(score_arr, axis=1)\n",
    "    train_scores_std = np.std(score_arr, axis=1)\n",
    "    ax.grid()\n",
    "    ax.fill_between(querry_counts2, train_scores_mean - train_scores_std,\n",
    "                        train_scores_mean + train_scores_std, alpha=0.2)\n",
    "    ax.plot(querry_counts2, train_scores_mean, 'o-',\n",
    "                label=key)\n",
    "#ax.tick_params(labelsize=text_fontsizew)\n",
    "#ax.legend(loc=\"best\", fontsize=text_fontsize)\n",
    "plt.legend()\n",
    "plt.show()"
   ]
  },
  {
   "cell_type": "code",
   "execution_count": null,
   "metadata": {
    "pycharm": {
     "name": "#%%\n"
    }
   },
   "outputs": [],
   "source": []
  },
  {
   "cell_type": "code",
   "execution_count": null,
   "metadata": {
    "pycharm": {
     "name": "#%%\n"
    }
   },
   "outputs": [],
   "source": []
  },
  {
   "cell_type": "code",
   "execution_count": null,
   "metadata": {
    "pycharm": {
     "name": "#%%\n"
    }
   },
   "outputs": [],
   "source": [
    "values_random=[]\n",
    "querry_counts=[]\n",
    "for i in range (5):\n",
    "    cnt=100*(2**(i))\n",
    "    querry_counts.append(cnt)\n",
    "    values_random_per_try=[]\n",
    "    for k in range(16):\n",
    "        oracle = LabelOracle(train_filtered_list, max_queries_cnt=cnt,max_querry=True)\n",
    "        #Gives way more constraints by trying to find neighboorhoods, but ammount is random\n",
    "        #active_learner = active_semi_clustering.active.pairwise_constraints.explore_consolidate.ExploreConsolidate(n_clusters=20)\n",
    "        active_learner = active_semi_clustering.active.pairwise_constraints.random.Random(n_clusters=n_cluster)\n",
    "        active_learner.fit(features, oracle)\n",
    "        pairwise_constraints = active_learner.pairwise_constraints_\n",
    "        pck = PCKMeans(n_clusters=n_cluster*2,max_iter=100,w=500)\n",
    "        try:\n",
    "            pck.fit(features, ml=pairwise_constraints[0], cl=pairwise_constraints[1])\n",
    "            values_random_per_try.append(metrics.adjusted_rand_score(y, pck.labels_))\n",
    "        except Exception as e:\n",
    "            if str(e) == \"KeyboardInterrupt\":\n",
    "                raise\n",
    "            else:\n",
    "                print(e)\n",
    "            pass\n",
    "    values_random.append(values_random_per_try)\n",
    "    print(np.mean(values_random_per_try))"
   ]
  },
  {
   "cell_type": "code",
   "execution_count": null,
   "metadata": {
    "pycharm": {
     "name": "#%%\n"
    }
   },
   "outputs": [],
   "source": [
    "import types\n",
    "def initialize_cluster_centers(self,X, neighborhoods):\n",
    "        cluster_centers = X[np.random.choice(X.shape[0], self.n_clusters, replace=False), :]\n",
    "        return cluster_centers\n",
    "\n",
    "\n",
    "for i in range (5):\n",
    "    avg_random=[]\n",
    "    for k in range(16):\n",
    "        oracle = LabelOracle(train_filtered_list, max_queries_cnt=100*(2**(i)),max_querry=True)\n",
    "        #Gives way more constraints by trying to find neighboorhoods, but ammount is random\n",
    "        #active_learner = active_semi_clustering.active.pairwise_constraints.explore_consolidate.ExploreConsolidate(n_clusters=20)\n",
    "        active_learner = active_semi_clustering.active.pairwise_constraints.random.Random(n_clusters=n_cluster)\n",
    "        active_learner.fit(features, oracle)\n",
    "        pairwise_constraints = active_learner.pairwise_constraints_\n",
    "        pck = PCKMeans(n_clusters=n_cluster,max_iter=100,w=500)\n",
    "        pck._initialize_cluster_centers=types.MethodType( initialize_cluster_centers, pck )\n",
    "        try:\n",
    "            pck.fit(features, ml=pairwise_constraints[0], cl=pairwise_constraints[1])\n",
    "            avg_random.append(metrics.adjusted_rand_score(y, pck.labels_))\n",
    "        except:\n",
    "            pass\n",
    "    print(np.mean(avg_random))\n"
   ]
  },
  {
   "cell_type": "code",
   "execution_count": null,
   "metadata": {
    "pycharm": {
     "name": "#%%\n"
    }
   },
   "outputs": [],
   "source": []
  },
  {
   "cell_type": "code",
   "execution_count": null,
   "metadata": {
    "pycharm": {
     "name": "#%%\n"
    }
   },
   "outputs": [],
   "source": []
  },
  {
   "cell_type": "code",
   "execution_count": null,
   "metadata": {
    "pycharm": {
     "name": "#%%\n"
    }
   },
   "outputs": [],
   "source": [
    "#pca = PCA(n_components=80)\n",
    "#features2=pca.fit_transform(features)"
   ]
  },
  {
   "cell_type": "code",
   "execution_count": null,
   "metadata": {
    "pycharm": {
     "name": "#%%\n"
    }
   },
   "outputs": [],
   "source": []
  },
  {
   "cell_type": "code",
   "execution_count": null,
   "metadata": {
    "pycharm": {
     "name": "#%%\n"
    }
   },
   "outputs": [],
   "source": [
    "\n",
    "    \n"
   ]
  },
  {
   "cell_type": "code",
   "execution_count": null,
   "metadata": {
    "pycharm": {
     "name": "#%%\n"
    }
   },
   "outputs": [],
   "source": [
    "import types\n",
    "pck = PCKMeans(n_clusters=n_cluster,max_iter=100,w=500)\n",
    "#This overrides init with random init\n",
    "#pck._initialize_cluster_centers=types.MethodType( initialize_cluster_centers, pck )\n",
    "#actually random often does better than using the center of the found classes\n",
    "pck.fit(features, ml=pairwise_constraints[0], cl=pairwise_constraints[1])\n",
    "metrics.adjusted_rand_score(y, pck.labels_)\n",
    "#metrics.calinski_harabasz_score(features, clusterer.labels_)"
   ]
  },
  {
   "cell_type": "code",
   "execution_count": null,
   "metadata": {
    "pycharm": {
     "name": "#%%\n"
    }
   },
   "outputs": [],
   "source": [
    "features.shape"
   ]
  },
  {
   "cell_type": "code",
   "execution_count": null,
   "metadata": {
    "pycharm": {
     "name": "#%%\n"
    }
   },
   "outputs": [],
   "source": [
    "clusterer = COPKMeans(n_clusters=n_cluster,max_iter=100)\n",
    "clusterer.fit(features, ml=pairwise_constraints[0], cl=pairwise_constraints[1])\n",
    "metrics.adjusted_rand_score(y, clusterer.labels_)\n",
    "#metrics.calinski_harabasz_score(features, clusterer.labels_)"
   ]
  },
  {
   "cell_type": "code",
   "execution_count": null,
   "metadata": {
    "pycharm": {
     "name": "#%%\n"
    }
   },
   "outputs": [],
   "source": [
    "kmeans = KMeans(n_clusters=n_cluster, random_state=0).fit(features)\n",
    "metrics.adjusted_rand_score(y, kmeans.predict(features))\n",
    "#metrics.calinski_harabasz_score(features, kmeans.predict(features))\n"
   ]
  },
  {
   "cell_type": "code",
   "execution_count": null,
   "metadata": {
    "pycharm": {
     "name": "#%%\n"
    }
   },
   "outputs": [],
   "source": [
    "def cluster_histogramm(data,predicted_values,y,use_all=True):\n",
    "    unique, counts = np.unique(predicted_values, return_counts=True)\n",
    "    n_clusters=len(unique)\n",
    "    counter=np.zeros((n_clusters,20))\n",
    "    for i in range(len(predicted_values)):\n",
    "        if(use_all):\n",
    "            for k in data[i][\"labels\"]:\n",
    "                    counter[predicted_values[i],k]+=1\n",
    "        else:\n",
    "            counter[predicted_values[i],y[i]]+=1\n",
    "            \n",
    "    return counter\n",
    "hist=cluster_histogramm(train_filtered_list,pck.labels_,y,use_all=False)\n",
    "\n",
    "for i in range(hist.shape[0]):  \n",
    "    print(i)\n",
    "    fig = plt.gcf()\n",
    "    fig.set_size_inches(16, 6.5)\n",
    "    plt.bar(np.arange(0,20),hist[i],tick_label=_VOC_LABELS) \n",
    "    plt.show()"
   ]
  },
  {
   "cell_type": "code",
   "execution_count": null,
   "metadata": {
    "pycharm": {
     "name": "#%%\n"
    }
   },
   "outputs": [],
   "source": [
    "from sklearn.metrics.pairwise import euclidean_distances\n",
    "from sklearn.metrics.pairwise import cosine_distances\n",
    "def classifier_function_creator(clusterer,distance_measure):\n",
    "    cluster_algo=clusterer\n",
    "    dist_func=distance_measure\n",
    "    def classifier_function(image):\n",
    "        image*=255.0\n",
    "        ds=tf.data.Dataset.from_tensor_slices({\"image\":image})\n",
    "        feature= data_pre.add_features_to_dataset(ds,None).map(lambda x:x[\"feature\"]).batch(image.shape[0]).get_single_element()\n",
    "        \n",
    "        dist= dist_func(feature,cluster_algo.cluster_centers_)\n",
    "\n",
    "        dist=1/dist\n",
    "        dist=np.power(dist,20)\n",
    "        dist=dist/np.sum(dist,axis=1,keepdims=True)\n",
    "        return dist\n",
    "    return classifier_function\n",
    "    \n",
    "\n",
    "func1=classifier_function_creator(pck,euclidean_distances)\n",
    "print(func1(np.expand_dims(train_filtered_list[0][\"image\"],axis=0)/255.0))\n",
    "#func2=clasifier_function_creator(pck,cosine_distances)\n",
    "#func2(np.expand_dims(train_filtered_list[0][\"image\"],axis=0)/255.0)\n",
    "#print(func1(np.expand_dims(train_filtered_list[0][\"image\"],axis=0)/255.0))\n"
   ]
  },
  {
   "cell_type": "code",
   "execution_count": null,
   "metadata": {
    "pycharm": {
     "name": "#%%\n"
    }
   },
   "outputs": [],
   "source": []
  },
  {
   "cell_type": "code",
   "execution_count": null,
   "metadata": {
    "pycharm": {
     "name": "#%%\n"
    }
   },
   "outputs": [],
   "source": [
    "from sklearn.ensemble import RandomForestClassifier\n",
    "from sklearn.linear_model import LogisticRegression\n",
    "\n",
    "from sklearn.linear_model import SGDClassifier\n",
    "from sklearn.naive_bayes import GaussianNB\n",
    "\n",
    "clf2 = RandomForestClassifier(max_depth=10, random_state=0)\n",
    "\n",
    "from sklearn.metrics import accuracy_score\n",
    "\n",
    "\n",
    "def classifier_function_creator2(classifier,features,labels):\n",
    "    clf=classifier\n",
    "    clf.fit(features,labels)\n",
    "    print(accuracy_score(clf.predict(features),labels))\n",
    "    def classifier_function(image):\n",
    "        image*=255.0\n",
    "        ds=tf.data.Dataset.from_tensor_slices({\"image\":image})\n",
    "        feature= data_pre.add_features_to_dataset(ds,None).map(lambda x:x[\"feature\"]).batch(image.shape[0]).get_single_element()\n",
    "        return clf.predict_proba(feature)\n",
    "    \n",
    "    return classifier_function\n"
   ]
  },
  {
   "cell_type": "code",
   "execution_count": null,
   "metadata": {
    "pycharm": {
     "name": "#%%\n"
    }
   },
   "outputs": [],
   "source": [
    "from lime import lime_image\n",
    "\n",
    "explainer = lime_image.LimeImageExplainer()\n",
    "\n",
    "explained_index=0\n",
    "explanation1 = explainer.explain_instance(train_filtered_list[explained_index][\"image\"]/255.0, classifier_function_creator(pck,euclidean_distances),labels=[0,1,2,3,4,5,6,7,8,9,10,11,12,13,14,15,16,17,18,19], top_labels=20, hide_color=0, num_samples=1000,batch_size =250)\n",
    "    \n"
   ]
  },
  {
   "cell_type": "code",
   "execution_count": null,
   "metadata": {
    "pycharm": {
     "name": "#%%\n"
    }
   },
   "outputs": [],
   "source": [
    "#pred =kmeans.predict(features)\n",
    "#print(pred[explained_index])\n",
    "print(pck.labels_[explained_index])"
   ]
  },
  {
   "cell_type": "code",
   "execution_count": null,
   "metadata": {
    "pycharm": {
     "name": "#%%\n"
    }
   },
   "outputs": [],
   "source": [
    "\n",
    "from skimage.segmentation import mark_boundaries\n",
    "temp, mask = explanation1.get_image_and_mask(14, positive_only=False, num_features=25, hide_rest=False)\n",
    "plt.imshow(mark_boundaries(temp/1.5, mask))"
   ]
  },
  {
   "cell_type": "code",
   "execution_count": null,
   "metadata": {
    "pycharm": {
     "name": "#%%\n"
    }
   },
   "outputs": [],
   "source": [
    "explanation2 = explainer.explain_instance(train_filtered_list[explained_index][\"image\"]/255.0, classifier_function_creator2(clf2,features,pck.labels_),labels=[0,1,2,3,4,5,6,7,8,9,10,11,12,13,14,15,16,17,18,19], top_labels=20, hide_color=0, num_samples=1000,batch_size =250)"
   ]
  },
  {
   "cell_type": "code",
   "execution_count": null,
   "metadata": {
    "pycharm": {
     "name": "#%%\n"
    }
   },
   "outputs": [],
   "source": [
    "from skimage.segmentation import mark_boundaries\n",
    "temp2, mask2 = explanation2.get_image_and_mask(5, positive_only=False, num_features=25, hide_rest=False)\n",
    "plt.imshow(mark_boundaries(temp2/1.5, mask2))"
   ]
  },
  {
   "cell_type": "code",
   "execution_count": null,
   "metadata": {
    "pycharm": {
     "name": "#%%\n"
    }
   },
   "outputs": [],
   "source": [
    "x1 = np.array(list(train_complete.map(lambda x: x['effnet']).as_numpy_iterator()), dtype=np.float64)"
   ]
  },
  {
   "cell_type": "code",
   "execution_count": null,
   "metadata": {
    "pycharm": {
     "name": "#%%\n"
    }
   },
   "outputs": [],
   "source": [
    "kmeans1 = KMeans(n_clusters=200, random_state=0).fit(x1)"
   ]
  },
  {
   "cell_type": "code",
   "execution_count": null,
   "metadata": {
    "pycharm": {
     "name": "#%%\n"
    }
   },
   "outputs": [],
   "source": [
    "\n",
    "if EFFNET_ENABLED:\n",
    "    counter = 0\n",
    "    for data in val_complete:\n",
    "        if counter == 10:\n",
    "            break\n",
    "        im = data['image']\n",
    "        feature = data['effnet']\n",
    "        pred = kmeans1.predict(tf.reshape(feature, (1, -1)))\n",
    "        for i in range(pred.shape[0]):\n",
    "            if pred[i] == 4:\n",
    "                plt.imshow(im)\n",
    "                plt.show()\n",
    "                counter += 1\n",
    "                if counter == 10:\n",
    "                    break"
   ]
  },
  {
   "cell_type": "code",
   "execution_count": null,
   "metadata": {
    "pycharm": {
     "name": "#%%\n"
    }
   },
   "outputs": [],
   "source": [
    "x2 = np.array(list(train_complete.map(lambda x: x['surf']).as_numpy_iterator()), dtype=np.float64)\n",
    "#scaler=RobustScaler()\n",
    "#x2 = scaler.fit_transform(x2)"
   ]
  },
  {
   "cell_type": "code",
   "execution_count": null,
   "metadata": {
    "pycharm": {
     "name": "#%%\n"
    }
   },
   "outputs": [],
   "source": [
    "kmeans2 = KMeans(n_clusters=200, random_state=0).fit(x2)"
   ]
  },
  {
   "cell_type": "code",
   "execution_count": null,
   "metadata": {
    "pycharm": {
     "name": "#%%\n"
    }
   },
   "outputs": [],
   "source": [
    "if SURF_ENABLED:\n",
    "    counter = 0\n",
    "    for data in train_complete:\n",
    "        if counter == 10:\n",
    "            break\n",
    "        im = data['image']\n",
    "        feature = data['surf']\n",
    "        pred = kmeans2.predict(tf.reshape(feature, (1, -1)))\n",
    "        for i in range(pred.shape[0]):\n",
    "            if pred[i] == 2:\n",
    "                plt.imshow(im)\n",
    "                plt.show()\n",
    "                counter += 1\n",
    "                if counter == 10:\n",
    "                    break"
   ]
  },
  {
   "cell_type": "code",
   "execution_count": null,
   "metadata": {
    "pycharm": {
     "name": "#%%\n"
    }
   },
   "outputs": [],
   "source": [
    "test_kmeans = KMeans(n_clusters=20, random_state=0).fit(features)\n",
    "\n",
    "test_feature_1 = np.array(list(train_filtered.map(lambda x: x['surf']).as_numpy_iterator()), dtype=np.float64)\n",
    "test_kmeans_1 = KMeans(n_clusters=20, random_state=0).fit(test_feature_1)\n",
    "\n",
    "test_feature_2 = np.array(list(train_filtered.map(lambda x: x['effnet']).as_numpy_iterator()), dtype=np.float64)\n",
    "test_kmeans_2 = KMeans(n_clusters=20, random_state=0).fit(test_feature_2)\n",
    "\n",
    "test_feature_3 = np.array(list(train_filtered.map(lambda x: x['cld']).as_numpy_iterator()), dtype=np.float64)\n",
    "test_kmeans_3 = KMeans(n_clusters=20, random_state=0).fit(test_feature_3)\n",
    "\n",
    "test_feature_4 = np.array(list(train_filtered.map(lambda x: x['hash']).as_numpy_iterator()), dtype=np.float64)\n",
    "test_kmeans_4 = KMeans(n_clusters=20, random_state=0).fit(test_feature_4)"
   ]
  },
  {
   "cell_type": "code",
   "execution_count": null,
   "metadata": {
    "pycharm": {
     "name": "#%%\n"
    }
   },
   "outputs": [],
   "source": [
    "from sklearn import metrics\n",
    "import seaborn as sns\n",
    "\n",
    "def get_metric_scores(X, predicted_y, true_y):\n",
    "    met_adrand = metrics.adjusted_rand_score(true_y, predicted_y)\n",
    "    met_nmi = metrics.normalized_mutual_info_score(true_y, predicted_y)\n",
    "    met_eucsil = metrics.silhouette_score(X, predicted_y, metric='euclidean')\n",
    "    met_cossil = metrics.silhouette_score(X, predicted_y, metric='cosine')\n",
    "    return met_adrand, met_nmi, met_eucsil, met_cossil\n",
    "    \n",
    "metric_scores_all = get_metric_scores(features, test_kmeans.labels_, y)\n",
    "\n",
    "metric_scores_1 = get_metric_scores(test_feature_1, test_kmeans_1.labels_, y)\n",
    "metric_scores_2 = get_metric_scores(test_feature_2, test_kmeans_2.labels_, y)\n",
    "metric_scores_3 = get_metric_scores(test_feature_3, test_kmeans_3.labels_, y)\n",
    "metric_scores_4 = get_metric_scores(test_feature_4, test_kmeans_4.labels_, y)\n",
    "\n",
    "metric_array = np.array([metric_scores_all, metric_scores_1, metric_scores_2, metric_scores_3, metric_scores_4])\n",
    "\n",
    "fig, ax =plt.subplots(1,5)\n",
    "plt.subplots_adjust(wspace=0.5)\n",
    "sns.set_style(\"whitegrid\")\n",
    "#bar_plot_1 = sns.barplot(x=['adjusted_rand_score', 'normalized_mutual_information_score', 'euclidean_silhouette_score', 'cosine_silhouette_score'], y=np.array(metric_scores))\n",
    "\n",
    "for i in range(5):\n",
    "    bar_plot_1 = sns.barplot(x=['adjusted_rand_score', 'normalized_mutual_information_score', 'euclidean_silhouette_score', 'cosine_silhouette_score'], y=metric_array[i], ax=ax[i])\n",
    "#bar_plot_2 = sns.barplot(x=['adjusted_rand_score', 'normalized_mutual_information_score', 'euclidean_silhouette_score', 'cosine_silhouette_score'], y=np.array(metric_scores_1), ax=ax[1])\n",
    "\n",
    "    bar_plot_1.set(ylim=(-1, 1))\n",
    "    bar_plot_1.set(title='All features')\n",
    "    bar_plot_1.set_xticklabels(\n",
    "        bar_plot_1.get_xticklabels(), \n",
    "        rotation=35, \n",
    "        horizontalalignment='right',\n",
    "        fontsize=8)\n",
    "\n",
    "# bar_plot_2.set(ylim=(-1, 1))\n",
    "# bar_plot_2.set(title='Only x feature')\n",
    "# bar_plot_2.set_xticklabels(\n",
    "#     bar_plot_2.get_xticklabels(), \n",
    "#     rotation=35, \n",
    "#     horizontalalignment='right',\n",
    "#     fontsize=8\n",
    "    \n",
    "# )\n",
    "fig.show()\n",
    "\n",
    "\n",
    "\n"
   ]
  },
  {
   "cell_type": "code",
   "execution_count": null,
   "metadata": {
    "pycharm": {
     "name": "#%%\n"
    }
   },
   "outputs": [],
   "source": [
    "print(metric_scores_all, '\\n', metric_scores_1, '\\n', metric_scores_2, '\\n', metric_scores_3, '\\n', metric_scores_4)\n",
    "#print(metric_scores)"
   ]
  },
  {
   "cell_type": "code",
   "execution_count": null,
   "metadata": {
    "pycharm": {
     "name": "#%%\n"
    }
   },
   "outputs": [],
   "source": [
    "def get_n_ind_close_to_cluster(n, cluster, kmeans_handle, X):\n",
    "    d = kmeans_handle.transform(X)[:, cluster]\n",
    "    ind = np.argsort(d)[:n]\n",
    "    return ind"
   ]
  },
  {
   "cell_type": "code",
   "execution_count": null,
   "metadata": {
    "pycharm": {
     "name": "#%%\n"
    }
   },
   "outputs": [],
   "source": [
    "test_ind_c = get_n_ind_close_to_cluster(15, 4, test_kmeans, features)"
   ]
  },
  {
   "cell_type": "code",
   "execution_count": null,
   "metadata": {
    "pycharm": {
     "name": "#%%\n"
    }
   },
   "outputs": [],
   "source": [
    "print('True max label:', np.array(y)[test_ind_c])\n",
    "print('Predicted label:', test_kmeans.labels_[test_ind_c])"
   ]
  }
 ],
 "metadata": {
  "kernelspec": {
   "display_name": "Python 3 (ipykernel)",
   "language": "python",
   "name": "python3"
  },
  "language_info": {
   "codemirror_mode": {
    "name": "ipython",
    "version": 3
   },
   "file_extension": ".py",
   "mimetype": "text/x-python",
   "name": "python",
   "nbconvert_exporter": "python",
   "pygments_lexer": "ipython3",
   "version": "3.7.13"
  }
 },
 "nbformat": 4,
 "nbformat_minor": 4
}