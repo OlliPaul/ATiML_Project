{
 "cells": [
  {
   "cell_type": "code",
   "execution_count": 1,
   "metadata": {
    "pycharm": {
     "name": "#%%\n"
    },
    "tags": []
   },
   "outputs": [
    {
     "name": "stdout",
     "output_type": "stream",
     "text": [
      "Requirement already satisfied: sklearn in c:\\users\\root\\anaconda3\\envs\\atiml_project\\lib\\site-packages (from -r ../requirements.txt (line 1)) (0.0)\n",
      "Requirement already satisfied: opencv-contrib-python==3.4.2.17 in c:\\users\\root\\anaconda3\\envs\\atiml_project\\lib\\site-packages (from -r ../requirements.txt (line 2)) (3.4.2.17)\n",
      "Requirement already satisfied: tensorflow in c:\\users\\root\\anaconda3\\envs\\atiml_project\\lib\\site-packages (from -r ../requirements.txt (line 3)) (2.8.2)\n",
      "Requirement already satisfied: matplotlib in c:\\users\\root\\anaconda3\\envs\\atiml_project\\lib\\site-packages (from -r ../requirements.txt (line 4)) (3.5.2)\n",
      "Requirement already satisfied: tensorflow-datasets in c:\\users\\root\\anaconda3\\envs\\atiml_project\\lib\\site-packages (from -r ../requirements.txt (line 5)) (4.5.2)\n",
      "Requirement already satisfied: active-semi-supervised-clustering in c:\\users\\root\\anaconda3\\envs\\atiml_project\\lib\\site-packages (from -r ../requirements.txt (line 6)) (0.0.1)\n",
      "Requirement already satisfied: shap in c:\\users\\root\\anaconda3\\envs\\atiml_project\\lib\\site-packages (from -r ../requirements.txt (line 7)) (0.40.0)\n",
      "Requirement already satisfied: lime in c:\\users\\root\\anaconda3\\envs\\atiml_project\\lib\\site-packages (from -r ../requirements.txt (line 8)) (0.2.0.1)\n",
      "Requirement already satisfied: imagehash in c:\\users\\root\\anaconda3\\envs\\atiml_project\\lib\\site-packages (from -r ../requirements.txt (line 9)) (4.2.1)\n",
      "Requirement already satisfied: scikit-learn-extra in c:\\users\\root\\anaconda3\\envs\\atiml_project\\lib\\site-packages (from -r ../requirements.txt (line 10)) (0.2.0)\n",
      "Requirement already satisfied: numpy>=1.14.5 in c:\\users\\root\\anaconda3\\envs\\atiml_project\\lib\\site-packages (from opencv-contrib-python==3.4.2.17->-r ../requirements.txt (line 2)) (1.21.6)\n",
      "Requirement already satisfied: scikit-learn in c:\\users\\root\\anaconda3\\envs\\atiml_project\\lib\\site-packages (from sklearn->-r ../requirements.txt (line 1)) (1.0.2)\n",
      "Requirement already satisfied: gast>=0.2.1 in c:\\users\\root\\anaconda3\\envs\\atiml_project\\lib\\site-packages (from tensorflow->-r ../requirements.txt (line 3)) (0.5.3)\n",
      "Requirement already satisfied: keras<2.9,>=2.8.0rc0 in c:\\users\\root\\anaconda3\\envs\\atiml_project\\lib\\site-packages (from tensorflow->-r ../requirements.txt (line 3)) (2.8.0)\n",
      "Requirement already satisfied: six>=1.12.0 in c:\\users\\root\\anaconda3\\envs\\atiml_project\\lib\\site-packages (from tensorflow->-r ../requirements.txt (line 3)) (1.16.0)\n",
      "Requirement already satisfied: h5py>=2.9.0 in c:\\users\\root\\anaconda3\\envs\\atiml_project\\lib\\site-packages (from tensorflow->-r ../requirements.txt (line 3)) (3.6.0)\n",
      "Requirement already satisfied: grpcio<2.0,>=1.24.3 in c:\\users\\root\\anaconda3\\envs\\atiml_project\\lib\\site-packages (from tensorflow->-r ../requirements.txt (line 3)) (1.46.3)\n",
      "Requirement already satisfied: tensorflow-estimator<2.9,>=2.8 in c:\\users\\root\\anaconda3\\envs\\atiml_project\\lib\\site-packages (from tensorflow->-r ../requirements.txt (line 3)) (2.8.0)\n",
      "Requirement already satisfied: tensorflow-io-gcs-filesystem>=0.23.1 in c:\\users\\root\\anaconda3\\envs\\atiml_project\\lib\\site-packages (from tensorflow->-r ../requirements.txt (line 3)) (0.25.0)\n",
      "Requirement already satisfied: wrapt>=1.11.0 in c:\\users\\root\\anaconda3\\envs\\atiml_project\\lib\\site-packages (from tensorflow->-r ../requirements.txt (line 3)) (1.14.1)\n",
      "Requirement already satisfied: protobuf<3.20,>=3.9.2 in c:\\users\\root\\anaconda3\\envs\\atiml_project\\lib\\site-packages (from tensorflow->-r ../requirements.txt (line 3)) (3.19.4)\n",
      "Requirement already satisfied: google-pasta>=0.1.1 in c:\\users\\root\\anaconda3\\envs\\atiml_project\\lib\\site-packages (from tensorflow->-r ../requirements.txt (line 3)) (0.2.0)\n",
      "Requirement already satisfied: libclang>=9.0.1 in c:\\users\\root\\anaconda3\\envs\\atiml_project\\lib\\site-packages (from tensorflow->-r ../requirements.txt (line 3)) (14.0.1)\n",
      "Requirement already satisfied: flatbuffers>=1.12 in c:\\users\\root\\anaconda3\\envs\\atiml_project\\lib\\site-packages (from tensorflow->-r ../requirements.txt (line 3)) (2.0)\n",
      "Requirement already satisfied: setuptools in c:\\users\\root\\anaconda3\\envs\\atiml_project\\lib\\site-packages (from tensorflow->-r ../requirements.txt (line 3)) (61.2.0)\n",
      "Requirement already satisfied: absl-py>=0.4.0 in c:\\users\\root\\anaconda3\\envs\\atiml_project\\lib\\site-packages (from tensorflow->-r ../requirements.txt (line 3)) (1.0.0)\n",
      "Requirement already satisfied: tensorboard<2.9,>=2.8 in c:\\users\\root\\anaconda3\\envs\\atiml_project\\lib\\site-packages (from tensorflow->-r ../requirements.txt (line 3)) (2.8.0)\n",
      "Requirement already satisfied: termcolor>=1.1.0 in c:\\users\\root\\anaconda3\\envs\\atiml_project\\lib\\site-packages (from tensorflow->-r ../requirements.txt (line 3)) (1.1.0)\n",
      "Requirement already satisfied: opt-einsum>=2.3.2 in c:\\users\\root\\anaconda3\\envs\\atiml_project\\lib\\site-packages (from tensorflow->-r ../requirements.txt (line 3)) (3.3.0)\n",
      "Requirement already satisfied: typing-extensions>=3.6.6 in c:\\users\\root\\anaconda3\\envs\\atiml_project\\lib\\site-packages (from tensorflow->-r ../requirements.txt (line 3)) (4.1.1)\n",
      "Requirement already satisfied: keras-preprocessing>=1.1.1 in c:\\users\\root\\anaconda3\\envs\\atiml_project\\lib\\site-packages (from tensorflow->-r ../requirements.txt (line 3)) (1.1.2)\n",
      "Requirement already satisfied: astunparse>=1.6.0 in c:\\users\\root\\anaconda3\\envs\\atiml_project\\lib\\site-packages (from tensorflow->-r ../requirements.txt (line 3)) (1.6.3)\n",
      "Requirement already satisfied: packaging>=20.0 in c:\\users\\root\\anaconda3\\envs\\atiml_project\\lib\\site-packages (from matplotlib->-r ../requirements.txt (line 4)) (21.3)\n",
      "Requirement already satisfied: fonttools>=4.22.0 in c:\\users\\root\\anaconda3\\envs\\atiml_project\\lib\\site-packages (from matplotlib->-r ../requirements.txt (line 4)) (4.33.3)\n",
      "Requirement already satisfied: python-dateutil>=2.7 in c:\\users\\root\\anaconda3\\envs\\atiml_project\\lib\\site-packages (from matplotlib->-r ../requirements.txt (line 4)) (2.8.2)\n",
      "Requirement already satisfied: cycler>=0.10 in c:\\users\\root\\anaconda3\\envs\\atiml_project\\lib\\site-packages (from matplotlib->-r ../requirements.txt (line 4)) (0.11.0)\n",
      "Requirement already satisfied: kiwisolver>=1.0.1 in c:\\users\\root\\anaconda3\\envs\\atiml_project\\lib\\site-packages (from matplotlib->-r ../requirements.txt (line 4)) (1.4.2)\n",
      "Requirement already satisfied: pillow>=6.2.0 in c:\\users\\root\\anaconda3\\envs\\atiml_project\\lib\\site-packages (from matplotlib->-r ../requirements.txt (line 4)) (9.1.0)\n",
      "Requirement already satisfied: pyparsing>=2.2.1 in c:\\users\\root\\anaconda3\\envs\\atiml_project\\lib\\site-packages (from matplotlib->-r ../requirements.txt (line 4)) (2.4.7)\n",
      "Requirement already satisfied: dill in c:\\users\\root\\anaconda3\\envs\\atiml_project\\lib\\site-packages (from tensorflow-datasets->-r ../requirements.txt (line 5)) (0.3.1.1)\n",
      "Requirement already satisfied: tqdm in c:\\users\\root\\anaconda3\\envs\\atiml_project\\lib\\site-packages (from tensorflow-datasets->-r ../requirements.txt (line 5)) (4.64.0)\n",
      "Requirement already satisfied: promise in c:\\users\\root\\anaconda3\\envs\\atiml_project\\lib\\site-packages (from tensorflow-datasets->-r ../requirements.txt (line 5)) (2.3)\n",
      "Requirement already satisfied: tensorflow-metadata in c:\\users\\root\\anaconda3\\envs\\atiml_project\\lib\\site-packages (from tensorflow-datasets->-r ../requirements.txt (line 5)) (1.8.0)\n",
      "Requirement already satisfied: importlib-resources in c:\\users\\root\\anaconda3\\envs\\atiml_project\\lib\\site-packages (from tensorflow-datasets->-r ../requirements.txt (line 5)) (5.2.0)\n",
      "Requirement already satisfied: requests>=2.19.0 in c:\\users\\root\\anaconda3\\envs\\atiml_project\\lib\\site-packages (from tensorflow-datasets->-r ../requirements.txt (line 5)) (2.27.1)\n",
      "Requirement already satisfied: scipy in c:\\users\\root\\anaconda3\\envs\\atiml_project\\lib\\site-packages (from active-semi-supervised-clustering->-r ../requirements.txt (line 6)) (1.7.3)\n",
      "Requirement already satisfied: metric-learn>=0.4 in c:\\users\\root\\anaconda3\\envs\\atiml_project\\lib\\site-packages (from active-semi-supervised-clustering->-r ../requirements.txt (line 6)) (0.6.2)\n",
      "Requirement already satisfied: slicer==0.0.7 in c:\\users\\root\\anaconda3\\envs\\atiml_project\\lib\\site-packages (from shap->-r ../requirements.txt (line 7)) (0.0.7)\n",
      "Requirement already satisfied: numba in c:\\users\\root\\anaconda3\\envs\\atiml_project\\lib\\site-packages (from shap->-r ../requirements.txt (line 7)) (0.55.2)\n",
      "Requirement already satisfied: pandas in c:\\users\\root\\anaconda3\\envs\\atiml_project\\lib\\site-packages (from shap->-r ../requirements.txt (line 7)) (1.3.5)\n",
      "Requirement already satisfied: cloudpickle in c:\\users\\root\\anaconda3\\envs\\atiml_project\\lib\\site-packages (from shap->-r ../requirements.txt (line 7)) (2.1.0)\n",
      "Requirement already satisfied: scikit-image>=0.12 in c:\\users\\root\\anaconda3\\envs\\atiml_project\\lib\\site-packages (from lime->-r ../requirements.txt (line 8)) (0.19.2)\n",
      "Requirement already satisfied: PyWavelets in c:\\users\\root\\anaconda3\\envs\\atiml_project\\lib\\site-packages (from imagehash->-r ../requirements.txt (line 9)) (1.3.0)\n",
      "Requirement already satisfied: wheel<1.0,>=0.23.0 in c:\\users\\root\\anaconda3\\envs\\atiml_project\\lib\\site-packages (from astunparse>=1.6.0->tensorflow->-r ../requirements.txt (line 3)) (0.37.1)\n",
      "Requirement already satisfied: cached-property in c:\\users\\root\\anaconda3\\envs\\atiml_project\\lib\\site-packages (from h5py>=2.9.0->tensorflow->-r ../requirements.txt (line 3)) (1.5.2)\n",
      "Requirement already satisfied: certifi>=2017.4.17 in c:\\users\\root\\anaconda3\\envs\\atiml_project\\lib\\site-packages (from requests>=2.19.0->tensorflow-datasets->-r ../requirements.txt (line 5)) (2021.10.8)\n",
      "Requirement already satisfied: charset-normalizer~=2.0.0 in c:\\users\\root\\anaconda3\\envs\\atiml_project\\lib\\site-packages (from requests>=2.19.0->tensorflow-datasets->-r ../requirements.txt (line 5)) (2.0.12)\n",
      "Requirement already satisfied: idna<4,>=2.5 in c:\\users\\root\\anaconda3\\envs\\atiml_project\\lib\\site-packages (from requests>=2.19.0->tensorflow-datasets->-r ../requirements.txt (line 5)) (3.3)\n",
      "Requirement already satisfied: urllib3<1.27,>=1.21.1 in c:\\users\\root\\anaconda3\\envs\\atiml_project\\lib\\site-packages (from requests>=2.19.0->tensorflow-datasets->-r ../requirements.txt (line 5)) (1.26.9)\n",
      "Requirement already satisfied: imageio>=2.4.1 in c:\\users\\root\\anaconda3\\envs\\atiml_project\\lib\\site-packages (from scikit-image>=0.12->lime->-r ../requirements.txt (line 8)) (2.19.2)\n",
      "Requirement already satisfied: tifffile>=2019.7.26 in c:\\users\\root\\anaconda3\\envs\\atiml_project\\lib\\site-packages (from scikit-image>=0.12->lime->-r ../requirements.txt (line 8)) (2021.11.2)\n",
      "Requirement already satisfied: networkx>=2.2 in c:\\users\\root\\anaconda3\\envs\\atiml_project\\lib\\site-packages (from scikit-image>=0.12->lime->-r ../requirements.txt (line 8)) (2.6.3)\n",
      "Requirement already satisfied: threadpoolctl>=2.0.0 in c:\\users\\root\\anaconda3\\envs\\atiml_project\\lib\\site-packages (from scikit-learn->sklearn->-r ../requirements.txt (line 1)) (3.1.0)\n",
      "Requirement already satisfied: joblib>=0.11 in c:\\users\\root\\anaconda3\\envs\\atiml_project\\lib\\site-packages (from scikit-learn->sklearn->-r ../requirements.txt (line 1)) (1.1.0)\n",
      "Requirement already satisfied: werkzeug>=0.11.15 in c:\\users\\root\\anaconda3\\envs\\atiml_project\\lib\\site-packages (from tensorboard<2.9,>=2.8->tensorflow->-r ../requirements.txt (line 3)) (2.1.2)\n",
      "Requirement already satisfied: markdown>=2.6.8 in c:\\users\\root\\anaconda3\\envs\\atiml_project\\lib\\site-packages (from tensorboard<2.9,>=2.8->tensorflow->-r ../requirements.txt (line 3)) (3.3.7)\n",
      "Requirement already satisfied: tensorboard-plugin-wit>=1.6.0 in c:\\users\\root\\anaconda3\\envs\\atiml_project\\lib\\site-packages (from tensorboard<2.9,>=2.8->tensorflow->-r ../requirements.txt (line 3)) (1.8.1)\n",
      "Requirement already satisfied: tensorboard-data-server<0.7.0,>=0.6.0 in c:\\users\\root\\anaconda3\\envs\\atiml_project\\lib\\site-packages (from tensorboard<2.9,>=2.8->tensorflow->-r ../requirements.txt (line 3)) (0.6.1)\n",
      "Requirement already satisfied: google-auth-oauthlib<0.5,>=0.4.1 in c:\\users\\root\\anaconda3\\envs\\atiml_project\\lib\\site-packages (from tensorboard<2.9,>=2.8->tensorflow->-r ../requirements.txt (line 3)) (0.4.6)\n",
      "Requirement already satisfied: google-auth<3,>=1.6.3 in c:\\users\\root\\anaconda3\\envs\\atiml_project\\lib\\site-packages (from tensorboard<2.9,>=2.8->tensorflow->-r ../requirements.txt (line 3)) (1.35.0)\n",
      "Requirement already satisfied: pyasn1-modules>=0.2.1 in c:\\users\\root\\anaconda3\\envs\\atiml_project\\lib\\site-packages (from google-auth<3,>=1.6.3->tensorboard<2.9,>=2.8->tensorflow->-r ../requirements.txt (line 3)) (0.2.8)\n",
      "Requirement already satisfied: rsa<5,>=3.1.4 in c:\\users\\root\\anaconda3\\envs\\atiml_project\\lib\\site-packages (from google-auth<3,>=1.6.3->tensorboard<2.9,>=2.8->tensorflow->-r ../requirements.txt (line 3)) (4.8)\n",
      "Requirement already satisfied: cachetools<5.0,>=2.0.0 in c:\\users\\root\\anaconda3\\envs\\atiml_project\\lib\\site-packages (from google-auth<3,>=1.6.3->tensorboard<2.9,>=2.8->tensorflow->-r ../requirements.txt (line 3)) (4.2.4)\n",
      "Requirement already satisfied: requests-oauthlib>=0.7.0 in c:\\users\\root\\anaconda3\\envs\\atiml_project\\lib\\site-packages (from google-auth-oauthlib<0.5,>=0.4.1->tensorboard<2.9,>=2.8->tensorflow->-r ../requirements.txt (line 3)) (1.3.1)\n",
      "Requirement already satisfied: importlib-metadata>=4.4 in c:\\users\\root\\anaconda3\\envs\\atiml_project\\lib\\site-packages (from markdown>=2.6.8->tensorboard<2.9,>=2.8->tensorflow->-r ../requirements.txt (line 3)) (4.11.3)\n",
      "Requirement already satisfied: zipp>=0.5 in c:\\users\\root\\anaconda3\\envs\\atiml_project\\lib\\site-packages (from importlib-metadata>=4.4->markdown>=2.6.8->tensorboard<2.9,>=2.8->tensorflow->-r ../requirements.txt (line 3)) (3.7.0)\n",
      "Requirement already satisfied: pyasn1<0.5.0,>=0.4.6 in c:\\users\\root\\anaconda3\\envs\\atiml_project\\lib\\site-packages (from pyasn1-modules>=0.2.1->google-auth<3,>=1.6.3->tensorboard<2.9,>=2.8->tensorflow->-r ../requirements.txt (line 3)) (0.4.8)\n",
      "Requirement already satisfied: oauthlib>=3.0.0 in c:\\users\\root\\anaconda3\\envs\\atiml_project\\lib\\site-packages (from requests-oauthlib>=0.7.0->google-auth-oauthlib<0.5,>=0.4.1->tensorboard<2.9,>=2.8->tensorflow->-r ../requirements.txt (line 3)) (3.2.0)\n",
      "Requirement already satisfied: colorama in c:\\users\\root\\anaconda3\\envs\\atiml_project\\lib\\site-packages (from tqdm->tensorflow-datasets->-r ../requirements.txt (line 5)) (0.4.4)\n",
      "Requirement already satisfied: llvmlite<0.39,>=0.38.0rc1 in c:\\users\\root\\anaconda3\\envs\\atiml_project\\lib\\site-packages (from numba->shap->-r ../requirements.txt (line 7)) (0.38.1)\n",
      "Requirement already satisfied: pytz>=2017.3 in c:\\users\\root\\anaconda3\\envs\\atiml_project\\lib\\site-packages (from pandas->shap->-r ../requirements.txt (line 7)) (2022.1)\n",
      "Requirement already satisfied: googleapis-common-protos<2,>=1.52.0 in c:\\users\\root\\anaconda3\\envs\\atiml_project\\lib\\site-packages (from tensorflow-metadata->tensorflow-datasets->-r ../requirements.txt (line 5)) (1.56.0)\n"
     ]
    },
    {
     "name": "stderr",
     "output_type": "stream",
     "text": [
      "WARNING: Ignoring invalid distribution -rotobuf (c:\\users\\root\\anaconda3\\envs\\atiml_project\\lib\\site-packages)\n",
      "WARNING: Ignoring invalid distribution -rotobuf (c:\\users\\root\\anaconda3\\envs\\atiml_project\\lib\\site-packages)\n",
      "WARNING: Ignoring invalid distribution -rotobuf (c:\\users\\root\\anaconda3\\envs\\atiml_project\\lib\\site-packages)\n",
      "WARNING: Ignoring invalid distribution -rotobuf (c:\\users\\root\\anaconda3\\envs\\atiml_project\\lib\\site-packages)\n",
      "WARNING: Ignoring invalid distribution -rotobuf (c:\\users\\root\\anaconda3\\envs\\atiml_project\\lib\\site-packages)\n",
      "WARNING: Ignoring invalid distribution -rotobuf (c:\\users\\root\\anaconda3\\envs\\atiml_project\\lib\\site-packages)\n"
     ]
    }
   ],
   "source": [
    "#For surf features using we need this version it is only available til python 3.7\n",
    "!pip install -r ../requirements.txt"
   ]
  },
  {
   "cell_type": "code",
   "execution_count": null,
   "metadata": {
    "pycharm": {
     "name": "#%%\n"
    }
   },
   "outputs": [],
   "source": []
  },
  {
   "cell_type": "code",
   "execution_count": 2,
   "metadata": {
    "pycharm": {
     "name": "#%%\n"
    },
    "tags": []
   },
   "outputs": [],
   "source": [
    "import cv2 as cv\n",
    "import numpy as np\n",
    "import tensorflow as tf\n",
    "import tensorflow_datasets as tfds\n",
    "from matplotlib import pyplot as plt\n",
    "from sklearn.cluster import KMeans, AgglomerativeClustering\n",
    "from sklearn import metrics\n",
    "from sklearn.neighbors import NearestNeighbors\n",
    "from active_semi_clustering.semi_supervised.pairwise_constraints import PCKMeans,COPKMeans, MPCKMeansMF, MPCKMeans\n",
    "from active_semi_clustering.active.pairwise_constraints import ExampleOracle, ExploreConsolidate, MinMax\n",
    "import active_semi_clustering.active.pairwise_constraints.random\n",
    "import pickle\n",
    "import shap\n",
    "import imagehash\n",
    "from PIL import Image\n",
    "from operator import itemgetter"
   ]
  },
  {
   "cell_type": "code",
   "execution_count": 3,
   "metadata": {
    "jupyter": {
     "source_hidden": true
    },
    "pycharm": {
     "name": "#%%\n"
    },
    "tags": []
   },
   "outputs": [],
   "source": [
    "builder = tfds.builder('voc/2007')\n",
    "builder.download_and_prepare()\n",
    "datasets = builder.as_dataset()\n",
    "train_data, val_data, test_data = datasets['train'], datasets['validation'], datasets['test']"
   ]
  },
  {
   "cell_type": "code",
   "execution_count": 4,
   "metadata": {
    "pycharm": {
     "name": "#%%\n"
    },
    "tags": []
   },
   "outputs": [],
   "source": [
    "#hyperparamets\n",
    "rows_cld=8\n",
    "columns_cld=8\n",
    "\n",
    "\n",
    "def create_zigzag_flat(rows,columns):\n",
    "    a=np.arange(0,rows*columns,1,dtype=int).reshape((rows,columns))\n",
    "    #needed to extact the diagonals because they can only go left to right\n",
    "    a=np.flipud(a)\n",
    "    flip=1\n",
    "    diagonal=[]\n",
    "    for i in range(1-rows, columns):\n",
    "        diagonal.append(np.diagonal(a,i)[::flip])\n",
    "        flip=-flip\n",
    "    return np.concatenate(diagonal)  \n",
    "    \n",
    "zigzag_flat = create_zigzag_flat(rows_cld,columns_cld)\n",
    "\n",
    "\n",
    "def color_layout_descriptor(im):\n",
    "    # numpy is a bit faster than using tensors\n",
    "    im = np.array(im)\n",
    "    # could do these as a hyperparameter\n",
    "    rows = rows_cld\n",
    "    columns = columns_cld\n",
    "    small_image = np.zeros((rows, columns, 3))\n",
    "    height, width = im.shape[:2]\n",
    "    percentage_w = width / columns\n",
    "    percentage_h = height / rows\n",
    "    for row in range(rows):\n",
    "        for column in range(columns):\n",
    "            # Note this partion should propably be checked against a reference implementation. However the difference should be minimal\n",
    "            portion = im[int(percentage_h * row):int(percentage_h * (row + 1)),\n",
    "                      int(percentage_w * column):int(percentage_w * (column + 1))]\n",
    "            small_image[row, column] = np.mean(np.mean(portion, axis=0), axis=0)\n",
    "            \n",
    "    small_image = cv.cvtColor(small_image.astype(np.uint8), cv.COLOR_RGB2BGR)\n",
    "    small_image = cv.cvtColor(small_image.astype(np.uint8), cv.COLOR_BGR2YCrCb)\n",
    "    y, cr, cb = cv.split(small_image)\n",
    "    dct_y = cv.dct(y.astype(np.float32))\n",
    "    dct_cb = cv.dct(cb.astype(np.float32))\n",
    "    dct_cr = cv.dct(cr.astype(np.float32))\n",
    "    return np.concatenate((dct_y.flatten()[zigzag_flat], dct_cb.flatten()[zigzag_flat], dct_cr.flatten()[zigzag_flat]))"
   ]
  },
  {
   "cell_type": "code",
   "execution_count": null,
   "metadata": {
    "pycharm": {
     "name": "#%%\n"
    }
   },
   "outputs": [],
   "source": []
  },
  {
   "cell_type": "code",
   "execution_count": 5,
   "metadata": {
    "pycharm": {
     "name": "#%%\n"
    }
   },
   "outputs": [],
   "source": [
    "#0.01203213019504501  for 64 ahash\n",
    "#0.011844196784313301 for 32 ahash\n",
    "#0.007797600576972058 for 16 ahash\n",
    "#performs bettetter even if euclidian distance is technically wrong here\n",
    "def difference_hashing(im):\n",
    "    hashed_img = imagehash.average_hash(Image.fromarray(im.numpy().astype(np.uint8)),hash_size=32)\n",
    "\n",
    "    imhash = np.array(list(str(hashed_img)))\n",
    "    \n",
    "    converted_hash = []\n",
    "    n = 0\n",
    "    for i in imhash:\n",
    "        converted_hash.append(float.fromhex(imhash[n]))\n",
    "        n = n + 1\n",
    "    \n",
    "    out_hash = np.array(converted_hash)/16.0\n",
    "    #print(\"image hash:\", imhash)\n",
    "    #print(\"hash converted to array:\", out_hash)\n",
    "    \n",
    "    return out_hash\n"
   ]
  },
  {
   "cell_type": "code",
   "execution_count": null,
   "metadata": {
    "pycharm": {
     "name": "#%%\n"
    }
   },
   "outputs": [],
   "source": []
  },
  {
   "cell_type": "code",
   "execution_count": 6,
   "metadata": {
    "pycharm": {
     "name": "#%%\n"
    }
   },
   "outputs": [],
   "source": [
    "_VOC_LABELS = (\n",
    "    \"aeroplane\",\n",
    "    \"bicycle\",\n",
    "    \"bird\",\n",
    "    \"boat\",\n",
    "    \"bottle\",\n",
    "    \"bus\",\n",
    "    \"car\",\n",
    "    \"cat\",\n",
    "    \"chair\",\n",
    "    \"cow\",\n",
    "    \"diningtable\",\n",
    "    \"dog\",\n",
    "    \"horse\",\n",
    "    \"motorbike\",\n",
    "    \"person\",\n",
    "    \"pottedplant\",\n",
    "    \"sheep\",\n",
    "    \"sofa\",\n",
    "    \"train\",\n",
    "    \"tvmonitor\",\n",
    ")"
   ]
  },
  {
   "cell_type": "code",
   "execution_count": 7,
   "metadata": {
    "pycharm": {
     "name": "#%%\n"
    }
   },
   "outputs": [],
   "source": [
    "#helper functions\n",
    "def calculate_label_area(objects,labels):\n",
    "        obj_labels=objects[\"label\"]\n",
    "        obj_boundingbox=objects[\"bbox\"]\n",
    "        return calculate_label_area_helper(obj_labels,obj_boundingbox,labels)\n",
    "    \n",
    "def calculate_label_area_helper(obj_labels,obj_boundingbox,labels):\n",
    "        areas=[]\n",
    "        for label in labels:\n",
    "            area_estimate=0\n",
    "            foundbbox=[]\n",
    "            for k,boundinglabel in enumerate(obj_labels):\n",
    "                if(boundinglabel!=label): continue\n",
    "                y_min,x_min,y_max,x_max=obj_boundingbox[k]\n",
    "                #Here we could calulate the overlap to the other boxes\n",
    "                area_estimate+=(y_max-y_min)*(x_max-x_min)\n",
    "            areas.append(area_estimate)\n",
    "        return areas \n",
    "    \n",
    "def get_max_label_helper(obj_labels,obj_boundingbox,labels):\n",
    "        areas=calculate_label_area_helper(obj_labels,obj_boundingbox,labels)\n",
    "        max_arg,_=max(enumerate(areas), key=itemgetter(1))\n",
    "        return labels[max_arg]\n",
    "\n",
    "def get_max_label(objects,labels):\n",
    "        obj_labels=objects[\"label\"]\n",
    "        obj_boundingbox=objects[\"bbox\"]\n",
    "        return get_max_label_helper(obj_labels,obj_boundingbox,labels)"
   ]
  },
  {
   "cell_type": "code",
   "execution_count": 8,
   "metadata": {
    "pycharm": {
     "name": "#%%\n"
    }
   },
   "outputs": [],
   "source": [
    "import ipywidgets as widgets\n",
    "import asyncio\n",
    "from IPython.display import display\n",
    "import time\n",
    "\n",
    "\n",
    "#this is only an estimate because overlap is not considered\n",
    "#TODO correcly calculate overlap\n",
    "\n",
    "\n",
    "from active_semi_clustering.active.pairwise_constraints.example_oracle import MaximumQueriesExceeded\n",
    "\n",
    "\n",
    "class LabelOracle:\n",
    "    def __init__(self, data, max_queries_cnt=100,max_querry=False,area_difference_weight=1.0,different_labels_weight=2):\n",
    "        self.data = data\n",
    "        self.queries_cnt = 0\n",
    "        self.max_queries_cnt = max_queries_cnt\n",
    "        self.different_labels_weight=different_labels_weight\n",
    "        self.area_difference_weight=area_difference_weight\n",
    "        if(max_querry):\n",
    "            self.query=self.query_max\n",
    "        else:\n",
    "            self.query=self.query_heuristic\n",
    "\n",
    "\n",
    "    def query_heuristic(self, i, j):\n",
    "        \"Query the oracle to find out whether i and j should be must-linked\"\n",
    "        if self.queries_cnt < self.max_queries_cnt:\n",
    "            self.queries_cnt += 1\n",
    "            set_a=set(self.data[i][\"labels\"])\n",
    "            set_b=set(self.data[j][\"labels\"])\n",
    "            sameclasses=set_a.intersection(set_b)\n",
    "            only_a=set_a-set_b\n",
    "            only_b=set_b-set_a\n",
    "            if(len(sameclasses)==0) :return False\n",
    "            same_area_i=sum(calculate_label_area(self.data[i][\"objects\"],sameclasses))\n",
    "            same_area_j=sum(calculate_label_area(self.data[j][\"objects\"],sameclasses))\n",
    "            \n",
    "            diff_area_i=sum(calculate_label_area(self.data[i][\"objects\"],only_a))\n",
    "            diff_area_j=sum(calculate_label_area(self.data[j][\"objects\"],only_b))\n",
    "            areaquot=same_area_i/same_area_j\n",
    "            if(areaquot<1):\n",
    "                areaquot=1.0/areaquot\n",
    "            score1=1/(1+self.area_difference_weight*areaquot)\n",
    "            #heuristics 2 depends on share of similiar clases to difference clasesses\n",
    "            difference_adjusted_i=diff_area_i/same_area_i\n",
    "            difference_adjusted_j=diff_area_j/same_area_j\n",
    "            #heuristics are multiplied\n",
    "            score2=1/(1+self.different_labels_weight*(difference_adjusted_j+difference_adjusted_i))\n",
    "            score12=score1*score2\n",
    "            if(score12<0.1):\n",
    "                if(score12>0.05):\n",
    "                    #print(set_a)\n",
    "                    #print(set_b)\n",
    "                    #print(score1)\n",
    "                    #print(difference_adjusted_i)\n",
    "                    #print(difference_adjusted_j)\n",
    "                    #print(score2)\n",
    "                    #print(score12)\n",
    "                    #f, ax = plt.subplots(1,2) \n",
    "                    #ax[0].imshow(self.data[i][\"image\"])\n",
    "                    #ax[1].imshow(self.data[j][\"image\"])\n",
    "                    #plt.show()\n",
    "                    pass\n",
    "                return False\n",
    "            return True                  \n",
    "                            \n",
    "        else:\n",
    "            raise MaximumQueriesExceeded\n",
    "    #helps with evaluation because the result depends only on one label so labeled cluster evaultion methods can be used       \n",
    "    def query_max(self, i, j):\n",
    "        \"Query the oracle to find out whether i and j should be must-linked\"\n",
    "        if self.queries_cnt < self.max_queries_cnt:\n",
    "            self.queries_cnt += 1\n",
    "            max_label_i=get_max_label(self.data[i][\"objects\"],self.data[i][\"labels\"])\n",
    "            max_label_j=get_max_label(self.data[j][\"objects\"],self.data[j][\"labels\"])\n",
    "            #if((max_label_i == self.data[j][\"labels\"][max_arg_j])):\n",
    "                    #f, ax = plt.subplots(1,2) \n",
    "                    #ax[0].imshow(self.data[i][\"image\"])\n",
    "                    #ax[1].imshow(self.data[j][\"image\"])\n",
    "                    #plt.show()\n",
    "            return max_label_i == max_label_j      \n",
    "        else:\n",
    "            raise MaximumQueriesExceeded\n",
    "\n",
    "    \n",
    "\n",
    "# y for must link, everything else is cannot link\n",
    "class ExpertOracle:\n",
    "    def __init__(self, data, max_queries_cnt=100):\n",
    "        self.data = data\n",
    "        self.queries_cnt = 0\n",
    "        self.max_queries_cnt = max_queries_cnt\n",
    "\n",
    "    def query(self, i, j):\n",
    "        \"Query the oracle to find out whether i and j should be must-linked\"\n",
    "        if self.queries_cnt < self.max_queries_cnt:\n",
    "            self.queries_cnt += 1\n",
    "            #return len(set(self.labels[i]).intersection(set(self.labels[j])))>0\n",
    "            \n",
    "            #The synchronised content blocks while waiting for unsynchronized one, not sure if there is a way around this\n",
    "            #x = asyncio.run(f(self.buttonAcc,self.buttonRej))\n",
    "            \n",
    "            #now i use busy waiting which needs another thread\n",
    "            f, ax = plt.subplots(1,2) \n",
    "            ax[0].imshow(self.data[i][\"image\"])\n",
    "            ax[1].imshow(self.data[j][\"image\"])\n",
    "            plt.show()\n",
    "            x=input() \n",
    "            clear_output(wait=True)\n",
    "            if x==\"y\":\n",
    "                return True\n",
    "            else:\n",
    "                \n",
    "                return False\n",
    "     \n",
    "        else:\n",
    "            raise MaximumQueriesExceeded\n",
    "#Press Button for answer, needs seperate thread            \n",
    "from IPython.display import clear_output            \n",
    "            \n",
    "class ExpertOracle2:\n",
    "    def __init__(self, data, max_queries_cnt=100):\n",
    "        self.data = data\n",
    "        self.queries_cnt = 0\n",
    "        self.max_queries_cnt = max_queries_cnt\n",
    "        self.buttonAcc=widgets.Button(description=\"Must Link\")\n",
    "        self.buttonRej=widgets.Button(description=\"Cannot Link\")\n",
    "        self.buttonAcc.on_click(self.retTrue)\n",
    "        self.buttonRej.on_click(self.retFalse)\n",
    "        self.result=-1\n",
    "        \n",
    "\n",
    "    def retTrue(a,b):\n",
    "         a.result=1\n",
    "    def retFalse(a,b):\n",
    "         a.result=0    \n",
    "\n",
    "    def query(self, i, j):\n",
    "        \"Query the oracle to find out whether i and j should be must-linked\"\n",
    "        if self.queries_cnt < self.max_queries_cnt:\n",
    "            self.queries_cnt += 1\n",
    "            #return len(set(self.labels[i]).intersection(set(self.labels[j])))>0\n",
    "            \n",
    "            #The synchronised content blocks while waiting for unsynchronized one, not sure if there is a way around this\n",
    "            #x = asyncio.ensure_future(f(self.buttonAcc,self.buttonRej))\n",
    "            \n",
    "            #now i use busy waiting which needs another thread\n",
    "            display(widgets.HBox([self.buttonAcc,self.buttonRej]))\n",
    "            f, ax = plt.subplots(1,2) \n",
    "            ax[0].imshow(self.data[i][\"image\"])\n",
    "            ax[1].imshow(self.data[j][\"image\"])\n",
    "            plt.show()\n",
    "            \n",
    "            while(self.result==-1):\n",
    "                time.sleep(0.05)\n",
    "                pass\n",
    "            clear_output(wait=True)\n",
    "            if self.result== 1:\n",
    "                self.result=-1\n",
    "                return True\n",
    "            else:\n",
    "                self.result=-1\n",
    "                return False\n",
    "        else:\n",
    "            raise MaximumQueriesExceeded\n"
   ]
  },
  {
   "cell_type": "code",
   "execution_count": 9,
   "metadata": {
    "pycharm": {
     "name": "#%%\n"
    }
   },
   "outputs": [
    {
     "data": {
      "image/png": "[encoded data removed]",
      "text/plain": [
       "<Figure size 432x288 with 1 Axes>"
      ]
     },
     "metadata": {
      "needs_background": "light"
     },
     "output_type": "display_data"
    },
    {
     "name": "stdout",
     "output_type": "stream",
     "text": [
      "(256,)\n"
     ]
    }
   ],
   "source": [
    "for x in train_data:\n",
    "    image = x[\"image\"]\n",
    "    plt.imshow(image)\n",
    "    plt.show()\n",
    "    print(difference_hashing(image).shape)\n",
    "    break"
   ]
  },
  {
   "cell_type": "code",
   "execution_count": 10,
   "metadata": {
    "pycharm": {
     "name": "#%%\n"
    }
   },
   "outputs": [],
   "source": [
    "#todo implement scaler in the begining \n",
    "LOAD_CONSTRAINTS=False\n",
    "\n",
    "# Disable enable Features here\n",
    "\n",
    "CLD_ENABLED = True\n",
    "\n",
    "EFFNET_ENABLED = True\n",
    "\n",
    "HASHING_ENABLED = True\n",
    "\n",
    "SURF_ENABLED=True\n",
    "\n",
    "ORB_ENABLED=False\n",
    "\n",
    "enabled_names = []\n",
    "feature_weights=[]\n",
    "\n",
    "if CLD_ENABLED:\n",
    "    enabled_names.append(\"cld\")\n",
    "    feature_weights.append(0.0065)\n",
    "    \n",
    "\n",
    "if EFFNET_ENABLED:\n",
    "    enabled_names.append(\"effnet\")\n",
    "    feature_weights.append(1.6)\n",
    "\n",
    "pooling=\"avg\"\n",
    "\n",
    "\n",
    "if HASHING_ENABLED:\n",
    "    enabled_names.append(\"hash\")\n",
    "    feature_weights.append(0.45)\n",
    "\n",
    "if SURF_ENABLED:\n",
    "    enabled_names.append(\"surf\")\n",
    "    feature_weights.append(1.0)"
   ]
  },
  {
   "cell_type": "code",
   "execution_count": 11,
   "metadata": {
    "pycharm": {
     "name": "#%%\n"
    }
   },
   "outputs": [],
   "source": [
    "effnet = tf.keras.applications.EfficientNetV2B1(\n",
    "    include_top=False,\n",
    "    weights=\"imagenet\",\n",
    "    input_tensor=None,\n",
    "    input_shape=None,\n",
    "    pooling=pooling,\n",
    "    classes=1000,\n",
    "    classifier_activation=\"softmax\",\n",
    "    include_preprocessing=True,\n",
    ")\n"
   ]
  },
  {
   "cell_type": "code",
   "execution_count": null,
   "metadata": {
    "pycharm": {
     "name": "#%%\n"
    }
   },
   "outputs": [],
   "source": [
    "\n"
   ]
  },
  {
   "cell_type": "code",
   "execution_count": 12,
   "metadata": {
    "pycharm": {
     "name": "#%%\n"
    }
   },
   "outputs": [],
   "source": [
    "#Preparing surf features\n",
    "surf_clusers=1000\n",
    "if SURF_ENABLED:\n",
    "        surf = cv.xfeatures2d.SURF_create(hessianThreshold = 25,upright =True,extended  =True)\n",
    "        def calculate_surf_image(surf,img):\n",
    "            kp = surf.detect(img,None)\n",
    "            kp, des = surf.compute(img, kp)\n",
    "            return des\n",
    "\n",
    "        def calculate_surf(image_list):\n",
    "            des=list(map(lambda x : calculate_surf_image(surf,x),image_list))\n",
    "            return np.vstack(des)\n",
    "\n",
    "        try: \n",
    "            with open(\"data/k_means_surf.pkl\", \"rb\") as f:\n",
    "                k_means_surf = pickle.load(f)\n",
    "        except:\n",
    "            image_list = list(train_data.map(lambda x: x['image']).as_numpy_iterator())\n",
    "            descriptors=calculate_surf(image_list)\n",
    "            print(len(descriptors))\n",
    "            from sklearn.cluster import MiniBatchKMeans\n",
    "            k_means_surf=MiniBatchKMeans(n_clusters=surf_clusers,reassignment_ratio=0.02,n_init=4,max_iter=200)\n",
    "            k_means_surf.fit(descriptors)\n",
    "            print(metrics.calinski_harabasz_score(descriptors, k_means_surf.predict(descriptors)))\n",
    "            \n",
    "            with open(\"data/k_means_surf.pkl\", \"wb\") as f:\n",
    "                pickle.dump(k_means_surf, f)\n",
    "                \n",
    "        def calculate_bow(ima):\n",
    "            histogram=np.zeros((surf_clusers))\n",
    "            des=calculate_surf_image(surf,ima.numpy().astype(np.uint8))\n",
    "            index=k_means_surf.predict(des)\n",
    "            np.add.at(histogram,index,1)\n",
    "            return histogram\n",
    "    \n",
    "if ORB_ENABLED:  \n",
    "    def calculate_orb_image(image):\n",
    "        orb= cv.ORB_create()\n",
    "        kp = orb.detect(image,None)\n",
    "        kp, des = orb.compute(image, kp)\n",
    "        return des\n",
    "\n",
    "    def calculate_orb(image_list):\n",
    "        des=list(map(lambda x : calculate_orb_image(x),image_list))\n",
    "        return np.vstack(des)\n",
    "\n",
    "    descriptors=calculate_orb(image_list)\n",
    "\n"
   ]
  },
  {
   "cell_type": "code",
   "execution_count": null,
   "metadata": {
    "pycharm": {
     "name": "#%%\n"
    }
   },
   "outputs": [],
   "source": []
  },
  {
   "cell_type": "code",
   "execution_count": 13,
   "metadata": {
    "pycharm": {
     "name": "#%%\n"
    }
   },
   "outputs": [],
   "source": [
    "#histogram=histogram/histogram.sum(axis=1,keepdims=True)\n",
    "#for image in image_list:\n",
    "    #calculate_bow(image)"
   ]
  },
  {
   "cell_type": "code",
   "execution_count": 14,
   "metadata": {
    "pycharm": {
     "name": "#%%\n"
    }
   },
   "outputs": [],
   "source": [
    "from sklearn.decomposition import PCA\n",
    "def get_all_features(datapoint):\n",
    "    return tf.concat([datapoint[enabled_names[i]]*feature_weights[i] for i in range(len(enabled_names))],0)\n",
    "\n",
    "\n",
    "class DatasetPreprocessor:\n",
    "    def __init__(self):\n",
    "        self.norm1=None\n",
    "        self.norm2=None\n",
    "        self.norm3=None\n",
    "        self.norm4=None\n",
    "        self.pca1=None\n",
    "        self.pca2=None\n",
    "        self.fitted=False\n",
    "\n",
    "        \n",
    "    def add_features_to_dataset(self,dataset,cachename,fit=False):\n",
    "        if(self.fitted==False and fit==False):\n",
    "            print(\"fit before use\")\n",
    "            raise Exception()\n",
    "        self.fitted=True \n",
    "        images = dataset.map(lambda x: x[\"image\"])\n",
    "        feature_sets = []\n",
    "\n",
    "        # order is important here, must be same as defined in enabled_names\n",
    "        if CLD_ENABLED:\n",
    "            cld_features = images.map(lambda x: tf.py_function(func=color_layout_descriptor, inp=[x], Tout=np.float32),\n",
    "                                      num_parallel_calls=tf.data.experimental.AUTOTUNE).cache(\"data/\"+cachename+\"_cld\" if cachename!=None else '').prefetch(\n",
    "                tf.data.experimental.AUTOTUNE)\n",
    "            feature_sets.append(cld_features)\n",
    "\n",
    "        if EFFNET_ENABLED:\n",
    "            resized_images = dataset.map(lambda x: tf.image.resize(x[\"image\"], [240, 240])).batch(1024)\n",
    "            effnet_features = resized_images.map(lambda x: effnet(x)).cache().unbatch().cache(\"data/\"+cachename+\"_effnet\" if cachename!=None else '').prefetch(\n",
    "                tf.data.experimental.AUTOTUNE)\n",
    "\n",
    "            if fit==True:\n",
    "                self.norm2=tf.keras.layers.Normalization();\n",
    "                self.norm2.adapt(effnet_features)\n",
    "                self.pca = PCA(n_components=320) \n",
    "                effnet_list = np.array(list(effnet_features.as_numpy_iterator()))\n",
    "                self.pca.fit(effnet_list)\n",
    "            effnet_features= effnet_features.map(lambda x:self.norm2(x))  \n",
    "            effnet_features= effnet_features.map(lambda x: tf.reshape(tf.py_function(func=self.pca.transform, inp=[tf.reshape(x,(1, -1))], Tout=np.float32),[-1]),\n",
    "                                      num_parallel_calls=tf.data.experimental.AUTOTUNE)\n",
    "            feature_sets.append(effnet_features)\n",
    "\n",
    "        if HASHING_ENABLED:\n",
    "            hashing_features = images.map(lambda x: tf.py_function(func=difference_hashing, inp=[x], Tout=np.float32),\n",
    "                                      num_parallel_calls=tf.data.experimental.AUTOTUNE)\n",
    "            shape=hashing_features.take(1).get_single_element().shape\n",
    "            hashing_features = hashing_features.map(lambda t: tf.ensure_shape(t,shape)).cache(\"data/\"+cachename+\"_hash\" if cachename!=None else '').prefetch(\n",
    "                tf.data.experimental.AUTOTUNE)\n",
    "            if fit==True:\n",
    "                self.norm3=tf.keras.layers.Normalization();\n",
    "                self.norm3.adapt(hashing_features)\n",
    "            hashing_features=hashing_features.map(lambda x:self.norm3(x))\n",
    "            feature_sets.append(hashing_features)\n",
    "\n",
    "        if SURF_ENABLED:\n",
    "            surf_features = images.map(lambda x: tf.py_function(func=calculate_bow, inp=[x], Tout=np.float32),\n",
    "                                      num_parallel_calls=tf.data.experimental.AUTOTUNE)\n",
    "            surf_features = surf_features.map(lambda t: tf.ensure_shape(t,(surf_clusers,))).cache(\"data/\"+cachename+\"_surf\" if cachename!=None else '')\n",
    "            if fit==True:\n",
    "                self.norm4=tf.keras.layers.Normalization();\n",
    "                self.norm4.adapt(surf_features)\n",
    "                self.pca2 = PCA(n_components=250) \n",
    "                surf_list = np.array(list(surf_features.as_numpy_iterator()))\n",
    "                self.pca2.fit(surf_list)\n",
    "                \n",
    "            surf_features=surf_features.map(lambda x:self.norm4(x))\n",
    "            surf_features=surf_features.map(lambda x: tf.reshape(tf.py_function(func=self.pca2.transform, inp=[tf.reshape(x,(1, -1))], Tout=np.float32),[-1]),\n",
    "                                      num_parallel_calls=tf.data.experimental.AUTOTUNE)\n",
    "            feature_sets.append(surf_features)\n",
    "\n",
    "\n",
    "        # We could do feature scaling here\n",
    "        # this here insers the values of all featuresets into the dictionary\n",
    "        complete_dataset = tf.data.Dataset.zip((dataset,) + tuple(feature_sets)).map(\n",
    "            lambda x, *y: x.update({enabled_names[i]: y[i] for i in range(len(enabled_names))})\\\n",
    "            or x, num_parallel_calls=tf.data.experimental.AUTOTUNE).map(lambda x:x.update({\"feature\":get_all_features(x)}) or x, num_parallel_calls=tf.data.experimental.AUTOTUNE).prefetch(tf.data.experimental.AUTOTUNE)\n",
    "        # I dediced to return dict here. They have the advantage that you can disable/add Features add will without having to condider ordering. Also we do not loose any information, which we might use later\n",
    "        return complete_dataset\n",
    "\n",
    "data_pre=DatasetPreprocessor()\n",
    "# after first run this should be cached memory (needs full run)\n",
    "train_complete = data_pre.add_features_to_dataset(train_data,\"train\",fit=True)\n",
    "val_complete = data_pre.add_features_to_dataset(val_data, \"val\")\n",
    "\n",
    "\n",
    "#PrefetchDataset element_spec=TensorSpec(shape=(1280,)"
   ]
  },
  {
   "cell_type": "code",
   "execution_count": 15,
   "metadata": {
    "pycharm": {
     "name": "#%%\n"
    }
   },
   "outputs": [
    {
     "name": "stdout",
     "output_type": "stream",
     "text": [
      "2501\n"
     ]
    }
   ],
   "source": [
    "# forces caching\n",
    "counter=0\n",
    "for i in train_complete:\n",
    "    counter+=1\n",
    "    pass\n",
    "for i in val_complete:\n",
    "    pass\n",
    "print(counter)"
   ]
  },
  {
   "cell_type": "code",
   "execution_count": 16,
   "metadata": {
    "pycharm": {
     "name": "#%%\n"
    }
   },
   "outputs": [
    {
     "name": "stdout",
     "output_type": "stream",
     "text": [
      "dict_keys(['image', 'image/filename', 'labels', 'labels_no_difficult', 'objects', 'cld', 'effnet', 'hash', 'surf', 'feature'])\n",
      "1018\n"
     ]
    }
   ],
   "source": [
    "for i in train_complete:\n",
    "    print(i.keys())\n",
    "    print(len(i[\"feature\"]))\n",
    "    break"
   ]
  },
  {
   "cell_type": "code",
   "execution_count": null,
   "metadata": {
    "pycharm": {
     "name": "#%%\n"
    }
   },
   "outputs": [],
   "source": [
    "\n",
    "\n"
   ]
  },
  {
   "cell_type": "code",
   "execution_count": 17,
   "metadata": {
    "pycharm": {
     "name": "#%%\n"
    }
   },
   "outputs": [],
   "source": [
    "def filter_dataset(dataset,number_neighboors):\n",
    "    train_knn_arr = np.array(list(dataset.map(lambda x:tf.reshape(tf.image.resize(x[\"image\"],[200,200]),[-1])).as_numpy_iterator()))\n",
    "    def get_KNN_points(numb_neigh, query_point, X):\n",
    "        neigh = NearestNeighbors(n_neighbors=numb_neigh).fit(X)\n",
    "        dist_arr, ind_array = neigh.kneighbors(X=X[query_point].reshape(1, -1))\n",
    "        return ind_array.flatten('c')\n",
    "    filter_ind=get_KNN_points(number_neighboors,0,train_knn_arr)\n",
    "    filter_arr=np.zeros((train_knn_arr.shape[0]))\n",
    "    filter_arr[filter_ind]=1\n",
    "    filter_arr=tf.convert_to_tensor(filter_arr, np.uint8)\n",
    "    return dataset.enumerate().filter(lambda x,y:filter_arr[x]==1).\\\n",
    "        map(lambda x,y:y)"
   ]
  },
  {
   "cell_type": "code",
   "execution_count": null,
   "metadata": {
    "pycharm": {
     "name": "#%%\n"
    }
   },
   "outputs": [],
   "source": [
    "\n"
   ]
  },
  {
   "cell_type": "code",
   "execution_count": 18,
   "metadata": {
    "pycharm": {
     "name": "#%%\n"
    }
   },
   "outputs": [
    {
     "data": {
      "text/plain": [
       "500"
      ]
     },
     "execution_count": 18,
     "metadata": {},
     "output_type": "execute_result"
    }
   ],
   "source": [
    "train_filtered=filter_dataset(train_complete,500)\n",
    "train_filtered_list=list(train_filtered.as_numpy_iterator())\n",
    "len(train_filtered_list)"
   ]
  },
  {
   "cell_type": "code",
   "execution_count": 19,
   "metadata": {
    "pycharm": {
     "name": "#%%\n"
    }
   },
   "outputs": [],
   "source": [
    "n_cluster=20\n",
    "from sklearn.preprocessing import StandardScaler\n",
    "# uses the label with estimated maximum size\n",
    "y = list(train_filtered.map(lambda x: (x['objects']['label'],x['objects']['bbox'],x['labels'])).map(lambda x,y,z:tf.py_function(func=get_max_label_helper, inp=[x,y,z], Tout=np.int64),num_parallel_calls=tf.data.AUTOTUNE).as_numpy_iterator())\n",
    "features = np.array(list(train_filtered.map(lambda x: x['feature']).as_numpy_iterator()), dtype=np.float64)\n",
    "\n"
   ]
  },
  {
   "cell_type": "code",
   "execution_count": null,
   "metadata": {
    "pycharm": {
     "name": "#%%\n"
    }
   },
   "outputs": [],
   "source": []
  },
  {
   "cell_type": "code",
   "execution_count": null,
   "metadata": {
    "pycharm": {
     "name": "#%%\n"
    }
   },
   "outputs": [],
   "source": []
  },
  {
   "cell_type": "code",
   "execution_count": null,
   "metadata": {
    "pycharm": {
     "name": "#%%\n"
    }
   },
   "outputs": [],
   "source": [
    "\n"
   ]
  },
  {
   "cell_type": "code",
   "execution_count": 20,
   "metadata": {
    "pycharm": {
     "name": "#%%\n"
    }
   },
   "outputs": [
    {
     "name": "stdout",
     "output_type": "stream",
     "text": [
      "0.37488362896478594\n",
      "0.38182148494061996\n",
      "0.3893284094647265\n",
      "0.38986791810743393\n",
      "0.3712208588511567\n",
      "0.38014215572701693\n"
     ]
    }
   ],
   "source": [
    "for i in range (6):\n",
    "    avg_random=[]\n",
    "    for k in range(16):\n",
    "        oracle = LabelOracle(train_filtered_list, max_queries_cnt=500,max_querry=True)\n",
    "        #Gives way more constraints by trying to find neighboorhoods, but ammount is random\n",
    "        #active_learner = active_semi_clustering.active.pairwise_constraints.explore_consolidate.ExploreConsolidate(n_clusters=20)\n",
    "        active_learner = active_semi_clustering.active.pairwise_constraints.random.Random(n_clusters=n_cluster)\n",
    "        active_learner.fit(features, oracle)\n",
    "        pairwise_constraints = active_learner.pairwise_constraints_\n",
    "        pck = PCKMeans(n_clusters=n_cluster,max_iter=100,w=20*(2**(i+4)))\n",
    "        try:\n",
    "            pck.fit(features, ml=pairwise_constraints[0], cl=pairwise_constraints[1])\n",
    "            avg_random.append(metrics.adjusted_rand_score(y, pck.labels_))\n",
    "        except:\n",
    "            pass\n",
    "    print(np.mean(avg_random))"
   ]
  },
  {
   "cell_type": "code",
   "execution_count": 26,
   "metadata": {
    "pycharm": {
     "name": "#%%\n"
    }
   },
   "outputs": [
    {
     "name": "stdout",
     "output_type": "stream",
     "text": [
      "0.27433541331480465\n",
      "0.27433541331480465\n",
      "0.27433541331480465\n",
      "0.27433541331480465\n",
      "0.27433541331480465\n"
     ]
    }
   ],
   "source": [
    "values_random=[]\n",
    "querry_counts=[]\n",
    "for i in range (5):\n",
    "    cnt=100*(2**(i))\n",
    "    querry_counts.append(cnt)\n",
    "    values_random_per_try=[]\n",
    "    for k in range(16):\n",
    "        oracle = LabelOracle(train_filtered_list, max_queries_cnt=cnt,max_querry=True)\n",
    "        #Gives way more constraints by trying to find neighboorhoods, but ammount is random\n",
    "        #active_learner = active_semi_clustering.active.pairwise_constraints.explore_consolidate.ExploreConsolidate(n_clusters=20)\n",
    "        active_learner = active_semi_clustering.active.pairwise_constraints.random.Random(n_clusters=n_cluster)\n",
    "        active_learner.fit(features, oracle)\n",
    "        pairwise_constraints = active_learner.pairwise_constraints_\n",
    "        pck = PCKMeans(n_clusters=n_cluster,max_iter=100,w=500)\n",
    "        try:\n",
    "            pck.fit(features, ml=pairwise_constraints[0], cl=pairwise_constraints[1])\n",
    "            values_random_per_try.append(metrics.adjusted_rand_score(y, pck.labels_))\n",
    "        except Exception as e:\n",
    "            pass\n",
    "    values_random.append(values_random_per_try)\n",
    "    print(np.mean(values_random_per_try))"
   ]
  },
  {
   "cell_type": "code",
   "execution_count": 88,
   "metadata": {
    "pycharm": {
     "name": "#%%\n"
    }
   },
   "outputs": [
    {
     "data": {
      "image/png": "[encoded data removed]",
      "text/plain": [
       "<Figure size 432x288 with 1 Axes>"
      ]
     },
     "metadata": {
      "needs_background": "light"
     },
     "output_type": "display_data"
    }
   ],
   "source": [
    "fig, ax = plt.subplots(1, 1)\n",
    "\n",
    "ax.set_title(\"Adjusted Random Score for number of queries\")\n",
    "ax.set_xlabel(\"number of queries\")\n",
    "ax.set_ylabel(\"Score\")\n",
    "score_arr=np.array(values_random)\n",
    "train_scores_mean = np.mean(score_arr, axis=1)\n",
    "train_scores_std = np.std(score_arr, axis=1)\n",
    "ax.grid()\n",
    "ax.fill_between(querry_counts, train_scores_mean - train_scores_std,\n",
    "                    train_scores_mean + train_scores_std, alpha=0.1, color=\"r\")\n",
    "ax.plot(querry_counts, train_scores_mean, 'o-', color=\"r\",\n",
    "            label=\"Training score\")\n",
    "#ax.tick_params(labelsize=text_fontsize)\n",
    "#ax.legend(loc=\"best\", fontsize=text_fontsize)\n",
    "plt.show()"
   ]
  },
  {
   "cell_type": "code",
   "execution_count": null,
   "outputs": [],
   "source": [
    "import networkx as nx\n",
    "\n"
   ],
   "metadata": {
    "collapsed": false,
    "pycharm": {
     "name": "#%%\n"
    }
   }
  },
  {
   "cell_type": "code",
   "execution_count": null,
   "outputs": [],
   "source": [
    "def preprocess_constraints(ml, cl, n):\n",
    "    \"Create a graph of constraints for both must- and cannot-links\"\n",
    "\n",
    "    # Represent the graphs using adjacency-lists\n",
    "    ml_graph, cl_graph = {}, {}\n",
    "    for i in range(n):\n",
    "        ml_graph[i] = set()\n",
    "        cl_graph[i] = set()\n",
    "\n",
    "    def add_both(d, i, j):\n",
    "        d[i].add(j)\n",
    "        d[j].add(i)\n",
    "\n",
    "    for (i, j) in ml:\n",
    "        ml_graph[i].add(j)\n",
    "        ml_graph[j].add(i)\n",
    "\n",
    "    for (i, j) in cl:\n",
    "        cl_graph[i].add(j)\n",
    "        cl_graph[j].add(i)\n",
    "\n",
    "    def dfs(i, graph, visited, component):\n",
    "        visited[i] = True\n",
    "        for j in graph[i]:\n",
    "            if not visited[j]:\n",
    "                dfs(j, graph, visited, component)\n",
    "        component.append(i)\n",
    "\n",
    "    # Run DFS from each node to get all the graph's components\n",
    "    # and add an edge for each pair of nodes in the component (create a complete graph)\n",
    "    # See http://www.techiedelight.com/transitive-closure-graph/ for more details\n",
    "    visited = [False] * n\n",
    "    neighborhoods = []\n",
    "    for i in range(n):\n",
    "        if not visited[i] and ml_graph[i]:\n",
    "            component = []\n",
    "            dfs(i, ml_graph, visited, component)\n",
    "            for x1 in component:\n",
    "                for x2 in component:\n",
    "                    if x1 != x2:\n",
    "                        ml_graph[x1].add(x2)\n",
    "            neighborhoods.append(component)\n",
    "\n",
    "    for (i, j) in cl:\n",
    "        for x in ml_graph[i]:\n",
    "            add_both(cl_graph, x, j)\n",
    "\n",
    "        for y in ml_graph[j]:\n",
    "            add_both(cl_graph, i, y)\n",
    "\n",
    "        for x in ml_graph[i]:\n",
    "            for y in ml_graph[j]:\n",
    "                add_both(cl_graph, x, y)\n",
    "\n",
    "    for i in ml_graph:\n",
    "        for j in ml_graph[i]:\n",
    "            if j != i and j in cl_graph[i]:\n",
    "                raise InconsistentConstraintsException('Inconsistent constraints between {} and {}'.format(i, j))\n",
    "\n",
    "    return ml_graph, cl_graph, neighborhoods\n",
    "\n",
    "values_random=[]\n",
    "querry_counts=[]\n",
    "\n",
    "#here am inconsistent constraint may occur\n",
    "\n",
    "for i in range (4):\n",
    "    cnt=100*(2**(i))\n",
    "    querry_counts.append(cnt)\n",
    "    values_random_per_try=[]\n",
    "    for k in range(16):\n",
    "        \n",
    "        #Gives way more constraints by trying to find neighboorhoods, but ammount is random\n",
    "        #active_learner = active_semi_clustering.active.pairwise_constraints.explore_consolidate.ExploreConsolidate(n_clusters=20)\n",
    "        oracle2 = LabelOracle(train_filtered_list, max_queries_cnt=10000,max_querry=False,area_difference_weight=3,different_labels_weight=2)\n",
    "        active_learner_control = active_semi_clustering.active.pairwise_constraints.random.Random(n_clusters=n_cluster)\n",
    "        active_learner_control.fit(features, oracle2)\n",
    "        pairwise_constraints_control = active_learner_control.pairwise_constraints_\n",
    "        #a,b,ne=preprocess_constraints(pairwise_constraints_control[0],pairwise_constraints_control[1],500)\n",
    "\n",
    "        fitted=False\n",
    "        while not fitted:\n",
    "            oracle = LabelOracle(train_filtered_list, max_queries_cnt=cnt,max_querry=False,area_difference_weight=1.0,different_labels_weight=2)\n",
    "            active_learner = active_semi_clustering.active.pairwise_constraints.random.Random(n_clusters=n_cluster)\n",
    "            active_learner.fit(features, oracle)\n",
    "            pairwise_constraints = active_learner.pairwise_constraints_\n",
    "            pck = PCKMeans(n_clusters=n_cluster*2+10,max_iter=100,w=500)\n",
    "            try:\n",
    "                pck.fit(features, ml=pairwise_constraints[0], cl=pairwise_constraints[1])\n",
    "\n",
    "                score_ml=0\n",
    "                score_cl=0\n",
    "                for c in pairwise_constraints_control[0]:\n",
    "                    if(pck.labels_[c[0]]==pck.labels_[c[1]]):\n",
    "                        score_ml+=1\n",
    "                #for c in pairwise_constraints_control[1]:\n",
    "                    #if(not pck.labels_[c[0]]==pck.labels_[c[1]]):\n",
    "                        #score_cl+=1\n",
    "                score=score_ml/len(pairwise_constraints_control[0])#+score_cl/len(pairwise_constraints_control[1]) \n",
    "                values_random_per_try.append(score)\n",
    "                fitted=True\n",
    "            except Exception as e:\n",
    "                pass\n",
    "    values_random.append(values_random_per_try)\n",
    "    print(np.mean(values_random_per_try))"
   ],
   "metadata": {
    "collapsed": false,
    "pycharm": {
     "name": "#%%\n"
    }
   }
  },
  {
   "cell_type": "code",
   "execution_count": null,
   "outputs": [],
   "source": [
    "fig, ax = plt.subplots(1, 1)\n",
    "\n",
    "ax.set_title(\"Adjusted Random Score for number of queries\")\n",
    "ax.set_xlabel(\"number of queries\")\n",
    "ax.set_ylabel(\"Score\")\n",
    "score_arr=np.asarray(values_random)\n",
    "train_scores_mean = np.mean(score_arr, axis=1)\n",
    "train_scores_std = np.std(score_arr, axis=1)\n",
    "ax.grid()\n",
    "ax.fill_between(querry_counts, train_scores_mean - train_scores_std,\n",
    "                    train_scores_mean + train_scores_std, alpha=0.1, color=\"r\")\n",
    "ax.plot(querry_counts, train_scores_mean, 'o-', color=\"r\",\n",
    "            label=\"Training score\")\n",
    "#ax.tick_params(labelsize=text_fontsize)\n",
    "#ax.legend(loc=\"best\", fontsize=text_fontsize)\n",
    "plt.show()"
   ],
   "metadata": {
    "collapsed": false,
    "pycharm": {
     "name": "#%%\n"
    }
   }
  },
  {
   "cell_type": "code",
   "execution_count": null,
   "outputs": [],
   "source": [],
   "metadata": {
    "collapsed": false,
    "pycharm": {
     "name": "#%%\n"
    }
   }
  },
  {
   "cell_type": "code",
   "execution_count": null,
   "metadata": {
    "pycharm": {
     "name": "#%%\n"
    }
   },
   "outputs": [],
   "source": []
  },
  {
   "cell_type": "code",
   "execution_count": null,
   "metadata": {
    "pycharm": {
     "name": "#%%\n"
    }
   },
   "outputs": [],
   "source": [
    "import types\n",
    "def initialize_cluster_centers(self,X, neighborhoods):\n",
    "        cluster_centers = X[np.random.choice(X.shape[0], self.n_clusters, replace=False), :]\n",
    "        return cluster_centers\n",
    "for i in range (2,3):\n",
    "    avg_random=[]\n",
    "    for k in range(8):\n",
    "        oracle = LabelOracle(train_filtered_list, max_queries_cnt=125*(2**(i)),max_querry=True)\n",
    "        #Gives way more constraints by trying to find neighboorhoods, but ammount is random\n",
    "        active_learner = active_semi_clustering.active.pairwise_constraints.explore_consolidate.ExploreConsolidate(n_clusters=20)\n",
    "        #active_learner = active_semi_clustering.active.pairwise_constraints.random.Random(n_clusters=n_cluster)\n",
    "        active_learner.fit(features, oracle)\n",
    "        pairwise_constraints = active_learner.pairwise_constraints_\n",
    "        pck = PCKMeans(n_clusters=n_cluster,max_iter=100,w=1280)\n",
    "        try:\n",
    "            pck.fit(features, ml=pairwise_constraints[0], cl=pairwise_constraints[1])\n",
    "            avg_random.append(metrics.adjusted_rand_score(y, pck.labels_))\n",
    "            \n",
    "        except Exception as e:\n",
    "            print(e)\n",
    "            pass\n",
    "    print(np.mean(avg_random))"
   ]
  },
  {
   "cell_type": "code",
   "execution_count": null,
   "metadata": {
    "pycharm": {
     "name": "#%%\n"
    }
   },
   "outputs": [],
   "source": []
  },
  {
   "cell_type": "code",
   "execution_count": 23,
   "metadata": {
    "pycharm": {
     "name": "#%%\n"
    }
   },
   "outputs": [
    {
     "name": "stdout",
     "output_type": "stream",
     "text": [
      "0.3512667640032348\n",
      "0.35184457824408993\n",
      "0.38162097977475923\n",
      "0.4178108673433901\n",
      "0.5172351957436433\n"
     ]
    }
   ],
   "source": [
    "import types\n",
    "def initialize_cluster_centers(self,X, neighborhoods):\n",
    "        cluster_centers = X[np.random.choice(X.shape[0], self.n_clusters, replace=False), :]\n",
    "        return cluster_centers\n",
    "\n",
    "\n",
    "for i in range (5):\n",
    "    avg_random=[]\n",
    "    for k in range(16):\n",
    "        oracle = LabelOracle(train_filtered_list, max_queries_cnt=100*(2**(i)),max_querry=True)\n",
    "        #Gives way more constraints by trying to find neighboorhoods, but ammount is random\n",
    "        #active_learner = active_semi_clustering.active.pairwise_constraints.explore_consolidate.ExploreConsolidate(n_clusters=20)\n",
    "        active_learner = active_semi_clustering.active.pairwise_constraints.random.Random(n_clusters=n_cluster)\n",
    "        active_learner.fit(features, oracle)\n",
    "        pairwise_constraints = active_learner.pairwise_constraints_\n",
    "        pck = PCKMeans(n_clusters=n_cluster,max_iter=100,w=500)\n",
    "        pck._initialize_cluster_centers=types.MethodType( initialize_cluster_centers, pck )\n",
    "        try:\n",
    "            pck.fit(features, ml=pairwise_constraints[0], cl=pairwise_constraints[1])\n",
    "            avg_random.append(metrics.adjusted_rand_score(y, pck.labels_))\n",
    "        except:\n",
    "            pass\n",
    "    print(np.mean(avg_random))\n"
   ]
  },
  {
   "cell_type": "code",
   "execution_count": null,
   "metadata": {
    "pycharm": {
     "name": "#%%\n"
    }
   },
   "outputs": [],
   "source": []
  },
  {
   "cell_type": "code",
   "execution_count": null,
   "metadata": {
    "pycharm": {
     "name": "#%%\n"
    }
   },
   "outputs": [],
   "source": []
  },
  {
   "cell_type": "code",
   "execution_count": null,
   "metadata": {
    "pycharm": {
     "name": "#%%\n"
    }
   },
   "outputs": [],
   "source": [
    "#pca = PCA(n_components=80)\n",
    "#features2=pca.fit_transform(features)"
   ]
  },
  {
   "cell_type": "code",
   "execution_count": null,
   "metadata": {
    "pycharm": {
     "name": "#%%\n"
    }
   },
   "outputs": [],
   "source": []
  },
  {
   "cell_type": "code",
   "execution_count": null,
   "metadata": {
    "pycharm": {
     "name": "#%%\n"
    }
   },
   "outputs": [],
   "source": [
    "\n",
    "    \n"
   ]
  },
  {
   "cell_type": "code",
   "execution_count": null,
   "metadata": {
    "pycharm": {
     "name": "#%%\n"
    }
   },
   "outputs": [],
   "source": [
    "import types\n",
    "pck = PCKMeans(n_clusters=n_cluster,max_iter=100,w=500)\n",
    "#This overrides init with random init\n",
    "#pck._initialize_cluster_centers=types.MethodType( initialize_cluster_centers, pck )\n",
    "#actually random often does better than using the center of the found classes\n",
    "pck.fit(features, ml=pairwise_constraints[0], cl=pairwise_constraints[1])\n",
    "metrics.adjusted_rand_score(y, pck.labels_)\n",
    "#metrics.calinski_harabasz_score(features, clusterer.labels_)"
   ]
  },
  {
   "cell_type": "code",
   "execution_count": null,
   "metadata": {
    "pycharm": {
     "name": "#%%\n"
    }
   },
   "outputs": [],
   "source": [
    "features.shape"
   ]
  },
  {
   "cell_type": "code",
   "execution_count": null,
   "metadata": {
    "pycharm": {
     "name": "#%%\n"
    }
   },
   "outputs": [],
   "source": [
    "clusterer = COPKMeans(n_clusters=n_cluster,max_iter=100)\n",
    "clusterer.fit(features, ml=pairwise_constraints[0], cl=pairwise_constraints[1])\n",
    "metrics.adjusted_rand_score(y, clusterer.labels_)\n",
    "#metrics.calinski_harabasz_score(features, clusterer.labels_)"
   ]
  },
  {
   "cell_type": "code",
   "execution_count": null,
   "metadata": {
    "pycharm": {
     "name": "#%%\n"
    }
   },
   "outputs": [],
   "source": [
    "kmeans = KMeans(n_clusters=n_cluster, random_state=0).fit(features)\n",
    "metrics.adjusted_rand_score(y, kmeans.predict(features))\n",
    "#metrics.calinski_harabasz_score(features, kmeans.predict(features))\n"
   ]
  },
  {
   "cell_type": "code",
   "execution_count": null,
   "metadata": {
    "pycharm": {
     "name": "#%%\n"
    }
   },
   "outputs": [],
   "source": [
    "def cluster_histogramm(data,predicted_values,y,use_all=True):\n",
    "    unique, counts = np.unique(predicted_values, return_counts=True)\n",
    "    n_clusters=len(unique)\n",
    "    counter=np.zeros((n_clusters,20))\n",
    "    for i in range(len(predicted_values)):\n",
    "        if(use_all):\n",
    "            for k in data[i][\"labels\"]:\n",
    "                    counter[predicted_values[i],k]+=1\n",
    "        else:\n",
    "            counter[predicted_values[i],y[i]]+=1\n",
    "            \n",
    "    return counter\n",
    "hist=cluster_histogramm(train_filtered_list,pck.labels_,y,use_all=False)\n",
    "\n",
    "for i in range(hist.shape[0]):  \n",
    "    print(i)\n",
    "    fig = plt.gcf()\n",
    "    fig.set_size_inches(16, 6.5)\n",
    "    plt.bar(np.arange(0,20),hist[i],tick_label=_VOC_LABELS) \n",
    "    plt.show()"
   ]
  },
  {
   "cell_type": "code",
   "execution_count": null,
   "metadata": {
    "pycharm": {
     "name": "#%%\n"
    }
   },
   "outputs": [],
   "source": [
    "from sklearn.metrics.pairwise import euclidean_distances\n",
    "from sklearn.metrics.pairwise import cosine_distances\n",
    "def classifier_function_creator(clusterer,distance_measure):\n",
    "    cluster_algo=clusterer\n",
    "    dist_func=distance_measure\n",
    "    def classifier_function(image):\n",
    "        image*=255.0\n",
    "        ds=tf.data.Dataset.from_tensor_slices({\"image\":image})\n",
    "        feature= data_pre.add_features_to_dataset(ds,None).map(lambda x:x[\"feature\"]).batch(image.shape[0]).get_single_element()\n",
    "        \n",
    "        dist= dist_func(feature,cluster_algo.cluster_centers_)\n",
    "\n",
    "        dist=1/dist\n",
    "        dist=np.power(dist,20)\n",
    "        dist=dist/np.sum(dist,axis=1,keepdims=True)\n",
    "        return dist\n",
    "    return classifier_function\n",
    "    \n",
    "\n",
    "func1=classifier_function_creator(pck,euclidean_distances)\n",
    "print(func1(np.expand_dims(train_filtered_list[0][\"image\"],axis=0)/255.0))\n",
    "#func2=clasifier_function_creator(pck,cosine_distances)\n",
    "#func2(np.expand_dims(train_filtered_list[0][\"image\"],axis=0)/255.0)\n",
    "#print(func1(np.expand_dims(train_filtered_list[0][\"image\"],axis=0)/255.0))\n"
   ]
  },
  {
   "cell_type": "code",
   "execution_count": null,
   "metadata": {
    "pycharm": {
     "name": "#%%\n"
    }
   },
   "outputs": [],
   "source": []
  },
  {
   "cell_type": "code",
   "execution_count": null,
   "metadata": {
    "pycharm": {
     "name": "#%%\n"
    }
   },
   "outputs": [],
   "source": [
    "from sklearn.ensemble import RandomForestClassifier\n",
    "from sklearn.linear_model import LogisticRegression\n",
    "\n",
    "from sklearn.linear_model import SGDClassifier\n",
    "from sklearn.naive_bayes import GaussianNB\n",
    "\n",
    "clf2 = RandomForestClassifier(max_depth=10, random_state=0)\n",
    "\n",
    "from sklearn.metrics import accuracy_score\n",
    "\n",
    "\n",
    "def classifier_function_creator2(classifier,features,labels):\n",
    "    clf=classifier\n",
    "    clf.fit(features,labels)\n",
    "    print(accuracy_score(clf.predict(features),labels))\n",
    "    def classifier_function(image):\n",
    "        image*=255.0\n",
    "        ds=tf.data.Dataset.from_tensor_slices({\"image\":image})\n",
    "        feature= data_pre.add_features_to_dataset(ds,None).map(lambda x:x[\"feature\"]).batch(image.shape[0]).get_single_element()\n",
    "        return clf.predict_proba(feature)\n",
    "    \n",
    "    return classifier_function\n"
   ]
  },
  {
   "cell_type": "code",
   "execution_count": null,
   "metadata": {
    "pycharm": {
     "name": "#%%\n"
    }
   },
   "outputs": [],
   "source": [
    "from lime import lime_image\n",
    "\n",
    "explainer = lime_image.LimeImageExplainer()\n",
    "\n",
    "explained_index=0\n",
    "explanation1 = explainer.explain_instance(train_filtered_list[explained_index][\"image\"]/255.0, classifier_function_creator(pck,euclidean_distances),labels=[0,1,2,3,4,5,6,7,8,9,10,11,12,13,14,15,16,17,18,19], top_labels=20, hide_color=0, num_samples=1000,batch_size =250)\n",
    "    \n"
   ]
  },
  {
   "cell_type": "code",
   "execution_count": null,
   "metadata": {
    "pycharm": {
     "name": "#%%\n"
    }
   },
   "outputs": [],
   "source": [
    "#pred =kmeans.predict(features)\n",
    "#print(pred[explained_index])\n",
    "print(pck.labels_[explained_index])"
   ]
  },
  {
   "cell_type": "code",
   "execution_count": null,
   "metadata": {
    "pycharm": {
     "name": "#%%\n"
    }
   },
   "outputs": [],
   "source": [
    "\n",
    "from skimage.segmentation import mark_boundaries\n",
    "temp, mask = explanation1.get_image_and_mask(14, positive_only=False, num_features=25, hide_rest=False)\n",
    "plt.imshow(mark_boundaries(temp/1.5, mask))"
   ]
  },
  {
   "cell_type": "code",
   "execution_count": null,
   "metadata": {
    "pycharm": {
     "name": "#%%\n"
    }
   },
   "outputs": [],
   "source": [
    "explanation2 = explainer.explain_instance(train_filtered_list[explained_index][\"image\"]/255.0, classifier_function_creator2(clf2,features,pck.labels_),labels=[0,1,2,3,4,5,6,7,8,9,10,11,12,13,14,15,16,17,18,19], top_labels=20, hide_color=0, num_samples=1000,batch_size =250)"
   ]
  },
  {
   "cell_type": "code",
   "execution_count": null,
   "metadata": {
    "pycharm": {
     "name": "#%%\n"
    }
   },
   "outputs": [],
   "source": [
    "from skimage.segmentation import mark_boundaries\n",
    "temp2, mask2 = explanation2.get_image_and_mask(5, positive_only=False, num_features=25, hide_rest=False)\n",
    "plt.imshow(mark_boundaries(temp2/1.5, mask2))"
   ]
  },
  {
   "cell_type": "code",
   "execution_count": null,
   "metadata": {
    "pycharm": {
     "name": "#%%\n"
    }
   },
   "outputs": [],
   "source": [
    "x1 = np.array(list(train_complete.map(lambda x: x['effnet']).as_numpy_iterator()), dtype=np.float64)"
   ]
  },
  {
   "cell_type": "code",
   "execution_count": null,
   "metadata": {
    "pycharm": {
     "name": "#%%\n"
    }
   },
   "outputs": [],
   "source": [
    "kmeans1 = KMeans(n_clusters=200, random_state=0).fit(x1)"
   ]
  },
  {
   "cell_type": "code",
   "execution_count": null,
   "metadata": {
    "pycharm": {
     "name": "#%%\n"
    }
   },
   "outputs": [],
   "source": [
    "\n",
    "if EFFNET_ENABLED:\n",
    "    counter = 0\n",
    "    for data in val_complete:\n",
    "        if counter == 10:\n",
    "            break\n",
    "        im = data['image']\n",
    "        feature = data['effnet']\n",
    "        pred = kmeans1.predict(tf.reshape(feature, (1, -1)))\n",
    "        for i in range(pred.shape[0]):\n",
    "            if pred[i] == 4:\n",
    "                plt.imshow(im)\n",
    "                plt.show()\n",
    "                counter += 1\n",
    "                if counter == 10:\n",
    "                    break"
   ]
  },
  {
   "cell_type": "code",
   "execution_count": null,
   "metadata": {
    "pycharm": {
     "name": "#%%\n"
    }
   },
   "outputs": [],
   "source": [
    "x2 = np.array(list(train_complete.map(lambda x: x['surf']).as_numpy_iterator()), dtype=np.float64)\n",
    "#scaler=RobustScaler()\n",
    "#x2 = scaler.fit_transform(x2)"
   ]
  },
  {
   "cell_type": "code",
   "execution_count": null,
   "metadata": {
    "pycharm": {
     "name": "#%%\n"
    }
   },
   "outputs": [],
   "source": [
    "kmeans2 = KMeans(n_clusters=200, random_state=0).fit(x2)"
   ]
  },
  {
   "cell_type": "code",
   "execution_count": null,
   "metadata": {
    "pycharm": {
     "name": "#%%\n"
    }
   },
   "outputs": [],
   "source": [
    "if SURF_ENABLED:\n",
    "    counter = 0\n",
    "    for data in train_complete:\n",
    "        if counter == 10:\n",
    "            break\n",
    "        im = data['image']\n",
    "        feature = data['surf']\n",
    "        pred = kmeans2.predict(tf.reshape(feature, (1, -1)))\n",
    "        for i in range(pred.shape[0]):\n",
    "            if pred[i] == 2:\n",
    "                plt.imshow(im)\n",
    "                plt.show()\n",
    "                counter += 1\n",
    "                if counter == 10:\n",
    "                    break"
   ]
  },
  {
   "cell_type": "code",
   "execution_count": null,
   "metadata": {
    "pycharm": {
     "name": "#%%\n"
    }
   },
   "outputs": [],
   "source": [
    "\n",
    "\n"
   ]
  },
  {
   "cell_type": "code",
   "execution_count": null,
   "metadata": {
    "pycharm": {
     "name": "#%%\n"
    }
   },
   "outputs": [],
   "source": []
  },
  {
   "cell_type": "code",
   "execution_count": null,
   "metadata": {
    "pycharm": {
     "name": "#%%\n"
    }
   },
   "outputs": [],
   "source": []
  }
 ],
 "metadata": {
  "kernelspec": {
   "display_name": "Python 3 (ipykernel)",
   "language": "python",
   "name": "python3"
  },
  "language_info": {
   "codemirror_mode": {
    "name": "ipython",
    "version": 3
   },
   "file_extension": ".py",
   "mimetype": "text/x-python",
   "name": "python",
   "nbconvert_exporter": "python",
   "pygments_lexer": "ipython3",
   "version": "3.7.13"
  }
 },
 "nbformat": 4,
 "nbformat_minor": 4
}