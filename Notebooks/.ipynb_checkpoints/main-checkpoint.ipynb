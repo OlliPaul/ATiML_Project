{
 "cells": [
  {
   "cell_type": "code",
   "execution_count": 1,
   "metadata": {
    "pycharm": {
     "is_executing": true,
     "name": "#%%\n"
    },
    "tags": []
   },
   "outputs": [
    {
     "name": "stdout",
     "output_type": "stream",
     "text": [
      "Requirement already satisfied: sklearn in c:\\users\\root\\anaconda3\\envs\\atiml_project\\lib\\site-packages (from -r ../requirements.txt (line 1)) (0.0)\n",
      "Requirement already satisfied: opencv-contrib-python==3.4.2.17 in c:\\users\\root\\anaconda3\\envs\\atiml_project\\lib\\site-packages (from -r ../requirements.txt (line 2)) (3.4.2.17)\n",
      "Requirement already satisfied: tensorflow in c:\\users\\root\\anaconda3\\envs\\atiml_project\\lib\\site-packages (from -r ../requirements.txt (line 3)) (2.8.2)\n",
      "Requirement already satisfied: matplotlib in c:\\users\\root\\anaconda3\\envs\\atiml_project\\lib\\site-packages (from -r ../requirements.txt (line 4)) (3.5.2)\n",
      "Requirement already satisfied: tensorflow-datasets in c:\\users\\root\\anaconda3\\envs\\atiml_project\\lib\\site-packages (from -r ../requirements.txt (line 5)) (4.5.2)\n",
      "Requirement already satisfied: active-semi-supervised-clustering in c:\\users\\root\\anaconda3\\envs\\atiml_project\\lib\\site-packages (from -r ../requirements.txt (line 6)) (0.0.1)\n",
      "Requirement already satisfied: shap in c:\\users\\root\\anaconda3\\envs\\atiml_project\\lib\\site-packages (from -r ../requirements.txt (line 7)) (0.40.0)\n",
      "Requirement already satisfied: lime in c:\\users\\root\\anaconda3\\envs\\atiml_project\\lib\\site-packages (from -r ../requirements.txt (line 8)) (0.2.0.1)\n",
      "Requirement already satisfied: imagehash in c:\\users\\root\\anaconda3\\envs\\atiml_project\\lib\\site-packages (from -r ../requirements.txt (line 9)) (4.2.1)\n",
      "Requirement already satisfied: scikit-learn-extra in c:\\users\\root\\anaconda3\\envs\\atiml_project\\lib\\site-packages (from -r ../requirements.txt (line 10)) (0.2.0)\n",
      "Requirement already satisfied: seaborn in c:\\users\\root\\anaconda3\\envs\\atiml_project\\lib\\site-packages (from -r ../requirements.txt (line 11)) (0.11.2)\n",
      "Requirement already satisfied: scikit-image in c:\\users\\root\\anaconda3\\envs\\atiml_project\\lib\\site-packages (from -r ../requirements.txt (line 12)) (0.19.2)\n",
      "Requirement already satisfied: numpy in c:\\users\\root\\anaconda3\\envs\\atiml_project\\lib\\site-packages (from -r ../requirements.txt (line 13)) (1.21.6)\n",
      "Requirement already satisfied: scikit-learn in c:\\users\\root\\anaconda3\\envs\\atiml_project\\lib\\site-packages (from sklearn->-r ../requirements.txt (line 1)) (1.0.2)\n",
      "Requirement already satisfied: tensorflow-io-gcs-filesystem>=0.23.1 in c:\\users\\root\\anaconda3\\envs\\atiml_project\\lib\\site-packages (from tensorflow->-r ../requirements.txt (line 3)) (0.25.0)\n",
      "Requirement already satisfied: tensorflow-estimator<2.9,>=2.8 in c:\\users\\root\\anaconda3\\envs\\atiml_project\\lib\\site-packages (from tensorflow->-r ../requirements.txt (line 3)) (2.8.0)\n",
      "Requirement already satisfied: typing-extensions>=3.6.6 in c:\\users\\root\\anaconda3\\envs\\atiml_project\\lib\\site-packages (from tensorflow->-r ../requirements.txt (line 3)) (4.1.1)\n",
      "Requirement already satisfied: grpcio<2.0,>=1.24.3 in c:\\users\\root\\anaconda3\\envs\\atiml_project\\lib\\site-packages (from tensorflow->-r ../requirements.txt (line 3)) (1.46.3)\n",
      "Requirement already satisfied: libclang>=9.0.1 in c:\\users\\root\\anaconda3\\envs\\atiml_project\\lib\\site-packages (from tensorflow->-r ../requirements.txt (line 3)) (14.0.1)\n",
      "Requirement already satisfied: keras-preprocessing>=1.1.1 in c:\\users\\root\\anaconda3\\envs\\atiml_project\\lib\\site-packages (from tensorflow->-r ../requirements.txt (line 3)) (1.1.2)\n",
      "Requirement already satisfied: flatbuffers>=1.12 in c:\\users\\root\\anaconda3\\envs\\atiml_project\\lib\\site-packages (from tensorflow->-r ../requirements.txt (line 3)) (2.0)\n",
      "Requirement already satisfied: h5py>=2.9.0 in c:\\users\\root\\anaconda3\\envs\\atiml_project\\lib\\site-packages (from tensorflow->-r ../requirements.txt (line 3)) (3.6.0)\n",
      "Requirement already satisfied: astunparse>=1.6.0 in c:\\users\\root\\anaconda3\\envs\\atiml_project\\lib\\site-packages (from tensorflow->-r ../requirements.txt (line 3)) (1.6.3)\n",
      "Requirement already satisfied: absl-py>=0.4.0 in c:\\users\\root\\anaconda3\\envs\\atiml_project\\lib\\site-packages (from tensorflow->-r ../requirements.txt (line 3)) (1.0.0)\n",
      "Requirement already satisfied: six>=1.12.0 in c:\\users\\root\\anaconda3\\envs\\atiml_project\\lib\\site-packages (from tensorflow->-r ../requirements.txt (line 3)) (1.16.0)\n",
      "Requirement already satisfied: opt-einsum>=2.3.2 in c:\\users\\root\\anaconda3\\envs\\atiml_project\\lib\\site-packages (from tensorflow->-r ../requirements.txt (line 3)) (3.3.0)\n",
      "Requirement already satisfied: wrapt>=1.11.0 in c:\\users\\root\\anaconda3\\envs\\atiml_project\\lib\\site-packages (from tensorflow->-r ../requirements.txt (line 3)) (1.14.1)\n",
      "Requirement already satisfied: termcolor>=1.1.0 in c:\\users\\root\\anaconda3\\envs\\atiml_project\\lib\\site-packages (from tensorflow->-r ../requirements.txt (line 3)) (1.1.0)\n",
      "Requirement already satisfied: keras<2.9,>=2.8.0rc0 in c:\\users\\root\\anaconda3\\envs\\atiml_project\\lib\\site-packages (from tensorflow->-r ../requirements.txt (line 3)) (2.8.0)\n",
      "Requirement already satisfied: google-pasta>=0.1.1 in c:\\users\\root\\anaconda3\\envs\\atiml_project\\lib\\site-packages (from tensorflow->-r ../requirements.txt (line 3)) (0.2.0)\n",
      "Requirement already satisfied: gast>=0.2.1 in c:\\users\\root\\anaconda3\\envs\\atiml_project\\lib\\site-packages (from tensorflow->-r ../requirements.txt (line 3)) (0.5.3)\n",
      "Requirement already satisfied: protobuf<3.20,>=3.9.2 in c:\\users\\root\\anaconda3\\envs\\atiml_project\\lib\\site-packages (from tensorflow->-r ../requirements.txt (line 3)) (3.19.4)\n",
      "Requirement already satisfied: setuptools in c:\\users\\root\\anaconda3\\envs\\atiml_project\\lib\\site-packages (from tensorflow->-r ../requirements.txt (line 3)) (61.2.0)\n",
      "Requirement already satisfied: tensorboard<2.9,>=2.8 in c:\\users\\root\\anaconda3\\envs\\atiml_project\\lib\\site-packages (from tensorflow->-r ../requirements.txt (line 3)) (2.8.0)\n",
      "Requirement already satisfied: fonttools>=4.22.0 in c:\\users\\root\\anaconda3\\envs\\atiml_project\\lib\\site-packages (from matplotlib->-r ../requirements.txt (line 4)) (4.33.3)\n",
      "Requirement already satisfied: python-dateutil>=2.7 in c:\\users\\root\\anaconda3\\envs\\atiml_project\\lib\\site-packages (from matplotlib->-r ../requirements.txt (line 4)) (2.8.2)\n",
      "Requirement already satisfied: pillow>=6.2.0 in c:\\users\\root\\anaconda3\\envs\\atiml_project\\lib\\site-packages (from matplotlib->-r ../requirements.txt (line 4)) (9.1.0)\n",
      "Requirement already satisfied: cycler>=0.10 in c:\\users\\root\\anaconda3\\envs\\atiml_project\\lib\\site-packages (from matplotlib->-r ../requirements.txt (line 4)) (0.11.0)\n",
      "Requirement already satisfied: kiwisolver>=1.0.1 in c:\\users\\root\\anaconda3\\envs\\atiml_project\\lib\\site-packages (from matplotlib->-r ../requirements.txt (line 4)) (1.4.2)\n",
      "Requirement already satisfied: packaging>=20.0 in c:\\users\\root\\anaconda3\\envs\\atiml_project\\lib\\site-packages (from matplotlib->-r ../requirements.txt (line 4)) (21.3)\n",
      "Requirement already satisfied: pyparsing>=2.2.1 in c:\\users\\root\\anaconda3\\envs\\atiml_project\\lib\\site-packages (from matplotlib->-r ../requirements.txt (line 4)) (2.4.7)\n",
      "Requirement already satisfied: tensorflow-metadata in c:\\users\\root\\anaconda3\\envs\\atiml_project\\lib\\site-packages (from tensorflow-datasets->-r ../requirements.txt (line 5)) (1.8.0)\n",
      "Requirement already satisfied: tqdm in c:\\users\\root\\anaconda3\\envs\\atiml_project\\lib\\site-packages (from tensorflow-datasets->-r ../requirements.txt (line 5)) (4.64.0)\n",
      "Requirement already satisfied: importlib-resources in c:\\users\\root\\anaconda3\\envs\\atiml_project\\lib\\site-packages (from tensorflow-datasets->-r ../requirements.txt (line 5)) (5.2.0)\n",
      "Requirement already satisfied: promise in c:\\users\\root\\anaconda3\\envs\\atiml_project\\lib\\site-packages (from tensorflow-datasets->-r ../requirements.txt (line 5)) (2.3)\n",
      "Requirement already satisfied: requests>=2.19.0 in c:\\users\\root\\anaconda3\\envs\\atiml_project\\lib\\site-packages (from tensorflow-datasets->-r ../requirements.txt (line 5)) (2.27.1)\n",
      "Requirement already satisfied: dill in c:\\users\\root\\anaconda3\\envs\\atiml_project\\lib\\site-packages (from tensorflow-datasets->-r ../requirements.txt (line 5)) (0.3.1.1)\n",
      "Requirement already satisfied: scipy in c:\\users\\root\\anaconda3\\envs\\atiml_project\\lib\\site-packages (from active-semi-supervised-clustering->-r ../requirements.txt (line 6)) (1.7.3)\n",
      "Requirement already satisfied: metric-learn>=0.4 in c:\\users\\root\\anaconda3\\envs\\atiml_project\\lib\\site-packages (from active-semi-supervised-clustering->-r ../requirements.txt (line 6)) (0.6.2)\n",
      "Requirement already satisfied: cloudpickle in c:\\users\\root\\anaconda3\\envs\\atiml_project\\lib\\site-packages (from shap->-r ../requirements.txt (line 7)) (2.1.0)\n",
      "Requirement already satisfied: slicer==0.0.7 in c:\\users\\root\\anaconda3\\envs\\atiml_project\\lib\\site-packages (from shap->-r ../requirements.txt (line 7)) (0.0.7)\n",
      "Requirement already satisfied: pandas in c:\\users\\root\\anaconda3\\envs\\atiml_project\\lib\\site-packages (from shap->-r ../requirements.txt (line 7)) (1.3.5)\n",
      "Requirement already satisfied: numba in c:\\users\\root\\anaconda3\\envs\\atiml_project\\lib\\site-packages (from shap->-r ../requirements.txt (line 7)) (0.55.2)\n",
      "Requirement already satisfied: PyWavelets in c:\\users\\root\\anaconda3\\envs\\atiml_project\\lib\\site-packages (from imagehash->-r ../requirements.txt (line 9)) (1.3.0)\n",
      "Requirement already satisfied: imageio>=2.4.1 in c:\\users\\root\\anaconda3\\envs\\atiml_project\\lib\\site-packages (from scikit-image->-r ../requirements.txt (line 12)) (2.19.2)\n",
      "Requirement already satisfied: networkx>=2.2 in c:\\users\\root\\anaconda3\\envs\\atiml_project\\lib\\site-packages (from scikit-image->-r ../requirements.txt (line 12)) (2.6.3)\n",
      "Requirement already satisfied: tifffile>=2019.7.26 in c:\\users\\root\\anaconda3\\envs\\atiml_project\\lib\\site-packages (from scikit-image->-r ../requirements.txt (line 12)) (2021.11.2)\n",
      "Requirement already satisfied: wheel<1.0,>=0.23.0 in c:\\users\\root\\anaconda3\\envs\\atiml_project\\lib\\site-packages (from astunparse>=1.6.0->tensorflow->-r ../requirements.txt (line 3)) (0.37.1)\n",
      "Requirement already satisfied: cached-property in c:\\users\\root\\anaconda3\\envs\\atiml_project\\lib\\site-packages (from h5py>=2.9.0->tensorflow->-r ../requirements.txt (line 3)) (1.5.2)\n",
      "Requirement already satisfied: pytz>=2017.3 in c:\\users\\root\\anaconda3\\envs\\atiml_project\\lib\\site-packages (from pandas->shap->-r ../requirements.txt (line 7)) (2022.1)\n",
      "Requirement already satisfied: certifi>=2017.4.17 in c:\\users\\root\\anaconda3\\envs\\atiml_project\\lib\\site-packages (from requests>=2.19.0->tensorflow-datasets->-r ../requirements.txt (line 5)) (2022.5.18.1)\n",
      "Requirement already satisfied: idna<4,>=2.5 in c:\\users\\root\\anaconda3\\envs\\atiml_project\\lib\\site-packages (from requests>=2.19.0->tensorflow-datasets->-r ../requirements.txt (line 5)) (3.3)\n",
      "Requirement already satisfied: urllib3<1.27,>=1.21.1 in c:\\users\\root\\anaconda3\\envs\\atiml_project\\lib\\site-packages (from requests>=2.19.0->tensorflow-datasets->-r ../requirements.txt (line 5)) (1.26.9)\n",
      "Requirement already satisfied: charset-normalizer~=2.0.0 in c:\\users\\root\\anaconda3\\envs\\atiml_project\\lib\\site-packages (from requests>=2.19.0->tensorflow-datasets->-r ../requirements.txt (line 5)) (2.0.12)\n",
      "Requirement already satisfied: joblib>=0.11 in c:\\users\\root\\anaconda3\\envs\\atiml_project\\lib\\site-packages (from scikit-learn->sklearn->-r ../requirements.txt (line 1)) (1.1.0)\n",
      "Requirement already satisfied: threadpoolctl>=2.0.0 in c:\\users\\root\\anaconda3\\envs\\atiml_project\\lib\\site-packages (from scikit-learn->sklearn->-r ../requirements.txt (line 1)) (3.1.0)\n",
      "Requirement already satisfied: google-auth-oauthlib<0.5,>=0.4.1 in c:\\users\\root\\anaconda3\\envs\\atiml_project\\lib\\site-packages (from tensorboard<2.9,>=2.8->tensorflow->-r ../requirements.txt (line 3)) (0.4.6)\n",
      "Requirement already satisfied: tensorboard-plugin-wit>=1.6.0 in c:\\users\\root\\anaconda3\\envs\\atiml_project\\lib\\site-packages (from tensorboard<2.9,>=2.8->tensorflow->-r ../requirements.txt (line 3)) (1.8.1)\n",
      "Requirement already satisfied: google-auth<3,>=1.6.3 in c:\\users\\root\\anaconda3\\envs\\atiml_project\\lib\\site-packages (from tensorboard<2.9,>=2.8->tensorflow->-r ../requirements.txt (line 3)) (1.35.0)\n",
      "Requirement already satisfied: markdown>=2.6.8 in c:\\users\\root\\anaconda3\\envs\\atiml_project\\lib\\site-packages (from tensorboard<2.9,>=2.8->tensorflow->-r ../requirements.txt (line 3)) (3.3.7)\n",
      "Requirement already satisfied: tensorboard-data-server<0.7.0,>=0.6.0 in c:\\users\\root\\anaconda3\\envs\\atiml_project\\lib\\site-packages (from tensorboard<2.9,>=2.8->tensorflow->-r ../requirements.txt (line 3)) (0.6.1)\n",
      "Requirement already satisfied: werkzeug>=0.11.15 in c:\\users\\root\\anaconda3\\envs\\atiml_project\\lib\\site-packages (from tensorboard<2.9,>=2.8->tensorflow->-r ../requirements.txt (line 3)) (2.1.2)\n",
      "Requirement already satisfied: pyasn1-modules>=0.2.1 in c:\\users\\root\\anaconda3\\envs\\atiml_project\\lib\\site-packages (from google-auth<3,>=1.6.3->tensorboard<2.9,>=2.8->tensorflow->-r ../requirements.txt (line 3)) (0.2.8)\n",
      "Requirement already satisfied: cachetools<5.0,>=2.0.0 in c:\\users\\root\\anaconda3\\envs\\atiml_project\\lib\\site-packages (from google-auth<3,>=1.6.3->tensorboard<2.9,>=2.8->tensorflow->-r ../requirements.txt (line 3)) (4.2.4)\n",
      "Requirement already satisfied: rsa<5,>=3.1.4 in c:\\users\\root\\anaconda3\\envs\\atiml_project\\lib\\site-packages (from google-auth<3,>=1.6.3->tensorboard<2.9,>=2.8->tensorflow->-r ../requirements.txt (line 3)) (4.8)\n",
      "Requirement already satisfied: requests-oauthlib>=0.7.0 in c:\\users\\root\\anaconda3\\envs\\atiml_project\\lib\\site-packages (from google-auth-oauthlib<0.5,>=0.4.1->tensorboard<2.9,>=2.8->tensorflow->-r ../requirements.txt (line 3)) (1.3.1)\n",
      "Requirement already satisfied: importlib-metadata>=4.4 in c:\\users\\root\\anaconda3\\envs\\atiml_project\\lib\\site-packages (from markdown>=2.6.8->tensorboard<2.9,>=2.8->tensorflow->-r ../requirements.txt (line 3)) (4.11.3)\n",
      "Requirement already satisfied: zipp>=0.5 in c:\\users\\root\\anaconda3\\envs\\atiml_project\\lib\\site-packages (from importlib-metadata>=4.4->markdown>=2.6.8->tensorboard<2.9,>=2.8->tensorflow->-r ../requirements.txt (line 3)) (3.7.0)\n",
      "Requirement already satisfied: pyasn1<0.5.0,>=0.4.6 in c:\\users\\root\\anaconda3\\envs\\atiml_project\\lib\\site-packages (from pyasn1-modules>=0.2.1->google-auth<3,>=1.6.3->tensorboard<2.9,>=2.8->tensorflow->-r ../requirements.txt (line 3)) (0.4.8)\n",
      "Requirement already satisfied: oauthlib>=3.0.0 in c:\\users\\root\\anaconda3\\envs\\atiml_project\\lib\\site-packages (from requests-oauthlib>=0.7.0->google-auth-oauthlib<0.5,>=0.4.1->tensorboard<2.9,>=2.8->tensorflow->-r ../requirements.txt (line 3)) (3.2.0)\n",
      "Requirement already satisfied: colorama in c:\\users\\root\\anaconda3\\envs\\atiml_project\\lib\\site-packages (from tqdm->tensorflow-datasets->-r ../requirements.txt (line 5)) (0.4.4)\n",
      "Requirement already satisfied: llvmlite<0.39,>=0.38.0rc1 in c:\\users\\root\\anaconda3\\envs\\atiml_project\\lib\\site-packages (from numba->shap->-r ../requirements.txt (line 7)) (0.38.1)\n",
      "Requirement already satisfied: googleapis-common-protos<2,>=1.52.0 in c:\\users\\root\\anaconda3\\envs\\atiml_project\\lib\\site-packages (from tensorflow-metadata->tensorflow-datasets->-r ../requirements.txt (line 5)) (1.56.0)\n"
     ]
    },
    {
     "name": "stderr",
     "output_type": "stream",
     "text": [
      "WARNING: Ignoring invalid distribution -rotobuf (c:\\users\\root\\anaconda3\\envs\\atiml_project\\lib\\site-packages)\n",
      "WARNING: Ignoring invalid distribution -rotobuf (c:\\users\\root\\anaconda3\\envs\\atiml_project\\lib\\site-packages)\n",
      "WARNING: Ignoring invalid distribution -rotobuf (c:\\users\\root\\anaconda3\\envs\\atiml_project\\lib\\site-packages)\n",
      "WARNING: Ignoring invalid distribution -rotobuf (c:\\users\\root\\anaconda3\\envs\\atiml_project\\lib\\site-packages)\n",
      "WARNING: Ignoring invalid distribution -rotobuf (c:\\users\\root\\anaconda3\\envs\\atiml_project\\lib\\site-packages)\n",
      "WARNING: Ignoring invalid distribution -rotobuf (c:\\users\\root\\anaconda3\\envs\\atiml_project\\lib\\site-packages)\n"
     ]
    }
   ],
   "source": [
    "#For this notebook python 3.7 is needed\n",
    "#you can change the variables between comments which specify it\n",
    "\n",
    "!pip install -r ../requirements.txt"
   ]
  },
  {
   "cell_type": "code",
   "execution_count": null,
   "metadata": {
    "pycharm": {
     "name": "#%%\n"
    }
   },
   "outputs": [],
   "source": []
  },
  {
   "cell_type": "code",
   "execution_count": 2,
   "metadata": {
    "pycharm": {
     "name": "#%%\n"
    },
    "tags": []
   },
   "outputs": [],
   "source": [
    "import cv2 as cv\n",
    "import numpy as np\n",
    "import tensorflow as tf\n",
    "import tensorflow_datasets as tfds\n",
    "from matplotlib import pyplot as plt\n",
    "from sklearn import metrics\n",
    "from active_semi_clustering.semi_supervised.pairwise_constraints import PCKMeans,COPKMeans, MPCKMeansMF, MPCKMeans\n",
    "from active_semi_clustering.active.pairwise_constraints import ExampleOracle, ExploreConsolidate, MinMax\n",
    "import active_semi_clustering.active.pairwise_constraints.random\n",
    "import pickle\n",
    "import time\n",
    "from sklearn.ensemble import RandomForestClassifier\n",
    "from sklearn.metrics import accuracy_score\n",
    "from Helper import LabelOracle,get_max_label_helper,average_hashing,color_layout_descriptor,filter_dataset,cluster_histogramm,KMajority,calculate_score_per_query, ExpertOracle, calculate_percentage_of_constraints_score\n",
    "from sklearn.metrics.pairwise import euclidean_distances"
   ]
  },
  {
   "cell_type": "code",
   "execution_count": 3,
   "metadata": {
    "pycharm": {
     "name": "#%%\n"
    }
   },
   "outputs": [],
   "source": [
    "builder = tfds.builder('voc/2007')\n",
    "builder.download_and_prepare()\n",
    "datasets = builder.as_dataset()\n",
    "train_data, val_data, test_data = datasets['train'], datasets['validation'], datasets['test']\n",
    "\n",
    "_VOC_LABELS = (\n",
    "    \"aeroplane\",\n",
    "    \"bicycle\",\n",
    "    \"bird\",\n",
    "    \"boat\",\n",
    "    \"bottle\",\n",
    "    \"bus\",\n",
    "    \"car\",\n",
    "    \"cat\",\n",
    "    \"chair\",\n",
    "    \"cow\",\n",
    "    \"diningtable\",\n",
    "    \"dog\",\n",
    "    \"horse\",\n",
    "    \"motorbike\",\n",
    "    \"person\",\n",
    "    \"pottedplant\",\n",
    "    \"sheep\",\n",
    "    \"sofa\",\n",
    "    \"train\",\n",
    "    \"tvmonitor\",\n",
    ")"
   ]
  },
  {
   "cell_type": "code",
   "execution_count": 4,
   "metadata": {
    "pycharm": {
     "name": "#%%\n"
    }
   },
   "outputs": [
    {
     "data": {
      "image/png": "[encoded data removed]",
      "text/plain": [
       "<Figure size 720x480 with 1 Axes>"
      ]
     },
     "metadata": {
      "needs_background": "light"
     },
     "output_type": "display_data"
    },
    {
     "name": "stdout",
     "output_type": "stream",
     "text": [
      "0.06267438\n"
     ]
    }
   ],
   "source": [
    "plt.rcParams['figure.dpi'] = 120\n",
    "for x in train_data:\n",
    "    image = x[\"image\"]\n",
    "    plt.imshow(image)\n",
    "    plt.axis('off')\n",
    "    plt.show()\n",
    "    print(np.mean(color_layout_descriptor(image,8,8)))\n",
    "    break"
   ]
  },
  {
   "cell_type": "code",
   "execution_count": 5,
   "metadata": {
    "pycharm": {
     "name": "#%%\n"
    }
   },
   "outputs": [],
   "source": [
    "\n",
    "LOAD_CONSTRAINTS=False\n",
    "\n",
    "# Here features could be disabled but then comparison in the end will not work\n",
    "\n",
    "CLD_ENABLED = True\n",
    "\n",
    "EFFNET_ENABLED = True\n",
    "\n",
    "HASHING_ENABLED = True\n",
    "\n",
    "SURF_ENABLED = True\n",
    "\n",
    "ORB_ENABLED = True\n",
    "\n",
    "enabled_names = []\n",
    "feature_weights=[]\n",
    "\n",
    "if CLD_ENABLED:\n",
    "    enabled_names.append(\"cld\")\n",
    "    feature_weights.append(0.0065)\n",
    "\n",
    "\n",
    "if EFFNET_ENABLED:\n",
    "    enabled_names.append(\"effnet\")\n",
    "    feature_weights.append(2)\n",
    "\n",
    "pooling=\"avg\"\n",
    "\n",
    "\n",
    "if HASHING_ENABLED:\n",
    "    enabled_names.append(\"hash\")\n",
    "    feature_weights.append(0.45)\n",
    "\n",
    "if SURF_ENABLED:\n",
    "    enabled_names.append(\"surf\")\n",
    "    feature_weights.append(1.0)\n",
    "\n",
    "if ORB_ENABLED:\n",
    "    enabled_names.append(\"orb\")\n",
    "    feature_weights.append(1.0)"
   ]
  },
  {
   "cell_type": "code",
   "execution_count": null,
   "metadata": {
    "pycharm": {
     "name": "#%%\n"
    }
   },
   "outputs": [],
   "source": []
  },
  {
   "cell_type": "code",
   "execution_count": 6,
   "metadata": {
    "pycharm": {
     "name": "#%%\n"
    }
   },
   "outputs": [],
   "source": [
    "if EFFNET_ENABLED:\n",
    "    effnet = tf.keras.applications.EfficientNetV2B1(\n",
    "        include_top=False,\n",
    "        weights=\"imagenet\",\n",
    "        input_tensor=None,\n",
    "        input_shape=None,\n",
    "        pooling=pooling,\n",
    "        classes=1000,\n",
    "        classifier_activation=\"softmax\",\n",
    "        include_preprocessing=True,\n",
    ")\n",
    "#Preparing surf features\n",
    "surf_clusers=1000\n",
    "if SURF_ENABLED:\n",
    "        surf = cv.xfeatures2d.SURF_create(hessianThreshold = 25,upright =True,extended  =True)\n",
    "        def calculate_surf_image(surf,img):\n",
    "            kp = surf.detect(img,None)\n",
    "            kp, des = surf.compute(img, kp)\n",
    "            return des\n",
    "\n",
    "        def calculate_surf(image_list):\n",
    "            des=list(map(lambda x : calculate_surf_image(surf,x),image_list))\n",
    "            return np.vstack(des)\n",
    "\n",
    "        try:\n",
    "            with open(\"data/k_means_surf.pkl\", \"rb\") as f:\n",
    "                k_means_surf = pickle.load(f)\n",
    "        except:\n",
    "            image_list = list(train_data.map(lambda x: x['image']).as_numpy_iterator())\n",
    "            descriptors=calculate_surf(image_list)\n",
    "            print(len(descriptors))\n",
    "            from sklearn.cluster import MiniBatchKMeans\n",
    "            k_means_surf=MiniBatchKMeans(n_clusters=surf_clusers,reassignment_ratio=0.02,n_init=4,max_iter=200,batch_size=10000)\n",
    "            print(\"test\")\n",
    "            start=time.time()\n",
    "\n",
    "            k_means_surf.fit(descriptors)\n",
    "            print(time.time()-start)\n",
    "            print(metrics.calinski_harabasz_score(descriptors, k_means_surf.predict(descriptors)))\n",
    "\n",
    "            with open(\"data/k_means_surf.pkl\", \"wb\") as f:\n",
    "                pickle.dump(k_means_surf, f)\n",
    "\n",
    "        def calculate_bow(ima):\n",
    "            histogram=np.zeros((surf_clusers))\n",
    "            des=calculate_surf_image(surf,ima.numpy().astype(np.uint8))\n",
    "            index=k_means_surf.predict(des)\n",
    "            np.add.at(histogram,index,1)\n",
    "            return histogram\n",
    "\n",
    "orb_clusters=1000\n",
    "if ORB_ENABLED:\n",
    "    orb= cv.ORB_create()\n",
    "    def calculate_orb_image(orb,image):\n",
    "        kp = orb.detect(image,None)\n",
    "        kp, des = orb.compute(image, kp)\n",
    "        return des\n",
    "\n",
    "    def calculate_orb(image_list):\n",
    "        des=list(map(lambda x : calculate_orb_image(orb,x),image_list))\n",
    "        return np.vstack(des)\n",
    "\n",
    "    try:\n",
    "        with open(\"data/dumped_kmajority.pkl\", \"rb\") as f:\n",
    "                k_majority_orb = pickle.load(f)\n",
    "    except Exception as e:\n",
    "        print(str(e))\n",
    "        print(\"Our K majority implemention is to slow to run here. Please use stored weights\")\n",
    "        ORB_ENABLED=False\n",
    "\n",
    "\n",
    "    def calculate_bow_orb(ima):\n",
    "        histogram=np.zeros((orb_clusters))\n",
    "        des=calculate_orb_image(orb,ima.numpy().astype(np.uint8))\n",
    "        des=np.unpackbits(des, axis = 1)\n",
    "        index=k_majority_orb.predict(des)\n",
    "        np.add.at(histogram,index,1)\n",
    "        return histogram\n",
    "\n",
    "#orb is probably underfitted"
   ]
  },
  {
   "cell_type": "code",
   "execution_count": 7,
   "metadata": {
    "pycharm": {
     "name": "#%%\n"
    }
   },
   "outputs": [
    {
     "ename": "NameError",
     "evalue": "name 'val_complete' is not defined",
     "output_type": "error",
     "traceback": [
      "\u001b[1;31m---------------------------------------------------------------------------\u001b[0m",
      "\u001b[1;31mNameError\u001b[0m                                 Traceback (most recent call last)",
      "\u001b[1;32m~\\AppData\\Local\\Temp\\ipykernel_17276\\812154411.py\u001b[0m in \u001b[0;36m<module>\u001b[1;34m\u001b[0m\n\u001b[0;32m    130\u001b[0m     \u001b[0mcounter\u001b[0m\u001b[1;33m+=\u001b[0m\u001b[1;36m1\u001b[0m\u001b[1;33m\u001b[0m\u001b[1;33m\u001b[0m\u001b[0m\n\u001b[0;32m    131\u001b[0m     \u001b[1;32mpass\u001b[0m\u001b[1;33m\u001b[0m\u001b[1;33m\u001b[0m\u001b[0m\n\u001b[1;32m--> 132\u001b[1;33m \u001b[1;32mfor\u001b[0m \u001b[0mi\u001b[0m \u001b[1;32min\u001b[0m \u001b[0mval_complete\u001b[0m\u001b[1;33m:\u001b[0m\u001b[1;33m\u001b[0m\u001b[1;33m\u001b[0m\u001b[0m\n\u001b[0m\u001b[0;32m    133\u001b[0m     \u001b[1;32mpass\u001b[0m\u001b[1;33m\u001b[0m\u001b[1;33m\u001b[0m\u001b[0m\n\u001b[0;32m    134\u001b[0m \u001b[0mprint\u001b[0m\u001b[1;33m(\u001b[0m\u001b[0mcounter\u001b[0m\u001b[1;33m)\u001b[0m\u001b[1;33m\u001b[0m\u001b[1;33m\u001b[0m\u001b[0m\n",
      "\u001b[1;31mNameError\u001b[0m: name 'val_complete' is not defined"
     ]
    }
   ],
   "source": [
    "from sklearn.decomposition import PCA\n",
    "def get_all_features(datapoint):\n",
    "    return tf.concat([datapoint[enabled_names[i]]*feature_weights[i] for i in range(len(enabled_names))],0)\n",
    "\n",
    "class DatasetPreprocessor:\n",
    "    def __init__(self):\n",
    "        self.norm1=None\n",
    "        self.norm2=None\n",
    "        self.norm3=None\n",
    "        self.norm4=None\n",
    "        self.norm5=None\n",
    "        self.pca1=None\n",
    "        self.pca2=None\n",
    "        self.pca3=None\n",
    "        self.fitted=False\n",
    "\n",
    "\n",
    "    def add_features_to_dataset(self,dataset,cachename,fit=False, selector=\"feature\"):\n",
    "        if(self.fitted==False and fit==False):\n",
    "            print(\"fit before use\")\n",
    "            raise Exception()\n",
    "        self.fitted=True\n",
    "        images = dataset.map(lambda x: x[\"image\"])\n",
    "        feature_sets = []\n",
    "\n",
    "        # order is important here, must be same as defined in enabled_names\n",
    "        if CLD_ENABLED and (selector==\"feature\" or selector==\"cld\"):\n",
    "            cld_features = images.map(lambda x: tf.py_function(func=color_layout_descriptor, inp=[x,8,8], Tout=np.float32),\n",
    "                                      num_parallel_calls=tf.data.experimental.AUTOTUNE).cache(\"data/\"+cachename+\"_cld\" if cachename!=None else '').prefetch(\n",
    "                tf.data.experimental.AUTOTUNE)\n",
    "            #shape=cld_features.take(1).get_single_element().shape\n",
    "            #cld_features = cld_features.map(lambda t: tf.ensure_shape(t,shape)).cache(\"data/\"+cachename+\"_cld2\" if cachename!=None else #'').prefetch(\n",
    "            #    tf.data.experimental.AUTOTUNE)\n",
    "            #if fit==True:\n",
    "            #    self.norm1=tf.keras.layers.Normalization();\n",
    "            #    self.norm1.adapt(cld_features)\n",
    "            #cld_features=cld_features.map(lambda x:self.norm1(x))\n",
    "            feature_sets.append(cld_features)\n",
    "\n",
    "\n",
    "        if EFFNET_ENABLED and (selector==\"feature\" or selector==\"effnet\"):\n",
    "            resized_images = dataset.map(lambda x: tf.image.resize(x[\"image\"], [240, 240])).batch(1024)\n",
    "            effnet_features = resized_images.map(lambda x: effnet(x)).cache().unbatch().cache(\"data/\"+cachename+\"_effnet\" if cachename!=None else '').prefetch(\n",
    "                tf.data.experimental.AUTOTUNE)\n",
    "\n",
    "            if fit==True:\n",
    "                self.norm2=tf.keras.layers.Normalization()\n",
    "                self.norm2.adapt(effnet_features)\n",
    "                self.pca = PCA(n_components=320)\n",
    "                effnet_list = np.array(list(effnet_features.as_numpy_iterator()))\n",
    "                self.pca.fit(effnet_list)\n",
    "            effnet_features= effnet_features.map(lambda x:self.norm2(x))\n",
    "            effnet_features= effnet_features.map(lambda x: tf.reshape(tf.py_function(func=self.pca.transform, inp=[tf.reshape(x,(1, -1))], Tout=np.float32),[-1]),\n",
    "                                      num_parallel_calls=tf.data.experimental.AUTOTUNE)\n",
    "            feature_sets.append(effnet_features)\n",
    "\n",
    "\n",
    "        if HASHING_ENABLED and (selector==\"feature\" or selector==\"hash\"):\n",
    "            hashing_features = images.map(lambda x: tf.py_function(func=average_hashing, inp=[x], Tout=np.float32),\n",
    "                                      num_parallel_calls=tf.data.experimental.AUTOTUNE)\n",
    "            shape=hashing_features.take(1).get_single_element().shape\n",
    "            hashing_features = hashing_features.map(lambda t: tf.ensure_shape(t,shape)).cache(\"data/\"+cachename+\"_hash\" if cachename!=None else '').prefetch(\n",
    "                tf.data.experimental.AUTOTUNE)\n",
    "            if fit==True:\n",
    "                self.norm3=tf.keras.layers.Normalization()\n",
    "                self.norm3.adapt(hashing_features)\n",
    "            hashing_features=hashing_features.map(lambda x:self.norm3(x))\n",
    "            feature_sets.append(hashing_features)\n",
    "\n",
    "\n",
    "\n",
    "        if SURF_ENABLED and (selector==\"feature\" or selector==\"surf\"):\n",
    "            surf_features = images.map(lambda x: tf.py_function(func=calculate_bow, inp=[x], Tout=np.float32),\n",
    "                                      num_parallel_calls=tf.data.experimental.AUTOTUNE)\n",
    "            surf_features = surf_features.map(lambda t: tf.ensure_shape(t,(surf_clusers,))).cache(\"data/\"+cachename+\"_surf\" if cachename!=None else '')\n",
    "            if fit==True:\n",
    "                self.norm4=tf.keras.layers.Normalization()\n",
    "                self.norm4.adapt(surf_features)\n",
    "                self.pca2 = PCA(n_components=250)\n",
    "                surf_list = np.array(list(surf_features.as_numpy_iterator()))\n",
    "                self.pca2.fit(surf_list)\n",
    "\n",
    "            surf_features=surf_features.map(lambda x:self.norm4(x))\n",
    "            surf_features=surf_features.map(lambda x: tf.reshape(tf.py_function(func=self.pca2.transform, inp=[tf.reshape(x,(1, -1))], Tout=np.float32),[-1]),\n",
    "                                      num_parallel_calls=tf.data.experimental.AUTOTUNE)\n",
    "            feature_sets.append(surf_features)\n",
    "\n",
    "\n",
    "        if ORB_ENABLED and (selector==\"feature\" or selector==\"orb\"):\n",
    "            orb_features = images.map(lambda x: tf.py_function(func=calculate_bow_orb, inp=[x], Tout=np.float32),\n",
    "                                      num_parallel_calls=tf.data.experimental.AUTOTUNE)\n",
    "            orb_features = orb_features.map(lambda t: tf.ensure_shape(t,(orb_clusters,))).cache(\"data/\"+cachename+\"_orb\" if cachename!=None else '')\n",
    "            if fit==True:\n",
    "                self.norm5=tf.keras.layers.Normalization()\n",
    "                self.norm5.adapt(orb_features)\n",
    "                self.pca3 = PCA(n_components=250)\n",
    "                orb_list = np.array(list(orb_features.as_numpy_iterator()))\n",
    "                self.pca3.fit(orb_list)\n",
    "\n",
    "            orb_features=orb_features.map(lambda x:self.norm5(x))\n",
    "            orb_features=orb_features.map(lambda x: tf.reshape(tf.py_function(func=self.pca3.transform, inp=[tf.reshape(x,(1, -1))], Tout=np.float32),[-1]),\n",
    "                                      num_parallel_calls=tf.data.experimental.AUTOTUNE)\n",
    "            feature_sets.append(orb_features)\n",
    "\n",
    "        if selector== \"feature\":\n",
    "            feature_names=enabled_names\n",
    "        else:\n",
    "            feature_names=[selector]\n",
    "        # We could do feature scaling here\n",
    "        # this here insers the values of all featuresets into the dictionary\n",
    "        complete_dataset = tf.data.Dataset.zip((dataset,) + tuple(feature_sets)).map(\n",
    "            lambda x, *y: x.update({feature_names[i]: y[i] for i in range(len(feature_names))})\\\n",
    "            or x, num_parallel_calls=tf.data.experimental.AUTOTUNE)\n",
    "        if selector== \"feature\":\n",
    "            complete_dataset=complete_dataset.map(lambda x:x.update({\"feature\":get_all_features(x)}) or x, num_parallel_calls=tf.data.experimental.AUTOTUNE).prefetch(tf.data.experimental.AUTOTUNE)\n",
    "        else:\n",
    "            complete_dataset=complete_dataset.prefetch(tf.data.experimental.AUTOTUNE)\n",
    "        # I dediced to return dict here. They have the advantage that you can disable/add Features add will without having to condider ordering. Also we do not loose any information, which we might use later\n",
    "        return complete_dataset\n",
    "\n",
    "data_pre=DatasetPreprocessor()\n",
    "\n",
    "# after first run this should be cached memory (needs full run)\n",
    "train_complete = data_pre.add_features_to_dataset(train_data,\"train\",fit=True)\n",
    "\n",
    "# forces caching\n",
    "counter=0\n",
    "for i in train_complete:\n",
    "    counter+=1\n",
    "    pass\n",
    "print(counter)"
   ]
  },
  {
   "cell_type": "code",
   "execution_count": null,
   "metadata": {
    "pycharm": {
     "name": "#%%\n"
    }
   },
   "outputs": [],
   "source": []
  },
  {
   "cell_type": "code",
   "execution_count": null,
   "metadata": {
    "pycharm": {
     "name": "#%%\n"
    }
   },
   "outputs": [],
   "source": [
    "\n",
    "\n",
    "def classifier_function_creator(clusterer,distance_measure,name_of_feature=\"feature\"):\n",
    "    cluster_algo=clusterer\n",
    "    dist_func=distance_measure\n",
    "    def classifier_function(image):\n",
    "        image*=255.0\n",
    "        ds=tf.data.Dataset.from_tensor_slices({\"image\":image})\n",
    "        feature= data_pre.add_features_to_dataset(ds,None,selector=name_of_feature).map(lambda x:x[name_of_feature]).batch(image.shape[0]).get_single_element()\n",
    "\n",
    "        dist= dist_func(feature,cluster_algo.cluster_centers_)\n",
    "\n",
    "        dist=1/dist\n",
    "        dist=np.power(dist,20)\n",
    "        dist=dist/np.sum(dist,axis=1,keepdims=True)\n",
    "        return dist\n",
    "    return classifier_function\n",
    "\n",
    "def classifier_function_creator2(classifier,features,labels,name_of_feature=\"feature\"):\n",
    "    clf=classifier\n",
    "    clf.fit(features,labels)\n",
    "    print(accuracy_score(clf.predict(features),labels))\n",
    "    def classifier_function(image):\n",
    "        image*=255.0\n",
    "        ds=tf.data.Dataset.from_tensor_slices({\"image\":image})\n",
    "        feature= data_pre.add_features_to_dataset(ds,None,selector=name_of_feature).map(lambda x:x[name_of_feature]).batch(image.shape[0]).get_single_element()\n",
    "        return clf.predict_proba(feature)\n",
    "\n",
    "    return classifier_function"
   ]
  },
  {
   "cell_type": "code",
   "execution_count": null,
   "metadata": {
    "pycharm": {
     "name": "#%%\n"
    }
   },
   "outputs": [],
   "source": [
    "for i in train_complete:\n",
    "    print(i.keys())\n",
    "    print(len(i[\"feature\"]))\n",
    "    break"
   ]
  },
  {
   "cell_type": "code",
   "execution_count": null,
   "metadata": {
    "pycharm": {
     "name": "#%%\n"
    }
   },
   "outputs": [],
   "source": [
    "\n",
    "# here the the number of candidate points as well as the index of the query point (0-2500) can be changed\n",
    "#small number of candidate points run faster but may cause an Emptycluster Exception (the algorithm has not implemented a way to handle them)\n",
    "query_point=0\n",
    "number_candidate_points=500\n",
    "############################\n",
    "\n",
    "\n",
    "train_filtered=filter_dataset(train_complete,query_point,number_neighboors=number_candidate_points)\n",
    "train_filtered_list=list(train_filtered.as_numpy_iterator())\n",
    "len(train_filtered_list)"
   ]
  },
  {
   "cell_type": "code",
   "execution_count": null,
   "metadata": {
    "pycharm": {
     "name": "#%%\n"
    }
   },
   "outputs": [],
   "source": [
    "#Here the number of clusters can be changed. It has to be set beforehand because explore consolidate relies on an estimate for the number of clusters to work.\n",
    "n_cluster=20\n",
    "######################\n",
    "\n",
    "\n",
    "\n",
    "# uses the label with estimated maximum size by sum of bounding box area\n",
    "y = list(train_filtered.map(lambda x: (x['objects']['label'],x['objects']['bbox'],x['labels'])).map(lambda x,y,z:tf.py_function(func=get_max_label_helper, inp=[x,y,z], Tout=np.int64),num_parallel_calls=tf.data.AUTOTUNE).as_numpy_iterator())\n",
    "\n",
    "features = np.array(list(train_filtered.map(lambda x: x['feature']).as_numpy_iterator()), dtype=np.float64)\n",
    "if SURF_ENABLED:\n",
    "    feature_surf = np.array(list(train_filtered.map(lambda x: x['surf']).as_numpy_iterator()), dtype=np.float64)\n",
    "if EFFNET_ENABLED:\n",
    "    feature_effnet = np.array(list(train_filtered.map(lambda x: x['effnet']).as_numpy_iterator()), dtype=np.float64)\n",
    "if CLD_ENABLED:\n",
    "    feature_cld = np.array(list(train_filtered.map(lambda x: x['cld']).as_numpy_iterator()), dtype=np.float64)\n",
    "if HASHING_ENABLED:\n",
    "    feature_hash = np.array(list(train_filtered.map(lambda x: x['hash']).as_numpy_iterator()), dtype=np.float64)\n",
    "if ORB_ENABLED:\n",
    "    feature_orb = np.array(list(train_filtered.map(lambda x: x['orb']).as_numpy_iterator()), dtype=np.float64)\n"
   ]
  },
  {
   "cell_type": "code",
   "execution_count": null,
   "metadata": {
    "pycharm": {
     "name": "#%%\n"
    }
   },
   "outputs": [],
   "source": []
  },
  {
   "cell_type": "code",
   "execution_count": null,
   "metadata": {
    "pycharm": {
     "name": "#%%\n"
    }
   },
   "outputs": [],
   "source": []
  },
  {
   "cell_type": "code",
   "execution_count": null,
   "metadata": {
    "pycharm": {
     "name": "#%%\n"
    }
   },
   "outputs": [],
   "source": [
    "#Here you can change the amount of queries that the algorithm can make to the oracle/expert\n",
    "query_count=800\n",
    "#Here you can change wether you want to give the ínput yourself or you want to rely on an oracle based on the labels.\n",
    "use_expert=False\n",
    "\n",
    "#If you choose expert oracle. Input y for must link constraint. Every other input will be cannot link.\n",
    "\n",
    "#If you choose label oracle. You can set to use the max label which is an estimate for the biggest object based on its bounding boxes.\n",
    "\n",
    "use_max_query=True\n",
    "# Alternatively you can set this to no and pass to parameters to a heuristic function which comapres the the area of the matching and non-matching objects by bounding box\n",
    "#Note that this is more of a counter example for good queries because a comparision of objects has a major problem that it generates contradicting constrains. Say we have 3 objects a small one, medium one and a big one. The small and medium, medium and big now will generate must links, while the small and big objects can generate a cannot link constraint.\n",
    "# This is interesting because a queried expert may make similar decision. A person in a background of a town will probably not be\n",
    "# a must link with person doing a self-portrait. But if we have multiple photos were people gradually become closers, we could get a must link by transitivity.\n",
    "\n",
    "#Weights for heuristic if choosen\n",
    "#higher weight means less difference allowed\n",
    "\n",
    "area_difference_weight=1 #same labels must have same area heuristic\n",
    "different_labels_weight=2 #same area must be big in comparision to non matching part heuristic\n",
    "########\n",
    "\n",
    "#you can also change the strategy of finding constraints here. Defaults to random for Labeloracle and to explore consolidate for Expert Oracle.\n",
    "use_explore_consolidate=use_expert\n",
    "##############\n",
    "\n",
    "if use_expert:\n",
    "    #dont use an ide it might not work (for example pycharm does not execute the plt.show() so the image is always outdated)\n",
    "    oracle = ExpertOracle(train_filtered_list, max_queries_cnt=query_count)\n",
    "else:\n",
    "    oracle = LabelOracle(train_filtered_list, max_queries_cnt=query_count,max_querry=use_max_query,area_difference_weight=area_difference_weight,different_labels_weight=different_labels_weight)\n",
    "if use_explore_consolidate:\n",
    "    active_learner = active_semi_clustering.active.pairwise_constraints.explore_consolidate.ExploreConsolidate(n_clusters=n_cluster)\n",
    "\n",
    "else:\n",
    "    active_learner = active_semi_clustering.active.pairwise_constraints.random.Random(n_clusters=n_cluster)\n",
    "active_learner.fit(features, oracle)\n",
    "pairwise_constraints = active_learner.pairwise_constraints_"
   ]
  },
  {
   "cell_type": "code",
   "execution_count": null,
   "metadata": {
    "pycharm": {
     "name": "#%%\n"
    }
   },
   "outputs": [],
   "source": [
    "print(len(pairwise_constraints[0]))"
   ]
  },
  {
   "cell_type": "code",
   "execution_count": null,
   "metadata": {
    "pycharm": {
     "name": "#%%\n"
    }
   },
   "outputs": [],
   "source": [
    "#here you can set wether to generate a second set of constraints to calculate how many of them are fulfilled.\n",
    "use_test_constraints=True\n",
    "#This changes the ammount of queries for the test set\n",
    "test_query_count=10000\n",
    "###############################\n",
    "if use_test_constraints:\n",
    "    if use_expert:\n",
    "        oracle2 = ExpertOracle(train_filtered_list, max_queries_cnt=test_query_count)\n",
    "    else:\n",
    "        oracle2 = LabelOracle(train_filtered_list, max_queries_cnt=test_query_count,max_querry=use_max_query,area_difference_weight=area_difference_weight,different_labels_weight=different_labels_weight)\n",
    "\n",
    "    active_learner2 = active_semi_clustering.active.pairwise_constraints.random.Random(n_clusters=n_cluster)\n",
    "    active_learner2.fit(features, oracle2)\n",
    "    pairwise_constraints_test = active_learner2.pairwise_constraints_\n",
    "\n",
    "    #calculate_percentage_of_constraints_score\n"
   ]
  },
  {
   "cell_type": "code",
   "execution_count": null,
   "metadata": {
    "pycharm": {
     "name": "#%%\n"
    }
   },
   "outputs": [],
   "source": [
    "#random init for clustering\n",
    "def initialize_cluster_centers(self, X, neighborhoods):\n",
    "    cluster_centers = X[np.random.choice(X.shape[0], self.n_clusters, replace=False), :]\n",
    "    return cluster_centers\n",
    "\n",
    "#All algorithm in the following use this instead of the standard pck initialization.\n",
    "# The reason is that the default is deterministic so if this generates a starting point which generates an empty cluster then it will every time. So new constraints would have to be generated. Using random we still can have a change to find a working cluster assignment on the next try."
   ]
  },
  {
   "cell_type": "code",
   "execution_count": null,
   "metadata": {
    "pycharm": {
     "name": "#%%\n"
    }
   },
   "outputs": [],
   "source": [
    "import types\n",
    "fitted=False\n",
    "while not fitted:\n",
    "            try:\n",
    "                pck = PCKMeans(n_clusters=n_cluster,max_iter=100,w=1280)\n",
    "                pck._initialize_cluster_centers=types.MethodType( initialize_cluster_centers, pck )\n",
    "                pck.fit(features, ml=pairwise_constraints[0], cl=pairwise_constraints[1])\n",
    "                fitted=True\n",
    "            except Exception as e:\n",
    "                if str(e)==\"\":\n",
    "                    pass\n",
    "                else:\n",
    "                    raise e\n",
    "\n",
    "\n",
    "print(\"Adjusted random score using max labels = \"+str(metrics.adjusted_rand_score(y, pck.labels_)))\n",
    "print(\"Silhouette score = \"+str(metrics.silhouette_score(features, pck.labels_)))\n",
    "if use_test_constraints:\n",
    "    ml_score, cl_score = calculate_percentage_of_constraints_score(pck,pairwise_constraints_test)\n",
    "    print(\"Percentage of test must link correct = \"+str(ml_score))\n",
    "    print(\"Percentage of test cannot link correct = \"+str(cl_score))"
   ]
  },
  {
   "cell_type": "code",
   "execution_count": null,
   "metadata": {
    "pycharm": {
     "name": "#%%\n"
    }
   },
   "outputs": [],
   "source": [
    "def print_label_by_distribution(pck_algo,image_index,feature_list):\n",
    "    feature=feature_list[image_index]\n",
    "    dist= euclidean_distances(feature.reshape(1,-1),pck_algo.cluster_centers_)\n",
    "    selectedLabel=np.argmin(dist)\n",
    "    print(\"Cluster suggested by distribution: \"+str(selectedLabel))\n"
   ]
  },
  {
   "cell_type": "code",
   "execution_count": null,
   "metadata": {
    "pycharm": {
     "name": "#%%\n"
    }
   },
   "outputs": [],
   "source": [
    "#here we check which labels are assigned to each cluster if you set use all all labels will be considered otherwise jsut the label with the maximum area estimate will be used\n",
    "use_all_labels=False\n",
    "####################\n",
    "\n",
    "hist=cluster_histogramm(train_filtered_list,pck.labels_,y,use_all=use_all_labels)\n",
    "\n",
    "for i in range(hist.shape[0]):  \n",
    "    print(\"Cluster \"+str(i))\n",
    "    fig = plt.gcf()\n",
    "    fig.set_size_inches(16, 6.5)\n",
    "    plt.bar(np.arange(0,20),hist[i],tick_label=_VOC_LABELS) \n",
    "    plt.show()"
   ]
  },
  {
   "cell_type": "code",
   "execution_count": null,
   "metadata": {
    "pycharm": {
     "name": "#%%\n"
    }
   },
   "outputs": [],
   "source": [
    "#Here we look at 2 explanations for the cluster. The first uses only the distribution and does not use constraints in the clusterer.\n",
    "#The second uses a classfifier to predict cluster assignment. It cant see the labels directly but uses some of them indirectly\n",
    "#because they can appear in the labels assigned by PCK Means.\n",
    "#Note that the explanations can contradict each other because of this. Due to the weight w the assigned label may be contradicting the label suggested by the underlying distribution.\n",
    "\n",
    "#Here the image to be explained can be set\n",
    "explained_image_index=0\n",
    "################################\n",
    "print(\"assigned cluster: \"+str(pck.labels_[explained_image_index]))\n",
    "print_label_by_distribution(pck,explained_image_index,features)\n",
    "#Here the cluster to which an assignment should be explained can be set\n",
    "explained_cluster=pck.labels_[explained_image_index]\n",
    "################################\n",
    "#Here batch size (decrease if not enough memory) and number of samples (decreause for speedup but lower quality explanations) can be set\n",
    "lime_batch_size=250\n",
    "lime_number_samples=1000\n",
    "#Here you can change the number of features explained by lime\n",
    "explained_features=10"
   ]
  },
  {
   "cell_type": "code",
   "execution_count": null,
   "metadata": {
    "pycharm": {
     "name": "#%%\n"
    }
   },
   "outputs": [],
   "source": [
    "from lime import lime_image\n",
    "explainer = lime_image.LimeImageExplainer()\n",
    "explanation1 = explainer.explain_instance(train_filtered_list[explained_image_index][\"image\"]/255.0, classifier_function_creator(pck,euclidean_distances),labels=[0,1,2,3,4,5,6,7,8,9,10,11,12,13,14,15,16,17,18,19], top_labels=20, hide_color=0, num_samples=lime_number_samples,batch_size =lime_batch_size)"
   ]
  },
  {
   "cell_type": "code",
   "execution_count": null,
   "metadata": {
    "pycharm": {
     "name": "#%%\n"
    }
   },
   "outputs": [],
   "source": [
    "from skimage.segmentation import mark_boundaries\n",
    "temp, mask = explanation1.get_image_and_mask(explained_cluster, positive_only=False, num_features=explained_features, hide_rest=False)\n",
    "plt.axis('off')\n",
    "plt.imshow(mark_boundaries(temp/1.5, mask))"
   ]
  },
  {
   "cell_type": "code",
   "execution_count": null,
   "metadata": {
    "pycharm": {
     "name": "#%%\n"
    }
   },
   "outputs": [],
   "source": [
    "clf2 = RandomForestClassifier(max_depth=10, random_state=0)\n",
    "explanation2 = explainer.explain_instance(train_filtered_list[explained_image_index][\"image\"]/255.0, classifier_function_creator2(clf2,features,pck.labels_),labels=[0,1,2,3,4,5,6,7,8,9,10,11,12,13,14,15,16,17,18,19], top_labels=20, hide_color=0, num_samples=lime_number_samples,batch_size =lime_batch_size)"
   ]
  },
  {
   "cell_type": "code",
   "execution_count": null,
   "metadata": {
    "pycharm": {
     "name": "#%%\n"
    }
   },
   "outputs": [],
   "source": [
    "from skimage.segmentation import mark_boundaries\n",
    "temp2, mask2 = explanation2.get_image_and_mask(explained_cluster, positive_only=False, num_features=explained_features, hide_rest=False)\n",
    "plt.axis('off')\n",
    "plt.imshow(mark_boundaries(temp2/1.5, mask2))"
   ]
  },
  {
   "cell_type": "code",
   "execution_count": null,
   "metadata": {
    "pycharm": {
     "name": "#%%\n"
    }
   },
   "outputs": [],
   "source": [
    "#Here follow other features explained"
   ]
  },
  {
   "cell_type": "code",
   "execution_count": null,
   "metadata": {
    "pycharm": {
     "name": "#%%\n"
    }
   },
   "outputs": [],
   "source": [
    "if EFFNET_ENABLED:\n",
    "    fitted=False\n",
    "    while not fitted:\n",
    "            try:\n",
    "                pck_effnet = PCKMeans(n_clusters=n_cluster,max_iter=100,w=1280)\n",
    "                pck_effnet._initialize_cluster_centers=types.MethodType( initialize_cluster_centers, pck_effnet )\n",
    "                pck_effnet.fit(feature_effnet, ml=pairwise_constraints[0], cl=pairwise_constraints[1])\n",
    "                fitted=True\n",
    "            except Exception as e:\n",
    "                if str(e)==\"\":\n",
    "                    pass\n",
    "                else:\n",
    "                    raise e"
   ]
  },
  {
   "cell_type": "code",
   "execution_count": null,
   "metadata": {
    "pycharm": {
     "name": "#%%\n"
    }
   },
   "outputs": [],
   "source": [
    "if ORB_ENABLED:\n",
    "    fitted=False\n",
    "    while not fitted:\n",
    "            try:\n",
    "                pck_orb = PCKMeans(n_clusters=n_cluster,max_iter=100,w=1280)\n",
    "                pck_orb._initialize_cluster_centers=types.MethodType( initialize_cluster_centers, pck_orb )\n",
    "                pck_orb.fit(feature_orb, ml=pairwise_constraints[0], cl=pairwise_constraints[1])\n",
    "                fitted=True\n",
    "            except Exception as e:\n",
    "                if str(e)==\"\":\n",
    "                    pass\n",
    "                else:\n",
    "                    raise e"
   ]
  },
  {
   "cell_type": "code",
   "execution_count": null,
   "metadata": {
    "pycharm": {
     "name": "#%%\n"
    }
   },
   "outputs": [],
   "source": [
    "if SURF_ENABLED:\n",
    "    fitted=False\n",
    "    while not fitted:\n",
    "            try:\n",
    "                pck_surf = PCKMeans(n_clusters=n_cluster,max_iter=100,w=1280)\n",
    "                pck_surf._initialize_cluster_centers=types.MethodType( initialize_cluster_centers, pck_surf )\n",
    "                pck_surf.fit(feature_surf, ml=pairwise_constraints[0], cl=pairwise_constraints[1])\n",
    "                fitted=True\n",
    "            except Exception as e:\n",
    "                if str(e)==\"\":\n",
    "                    pass\n",
    "                else:\n",
    "                    raise e"
   ]
  },
  {
   "cell_type": "code",
   "execution_count": null,
   "metadata": {
    "pycharm": {
     "name": "#%%\n"
    }
   },
   "outputs": [],
   "source": [
    "import types\n",
    "if CLD_ENABLED:\n",
    "    fitted=False\n",
    "    while not fitted:\n",
    "            try:\n",
    "                pck_cld = PCKMeans(n_clusters=n_cluster,max_iter=100,w=1280)\n",
    "                pck_cld._initialize_cluster_centers=types.MethodType( initialize_cluster_centers, pck_cld )\n",
    "                pck_cld.fit(feature_cld, ml=pairwise_constraints[0], cl=pairwise_constraints[1])\n",
    "                fitted=True\n",
    "            except Exception as e:\n",
    "                if str(e)==\"\":\n",
    "                    pass\n",
    "                else:\n",
    "                    raise e"
   ]
  },
  {
   "cell_type": "code",
   "execution_count": null,
   "metadata": {
    "pycharm": {
     "name": "#%%\n"
    }
   },
   "outputs": [],
   "source": [
    "if HASHING_ENABLED:\n",
    "    fitted=False\n",
    "    while not fitted:\n",
    "            try:\n",
    "                pck_hash = PCKMeans(n_clusters=n_cluster,max_iter=100,w=1280)\n",
    "                pck_hash._initialize_cluster_centers=types.MethodType( initialize_cluster_centers, pck_hash )\n",
    "                pck_hash.fit(feature_hash, ml=pairwise_constraints[0], cl=pairwise_constraints[1])\n",
    "                fitted=True\n",
    "            except Exception as e:\n",
    "                if str(e)==\"\":\n",
    "                    pass\n",
    "                else:\n",
    "                    raise e"
   ]
  },
  {
   "cell_type": "code",
   "execution_count": null,
   "metadata": {
    "pycharm": {
     "name": "#%%\n"
    }
   },
   "outputs": [],
   "source": [
    "#effnet explanations\n",
    "if EFFNET_ENABLED:\n",
    "    #Here you can change the explained cluster\n",
    "    explained_cluster=pck_effnet.labels_[explained_image_index]\n",
    "    print(\"Adjusted random score using max labels = \"+str(metrics.adjusted_rand_score(y, pck_effnet.labels_)))\n",
    "    print(\"Silhouette score = \"+str(metrics.silhouette_score(feature_effnet, pck_effnet.labels_)))\n",
    "    if use_test_constraints:\n",
    "        ml_score, cl_score = calculate_percentage_of_constraints_score(pck_effnet,pairwise_constraints_test)\n",
    "        print(\"Percentage of test must link correct = \"+str(ml_score))\n",
    "        print(\"Percentage of test cannot link correct = \"+str(cl_score))\n",
    "    print(\"assigned cluster: \"+str(pck_effnet.labels_[explained_image_index]))\n",
    "    print_label_by_distribution(pck_effnet,explained_image_index,feature_effnet)\n",
    "\n",
    "\n",
    "    explainer = lime_image.LimeImageExplainer()\n",
    "    explanation1 = explainer.explain_instance(train_filtered_list[explained_image_index][\"image\"]/255.0, classifier_function_creator(pck_effnet,euclidean_distances,\"effnet\"),labels=[0,1,2,3,4,5,6,7,8,9,10,11,12,13,14,15,16,17,18,19], top_labels=20, hide_color=0, num_samples=lime_number_samples,batch_size =lime_batch_size)\n",
    "    clf2 = RandomForestClassifier(max_depth=10, random_state=0)\n",
    "    explanation2 = explainer.explain_instance(train_filtered_list[explained_image_index][\"image\"]/255.0, classifier_function_creator2(clf2,feature_effnet,pck_effnet.labels_,\"effnet\"),labels=[0,1,2,3,4,5,6,7,8,9,10,11,12,13,14,15,16,17,18,19], top_labels=20, hide_color=0, num_samples=lime_number_samples,batch_size =lime_batch_size)\n",
    "    from skimage.segmentation import mark_boundaries\n",
    "    temp, mask = explanation1.get_image_and_mask(explained_cluster, positive_only=False, num_features=explained_features, hide_rest=False)\n",
    "    plt.imshow(mark_boundaries(temp/1.5, mask))\n",
    "    plt.axis('off')\n",
    "    plt.show()\n",
    "\n",
    "    from skimage.segmentation import mark_boundaries\n",
    "    temp2, mask2 = explanation2.get_image_and_mask(explained_cluster, positive_only=False, num_features=explained_features, hide_rest=False)\n",
    "    plt.imshow(mark_boundaries(temp2/1.5, mask2))\n",
    "    plt.axis('off')\n",
    "    plt.show()"
   ]
  },
  {
   "cell_type": "code",
   "execution_count": null,
   "metadata": {
    "pycharm": {
     "name": "#%%\n"
    }
   },
   "outputs": [],
   "source": [
    "#orb explanations\n",
    "\n",
    "if ORB_ENABLED:\n",
    "    #Here you can change the explained cluster\n",
    "    explained_cluster=pck_orb.labels_[explained_image_index]\n",
    "\n",
    "    print(\"Adjusted random score using max labels = \"+str(metrics.adjusted_rand_score(y, pck_orb.labels_)))\n",
    "    print(\"Silhouette score = \"+str(metrics.silhouette_score(feature_orb, pck_orb.labels_)))\n",
    "    if use_test_constraints:\n",
    "        ml_score, cl_score = calculate_percentage_of_constraints_score(pck_orb,pairwise_constraints_test)\n",
    "        print(\"Percentage of test must link correct = \"+str(ml_score))\n",
    "        print(\"Percentage of test cannot link correct = \"+str(cl_score))\n",
    "    print(\"assigned cluster: \"+str(pck_orb.labels_[explained_image_index]))\n",
    "    print_label_by_distribution(pck_orb,explained_image_index,feature_orb)\n",
    "\n",
    "    explainer = lime_image.LimeImageExplainer()\n",
    "    explanation1 = explainer.explain_instance(train_filtered_list[explained_image_index][\"image\"]/255.0, classifier_function_creator(pck_orb,euclidean_distances,\"orb\"),labels=[0,1,2,3,4,5,6,7,8,9,10,11,12,13,14,15,16,17,18,19], top_labels=20, hide_color=0, num_samples=lime_number_samples,batch_size =lime_batch_size)\n",
    "    clf2 = RandomForestClassifier(max_depth=10, random_state=0)\n",
    "    explanation2 = explainer.explain_instance(train_filtered_list[explained_image_index][\"image\"]/255.0, classifier_function_creator2(clf2,feature_orb,pck_orb.labels_,\"orb\"),labels=[0,1,2,3,4,5,6,7,8,9,10,11,12,13,14,15,16,17,18,19], top_labels=20, hide_color=0, num_samples=lime_number_samples,batch_size =lime_batch_size)\n",
    "    from skimage.segmentation import mark_boundaries\n",
    "    temp, mask = explanation1.get_image_and_mask(explained_cluster, positive_only=False, num_features=explained_features, hide_rest=False)\n",
    "    plt.imshow(mark_boundaries(temp/1.5, mask))\n",
    "    plt.axis('off')\n",
    "    plt.show()\n",
    "    from skimage.segmentation import mark_boundaries\n",
    "    temp2, mask2 = explanation2.get_image_and_mask(explained_cluster, positive_only=False, num_features=explained_features, hide_rest=False)\n",
    "    plt.imshow(mark_boundaries(temp2/1.5, mask2))\n",
    "    plt.axis('off')\n",
    "    plt.show()"
   ]
  },
  {
   "cell_type": "code",
   "execution_count": null,
   "metadata": {
    "pycharm": {
     "name": "#%%\n"
    }
   },
   "outputs": [],
   "source": [
    "#color layout descriptor explanations\n",
    "if CLD_ENABLED:\n",
    "    #metrics.adjusted_rand_score(y, pck_cld.labels_)\n",
    "    #Here you can change the explained cluster\n",
    "    explained_cluster=pck_cld.labels_[explained_image_index]\n",
    "\n",
    "    print(\"Adjusted random score using max labels = \"+str(metrics.adjusted_rand_score(y, pck_cld.labels_)))\n",
    "    print(\"Silhouette score = \"+str(metrics.silhouette_score(feature_cld, pck_cld.labels_)))\n",
    "    if use_test_constraints:\n",
    "        ml_score, cl_score = calculate_percentage_of_constraints_score(pck_cld,pairwise_constraints_test)\n",
    "        print(\"Percentage of test must link correct = \"+str(ml_score))\n",
    "        print(\"Percentage of test cannot link correct = \"+str(cl_score))\n",
    "    print(\"assigned cluster: \"+str(pck_cld.labels_[explained_image_index]))\n",
    "    print_label_by_distribution(pck_cld,explained_image_index,feature_cld)\n",
    "\n",
    "    explainer = lime_image.LimeImageExplainer()\n",
    "    explanation1 = explainer.explain_instance(train_filtered_list[explained_image_index][\"image\"]/255.0, classifier_function_creator(pck_cld,euclidean_distances,\"cld\"),labels=[0,1,2,3,4,5,6,7,8,9,10,11,12,13,14,15,16,17,18,19], top_labels=20, hide_color=0, num_samples=lime_number_samples,batch_size =lime_batch_size)\n",
    "    clf2 = RandomForestClassifier(max_depth=10, random_state=0)\n",
    "    explanation2 = explainer.explain_instance(train_filtered_list[explained_image_index][\"image\"]/255.0, classifier_function_creator2(clf2,feature_cld,pck_cld.labels_,\"cld\"),labels=[0,1,2,3,4,5,6,7,8,9,10,11,12,13,14,15,16,17,18,19], top_labels=20, hide_color=0, num_samples=lime_number_samples,batch_size =lime_batch_size)\n",
    "    from skimage.segmentation import mark_boundaries\n",
    "    temp, mask = explanation1.get_image_and_mask(explained_cluster, positive_only=False, num_features=explained_features, hide_rest=False)\n",
    "    plt.imshow(mark_boundaries(temp/1.5, mask))\n",
    "    plt.axis('off')\n",
    "    plt.show()\n",
    "    from skimage.segmentation import mark_boundaries\n",
    "    temp2, mask2 = explanation2.get_image_and_mask(explained_cluster, positive_only=False, num_features=explained_features, hide_rest=False)\n",
    "    plt.imshow(mark_boundaries(temp2/1.5, mask2))\n",
    "    plt.axis('off')\n",
    "    plt.show()"
   ]
  },
  {
   "cell_type": "code",
   "execution_count": null,
   "metadata": {
    "pycharm": {
     "name": "#%%\n"
    }
   },
   "outputs": [],
   "source": [
    "#surf explanations\n",
    "if SURF_ENABLED:\n",
    "    #Here you can change the explained cluster\n",
    "    explained_cluster=pck_surf.labels_[explained_image_index]\n",
    "\n",
    "    print(\"Adjusted random score using max labels = \"+str(metrics.adjusted_rand_score(y, pck_surf.labels_)))\n",
    "    print(\"Silhouette score = \"+str(metrics.silhouette_score(feature_surf, pck_surf.labels_)))\n",
    "    if use_test_constraints:\n",
    "        ml_score, cl_score = calculate_percentage_of_constraints_score(pck_surf,pairwise_constraints_test)\n",
    "        print(\"Percentage of test must link correct = \"+str(ml_score))\n",
    "        print(\"Percentage of test cannot link correct = \"+str(cl_score))\n",
    "    print(\"assigned cluster: \"+str(pck_surf.labels_[explained_image_index]))\n",
    "    print_label_by_distribution(pck_surf,explained_image_index,feature_surf)\n",
    "\n",
    "    explainer = lime_image.LimeImageExplainer()\n",
    "    explanation1 = explainer.explain_instance(train_filtered_list[explained_image_index][\"image\"]/255.0, classifier_function_creator(pck_surf,euclidean_distances,\"surf\"),labels=[0,1,2,3,4,5,6,7,8,9,10,11,12,13,14,15,16,17,18,19], top_labels=20, hide_color=0, num_samples=lime_number_samples,batch_size =lime_batch_size)\n",
    "    clf2 = RandomForestClassifier(max_depth=10, random_state=0)\n",
    "    explanation2 = explainer.explain_instance(train_filtered_list[explained_image_index][\"image\"]/255.0, classifier_function_creator2(clf2,feature_surf,pck_surf.labels_,\"surf\"),labels=[0,1,2,3,4,5,6,7,8,9,10,11,12,13,14,15,16,17,18,19], top_labels=20, hide_color=0, num_samples=lime_number_samples,batch_size =lime_batch_size)\n",
    "    from skimage.segmentation import mark_boundaries\n",
    "    temp, mask = explanation1.get_image_and_mask(explained_cluster, positive_only=False, num_features=explained_features, hide_rest=False)\n",
    "    plt.imshow(mark_boundaries(temp/1.5, mask))\n",
    "    plt.axis('off')\n",
    "    plt.show()\n",
    "\n",
    "    from skimage.segmentation import mark_boundaries\n",
    "    temp2, mask2 = explanation2.get_image_and_mask(explained_cluster, positive_only=False, num_features=explained_features, hide_rest=False)\n",
    "    plt.imshow(mark_boundaries(temp2/1.5, mask2))\n",
    "    plt.axis('off')\n",
    "    plt.show()"
   ]
  },
  {
   "cell_type": "code",
   "execution_count": null,
   "metadata": {
    "pycharm": {
     "name": "#%%\n"
    }
   },
   "outputs": [],
   "source": [
    "#hash explanation\n",
    "if HASHING_ENABLED:\n",
    "    #Here you can change the explained cluster\n",
    "    explained_cluster=pck_hash.labels_[explained_image_index]\n",
    "\n",
    "    print(\"Adjusted random score using max labels = \"+str(metrics.adjusted_rand_score(y, pck_hash.labels_)))\n",
    "    print(\"Silhouette score = \"+str(metrics.silhouette_score(features, pck_hash.labels_)))\n",
    "    if use_test_constraints:\n",
    "        ml_score, cl_score = calculate_percentage_of_constraints_score(pck_hash,pairwise_constraints_test)\n",
    "        print(\"Percentage of test must link correct = \"+str(ml_score))\n",
    "        print(\"Percentage of test cannot link correct = \"+str(cl_score))\n",
    "    print(\"assigned cluster: \"+str(pck_hash.labels_[explained_image_index]))\n",
    "    print_label_by_distribution(pck_hash,explained_image_index,feature_hash)\n",
    "    explainer = lime_image.LimeImageExplainer()\n",
    "    explanation1 = explainer.explain_instance(train_filtered_list[explained_image_index][\"image\"]/255.0, classifier_function_creator(pck_hash,euclidean_distances,\"hash\"),labels=[0,1,2,3,4,5,6,7,8,9,10,11,12,13,14,15,16,17,18,19], top_labels=20, hide_color=0, num_samples=lime_number_samples,batch_size =lime_batch_size)\n",
    "    clf2 = RandomForestClassifier(max_depth=10, random_state=0)\n",
    "    explanation2 = explainer.explain_instance(train_filtered_list[explained_image_index][\"image\"]/255.0, classifier_function_creator2(clf2,feature_hash,pck_hash.labels_,\"hash\"),labels=[0,1,2,3,4,5,6,7,8,9,10,11,12,13,14,15,16,17,18,19], top_labels=20, hide_color=0, num_samples=lime_number_samples,batch_size =lime_batch_size)\n",
    "    from skimage.segmentation import mark_boundaries\n",
    "    temp, mask = explanation1.get_image_and_mask(explained_cluster, positive_only=False, num_features=explained_features, hide_rest=False)\n",
    "    plt.imshow(mark_boundaries(temp/1.5, mask))\n",
    "    plt.axis('off')\n",
    "    plt.show()\n",
    "    from skimage.segmentation import mark_boundaries\n",
    "    temp2, mask2 = explanation2.get_image_and_mask(explained_cluster, positive_only=False, num_features=explained_features, hide_rest=False)\n",
    "    plt.imshow(mark_boundaries(temp2/1.5, mask2))\n",
    "    plt.axis('off')\n",
    "    plt.show()"
   ]
  },
  {
   "cell_type": "code",
   "execution_count": null,
   "metadata": {
    "pycharm": {
     "name": "#%%\n"
    }
   },
   "outputs": [],
   "source": []
  },
  {
   "cell_type": "code",
   "execution_count": null,
   "metadata": {
    "pycharm": {
     "name": "#%%\n"
    }
   },
   "outputs": [],
   "source": []
  },
  {
   "cell_type": "code",
   "execution_count": null,
   "metadata": {
    "pycharm": {
     "name": "#%%\n"
    }
   },
   "outputs": [],
   "source": [
    "#here are example images for the clusters\n",
    "#This made more senses than asking the expert again wether the clusters are correct and calculating a score based on that.\n",
    "# Mainly because it is way faster to check multiple images at once."
   ]
  },
  {
   "cell_type": "code",
   "execution_count": null,
   "metadata": {
    "pycharm": {
     "name": "#%%\n"
    }
   },
   "outputs": [],
   "source": [
    "def show_example_images(algorithm,data_list,cluster=0,ammount=10):\n",
    "    counter = 0\n",
    "    for k,data in enumerate(data_list):\n",
    "            if counter == ammount:\n",
    "                break\n",
    "            im = data['image']\n",
    "            pred = algorithm.labels_[k]\n",
    "            if pred == cluster:\n",
    "                    plt.imshow(im)\n",
    "                    plt.axis('off')\n",
    "                    plt.show()\n",
    "                    counter += 1\n",
    "                    if counter == ammount:\n",
    "                        break"
   ]
  },
  {
   "cell_type": "code",
   "execution_count": null,
   "metadata": {
    "pycharm": {
     "name": "#%%\n"
    }
   },
   "outputs": [],
   "source": [
    "show_example_images(pck,train_filtered_list,cluster=0,ammount=10)"
   ]
  },
  {
   "cell_type": "code",
   "execution_count": null,
   "metadata": {
    "pycharm": {
     "name": "#%%\n"
    }
   },
   "outputs": [],
   "source": [
    "if EFFNET_ENABLED:\n",
    "    show_example_images(pck_effnet,train_filtered_list,cluster=0,ammount=10)"
   ]
  },
  {
   "cell_type": "markdown",
   "metadata": {
    "pycharm": {
     "name": "#%% md\n"
    }
   },
   "source": []
  },
  {
   "cell_type": "code",
   "execution_count": null,
   "metadata": {
    "pycharm": {
     "name": "#%%\n"
    }
   },
   "outputs": [],
   "source": [
    "if SURF_ENABLED:\n",
    "    show_example_images(pck_surf,train_filtered_list,cluster=0,ammount=10)"
   ]
  },
  {
   "cell_type": "code",
   "execution_count": null,
   "metadata": {
    "pycharm": {
     "name": "#%%\n"
    }
   },
   "outputs": [],
   "source": [
    "if ORB_ENABLED:\n",
    "    show_example_images(pck_orb,train_filtered_list,cluster=0,ammount=10)"
   ]
  },
  {
   "cell_type": "code",
   "execution_count": null,
   "metadata": {
    "pycharm": {
     "name": "#%%\n"
    }
   },
   "outputs": [],
   "source": [
    "if CLD_ENABLED:\n",
    "    show_example_images(pck_cld,train_filtered_list,cluster=4,ammount=10)"
   ]
  },
  {
   "cell_type": "code",
   "execution_count": null,
   "metadata": {
    "pycharm": {
     "name": "#%%\n"
    }
   },
   "outputs": [],
   "source": [
    "if HASHING_ENABLED:\n",
    "    show_example_images(pck_hash,train_filtered_list,cluster=0,ammount=10)"
   ]
  },
  {
   "cell_type": "code",
   "execution_count": null,
   "metadata": {
    "pycharm": {
     "name": "#%%\n"
    }
   },
   "outputs": [],
   "source": [
    "#TODO add last evaluation function\n",
    "#comparision with normal k means\n",
    "import types\n",
    "from sklearn.cluster import KMeans\n",
    "random_score_kmeans=[]\n",
    "random_score_pckmeans=[]\n",
    "sil_score_kmeans=[]\n",
    "sil_score_pckmeans=[]\n",
    "ml_score_kmeans=[]\n",
    "ml_score_pckmeans=[]\n",
    "cl_score_kmeans=[]\n",
    "cl_score_pckmeans=[]\n",
    "\n",
    "for i in range(16):\n",
    "    fitted=False\n",
    "    while not fitted:\n",
    "            try:\n",
    "                pckmeans = PCKMeans(n_clusters=n_cluster,max_iter=100,w=1280)\n",
    "\n",
    "                pckmeans.fit(features, ml=pairwise_constraints[0], cl=pairwise_constraints[1])\n",
    "                fitted=True\n",
    "            except Exception as e:\n",
    "                if str(e)==\"\":\n",
    "                    pass\n",
    "                else:\n",
    "                    raise e\n",
    "    kmeans=KMeans(n_clusters=n_cluster)\n",
    "    kmeans.fit(features)\n",
    "\n",
    "    random_score_kmeans.append(metrics.adjusted_rand_score(y,kmeans.labels_))\n",
    "    random_score_pckmeans.append(metrics.adjusted_rand_score(y,pckmeans.labels_))\n",
    "    sil_score_kmeans.append(metrics.silhouette_score(features,kmeans.labels_))\n",
    "    sil_score_pckmeans.append(metrics.silhouette_score(features,pckmeans.labels_))\n",
    "    if use_test_constraints:\n",
    "        ml_score, cl_score = calculate_percentage_of_constraints_score(kmeans,pairwise_constraints_test)\n",
    "        ml_score_kmeans.append(ml_score)\n",
    "        cl_score_kmeans.append(cl_score)\n",
    "        ml_score, cl_score = calculate_percentage_of_constraints_score(pckmeans,pairwise_constraints_test)\n",
    "        ml_score_pckmeans.append(ml_score)\n",
    "        cl_score_pckmeans.append(cl_score)\n",
    "\n",
    "print(\"Adjusted Random Score KMeans = \"+str(np.mean(random_score_kmeans)))\n",
    "print(\"Adjusted Random Score PCKMeans = \"+str(np.mean(random_score_pckmeans)))\n",
    "print(\"Silhouette Score KMeans = \"+str(np.mean(sil_score_kmeans)))\n",
    "print(\"Silhouette Random Score PCKMeans = \"+str(np.mean(sil_score_pckmeans)))\n",
    "if use_test_constraints:\n",
    "    print(\"Percentage of must link Constraints fulfilled by  KMeans = \"+str(np.mean(ml_score_kmeans)))\n",
    "    print(\"Percentage of must link Constraints fulfilled by  PCKMeans = \"+str(np.mean(ml_score_pckmeans)))\n",
    "    print(\"Percentage of cannot link Constraints fulfilled by  KMeans = \"+str(np.mean(cl_score_kmeans)))\n",
    "    print(\"Percentage of cannot link Constraints fulfilled by  PCKMeans = \"+str(np.mean(cl_score_pckmeans)))\n"
   ]
  },
  {
   "cell_type": "code",
   "execution_count": null,
   "metadata": {
    "pycharm": {
     "name": "#%%\n"
    }
   },
   "outputs": [],
   "source": [
    "#here follow calculations for images due to the large number of queries they need only labeloracle is used\n",
    "#i would not recommend recomputing them\n",
    "\n",
    "#Also all features have to be enabled to calculate the comparision!\n",
    "\n",
    "def plot_metric_over_query(dict_metric,querry_counts,title,y_label, plot_curve=True,plot_error_bars=False):\n",
    "    fig, ax = plt.subplots(1, 1)\n",
    "    fig.dpi=300\n",
    "    ax.set_title(title)\n",
    "    ax.set_xlabel(\"number of queries\")\n",
    "    ax.set_ylabel(y_label)\n",
    "    for key in dict_metric:\n",
    "        score_arr=np.array(dict_metric[key])\n",
    "        train_scores_mean = np.mean(score_arr, axis=1)\n",
    "        train_scores_std = np.std(score_arr, axis=1)\n",
    "\n",
    "        ax.grid()\n",
    "        sample_count=score_arr.shape[1]\n",
    "        inverse_root=2/np.sqrt(sample_count)\n",
    "\n",
    "\n",
    "        if plot_error_bars:\n",
    "            ax.errorbar(querry_counts,train_scores_mean,train_scores_std*inverse_root,label=key)\n",
    "        else:\n",
    "                ax.plot(querry_counts, train_scores_mean, 'o-',\n",
    "                label=key)\n",
    "        if plot_curve:\n",
    "            ax.fill_between(querry_counts, train_scores_mean - train_scores_std*inverse_root,\n",
    "                            train_scores_mean + train_scores_std*inverse_root, alpha=0.2)\n",
    "\n",
    "\n",
    "    #ax.tick_params(labelsize=text_fontsizew)\n",
    "    plt.legend()\n",
    "    plt.show()\n",
    "\n",
    "\n"
   ]
  },
  {
   "cell_type": "code",
   "execution_count": null,
   "metadata": {
    "pycharm": {
     "name": "#%%\n"
    }
   },
   "outputs": [],
   "source": [
    "start=time.time()\n",
    "import multiprocessing\n",
    "pool = multiprocessing.Pool(processes=8)\n",
    "n_cluster=20\n",
    "tries=4\n",
    "kwargs={\"power_of_query_count\":5,\"tries\":tries ,\"use_random_init\":True}\n",
    "kwargs2={\"power_of_query_count\":4,\"tries\":tries,\"use_explore_consolidate\":False}\n",
    "kwargs3={\"power_of_query_count\":4,\"tries\":int(tries/2),\"use_explore_consolidate\":True}\n",
    "async_result1=pool.apply_async(calculate_score_per_query,(features,train_filtered_list,n_cluster,y),kwargs)\n",
    "async_result2=pool.apply_async(calculate_score_per_query,(feature_surf,train_filtered_list,n_cluster,y),kwargs)\n",
    "async_result3=pool.apply_async(calculate_score_per_query,(feature_effnet,train_filtered_list,n_cluster,y),kwargs)\n",
    "async_result4=pool.apply_async(calculate_score_per_query,(feature_cld,train_filtered_list,n_cluster,y),kwargs)\n",
    "async_result5=pool.apply_async(calculate_score_per_query,(feature_hash,train_filtered_list,n_cluster,y),kwargs)\n",
    "async_result6=pool.apply_async(calculate_score_per_query,(feature_orb,train_filtered_list,n_cluster,y),kwargs)\n",
    "async_result7=pool.apply_async(calculate_score_per_query,(features,train_filtered_list,n_cluster,y),kwargs2)\n",
    "async_result8=pool.apply_async(calculate_score_per_query,(features,train_filtered_list,n_cluster,y),kwargs3)\n",
    "\n",
    "values_random,values_sil,_ = async_result1.get(timeout=2800)\n",
    "print(\"1\")\n",
    "print(time.time()-start)\n",
    "values_random_surf,values_sil_surf,_ = async_result2.get(timeout=2800)\n",
    "print(\"2\")\n",
    "print(time.time()-start)\n",
    "values_random_effnet,values_sil_effnet,_ = async_result3.get(timeout=2800)\n",
    "print(\"3\")\n",
    "print(time.time()-start)\n",
    "values_random_cld,values_sil_cld,_=async_result4.get(timeout=2800)\n",
    "print(\"4\")\n",
    "print(time.time()-start)\n",
    "values_random_hash,values_sil_hash,_=async_result5.get(timeout=2800)\n",
    "print(\"5\")\n",
    "print(time.time()-start)\n",
    "values_random_orb,values_sil_orb,querry_counts=async_result6.get(timeout=2800)\n",
    "print(\"6\")\n",
    "print(time.time()-start)\n",
    "values_random_random,values_sil_random,_ = async_result7.get(timeout=1800)\n",
    "print(\"7\")\n",
    "print(time.time()-start)\n",
    "values_random_explore,values_sil_explore,querry_counts2 = async_result8.get(timeout=1800)\n",
    "print(\"8\")\n",
    "pool.close()\n",
    "pool.join()\n",
    "print(time.time()-start)"
   ]
  },
  {
   "cell_type": "code",
   "execution_count": null,
   "metadata": {
    "pycharm": {
     "name": "#%%\n"
    }
   },
   "outputs": [],
   "source": [
    "#Note that in case of an emptycluster exception we simply tried to another run which may introduce a bias for methods generating a lot of emptyclusters when the current clustering is bad"
   ]
  },
  {
   "cell_type": "code",
   "execution_count": null,
   "metadata": {
    "pycharm": {
     "name": "#%%\n"
    }
   },
   "outputs": [],
   "source": [
    "# use standard error insteaf of deviation?\n",
    "plot_metric_over_query({\"all\":values_random},querry_counts,\"Adjusted Random Score for number of queries\",\"Adjusted random score\")"
   ]
  },
  {
   "cell_type": "code",
   "execution_count": null,
   "metadata": {
    "pycharm": {
     "name": "#%%\n"
    }
   },
   "outputs": [],
   "source": [
    "plot_metric_over_query({\"all\":values_sil},querry_counts,\"Silhouette Score for number of queries\",\"Silhouette score\")"
   ]
  },
  {
   "cell_type": "code",
   "execution_count": null,
   "metadata": {
    "pycharm": {
     "name": "#%%\n"
    }
   },
   "outputs": [],
   "source": [
    "\n",
    "dict_random={\"all\":values_random,\"effnet\":values_random_effnet,\"surf\":values_random_surf,\"cld\":values_random_cld,\"ahash\":values_random_hash,\"orb\":values_random_orb}\n",
    "plot_metric_over_query(dict_random,querry_counts,\"\",\"adjusted random score\",plot_curve=True,plot_error_bars=False)\n"
   ]
  },
  {
   "cell_type": "code",
   "execution_count": null,
   "metadata": {
    "pycharm": {
     "name": "#%%\n"
    }
   },
   "outputs": [],
   "source": [
    "dict_sil={\"all\":values_sil,\"effnet\":values_sil_effnet,\"surf\":values_sil_surf,\"cld\":values_sil_cld,\"ahash\":values_sil_hash,\"orb\":values_sil_orb}\n",
    "plot_metric_over_query(dict_sil,querry_counts,\"\",\"silhouette score\")"
   ]
  },
  {
   "cell_type": "code",
   "execution_count": null,
   "metadata": {
    "pycharm": {
     "name": "#%%\n"
    }
   },
   "outputs": [],
   "source": [
    "dict_random={\"random\":values_random_random,\"explore consolidate\":values_random_explore}\n",
    "plot_metric_over_query(dict_random,querry_counts2,\"Adjusted Random Score for number of queries\",\"Adjusted random score\")\n"
   ]
  },
  {
   "cell_type": "code",
   "execution_count": null,
   "metadata": {
    "pycharm": {
     "name": "#%%\n"
    }
   },
   "outputs": [],
   "source": [
    "dict_sul={\"random\":values_sil_random,\"explore consolidate\":values_sil_explore}\n",
    "plot_metric_over_query(dict_sul,querry_counts2,\"Silhouette Score for number of queries\",\"Silhouette score\")"
   ]
  },
  {
   "cell_type": "code",
   "execution_count": null,
   "metadata": {
    "pycharm": {
     "name": "#%%\n"
    }
   },
   "outputs": [],
   "source": []
  },
  {
   "cell_type": "code",
   "execution_count": null,
   "metadata": {
    "pycharm": {
     "name": "#%%\n"
    }
   },
   "outputs": [],
   "source": [
    "start=time.time()\n",
    "import multiprocessing\n",
    "pool = multiprocessing.Pool(processes=8)\n",
    "n_cluster=20\n",
    "tries=4\n",
    "kwargs={\"power_of_query_count\":5,\"tries\":tries}\n",
    "kwargs2={\"power_of_query_count\":5,\"tries\":tries,\"use_explore_consolidate\":False,\"use_random_init\":True}\n",
    "kwargs3={\"power_of_query_count\":5,\"tries\":int(tries/2),\"use_explore_consolidate\":False,\"max_querry\": False}\n",
    "async_result1=pool.apply_async(calculate_score_per_query,(features,train_filtered_list,n_cluster,y),kwargs)\n",
    "async_result2=pool.apply_async(calculate_score_per_query,(features,train_filtered_list,n_cluster,y),kwargs2)\n",
    "async_result3=pool.apply_async(calculate_score_per_query,(features,train_filtered_list,n_cluster,y),kwargs3)\n",
    "\n",
    "\n",
    "values_random_pck,values_sil_pck,_ = async_result1.get(timeout=2800)\n",
    "print(\"1\")\n",
    "print(time.time()-start)\n",
    "values_random_init,values_sil__init,querry_counts3 = async_result2.get(timeout=2800)\n",
    "print(\"2\")\n",
    "print(time.time()-start)\n",
    "values_percentage_label2,values_sil_label2,querry_counts4 = async_result3.get(timeout=2800)\n",
    "#values_percentage_label2,values_sil_label2,querry_counts2 = calculate_score_per_query(features,train_filtered_list,n_cluster,y,#power_of_query_count=4,tries=4,max_querry=False)\n",
    "print(\"3\")\n",
    "pool.close()\n",
    "pool.join()\n",
    "print(time.time()-start)"
   ]
  },
  {
   "cell_type": "code",
   "execution_count": null,
   "metadata": {
    "pycharm": {
     "name": "#%%\n"
    }
   },
   "outputs": [],
   "source": [
    "\n",
    "dict_random={\"default init\":values_random_pck,\"random init\":values_random_init}\n",
    "plot_metric_over_query(dict_random,querry_counts3,\"Adjusted Random Score for number of queries\",\"Adjusted random score\")\n",
    "\n",
    "#Note that random init does better here this does not contradict the other experiment because here we retry when we get a cluster exception introducing a bias in favor of random init"
   ]
  },
  {
   "cell_type": "code",
   "execution_count": null,
   "metadata": {
    "pycharm": {
     "name": "#%%\n"
    }
   },
   "outputs": [],
   "source": []
  },
  {
   "cell_type": "code",
   "execution_count": null,
   "metadata": {
    "pycharm": {
     "name": "#%%\n"
    }
   },
   "outputs": [],
   "source": [
    "#Plots the heuristic query not that for exceptions we simply try again which introduces a bias because only surviving ones are counted\n",
    "fig, ax = plt.subplots(1, 1)\n",
    "fig.dpi=300\n",
    "ax.set_title(\"Percentage Constrains correct using heuristic over different numbers of queries\")\n",
    "ax.set_xlabel(\"Number of queries\")\n",
    "ax.set_ylabel(\"Percentage correct\")\n",
    "#dict_random={\"surf\":values_random_surf,\"cld\":values_random_cld,\"ahash\":values_random_hash}\n",
    "dict_random={\"label2\":values_percentage_label2,}\n",
    "plot_metric_over_query(dict_random,querry_counts4,\"Test for heuristic labeloracle\",\"Percentage must link correct\")"
   ]
  },
  {
   "cell_type": "code",
   "execution_count": null,
   "metadata": {
    "pycharm": {
     "name": "#%%\n"
    }
   },
   "outputs": [],
   "source": []
  },
  {
   "cell_type": "code",
   "execution_count": null,
   "metadata": {
    "pycharm": {
     "name": "#%%\n"
    }
   },
   "outputs": [],
   "source": [
    "test_kmeans = KMeans(n_clusters=20, random_state=0).fit(features)\n",
    "\n",
    "test_feature_1 = np.array(list(train_filtered.map(lambda x: x['surf']).as_numpy_iterator()), dtype=np.float64)\n",
    "test_kmeans_1 = KMeans(n_clusters=20, random_state=0).fit(test_feature_1)\n",
    "\n",
    "test_feature_2 = np.array(list(train_filtered.map(lambda x: x['effnet']).as_numpy_iterator()), dtype=np.float64)\n",
    "test_kmeans_2 = KMeans(n_clusters=20, random_state=0).fit(test_feature_2)\n",
    "\n",
    "test_feature_3 = np.array(list(train_filtered.map(lambda x: x['cld']).as_numpy_iterator()), dtype=np.float64)\n",
    "test_kmeans_3 = KMeans(n_clusters=20, random_state=0).fit(test_feature_3)\n",
    "\n",
    "test_feature_4 = np.array(list(train_filtered.map(lambda x: x['hash']).as_numpy_iterator()), dtype=np.float64)\n",
    "test_kmeans_4 = KMeans(n_clusters=20, random_state=0).fit(test_feature_4)\n",
    "\n",
    "test_feature_5 = np.array(list(train_filtered.map(lambda x: x['orb']).as_numpy_iterator()), dtype=np.float64)\n",
    "test_kmeans_5 = KMeans(n_clusters=20, random_state=0).fit(test_feature_5)"
   ]
  },
  {
   "cell_type": "code",
   "execution_count": null,
   "metadata": {
    "pycharm": {
     "name": "#%%\n"
    }
   },
   "outputs": [],
   "source": [
    "test_pck = PCKMeans(n_clusters=n_cluster,max_iter=100,w=500).fit(features, ml=pairwise_constraints[0], cl=pairwise_constraints[1])\n",
    "\n",
    "test_pck_1 = PCKMeans(n_clusters=n_cluster,max_iter=100,w=500).fit(test_feature_1, ml=pairwise_constraints[0], cl=pairwise_constraints[1])\n",
    "test_pck_2 = PCKMeans(n_clusters=n_cluster,max_iter=100,w=500).fit(test_feature_2, ml=pairwise_constraints[0], cl=pairwise_constraints[1])\n",
    "test_pck_3 = PCKMeans(n_clusters=n_cluster,max_iter=100,w=500).fit(test_feature_3, ml=pairwise_constraints[0], cl=pairwise_constraints[1])\n",
    "test_pck_4 = PCKMeans(n_clusters=n_cluster,max_iter=100,w=500).fit(test_feature_4, ml=pairwise_constraints[0], cl=pairwise_constraints[1])\n",
    "test_pck_5 = PCKMeans(n_clusters=n_cluster,max_iter=100,w=500).fit(test_feature_5, ml=pairwise_constraints[0], cl=pairwise_constraints[1])"
   ]
  },
  {
   "cell_type": "code",
   "execution_count": null,
   "metadata": {
    "pycharm": {
     "name": "#%%\n"
    }
   },
   "outputs": [],
   "source": [
    "from sklearn import metrics\n",
    "import seaborn as sns\n",
    "import pandas as pd\n",
    "\n",
    "def get_metric_scores(X, predicted_y, true_y):\n",
    "    met_adrand = metrics.adjusted_rand_score(true_y, predicted_y)\n",
    "    met_nmi = metrics.normalized_mutual_info_score(true_y, predicted_y)\n",
    "    met_eucsil = metrics.silhouette_score(X, predicted_y, metric='euclidean')\n",
    "    met_cossil = metrics.silhouette_score(X, predicted_y, metric='cosine')\n",
    "    return met_adrand, met_nmi, met_eucsil, met_cossil\n",
    "\n",
    "metric_scores_all = get_metric_scores(features, test_pck.labels_, y)\n",
    "\n",
    "metric_scores_1 = get_metric_scores(test_feature_1, test_kmeans_1.labels_, y)\n",
    "metric_scores_2 = get_metric_scores(test_feature_2, test_kmeans_2.labels_, y)\n",
    "metric_scores_3 = get_metric_scores(test_feature_3, test_kmeans_3.labels_, y)\n",
    "metric_scores_4 = get_metric_scores(test_feature_4, test_kmeans_4.labels_, y)\n",
    "metric_scores_5 = get_metric_scores(test_feature_5, test_kmeans_5.labels_, y)\n",
    "\n",
    "metric_scores_pall = get_metric_scores(features, test_kmeans.labels_, y)\n",
    "\n",
    "metric_scores_p1 = get_metric_scores(test_feature_1, test_pck_1.labels_, y)\n",
    "metric_scores_p2 = get_metric_scores(test_feature_2, test_pck_2.labels_, y)\n",
    "metric_scores_p3 = get_metric_scores(test_feature_3, test_pck_3.labels_, y)\n",
    "metric_scores_p4 = get_metric_scores(test_feature_4, test_pck_4.labels_, y)\n",
    "metric_scores_p5 = get_metric_scores(test_feature_5, test_pck_5.labels_, y)\n",
    "\n",
    "#metric_array = np.array([metric_scores_all, metric_scores_1, metric_scores_2, metric_scores_3, metric_scores_4])\n",
    "\n",
    "metric_dataframe = pd.DataFrame({'adjusted_rand_score' :[metric_scores_all[0], metric_scores_1[0], metric_scores_2[0], metric_scores_3[0], metric_scores_4[0], metric_scores_5[0]\n",
    "                                                         #,metric_scores_pall[0], metric_scores_p1[0], metric_scores_p2[0], metric_scores_p3[0], metric_scores_p4[0], metric_scores_p5[0]\n",
    "                                                        ] , \n",
    "                                 'normalized_mutual_information_score':[metric_scores_all[1], metric_scores_1[1], metric_scores_2[1], metric_scores_3[1], metric_scores_4[1], metric_scores_5[1]\n",
    "                                                                        #,metric_scores_pall[1], metric_scores_p1[1], metric_scores_p2[1], metric_scores_p3[1], metric_scores_p4[1], metric_scores_p5[1]\n",
    "                                                                       ] ,\n",
    "                                 'euclidean_silhouette_score':[metric_scores_all[2], metric_scores_1[2], metric_scores_2[2], metric_scores_3[2], metric_scores_4[2], metric_scores_5[2]\n",
    "                                                               #, metric_scores_pall[2], metric_scores_p1[2], metric_scores_p2[2], metric_scores_p3[2], metric_scores_p4[2], metric_scores_p5[2]\n",
    "                                                              ] ,  \n",
    "                                 'cosine_silhouette_score':[metric_scores_all[3], metric_scores_1[3], metric_scores_2[3], metric_scores_3[3], metric_scores_4[3], metric_scores_5[3]\n",
    "                                                            #,metric_scores_pall[3], metric_scores_p1[3], metric_scores_p2[3], metric_scores_p3[3], metric_scores_p4[3], metric_scores_p5[3]\n",
    "                                                           ],\n",
    "                                 'used_features' : ['all', 'surf', 'effnet', 'cld', 'hash', 'orb'], #, 'all', 'surf', 'effnet', 'cld', 'hash', 'orb'],\n",
    "                                 'ml_model' : ['Kmeans', 'Kmeans', 'Kmeans', 'Kmeans', 'Kmeans', 'Kmeans']})#, 'PCKMeans', 'PCKMeans', 'PCKMeans', 'PCKMeans', 'PCKMeans', 'PCKMeans']})\n",
    "\n",
    "metric_dataframe_pck = pd.DataFrame({'adjusted_rand_score' :[metric_scores_pall[0], metric_scores_p1[0], metric_scores_p2[0], metric_scores_p3[0], metric_scores_p4[0], metric_scores_p5[0]\n",
    "                                                        ] , \n",
    "                                 'normalized_mutual_information_score':[metric_scores_pall[1], metric_scores_p1[1], metric_scores_p2[1], metric_scores_p3[1], metric_scores_p4[1], metric_scores_p5[1]\n",
    "                                                                       ] ,\n",
    "                                 'euclidean_silhouette_score':[metric_scores_pall[2], metric_scores_p1[2], metric_scores_p2[2], metric_scores_p3[2], metric_scores_p4[2], metric_scores_p5[2]\n",
    "                                                              ] ,  \n",
    "                                 'cosine_silhouette_score':[metric_scores_pall[3], metric_scores_p1[3], metric_scores_p2[3], metric_scores_p3[3], metric_scores_p4[3], metric_scores_p5[3]\n",
    "                                                           ],\n",
    "                                 'used_features' : ['all', 'surf', 'effnet', 'cld', 'hash', 'orb'],\n",
    "                                 'ml_model' : ['PCKMeans', 'PCKMeans', 'PCKMeans', 'PCKMeans', 'PCKMeans', 'PCKMeans']})\n",
    "\n",
    "bar_plot_1 = plt.subplots()\n",
    "\n",
    "fig, ax =plt.subplots(1,5, figsize=(20,5))\n",
    "plt.subplots_adjust(wspace=1)\n",
    "sns.set_style(\"whitegrid\")\n",
    "#bar_plot_1 = sns.barplot(x=['adjusted_rand_score', 'normalized_mutual_information_score', 'euclidean_silhouette_score', 'cosine_silhouette_score'], y=np.array(metric_scores))\n",
    "\n",
    "for i in range(4):\n",
    "    bar_plot_1 = sns.barplot(x=metric_dataframe_pck['used_features'], y=metric_dataframe_pck.iloc[:6, i], ax=ax[i], color='red')\n",
    "    bar_plot_1 = sns.barplot(x=metric_dataframe['used_features'], y=metric_dataframe.iloc[:6, i], ax=ax[i], color='blue', alpha=0.5)\n",
    "\n",
    "    bar_plot_1.set(ylim=(-1, 1))\n",
    "    bar_plot_1.set_xticklabels(\n",
    "        bar_plot_1.get_xticklabels(), \n",
    "        rotation=35, \n",
    "        horizontalalignment='right',\n",
    "        fontsize=10)\n",
    "    \n",
    "    bar_plot_1.dpi = 300\n",
    "    bar_plot_1.legend(title='Labels', loc='lower left', labels=['KMeans', 'PCKMeans', 'Overlapping Values'])\n",
    "    leg = bar_plot_1.get_legend()\n",
    "    leg.legendHandles[0].set_color('red')\n",
    "    leg.legendHandles[1].set_color('blue')\n",
    "    leg.legendHandles[2].set_color('purple')\n",
    "fig.show()"
   ]
  },
  {
   "cell_type": "code",
   "execution_count": null,
   "metadata": {
    "pycharm": {
     "name": "#%%\n"
    }
   },
   "outputs": [],
   "source": [
    "multi_labels = np.array(list(train_filtered.map(lambda x: x['labels']).as_numpy_iterator()), dtype=object)\n",
    "multi_labels_frame = pd.DataFrame({ 'multi_label' : multi_labels, 'max_label': y})\n",
    "flat_multi_labels_frame = pd.DataFrame({'a':[y for x in multi_labels_frame['multi_label'] for y in x]})\n",
    "labels_frame_fin = pd.DataFrame({ 'label_name' : _VOC_LABELS, 'multi_labels_count' : flat_multi_labels_frame.groupby('a').size(), 'max_label_count' : multi_labels_frame.groupby('max_label').size()})\n",
    "labels_frame_fin = labels_frame_fin.set_index('label_name')\n",
    "labels_frame_fin['diff'] = labels_frame_fin['multi_labels_count'] - labels_frame_fin['max_label_count']"
   ]
  },
  {
   "cell_type": "code",
   "execution_count": null,
   "metadata": {
    "pycharm": {
     "name": "#%%\n"
    }
   },
   "outputs": [],
   "source": [
    "bp_handle = plt.subplots()\n",
    "bp_handle = sns.barplot(x=labels_frame_fin.index, y=labels_frame_fin['multi_labels_count'], color='red')\n",
    "bp_handle = sns.barplot(x=labels_frame_fin.index, y=labels_frame_fin['max_label_count'], color='orange')\n",
    "bp_handle.dpi = 300\n",
    "\n",
    "bp_handle.set_xticklabels(\n",
    "    bp_handle.get_xticklabels(), \n",
    "    rotation=35, \n",
    "    horizontalalignment='right',\n",
    "    fontsize=10)\n",
    "bp_handle.legend(title='Labels', loc='upper left', labels=['multi labels count', 'max label count'])\n",
    "leg = bp_handle.get_legend()\n",
    "leg.legendHandles[0].set_color('red')\n",
    "leg.legendHandles[1].set_color('orange')"
   ]
  },
  {
   "cell_type": "code",
   "execution_count": null,
   "metadata": {
    "pycharm": {
     "name": "#%%\n"
    }
   },
   "outputs": [],
   "source": [
    "#compare performance of random and default initialization over n runs\n",
    "n_runs = 10\n",
    "ar_score_random = []\n",
    "ar_score_default = []\n",
    "sil_score_random = []\n",
    "sil_score_default = []\n",
    "\n",
    "for run_id in range(n_runs):\n",
    "            pck_random = PCKMeans(n_clusters=n_cluster,max_iter=100,w=500)\n",
    "            #This overrides init with random init\n",
    "            pck_random._initialize_cluster_centers=types.MethodType( initialize_cluster_centers, pck_random)\n",
    "            pck_random.fit(features, ml=pairwise_constraints[0], cl=pairwise_constraints[1])\n",
    "            print(\"ID:\", run_id)\n",
    "            ar_score_random.append(metrics.adjusted_rand_score(y, pck_random.labels_))\n",
    "            sil_score_random.append(metrics.silhouette_score(features, pck_random.labels_))\n",
    "           #same with default init\n",
    "            pck_default = PCKMeans(n_clusters=n_cluster,max_iter=100,w=500)\n",
    "            pck_default.fit(features, ml=pairwise_constraints[0], cl=pairwise_constraints[1])\n",
    "            print(\"ID:\", run_id)\n",
    "            ar_score_default.append(metrics.adjusted_rand_score(y, pck_default.labels_))\n",
    "            sil_score_default.append(metrics.silhouette_score(features, pck_default.labels_))\n",
    "\n",
    "def addlabels(x,y):\n",
    "    for i in range(len(x)):\n",
    "        plt.text(i, y[i], format(y[i], \".3f\"), ha = 'center')\n",
    "\n",
    "ar_mean = np.mean(ar_score_random)\n",
    "ar_mean_ = np.mean(ar_score_default)\n",
    "print(np.mean(ar_score_random))\n",
    "print(np.mean(ar_score_default))\n",
    "bars = [\"Random init\", \"default init\"]\n",
    "height = [ar_mean, ar_mean_]\n",
    "\n",
    "fig = plt.figure()\n",
    "ax = fig.add_axes([0,0,1,1])\n",
    "y_pos = np.arange(len(bars))\n",
    "ax.bar(y_pos, height)\n",
    "addlabels(bars, height)\n",
    "ax.set_ylabel('mean adjusted rand score')\n",
    "ax.set_title('Mean adjusted rand score comparison between random init and default init for 10 runs')\n",
    "plt.xticks(y_pos, bars)\n",
    "plt.show()\n",
    "\n",
    "\n",
    "sil_mean = np.mean(sil_score_random)\n",
    "sil_mean_ = np.mean(sil_score_default)\n",
    "print(sil_mean)\n",
    "print(sil_mean_)\n",
    "bars = (\"Random init\", \"default init\")\n",
    "height = (sil_mean, sil_mean_)\n",
    "\n",
    "fig = plt.figure()\n",
    "ax = fig.add_axes([0,0,1,1])\n",
    "y_pos = np.arange(len(bars))\n",
    "ax.bar(y_pos, height)\n",
    "addlabels(bars, height)\n",
    "ax.set_ylabel('mean silhouette score')\n",
    "ax.set_title('Mean silhouette score comparison between random init and default init for 10 runs')\n",
    "plt.xticks(y_pos, bars)\n",
    "plt.show()"
   ]
  },
  {
   "cell_type": "code",
   "execution_count": null,
   "metadata": {
    "jupyter": {
     "outputs_hidden": false
    },
    "pycharm": {
     "name": "#%%\n"
    }
   },
   "outputs": [],
   "source": [
    "#"
   ]
  },
  {
   "cell_type": "code",
   "execution_count": null,
   "metadata": {
    "jupyter": {
     "outputs_hidden": false
    },
    "pycharm": {
     "name": "#%%\n"
    }
   },
   "outputs": [],
   "source": []
  },
  {
   "cell_type": "code",
   "execution_count": null,
   "metadata": {
    "jupyter": {
     "outputs_hidden": false
    },
    "pycharm": {
     "name": "#%%\n"
    }
   },
   "outputs": [],
   "source": []
  }
 ],
 "metadata": {
  "kernelspec": {
   "display_name": "Python 3 (ipykernel)",
   "language": "python",
   "name": "python3"
  },
  "language_info": {
   "codemirror_mode": {
    "name": "ipython",
    "version": 3
   },
   "file_extension": ".py",
   "mimetype": "text/x-python",
   "name": "python",
   "nbconvert_exporter": "python",
   "pygments_lexer": "ipython3",
   "version": "3.7.13"
  }
 },
 "nbformat": 4,
 "nbformat_minor": 4
}
