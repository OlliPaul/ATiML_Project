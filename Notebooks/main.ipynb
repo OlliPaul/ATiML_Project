{
 "cells": [
  {
   "cell_type": "code",
   "execution_count": 26,
   "metadata": {
    "execution": {
     "iopub.execute_input": "2022-06-17T14:31:39.034916Z",
     "iopub.status.busy": "2022-06-17T14:31:39.034532Z",
     "iopub.status.idle": "2022-06-17T14:31:40.786956Z",
     "shell.execute_reply": "2022-06-17T14:31:40.786424Z",
     "shell.execute_reply.started": "2022-06-17T14:31:39.034876Z"
    },
    "pycharm": {
     "name": "#%%\n"
    },
    "tags": []
   },
   "outputs": [
    {
     "name": "stdout",
     "output_type": "stream",
     "text": [
      "Requirement already satisfied: sklearn in /home/roberteichner/anaconda3/envs/con_clust/lib/python3.7/site-packages (from -r ../requirements.txt (line 1)) (0.0)\n",
      "Requirement already satisfied: opencv-contrib-python==3.4.2.17 in /home/roberteichner/anaconda3/envs/con_clust/lib/python3.7/site-packages (from -r ../requirements.txt (line 2)) (3.4.2.17)\n",
      "Requirement already satisfied: tensorflow in /home/roberteichner/anaconda3/envs/con_clust/lib/python3.7/site-packages (from -r ../requirements.txt (line 3)) (2.9.0)\n",
      "Requirement already satisfied: matplotlib in /home/roberteichner/anaconda3/envs/con_clust/lib/python3.7/site-packages (from -r ../requirements.txt (line 4)) (3.5.2)\n",
      "Requirement already satisfied: tensorflow-datasets in /home/roberteichner/anaconda3/envs/con_clust/lib/python3.7/site-packages (from -r ../requirements.txt (line 5)) (4.5.2)\n",
      "Requirement already satisfied: active-semi-supervised-clustering in /home/roberteichner/anaconda3/envs/con_clust/lib/python3.7/site-packages (from -r ../requirements.txt (line 6)) (0.0.1)\n",
      "Requirement already satisfied: shap in /home/roberteichner/anaconda3/envs/con_clust/lib/python3.7/site-packages (from -r ../requirements.txt (line 7)) (0.40.0)\n",
      "Requirement already satisfied: lime in /home/roberteichner/anaconda3/envs/con_clust/lib/python3.7/site-packages (from -r ../requirements.txt (line 8)) (0.2.0.1)\n",
      "Requirement already satisfied: imagehash in /home/roberteichner/anaconda3/envs/con_clust/lib/python3.7/site-packages (from -r ../requirements.txt (line 9)) (4.2.1)\n",
      "Requirement already satisfied: scikit-learn-extra in /home/roberteichner/anaconda3/envs/con_clust/lib/python3.7/site-packages (from -r ../requirements.txt (line 10)) (0.2.0)\n",
      "Requirement already satisfied: seaborn in /home/roberteichner/anaconda3/envs/con_clust/lib/python3.7/site-packages (from -r ../requirements.txt (line 11)) (0.11.2)\n",
      "Requirement already satisfied: numpy>=1.14.5 in /home/roberteichner/anaconda3/envs/con_clust/lib/python3.7/site-packages (from opencv-contrib-python==3.4.2.17->-r ../requirements.txt (line 2)) (1.21.6)\n",
      "Requirement already satisfied: scikit-learn in /home/roberteichner/anaconda3/envs/con_clust/lib/python3.7/site-packages (from sklearn->-r ../requirements.txt (line 1)) (1.0.2)\n",
      "Requirement already satisfied: opt-einsum>=2.3.2 in /home/roberteichner/anaconda3/envs/con_clust/lib/python3.7/site-packages (from tensorflow->-r ../requirements.txt (line 3)) (3.3.0)\n",
      "Requirement already satisfied: grpcio<2.0,>=1.24.3 in /home/roberteichner/anaconda3/envs/con_clust/lib/python3.7/site-packages (from tensorflow->-r ../requirements.txt (line 3)) (1.46.1)\n",
      "Requirement already satisfied: tensorboard<2.10,>=2.9 in /home/roberteichner/anaconda3/envs/con_clust/lib/python3.7/site-packages (from tensorflow->-r ../requirements.txt (line 3)) (2.9.0)\n",
      "Requirement already satisfied: setuptools in /home/roberteichner/anaconda3/envs/con_clust/lib/python3.7/site-packages (from tensorflow->-r ../requirements.txt (line 3)) (61.2.0)\n",
      "Requirement already satisfied: termcolor>=1.1.0 in /home/roberteichner/anaconda3/envs/con_clust/lib/python3.7/site-packages (from tensorflow->-r ../requirements.txt (line 3)) (1.1.0)\n",
      "Requirement already satisfied: typing-extensions>=3.6.6 in /home/roberteichner/anaconda3/envs/con_clust/lib/python3.7/site-packages (from tensorflow->-r ../requirements.txt (line 3)) (4.2.0)\n",
      "Requirement already satisfied: h5py>=2.9.0 in /home/roberteichner/anaconda3/envs/con_clust/lib/python3.7/site-packages (from tensorflow->-r ../requirements.txt (line 3)) (3.6.0)\n",
      "Requirement already satisfied: gast<=0.4.0,>=0.2.1 in /home/roberteichner/anaconda3/envs/con_clust/lib/python3.7/site-packages (from tensorflow->-r ../requirements.txt (line 3)) (0.4.0)\n",
      "Requirement already satisfied: protobuf>=3.9.2 in /home/roberteichner/anaconda3/envs/con_clust/lib/python3.7/site-packages (from tensorflow->-r ../requirements.txt (line 3)) (3.20.1)\n",
      "Requirement already satisfied: astunparse>=1.6.0 in /home/roberteichner/anaconda3/envs/con_clust/lib/python3.7/site-packages (from tensorflow->-r ../requirements.txt (line 3)) (1.6.3)\n",
      "Requirement already satisfied: packaging in /home/roberteichner/anaconda3/envs/con_clust/lib/python3.7/site-packages (from tensorflow->-r ../requirements.txt (line 3)) (21.3)\n",
      "Requirement already satisfied: google-pasta>=0.1.1 in /home/roberteichner/anaconda3/envs/con_clust/lib/python3.7/site-packages (from tensorflow->-r ../requirements.txt (line 3)) (0.2.0)\n",
      "Requirement already satisfied: tensorflow-estimator<2.10.0,>=2.9.0rc0 in /home/roberteichner/anaconda3/envs/con_clust/lib/python3.7/site-packages (from tensorflow->-r ../requirements.txt (line 3)) (2.9.0)\n",
      "Requirement already satisfied: keras<2.10.0,>=2.9.0rc0 in /home/roberteichner/anaconda3/envs/con_clust/lib/python3.7/site-packages (from tensorflow->-r ../requirements.txt (line 3)) (2.9.0)\n",
      "Requirement already satisfied: absl-py>=1.0.0 in /home/roberteichner/anaconda3/envs/con_clust/lib/python3.7/site-packages (from tensorflow->-r ../requirements.txt (line 3)) (1.0.0)\n",
      "Requirement already satisfied: flatbuffers<2,>=1.12 in /home/roberteichner/anaconda3/envs/con_clust/lib/python3.7/site-packages (from tensorflow->-r ../requirements.txt (line 3)) (1.12)\n",
      "Requirement already satisfied: tensorflow-io-gcs-filesystem>=0.23.1 in /home/roberteichner/anaconda3/envs/con_clust/lib/python3.7/site-packages (from tensorflow->-r ../requirements.txt (line 3)) (0.26.0)\n",
      "Requirement already satisfied: wrapt>=1.11.0 in /home/roberteichner/anaconda3/envs/con_clust/lib/python3.7/site-packages (from tensorflow->-r ../requirements.txt (line 3)) (1.14.1)\n",
      "Requirement already satisfied: libclang>=13.0.0 in /home/roberteichner/anaconda3/envs/con_clust/lib/python3.7/site-packages (from tensorflow->-r ../requirements.txt (line 3)) (14.0.1)\n",
      "Requirement already satisfied: six>=1.12.0 in /home/roberteichner/anaconda3/envs/con_clust/lib/python3.7/site-packages (from tensorflow->-r ../requirements.txt (line 3)) (1.16.0)\n",
      "Requirement already satisfied: keras-preprocessing>=1.1.1 in /home/roberteichner/anaconda3/envs/con_clust/lib/python3.7/site-packages (from tensorflow->-r ../requirements.txt (line 3)) (1.1.2)\n",
      "Requirement already satisfied: pillow>=6.2.0 in /home/roberteichner/anaconda3/envs/con_clust/lib/python3.7/site-packages (from matplotlib->-r ../requirements.txt (line 4)) (9.1.1)\n",
      "Requirement already satisfied: kiwisolver>=1.0.1 in /home/roberteichner/anaconda3/envs/con_clust/lib/python3.7/site-packages (from matplotlib->-r ../requirements.txt (line 4)) (1.4.2)\n",
      "Requirement already satisfied: python-dateutil>=2.7 in /home/roberteichner/anaconda3/envs/con_clust/lib/python3.7/site-packages (from matplotlib->-r ../requirements.txt (line 4)) (2.8.2)\n",
      "Requirement already satisfied: fonttools>=4.22.0 in /home/roberteichner/anaconda3/envs/con_clust/lib/python3.7/site-packages (from matplotlib->-r ../requirements.txt (line 4)) (4.33.3)\n",
      "Requirement already satisfied: pyparsing>=2.2.1 in /home/roberteichner/anaconda3/envs/con_clust/lib/python3.7/site-packages (from matplotlib->-r ../requirements.txt (line 4)) (3.0.9)\n",
      "Requirement already satisfied: cycler>=0.10 in /home/roberteichner/anaconda3/envs/con_clust/lib/python3.7/site-packages (from matplotlib->-r ../requirements.txt (line 4)) (0.11.0)\n",
      "Requirement already satisfied: promise in /home/roberteichner/anaconda3/envs/con_clust/lib/python3.7/site-packages (from tensorflow-datasets->-r ../requirements.txt (line 5)) (2.3)\n",
      "Requirement already satisfied: tensorflow-metadata in /home/roberteichner/anaconda3/envs/con_clust/lib/python3.7/site-packages (from tensorflow-datasets->-r ../requirements.txt (line 5)) (1.8.0)\n",
      "Requirement already satisfied: tqdm in /home/roberteichner/anaconda3/envs/con_clust/lib/python3.7/site-packages (from tensorflow-datasets->-r ../requirements.txt (line 5)) (4.64.0)\n",
      "Requirement already satisfied: importlib-resources in /home/roberteichner/anaconda3/envs/con_clust/lib/python3.7/site-packages (from tensorflow-datasets->-r ../requirements.txt (line 5)) (5.7.1)\n",
      "Requirement already satisfied: requests>=2.19.0 in /home/roberteichner/anaconda3/envs/con_clust/lib/python3.7/site-packages (from tensorflow-datasets->-r ../requirements.txt (line 5)) (2.27.1)\n",
      "Requirement already satisfied: dill in /home/roberteichner/anaconda3/envs/con_clust/lib/python3.7/site-packages (from tensorflow-datasets->-r ../requirements.txt (line 5)) (0.3.4)\n",
      "Requirement already satisfied: metric-learn>=0.4 in /home/roberteichner/anaconda3/envs/con_clust/lib/python3.7/site-packages (from active-semi-supervised-clustering->-r ../requirements.txt (line 6)) (0.6.2)\n",
      "Requirement already satisfied: scipy in /home/roberteichner/anaconda3/envs/con_clust/lib/python3.7/site-packages (from active-semi-supervised-clustering->-r ../requirements.txt (line 6)) (1.7.3)\n",
      "Requirement already satisfied: slicer==0.0.7 in /home/roberteichner/anaconda3/envs/con_clust/lib/python3.7/site-packages (from shap->-r ../requirements.txt (line 7)) (0.0.7)\n",
      "Requirement already satisfied: numba in /home/roberteichner/anaconda3/envs/con_clust/lib/python3.7/site-packages (from shap->-r ../requirements.txt (line 7)) (0.55.2)\n",
      "Requirement already satisfied: pandas in /home/roberteichner/anaconda3/envs/con_clust/lib/python3.7/site-packages (from shap->-r ../requirements.txt (line 7)) (1.3.5)\n",
      "Requirement already satisfied: cloudpickle in /home/roberteichner/anaconda3/envs/con_clust/lib/python3.7/site-packages (from shap->-r ../requirements.txt (line 7)) (2.1.0)\n",
      "Requirement already satisfied: scikit-image>=0.12 in /home/roberteichner/anaconda3/envs/con_clust/lib/python3.7/site-packages (from lime->-r ../requirements.txt (line 8)) (0.19.2)\n",
      "Requirement already satisfied: PyWavelets in /home/roberteichner/anaconda3/envs/con_clust/lib/python3.7/site-packages (from imagehash->-r ../requirements.txt (line 9)) (1.3.0)\n",
      "Requirement already satisfied: wheel<1.0,>=0.23.0 in /home/roberteichner/anaconda3/envs/con_clust/lib/python3.7/site-packages (from astunparse>=1.6.0->tensorflow->-r ../requirements.txt (line 3)) (0.37.1)\n",
      "Requirement already satisfied: cached-property in /home/roberteichner/anaconda3/envs/con_clust/lib/python3.7/site-packages (from h5py>=2.9.0->tensorflow->-r ../requirements.txt (line 3)) (1.5.2)\n",
      "Requirement already satisfied: pytz>=2017.3 in /home/roberteichner/anaconda3/envs/con_clust/lib/python3.7/site-packages (from pandas->shap->-r ../requirements.txt (line 7)) (2022.1)\n",
      "Requirement already satisfied: urllib3<1.27,>=1.21.1 in /home/roberteichner/anaconda3/envs/con_clust/lib/python3.7/site-packages (from requests>=2.19.0->tensorflow-datasets->-r ../requirements.txt (line 5)) (1.26.9)\n",
      "Requirement already satisfied: certifi>=2017.4.17 in /home/roberteichner/anaconda3/envs/con_clust/lib/python3.7/site-packages (from requests>=2.19.0->tensorflow-datasets->-r ../requirements.txt (line 5)) (2021.10.8)\n",
      "Requirement already satisfied: charset-normalizer~=2.0.0 in /home/roberteichner/anaconda3/envs/con_clust/lib/python3.7/site-packages (from requests>=2.19.0->tensorflow-datasets->-r ../requirements.txt (line 5)) (2.0.12)\n",
      "Requirement already satisfied: idna<4,>=2.5 in /home/roberteichner/anaconda3/envs/con_clust/lib/python3.7/site-packages (from requests>=2.19.0->tensorflow-datasets->-r ../requirements.txt (line 5)) (3.3)\n",
      "Requirement already satisfied: imageio>=2.4.1 in /home/roberteichner/anaconda3/envs/con_clust/lib/python3.7/site-packages (from scikit-image>=0.12->lime->-r ../requirements.txt (line 8)) (2.19.2)\n",
      "Requirement already satisfied: tifffile>=2019.7.26 in /home/roberteichner/anaconda3/envs/con_clust/lib/python3.7/site-packages (from scikit-image>=0.12->lime->-r ../requirements.txt (line 8)) (2021.11.2)\n",
      "Requirement already satisfied: networkx>=2.2 in /home/roberteichner/anaconda3/envs/con_clust/lib/python3.7/site-packages (from scikit-image>=0.12->lime->-r ../requirements.txt (line 8)) (2.6.3)\n",
      "Requirement already satisfied: joblib>=0.11 in /home/roberteichner/anaconda3/envs/con_clust/lib/python3.7/site-packages (from scikit-learn->sklearn->-r ../requirements.txt (line 1)) (1.1.0)\n",
      "Requirement already satisfied: threadpoolctl>=2.0.0 in /home/roberteichner/anaconda3/envs/con_clust/lib/python3.7/site-packages (from scikit-learn->sklearn->-r ../requirements.txt (line 1)) (3.1.0)\n",
      "Requirement already satisfied: google-auth-oauthlib<0.5,>=0.4.1 in /home/roberteichner/anaconda3/envs/con_clust/lib/python3.7/site-packages (from tensorboard<2.10,>=2.9->tensorflow->-r ../requirements.txt (line 3)) (0.4.6)\n",
      "Requirement already satisfied: werkzeug>=1.0.1 in /home/roberteichner/anaconda3/envs/con_clust/lib/python3.7/site-packages (from tensorboard<2.10,>=2.9->tensorflow->-r ../requirements.txt (line 3)) (2.1.2)\n",
      "Requirement already satisfied: markdown>=2.6.8 in /home/roberteichner/anaconda3/envs/con_clust/lib/python3.7/site-packages (from tensorboard<2.10,>=2.9->tensorflow->-r ../requirements.txt (line 3)) (3.3.7)\n",
      "Requirement already satisfied: google-auth<3,>=1.6.3 in /home/roberteichner/anaconda3/envs/con_clust/lib/python3.7/site-packages (from tensorboard<2.10,>=2.9->tensorflow->-r ../requirements.txt (line 3)) (2.6.6)\n",
      "Requirement already satisfied: tensorboard-plugin-wit>=1.6.0 in /home/roberteichner/anaconda3/envs/con_clust/lib/python3.7/site-packages (from tensorboard<2.10,>=2.9->tensorflow->-r ../requirements.txt (line 3)) (1.8.1)\n",
      "Requirement already satisfied: tensorboard-data-server<0.7.0,>=0.6.0 in /home/roberteichner/anaconda3/envs/con_clust/lib/python3.7/site-packages (from tensorboard<2.10,>=2.9->tensorflow->-r ../requirements.txt (line 3)) (0.6.1)\n",
      "Requirement already satisfied: rsa<5,>=3.1.4 in /home/roberteichner/anaconda3/envs/con_clust/lib/python3.7/site-packages (from google-auth<3,>=1.6.3->tensorboard<2.10,>=2.9->tensorflow->-r ../requirements.txt (line 3)) (4.8)\n",
      "Requirement already satisfied: pyasn1-modules>=0.2.1 in /home/roberteichner/anaconda3/envs/con_clust/lib/python3.7/site-packages (from google-auth<3,>=1.6.3->tensorboard<2.10,>=2.9->tensorflow->-r ../requirements.txt (line 3)) (0.2.8)\n",
      "Requirement already satisfied: cachetools<6.0,>=2.0.0 in /home/roberteichner/anaconda3/envs/con_clust/lib/python3.7/site-packages (from google-auth<3,>=1.6.3->tensorboard<2.10,>=2.9->tensorflow->-r ../requirements.txt (line 3)) (5.1.0)\n",
      "Requirement already satisfied: requests-oauthlib>=0.7.0 in /home/roberteichner/anaconda3/envs/con_clust/lib/python3.7/site-packages (from google-auth-oauthlib<0.5,>=0.4.1->tensorboard<2.10,>=2.9->tensorflow->-r ../requirements.txt (line 3)) (1.3.1)\n",
      "Requirement already satisfied: importlib-metadata>=4.4 in /home/roberteichner/anaconda3/envs/con_clust/lib/python3.7/site-packages (from markdown>=2.6.8->tensorboard<2.10,>=2.9->tensorflow->-r ../requirements.txt (line 3)) (4.11.3)\n",
      "Requirement already satisfied: zipp>=0.5 in /home/roberteichner/anaconda3/envs/con_clust/lib/python3.7/site-packages (from importlib-metadata>=4.4->markdown>=2.6.8->tensorboard<2.10,>=2.9->tensorflow->-r ../requirements.txt (line 3)) (3.8.0)\n",
      "Requirement already satisfied: pyasn1<0.5.0,>=0.4.6 in /home/roberteichner/anaconda3/envs/con_clust/lib/python3.7/site-packages (from pyasn1-modules>=0.2.1->google-auth<3,>=1.6.3->tensorboard<2.10,>=2.9->tensorflow->-r ../requirements.txt (line 3)) (0.4.8)\n",
      "Requirement already satisfied: oauthlib>=3.0.0 in /home/roberteichner/anaconda3/envs/con_clust/lib/python3.7/site-packages (from requests-oauthlib>=0.7.0->google-auth-oauthlib<0.5,>=0.4.1->tensorboard<2.10,>=2.9->tensorflow->-r ../requirements.txt (line 3)) (3.2.0)\n",
      "Requirement already satisfied: llvmlite<0.39,>=0.38.0rc1 in /home/roberteichner/anaconda3/envs/con_clust/lib/python3.7/site-packages (from numba->shap->-r ../requirements.txt (line 7)) (0.38.1)\n",
      "Requirement already satisfied: googleapis-common-protos<2,>=1.52.0 in /home/roberteichner/anaconda3/envs/con_clust/lib/python3.7/site-packages (from tensorflow-metadata->tensorflow-datasets->-r ../requirements.txt (line 5)) (1.56.1)\n"
     ]
    }
   ],
   "source": [
    "#For this notebook python 3.7 is needed\n",
    "#you can change the variables between comments which specify it\n",
    "\n",
    "!pip install -r ../requirements.txt"
   ]
  },
  {
   "cell_type": "code",
   "execution_count": null,
   "metadata": {
    "pycharm": {
     "name": "#%%\n"
    }
   },
   "outputs": [],
   "source": []
  },
  {
   "cell_type": "code",
   "execution_count": 27,
   "metadata": {
    "execution": {
     "iopub.execute_input": "2022-06-17T14:31:40.788227Z",
     "iopub.status.busy": "2022-06-17T14:31:40.788060Z",
     "iopub.status.idle": "2022-06-17T14:31:40.796055Z",
     "shell.execute_reply": "2022-06-17T14:31:40.795414Z",
     "shell.execute_reply.started": "2022-06-17T14:31:40.788206Z"
    },
    "pycharm": {
     "name": "#%%\n"
    },
    "tags": []
   },
   "outputs": [],
   "source": [
    "import cv2 as cv\n",
    "import numpy as np\n",
    "import tensorflow as tf\n",
    "import tensorflow_datasets as tfds\n",
    "from matplotlib import pyplot as plt\n",
    "from sklearn.cluster import KMeans, AgglomerativeClustering\n",
    "from sklearn import metrics\n",
    "from sklearn.neighbors import NearestNeighbors\n",
    "from active_semi_clustering.semi_supervised.pairwise_constraints import PCKMeans,COPKMeans, MPCKMeansMF, MPCKMeans\n",
    "from active_semi_clustering.active.pairwise_constraints import ExampleOracle, ExploreConsolidate, MinMax\n",
    "import active_semi_clustering.active.pairwise_constraints.random\n",
    "import pickle\n",
    "import time\n",
    "from sklearn.ensemble import RandomForestClassifier\n",
    "from sklearn.linear_model import LogisticRegression\n",
    "from sklearn.metrics import accuracy_score\n",
    "from sklearn.linear_model import SGDClassifier\n",
    "from sklearn.naive_bayes import GaussianNB\n",
    "import shap\n",
    "import imagehash\n",
    "from PIL import Image\n",
    "from operator import itemgetter\n",
    "\n",
    "from Helper import LabelOracle,get_max_label_helper,average_hashing,color_layout_descriptor,filter_dataset,cluster_histogramm,KMajority,calculate_score_per_query, ExpertOracle"
   ]
  },
  {
   "cell_type": "code",
   "execution_count": 28,
   "metadata": {
    "execution": {
     "iopub.execute_input": "2022-06-17T14:31:40.797151Z",
     "iopub.status.busy": "2022-06-17T14:31:40.796911Z",
     "iopub.status.idle": "2022-06-17T14:31:42.241756Z",
     "shell.execute_reply": "2022-06-17T14:31:42.241269Z",
     "shell.execute_reply.started": "2022-06-17T14:31:40.797129Z"
    },
    "jupyter": {
     "source_hidden": true
    },
    "pycharm": {
     "name": "#%%\n"
    },
    "tags": []
   },
   "outputs": [],
   "source": [
    "builder = tfds.builder('voc/2007')\n",
    "builder.download_and_prepare()\n",
    "datasets = builder.as_dataset()\n",
    "train_data, val_data, test_data = datasets['train'], datasets['validation'], datasets['test']\n",
    "\n",
    "_VOC_LABELS = (\n",
    "    \"aeroplane\",\n",
    "    \"bicycle\",\n",
    "    \"bird\",\n",
    "    \"boat\",\n",
    "    \"bottle\",\n",
    "    \"bus\",\n",
    "    \"car\",\n",
    "    \"cat\",\n",
    "    \"chair\",\n",
    "    \"cow\",\n",
    "    \"diningtable\",\n",
    "    \"dog\",\n",
    "    \"horse\",\n",
    "    \"motorbike\",\n",
    "    \"person\",\n",
    "    \"pottedplant\",\n",
    "    \"sheep\",\n",
    "    \"sofa\",\n",
    "    \"train\",\n",
    "    \"tvmonitor\",\n",
    ")"
   ]
  },
  {
   "cell_type": "code",
   "execution_count": 29,
   "metadata": {
    "execution": {
     "iopub.execute_input": "2022-06-17T14:31:42.243855Z",
     "iopub.status.busy": "2022-06-17T14:31:42.243459Z",
     "iopub.status.idle": "2022-06-17T14:31:43.807678Z",
     "shell.execute_reply": "2022-06-17T14:31:43.807134Z",
     "shell.execute_reply.started": "2022-06-17T14:31:42.243827Z"
    },
    "pycharm": {
     "name": "#%%\n"
    }
   },
   "outputs": [
    {
     "data": {
      "image/png": "[encoded data removed]",
      "text/plain": [
       "<Figure size 432x288 with 1 Axes>"
      ]
     },
     "metadata": {
      "needs_background": "light"
     },
     "output_type": "display_data"
    }
   ],
   "source": [
    "#TODO print some more images?\n",
    "for x in train_data:\n",
    "    image = x[\"image\"]\n",
    "    plt.imshow(image)\n",
    "    plt.show()\n",
    "    break"
   ]
  },
  {
   "cell_type": "code",
   "execution_count": 30,
   "metadata": {
    "collapsed": false,
    "execution": {
     "iopub.execute_input": "2022-06-17T14:31:43.808934Z",
     "iopub.status.busy": "2022-06-17T14:31:43.808673Z",
     "iopub.status.idle": "2022-06-17T14:31:44.685768Z",
     "shell.execute_reply": "2022-06-17T14:31:44.683760Z",
     "shell.execute_reply.started": "2022-06-17T14:31:43.808907Z"
    },
    "jupyter": {
     "outputs_hidden": false
    },
    "pycharm": {
     "name": "#%%\n"
    }
   },
   "outputs": [],
   "source": [
    "\n",
    "LOAD_CONSTRAINTS=False\n",
    "\n",
    "# Here features could be disabled but then comparison in the end will not work\n",
    "\n",
    "CLD_ENABLED = True\n",
    "\n",
    "EFFNET_ENABLED = True\n",
    "\n",
    "HASHING_ENABLED = True\n",
    "\n",
    "SURF_ENABLED = True\n",
    "\n",
    "ORB_ENABLED = True\n",
    "\n",
    "enabled_names = []\n",
    "feature_weights=[]\n",
    "\n",
    "if CLD_ENABLED:\n",
    "    enabled_names.append(\"cld\")\n",
    "    feature_weights.append(0.0065)\n",
    "\n",
    "\n",
    "if EFFNET_ENABLED:\n",
    "    enabled_names.append(\"effnet\")\n",
    "    feature_weights.append(2)\n",
    "\n",
    "pooling=\"avg\"\n",
    "\n",
    "\n",
    "if HASHING_ENABLED:\n",
    "    enabled_names.append(\"hash\")\n",
    "    feature_weights.append(0.45)\n",
    "\n",
    "if SURF_ENABLED:\n",
    "    enabled_names.append(\"surf\")\n",
    "    feature_weights.append(1.0)\n",
    "\n",
    "if ORB_ENABLED:\n",
    "    enabled_names.append(\"orb\")\n",
    "    feature_weights.append(1.0)"
   ]
  },
  {
   "cell_type": "code",
   "execution_count": null,
   "metadata": {
    "collapsed": false,
    "jupyter": {
     "outputs_hidden": false
    },
    "pycharm": {
     "name": "#%%\n"
    }
   },
   "outputs": [],
   "source": []
  },
  {
   "cell_type": "code",
   "execution_count": 31,
   "metadata": {
    "collapsed": false,
    "execution": {
     "iopub.execute_input": "2022-06-17T14:31:44.689411Z",
     "iopub.status.busy": "2022-06-17T14:31:44.688844Z",
     "iopub.status.idle": "2022-06-17T14:31:47.626091Z",
     "shell.execute_reply": "2022-06-17T14:31:47.625572Z",
     "shell.execute_reply.started": "2022-06-17T14:31:44.689340Z"
    },
    "jupyter": {
     "outputs_hidden": false
    },
    "pycharm": {
     "name": "#%%\n"
    }
   },
   "outputs": [],
   "source": [
    "if EFFNET_ENABLED:\n",
    "    effnet = tf.keras.applications.EfficientNetV2B1(\n",
    "        include_top=False,\n",
    "        weights=\"imagenet\",\n",
    "        input_tensor=None,\n",
    "        input_shape=None,\n",
    "        pooling=pooling,\n",
    "        classes=1000,\n",
    "        classifier_activation=\"softmax\",\n",
    "        include_preprocessing=True,\n",
    ")\n",
    "#Preparing surf features\n",
    "surf_clusers=1000\n",
    "if SURF_ENABLED:\n",
    "        surf = cv.xfeatures2d.SURF_create(hessianThreshold = 25,upright =True,extended  =True)\n",
    "        def calculate_surf_image(surf,img):\n",
    "            kp = surf.detect(img,None)\n",
    "            kp, des = surf.compute(img, kp)\n",
    "            return des\n",
    "\n",
    "        def calculate_surf(image_list):\n",
    "            des=list(map(lambda x : calculate_surf_image(surf,x),image_list))\n",
    "            return np.vstack(des)\n",
    "\n",
    "        try:\n",
    "            with open(\"data/k_means_surf.pkl\", \"rb\") as f:\n",
    "                k_means_surf = pickle.load(f)\n",
    "        except:\n",
    "            image_list = list(train_data.map(lambda x: x['image']).as_numpy_iterator())\n",
    "            descriptors=calculate_surf(image_list)\n",
    "            print(len(descriptors))\n",
    "            from sklearn.cluster import MiniBatchKMeans\n",
    "            k_means_surf=MiniBatchKMeans(n_clusters=surf_clusers,reassignment_ratio=0.02,n_init=4,max_iter=200,batch_size=10000)\n",
    "            print(\"test\")\n",
    "            start=time.time()\n",
    "\n",
    "            k_means_surf.fit(descriptors)\n",
    "            print(time.time()-start)\n",
    "            print(metrics.calinski_harabasz_score(descriptors, k_means_surf.predict(descriptors)))\n",
    "\n",
    "            with open(\"data/k_means_surf.pkl\", \"wb\") as f:\n",
    "                pickle.dump(k_means_surf, f)\n",
    "\n",
    "        def calculate_bow(ima):\n",
    "            histogram=np.zeros((surf_clusers))\n",
    "            des=calculate_surf_image(surf,ima.numpy().astype(np.uint8))\n",
    "            index=k_means_surf.predict(des)\n",
    "            np.add.at(histogram,index,1)\n",
    "            return histogram\n",
    "\n",
    "orb_clusters=1000\n",
    "if ORB_ENABLED:\n",
    "    orb= cv.ORB_create()\n",
    "    def calculate_orb_image(orb,image):\n",
    "        kp = orb.detect(image,None)\n",
    "        kp, des = orb.compute(image, kp)\n",
    "        return des\n",
    "\n",
    "    def calculate_orb(image_list):\n",
    "        des=list(map(lambda x : calculate_orb_image(x),image_list))\n",
    "        return np.vstack(des)\n",
    "\n",
    "    try:\n",
    "        with open(\"data/dumped_kmajority.pkl\", \"rb\") as f:\n",
    "                k_majority_orb = pickle.load(f)\n",
    "    except Exception as e:\n",
    "        print(str(e))\n",
    "        print(\"Our K majority implemention is to slow to run here. Please use stored weights\")\n",
    "        ORB_ENABLED=False\n",
    "\n",
    "\n",
    "    def calculate_bow_orb(ima):\n",
    "        histogram=np.zeros((orb_clusters))\n",
    "        des=calculate_orb_image(orb,ima.numpy().astype(np.uint8))\n",
    "        des=np.unpackbits(des, axis = 1)\n",
    "        index=k_majority_orb.predict(des)\n",
    "        np.add.at(histogram,index,1)\n",
    "        return histogram\n",
    "\n"
   ]
  },
  {
   "cell_type": "code",
   "execution_count": 32,
   "metadata": {
    "collapsed": false,
    "execution": {
     "iopub.execute_input": "2022-06-17T14:31:47.626952Z",
     "iopub.status.busy": "2022-06-17T14:31:47.626797Z",
     "iopub.status.idle": "2022-06-17T14:32:30.213207Z",
     "shell.execute_reply": "2022-06-17T14:32:30.210145Z",
     "shell.execute_reply.started": "2022-06-17T14:31:47.626934Z"
    },
    "jupyter": {
     "outputs_hidden": false
    },
    "pycharm": {
     "name": "#%%\n"
    },
    "tags": []
   },
   "outputs": [
    {
     "name": "stdout",
     "output_type": "stream",
     "text": [
      "2501\n"
     ]
    }
   ],
   "source": [
    "from sklearn.decomposition import PCA\n",
    "def get_all_features(datapoint):\n",
    "    return tf.concat([datapoint[enabled_names[i]]*feature_weights[i] for i in range(len(enabled_names))],0)\n",
    "\n",
    "\n",
    "class DatasetPreprocessor:\n",
    "    def __init__(self):\n",
    "        self.norm1=None\n",
    "        self.norm2=None\n",
    "        self.norm3=None\n",
    "        self.norm4=None\n",
    "        self.norm5=None\n",
    "        self.pca1=None\n",
    "        self.pca2=None\n",
    "        self.pca3=None\n",
    "        self.fitted=False\n",
    "\n",
    "\n",
    "    def add_features_to_dataset(self,dataset,cachename,fit=False):\n",
    "        if(self.fitted==False and fit==False):\n",
    "            print(\"fit before use\")\n",
    "            raise Exception()\n",
    "        self.fitted=True\n",
    "        images = dataset.map(lambda x: x[\"image\"])\n",
    "        feature_sets = []\n",
    "\n",
    "        # order is important here, must be same as defined in enabled_names\n",
    "        if CLD_ENABLED:\n",
    "            cld_features = images.map(lambda x: tf.py_function(func=color_layout_descriptor, inp=[x,8,8], Tout=np.float32),\n",
    "                                      num_parallel_calls=tf.data.experimental.AUTOTUNE).cache(\"data/\"+cachename+\"_cld\" if cachename!=None else '').prefetch(\n",
    "                tf.data.experimental.AUTOTUNE)\n",
    "            #shape=cld_features.take(1).get_single_element().shape\n",
    "            #cld_features = cld_features.map(lambda t: tf.ensure_shape(t,shape)).cache(\"data/\"+cachename+\"_cld2\" if cachename!=None else #'').prefetch(\n",
    "            #    tf.data.experimental.AUTOTUNE)\n",
    "            #if fit==True:\n",
    "            #    self.norm1=tf.keras.layers.Normalization();\n",
    "            #    self.norm1.adapt(cld_features)\n",
    "            #cld_features=cld_features.map(lambda x:self.norm1(x))\n",
    "            feature_sets.append(cld_features)\n",
    "\n",
    "\n",
    "        if EFFNET_ENABLED:\n",
    "            resized_images = dataset.map(lambda x: tf.image.resize(x[\"image\"], [240, 240])).batch(1024)\n",
    "            effnet_features = resized_images.map(lambda x: effnet(x)).cache().unbatch().cache(\"data/\"+cachename+\"_effnet\" if cachename!=None else '').prefetch(\n",
    "                tf.data.experimental.AUTOTUNE)\n",
    "\n",
    "            if fit==True:\n",
    "                self.norm2=tf.keras.layers.Normalization();\n",
    "                self.norm2.adapt(effnet_features)\n",
    "                self.pca = PCA(n_components=320)\n",
    "                effnet_list = np.array(list(effnet_features.as_numpy_iterator()))\n",
    "                self.pca.fit(effnet_list)\n",
    "            effnet_features= effnet_features.map(lambda x:self.norm2(x))\n",
    "            effnet_features= effnet_features.map(lambda x: tf.reshape(tf.py_function(func=self.pca.transform, inp=[tf.reshape(x,(1, -1))], Tout=np.float32),[-1]),\n",
    "                                      num_parallel_calls=tf.data.experimental.AUTOTUNE)\n",
    "            feature_sets.append(effnet_features)\n",
    "\n",
    "\n",
    "        if HASHING_ENABLED:\n",
    "            hashing_features = images.map(lambda x: tf.py_function(func=average_hashing, inp=[x], Tout=np.float32),\n",
    "                                      num_parallel_calls=tf.data.experimental.AUTOTUNE)\n",
    "            shape=hashing_features.take(1).get_single_element().shape\n",
    "            hashing_features = hashing_features.map(lambda t: tf.ensure_shape(t,shape)).cache(\"data/\"+cachename+\"_hash\" if cachename!=None else '').prefetch(\n",
    "                tf.data.experimental.AUTOTUNE)\n",
    "            if fit==True:\n",
    "                self.norm3=tf.keras.layers.Normalization();\n",
    "                self.norm3.adapt(hashing_features)\n",
    "            hashing_features=hashing_features.map(lambda x:self.norm3(x))\n",
    "            feature_sets.append(hashing_features)\n",
    "\n",
    "\n",
    "\n",
    "        if SURF_ENABLED:\n",
    "            surf_features = images.map(lambda x: tf.py_function(func=calculate_bow, inp=[x], Tout=np.float32),\n",
    "                                      num_parallel_calls=tf.data.experimental.AUTOTUNE)\n",
    "            surf_features = surf_features.map(lambda t: tf.ensure_shape(t,(surf_clusers,))).cache(\"data/\"+cachename+\"_surf\" if cachename!=None else '')\n",
    "            if fit==True:\n",
    "                self.norm4=tf.keras.layers.Normalization();\n",
    "                self.norm4.adapt(surf_features)\n",
    "                self.pca2 = PCA(n_components=250)\n",
    "                surf_list = np.array(list(surf_features.as_numpy_iterator()))\n",
    "                self.pca2.fit(surf_list)\n",
    "\n",
    "            surf_features=surf_features.map(lambda x:self.norm4(x))\n",
    "            surf_features=surf_features.map(lambda x: tf.reshape(tf.py_function(func=self.pca2.transform, inp=[tf.reshape(x,(1, -1))], Tout=np.float32),[-1]),\n",
    "                                      num_parallel_calls=tf.data.experimental.AUTOTUNE)\n",
    "            feature_sets.append(surf_features)\n",
    "\n",
    "\n",
    "        if ORB_ENABLED:\n",
    "            orb_features = images.map(lambda x: tf.py_function(func=calculate_bow_orb, inp=[x], Tout=np.float32),\n",
    "                                      num_parallel_calls=tf.data.experimental.AUTOTUNE)\n",
    "            orb_features = orb_features.map(lambda t: tf.ensure_shape(t,(orb_clusters,))).cache(\"data/\"+cachename+\"_orb\" if cachename!=None else '')\n",
    "            if fit==True:\n",
    "                self.norm5=tf.keras.layers.Normalization();\n",
    "                self.norm5.adapt(orb_features)\n",
    "                self.pca3 = PCA(n_components=250)\n",
    "                orb_list = np.array(list(orb_features.as_numpy_iterator()))\n",
    "                self.pca3.fit(orb_list)\n",
    "\n",
    "            orb_features=orb_features.map(lambda x:self.norm5(x))\n",
    "            orb_features=orb_features.map(lambda x: tf.reshape(tf.py_function(func=self.pca3.transform, inp=[tf.reshape(x,(1, -1))], Tout=np.float32),[-1]),\n",
    "                                      num_parallel_calls=tf.data.experimental.AUTOTUNE)\n",
    "            feature_sets.append(orb_features)\n",
    "\n",
    "\n",
    "\n",
    "        # We could do feature scaling here\n",
    "        # this here insers the values of all featuresets into the dictionary\n",
    "        complete_dataset = tf.data.Dataset.zip((dataset,) + tuple(feature_sets)).map(\n",
    "            lambda x, *y: x.update({enabled_names[i]: y[i] for i in range(len(enabled_names))})\\\n",
    "            or x, num_parallel_calls=tf.data.experimental.AUTOTUNE).map(lambda x:x.update({\"feature\":get_all_features(x)}) or x, num_parallel_calls=tf.data.experimental.AUTOTUNE).prefetch(tf.data.experimental.AUTOTUNE)\n",
    "        # I dediced to return dict here. They have the advantage that you can disable/add Features add will without having to condider ordering. Also we do not loose any information, which we might use later\n",
    "        return complete_dataset\n",
    "\n",
    "data_pre=DatasetPreprocessor()\n",
    "\n",
    "# after first run this should be cached memory (needs full run)\n",
    "train_complete = data_pre.add_features_to_dataset(train_data,\"train\",fit=True)\n",
    "val_complete = data_pre.add_features_to_dataset(val_data, \"val\")\n",
    "\n",
    "# forces caching\n",
    "counter=0\n",
    "for i in train_complete:\n",
    "    counter+=1\n",
    "    pass\n",
    "for i in val_complete:\n",
    "    pass\n",
    "print(counter)"
   ]
  },
  {
   "cell_type": "code",
   "execution_count": 33,
   "metadata": {
    "collapsed": false,
    "execution": {
     "iopub.execute_input": "2022-06-17T14:32:30.226018Z",
     "iopub.status.busy": "2022-06-17T14:32:30.214601Z",
     "iopub.status.idle": "2022-06-17T14:32:30.254959Z",
     "shell.execute_reply": "2022-06-17T14:32:30.254028Z",
     "shell.execute_reply.started": "2022-06-17T14:32:30.225950Z"
    },
    "jupyter": {
     "outputs_hidden": false
    },
    "pycharm": {
     "name": "#%%\n"
    }
   },
   "outputs": [],
   "source": [
    "from sklearn.metrics.pairwise import euclidean_distances\n",
    "from sklearn.metrics.pairwise import cosine_distances\n",
    "def classifier_function_creator(clusterer,distance_measure,name_of_feature=\"feature\"):\n",
    "    cluster_algo=clusterer\n",
    "    dist_func=distance_measure\n",
    "    def classifier_function(image):\n",
    "        image*=255.0\n",
    "        ds=tf.data.Dataset.from_tensor_slices({\"image\":image})\n",
    "        feature= data_pre.add_features_to_dataset(ds,None).map(lambda x:x[name_of_feature]).batch(image.shape[0]).get_single_element()\n",
    "\n",
    "        dist= dist_func(feature,cluster_algo.cluster_centers_)\n",
    "\n",
    "        dist=1/dist\n",
    "        dist=np.power(dist,20)\n",
    "        dist=dist/np.sum(dist,axis=1,keepdims=True)\n",
    "        return dist\n",
    "    return classifier_function\n",
    "\n",
    "def classifier_function_creator2(classifier,features,labels,name_of_feature=\"feature\"):\n",
    "    clf=classifier\n",
    "    clf.fit(features,labels)\n",
    "    print(accuracy_score(clf.predict(features),labels))\n",
    "    def classifier_function(image):\n",
    "        image*=255.0\n",
    "        ds=tf.data.Dataset.from_tensor_slices({\"image\":image})\n",
    "        feature= data_pre.add_features_to_dataset(ds,None).map(lambda x:x[name_of_feature]).batch(image.shape[0]).get_single_element()\n",
    "        return clf.predict_proba(feature)\n",
    "\n",
    "    return classifier_function"
   ]
  },
  {
   "cell_type": "code",
   "execution_count": 34,
   "metadata": {
    "collapsed": false,
    "execution": {
     "iopub.execute_input": "2022-06-17T14:32:30.268816Z",
     "iopub.status.busy": "2022-06-17T14:32:30.265722Z",
     "iopub.status.idle": "2022-06-17T14:32:31.479593Z",
     "shell.execute_reply": "2022-06-17T14:32:31.474594Z",
     "shell.execute_reply.started": "2022-06-17T14:32:30.268768Z"
    },
    "jupyter": {
     "outputs_hidden": false
    },
    "pycharm": {
     "name": "#%%\n"
    }
   },
   "outputs": [
    {
     "name": "stdout",
     "output_type": "stream",
     "text": [
      "dict_keys(['image', 'image/filename', 'labels', 'labels_no_difficult', 'objects', 'cld', 'effnet', 'hash', 'surf', 'orb', 'feature'])\n",
      "1268\n"
     ]
    }
   ],
   "source": [
    "for i in train_complete:\n",
    "    print(i.keys())\n",
    "    print(len(i[\"feature\"]))\n",
    "    break"
   ]
  },
  {
   "cell_type": "code",
   "execution_count": 35,
   "metadata": {
    "collapsed": false,
    "execution": {
     "iopub.execute_input": "2022-06-17T14:32:31.484322Z",
     "iopub.status.busy": "2022-06-17T14:32:31.483980Z",
     "iopub.status.idle": "2022-06-17T14:33:06.814565Z",
     "shell.execute_reply": "2022-06-17T14:33:06.813296Z",
     "shell.execute_reply.started": "2022-06-17T14:32:31.484285Z"
    },
    "jupyter": {
     "outputs_hidden": false
    },
    "pycharm": {
     "name": "#%%\n"
    }
   },
   "outputs": [
    {
     "data": {
      "text/plain": [
       "500"
      ]
     },
     "execution_count": 35,
     "metadata": {},
     "output_type": "execute_result"
    }
   ],
   "source": [
    "#TODO change this to feature based selection?\n",
    "# here the the number of candidate points as well as the index of the query point (0-2500) can be changed\n",
    "#small number of candidate points run faster but may cause an Emptycluster Exception (the algorithm has not implemented a way to handle them)\n",
    "query_point=0\n",
    "number_candidate_points=500\n",
    "############################\n",
    "\n",
    "\n",
    "train_filtered=filter_dataset(train_complete,query_point,number_neighboors=number_candidate_points)\n",
    "train_filtered_list=list(train_filtered.as_numpy_iterator())\n",
    "len(train_filtered_list)"
   ]
  },
  {
   "cell_type": "code",
   "execution_count": 36,
   "metadata": {
    "collapsed": false,
    "execution": {
     "iopub.execute_input": "2022-06-17T14:33:06.824316Z",
     "iopub.status.busy": "2022-06-17T14:33:06.820638Z",
     "iopub.status.idle": "2022-06-17T14:34:48.031073Z",
     "shell.execute_reply": "2022-06-17T14:34:48.029958Z",
     "shell.execute_reply.started": "2022-06-17T14:33:06.824249Z"
    },
    "jupyter": {
     "outputs_hidden": false
    },
    "pycharm": {
     "name": "#%%\n"
    }
   },
   "outputs": [],
   "source": [
    "#Here the number of clusters can be changed. It has to be set beforehand because explore consolidate relies on an estimate for the number of clusters to work.\n",
    "n_cluster=20\n",
    "######################\n",
    "\n",
    "\n",
    "\n",
    "# uses the label with estimated maximum size by sum of bounding box area\n",
    "y = list(train_filtered.map(lambda x: (x['objects']['label'],x['objects']['bbox'],x['labels'])).map(lambda x,y,z:tf.py_function(func=get_max_label_helper, inp=[x,y,z], Tout=np.int64),num_parallel_calls=tf.data.AUTOTUNE).as_numpy_iterator())\n",
    "\n",
    "features = np.array(list(train_filtered.map(lambda x: x['feature']).as_numpy_iterator()), dtype=np.float64)\n",
    "if SURF_ENABLED:\n",
    "    feature_surf = np.array(list(train_filtered.map(lambda x: x['surf']).as_numpy_iterator()), dtype=np.float64)\n",
    "if EFFNET_ENABLED:\n",
    "    feature_effnet = np.array(list(train_filtered.map(lambda x: x['effnet']).as_numpy_iterator()), dtype=np.float64)\n",
    "if CLD_ENABLED:\n",
    "    feature_cld = np.array(list(train_filtered.map(lambda x: x['cld']).as_numpy_iterator()), dtype=np.float64)\n",
    "if HASHING_ENABLED:\n",
    "    feature_hash = np.array(list(train_filtered.map(lambda x: x['hash']).as_numpy_iterator()), dtype=np.float64)\n",
    "if ORB_ENABLED:\n",
    "    feature_orb = np.array(list(train_filtered.map(lambda x: x['orb']).as_numpy_iterator()), dtype=np.float64)\n"
   ]
  },
  {
   "cell_type": "code",
   "execution_count": null,
   "metadata": {
    "collapsed": false,
    "jupyter": {
     "outputs_hidden": false
    },
    "pycharm": {
     "name": "#%%\n"
    }
   },
   "outputs": [],
   "source": []
  },
  {
   "cell_type": "code",
   "execution_count": 37,
   "metadata": {
    "collapsed": false,
    "execution": {
     "iopub.execute_input": "2022-06-17T14:34:48.041202Z",
     "iopub.status.busy": "2022-06-17T14:34:48.040799Z",
     "iopub.status.idle": "2022-06-17T14:34:56.664976Z",
     "shell.execute_reply": "2022-06-17T14:34:56.664461Z",
     "shell.execute_reply.started": "2022-06-17T14:34:48.041155Z"
    },
    "jupyter": {
     "outputs_hidden": false
    },
    "pycharm": {
     "name": "#%%\n"
    }
   },
   "outputs": [],
   "source": [
    "#Here you can change the amount of queries that the algorithm can make to the oracle/expert\n",
    "query_count=400\n",
    "#Here you can change wether you want to give the ínput yourself or you want to rely on an oracle based on the labels.\n",
    "use_expert=False\n",
    "\n",
    "#If you choose expert oracle. Input y for must link constraint. Every other input will be cannot link.\n",
    "#If you choose label oracle. You can set to use the max label which is an estimate for the biggest object based on its bounding boxes.\n",
    "\n",
    "use_max_query=True\n",
    "\n",
    "#Alternativly you can set this to no and pass to parameters to a heuristic function which comapres the the area of the matching and non-matching objects by bounding box\n",
    "#Note that this is more of a counter example for good queries because a comparision of objects has a major problem that it generates contradicting constrains. Say we have 3 objects a small one, medium one and a big one. The small and medium, medium and big now will generate must links, while the small and big objects can generate a cannot link constraint.\n",
    "# This is interesting because a queried expert may make similar decision. A person in a background of a town will probably not be\n",
    "# a must link with person doing a self-portrait. But if we have multiple photos were people gradually become closers, we could get a must link by transitivity.\n",
    "\n",
    "#Weights for heuristic if choosen\n",
    "#higher weight means less difference allowed\n",
    "\n",
    "area_difference_weight=1 #same labels must have same area heuristic\n",
    "different_labels_weight=2 #same area must be big in comparision to non matching part heuristic\n",
    "########\n",
    "\n",
    "#you can also change the strategy of finding constraints here. Defaults to random for Labeloracle and to explore consolidate for Expert Oracle.\n",
    "use_explore_consolidate=use_expert\n",
    "##############\n",
    "\n",
    "if use_expert:\n",
    "    oracle = ExpertOracle(train_filtered_list, max_queries_cnt=query_count)\n",
    "else:\n",
    "    oracle = LabelOracle(train_filtered_list, max_queries_cnt=query_count,max_querry=use_max_query,area_difference_weight=area_difference_weight,different_labels_weight=different_labels_weight)\n",
    "if use_explore_consolidate:\n",
    "    active_learner = active_semi_clustering.active.pairwise_constraints.random.Random(n_clusters=n_cluster)\n",
    "else:\n",
    "    active_learner = active_semi_clustering.active.pairwise_constraints.explore_consolidate.ExploreConsolidate(n_clusters=n_cluster)\n",
    "active_learner.fit(features, oracle)\n",
    "pairwise_constraints = active_learner.pairwise_constraints_"
   ]
  },
  {
   "cell_type": "code",
   "execution_count": 38,
   "metadata": {
    "collapsed": false,
    "execution": {
     "iopub.execute_input": "2022-06-17T14:34:56.665741Z",
     "iopub.status.busy": "2022-06-17T14:34:56.665588Z",
     "iopub.status.idle": "2022-06-17T14:34:56.668929Z",
     "shell.execute_reply": "2022-06-17T14:34:56.668450Z",
     "shell.execute_reply.started": "2022-06-17T14:34:56.665716Z"
    },
    "jupyter": {
     "outputs_hidden": false
    },
    "pycharm": {
     "name": "#%%\n"
    }
   },
   "outputs": [],
   "source": [
    "#random init for clustering\n",
    "def initialize_cluster_centers(self, X, neighborhoods):\n",
    "    cluster_centers = X[np.random.choice(X.shape[0], self.n_clusters, replace=False), :]\n",
    "    return cluster_centers"
   ]
  },
  {
   "cell_type": "code",
   "execution_count": 39,
   "metadata": {
    "collapsed": false,
    "execution": {
     "iopub.execute_input": "2022-06-17T14:34:56.669656Z",
     "iopub.status.busy": "2022-06-17T14:34:56.669510Z",
     "iopub.status.idle": "2022-06-17T14:35:06.516559Z",
     "shell.execute_reply": "2022-06-17T14:35:06.515702Z",
     "shell.execute_reply.started": "2022-06-17T14:34:56.669622Z"
    },
    "jupyter": {
     "outputs_hidden": false
    },
    "pycharm": {
     "name": "#%%\n"
    }
   },
   "outputs": [
    {
     "name": "stdout",
     "output_type": "stream",
     "text": [
      "Adjusted random score using max labels0.5042814737141975\n",
      "Silhouette score 0.042854443878302347\n"
     ]
    }
   ],
   "source": [
    "import types\n",
    "pck = PCKMeans(n_clusters=n_cluster,max_iter=100,w=500)\n",
    "#pck._initialize_cluster_centers=types.MethodType( initialize_cluster_centers, pck )\n",
    "pck.fit(features, ml=pairwise_constraints[0], cl=pairwise_constraints[1])\n",
    "\n",
    "print(\"Adjusted random score using max labels\"+str(metrics.adjusted_rand_score(y, pck.labels_)))\n",
    "print(\"Silhouette score \"+str(metrics.silhouette_score(features, pck.labels_)))\n"
   ]
  },
  {
   "cell_type": "code",
   "execution_count": 40,
   "metadata": {
    "collapsed": false,
    "execution": {
     "iopub.execute_input": "2022-06-17T14:35:06.518408Z",
     "iopub.status.busy": "2022-06-17T14:35:06.518101Z",
     "iopub.status.idle": "2022-06-17T14:35:06.537323Z",
     "shell.execute_reply": "2022-06-17T14:35:06.536345Z",
     "shell.execute_reply.started": "2022-06-17T14:35:06.518374Z"
    },
    "jupyter": {
     "outputs_hidden": false
    },
    "pycharm": {
     "name": "#%%\n"
    }
   },
   "outputs": [],
   "source": [
    "def print_label_by_distribution(pck_algo,image_index,feature_list):\n",
    "    feature=feature_list[image_index]\n",
    "    dist= euclidean_distances(feature,pck_algo.cluster_centers_)\n",
    "    selectedLabel=np.argmin(dist)\n",
    "    print(\"Cluster suggested by distribution: \"+str(selectedLabel))\n"
   ]
  },
  {
   "cell_type": "code",
   "execution_count": 41,
   "metadata": {
    "collapsed": false,
    "execution": {
     "iopub.execute_input": "2022-06-17T14:35:06.539727Z",
     "iopub.status.busy": "2022-06-17T14:35:06.538979Z",
     "iopub.status.idle": "2022-06-17T14:35:09.974577Z",
     "shell.execute_reply": "2022-06-17T14:35:09.974060Z",
     "shell.execute_reply.started": "2022-06-17T14:35:06.539670Z"
    },
    "jupyter": {
     "outputs_hidden": false
    },
    "pycharm": {
     "name": "#%%\n"
    }
   },
   "outputs": [
    {
     "name": "stdout",
     "output_type": "stream",
     "text": [
      "0\n"
     ]
    },
    {
     "data": {
      "image/png": "[encoded data removed]",
      "text/plain": [
       "<Figure size 1152x468 with 1 Axes>"
      ]
     },
     "metadata": {
      "needs_background": "light"
     },
     "output_type": "display_data"
    },
    {
     "name": "stdout",
     "output_type": "stream",
     "text": [
      "1\n"
     ]
    },
    {
     "data": {
      "image/png": "[encoded data removed]",
      "text/plain": [
       "<Figure size 1152x468 with 1 Axes>"
      ]
     },
     "metadata": {
      "needs_background": "light"
     },
     "output_type": "display_data"
    },
    {
     "name": "stdout",
     "output_type": "stream",
     "text": [
      "2\n"
     ]
    },
    {
     "data": {
      "image/png": "[encoded data removed]",
      "text/plain": [
       "<Figure size 1152x468 with 1 Axes>"
      ]
     },
     "metadata": {
      "needs_background": "light"
     },
     "output_type": "display_data"
    },
    {
     "name": "stdout",
     "output_type": "stream",
     "text": [
      "3\n"
     ]
    },
    {
     "data": {
      "image/png": "[encoded data removed]",
      "text/plain": [
       "<Figure size 1152x468 with 1 Axes>"
      ]
     },
     "metadata": {
      "needs_background": "light"
     },
     "output_type": "display_data"
    },
    {
     "name": "stdout",
     "output_type": "stream",
     "text": [
      "4\n"
     ]
    },
    {
     "data": {
      "image/png": "[encoded data removed]",
      "text/plain": [
       "<Figure size 1152x468 with 1 Axes>"
      ]
     },
     "metadata": {
      "needs_background": "light"
     },
     "output_type": "display_data"
    },
    {
     "name": "stdout",
     "output_type": "stream",
     "text": [
      "5\n"
     ]
    },
    {
     "data": {
      "image/png": "[encoded data removed]",
      "text/plain": [
       "<Figure size 1152x468 with 1 Axes>"
      ]
     },
     "metadata": {
      "needs_background": "light"
     },
     "output_type": "display_data"
    },
    {
     "name": "stdout",
     "output_type": "stream",
     "text": [
      "6\n"
     ]
    },
    {
     "data": {
      "image/png": "[encoded data removed]",
      "text/plain": [
       "<Figure size 1152x468 with 1 Axes>"
      ]
     },
     "metadata": {
      "needs_background": "light"
     },
     "output_type": "display_data"
    },
    {
     "name": "stdout",
     "output_type": "stream",
     "text": [
      "7\n"
     ]
    },
    {
     "data": {
      "image/png": "[encoded data removed]",
      "text/plain": [
       "<Figure size 1152x468 with 1 Axes>"
      ]
     },
     "metadata": {
      "needs_background": "light"
     },
     "output_type": "display_data"
    },
    {
     "name": "stdout",
     "output_type": "stream",
     "text": [
      "8\n"
     ]
    },
    {
     "data": {
      "image/png": "[encoded data removed]",
      "text/plain": [
       "<Figure size 1152x468 with 1 Axes>"
      ]
     },
     "metadata": {
      "needs_background": "light"
     },
     "output_type": "display_data"
    },
    {
     "name": "stdout",
     "output_type": "stream",
     "text": [
      "9\n"
     ]
    },
    {
     "data": {
      "image/png": "[encoded data removed]",
      "text/plain": [
       "<Figure size 1152x468 with 1 Axes>"
      ]
     },
     "metadata": {
      "needs_background": "light"
     },
     "output_type": "display_data"
    },
    {
     "name": "stdout",
     "output_type": "stream",
     "text": [
      "10\n"
     ]
    },
    {
     "data": {
      "image/png": "[encoded data removed]",
      "text/plain": [
       "<Figure size 1152x468 with 1 Axes>"
      ]
     },
     "metadata": {
      "needs_background": "light"
     },
     "output_type": "display_data"
    },
    {
     "name": "stdout",
     "output_type": "stream",
     "text": [
      "11\n"
     ]
    },
    {
     "data": {
      "image/png": "[encoded data removed]",
      "text/plain": [
       "<Figure size 1152x468 with 1 Axes>"
      ]
     },
     "metadata": {
      "needs_background": "light"
     },
     "output_type": "display_data"
    },
    {
     "name": "stdout",
     "output_type": "stream",
     "text": [
      "12\n"
     ]
    },
    {
     "data": {
      "image/png": "[encoded data removed]",
      "text/plain": [
       "<Figure size 1152x468 with 1 Axes>"
      ]
     },
     "metadata": {
      "needs_background": "light"
     },
     "output_type": "display_data"
    },
    {
     "name": "stdout",
     "output_type": "stream",
     "text": [
      "13\n"
     ]
    },
    {
     "data": {
      "image/png": "[encoded data removed]",
      "text/plain": [
       "<Figure size 1152x468 with 1 Axes>"
      ]
     },
     "metadata": {
      "needs_background": "light"
     },
     "output_type": "display_data"
    },
    {
     "name": "stdout",
     "output_type": "stream",
     "text": [
      "14\n"
     ]
    },
    {
     "data": {
      "image/png": "[encoded data removed]",
      "text/plain": [
       "<Figure size 1152x468 with 1 Axes>"
      ]
     },
     "metadata": {
      "needs_background": "light"
     },
     "output_type": "display_data"
    },
    {
     "name": "stdout",
     "output_type": "stream",
     "text": [
      "15\n"
     ]
    },
    {
     "data": {
      "image/png": "[encoded data removed]",
      "text/plain": [
       "<Figure size 1152x468 with 1 Axes>"
      ]
     },
     "metadata": {
      "needs_background": "light"
     },
     "output_type": "display_data"
    },
    {
     "name": "stdout",
     "output_type": "stream",
     "text": [
      "16\n"
     ]
    },
    {
     "data": {
      "image/png": "[encoded data removed]",
      "text/plain": [
       "<Figure size 1152x468 with 1 Axes>"
      ]
     },
     "metadata": {
      "needs_background": "light"
     },
     "output_type": "display_data"
    },
    {
     "name": "stdout",
     "output_type": "stream",
     "text": [
      "17\n"
     ]
    },
    {
     "data": {
      "image/png": "[encoded data removed]",
      "text/plain": [
       "<Figure size 1152x468 with 1 Axes>"
      ]
     },
     "metadata": {
      "needs_background": "light"
     },
     "output_type": "display_data"
    },
    {
     "name": "stdout",
     "output_type": "stream",
     "text": [
      "18\n"
     ]
    },
    {
     "data": {
      "image/png": "[encoded data removed]",
      "text/plain": [
       "<Figure size 1152x468 with 1 Axes>"
      ]
     },
     "metadata": {
      "needs_background": "light"
     },
     "output_type": "display_data"
    },
    {
     "name": "stdout",
     "output_type": "stream",
     "text": [
      "19\n"
     ]
    },
    {
     "data": {
      "image/png": "[encoded data removed]",
      "text/plain": [
       "<Figure size 1152x468 with 1 Axes>"
      ]
     },
     "metadata": {
      "needs_background": "light"
     },
     "output_type": "display_data"
    }
   ],
   "source": [
    "#here we check which labels are assigned to each cluster if you set use all all labels will be considered otherwise jsut the label with the maximum area estimate will be used\n",
    "use_all_labels=False\n",
    "####################\n",
    "\n",
    "hist=cluster_histogramm(train_filtered_list,pck.labels_,y,use_all=use_all_labels)\n",
    "\n",
    "for i in range(hist.shape[0]):  \n",
    "    print(i)\n",
    "    fig = plt.gcf()\n",
    "    fig.set_size_inches(16, 6.5)\n",
    "    plt.bar(np.arange(0,20),hist[i],tick_label=_VOC_LABELS) \n",
    "    plt.show()"
   ]
  },
  {
   "cell_type": "code",
   "execution_count": 42,
   "metadata": {
    "collapsed": false,
    "execution": {
     "iopub.execute_input": "2022-06-17T14:35:09.975441Z",
     "iopub.status.busy": "2022-06-17T14:35:09.975290Z",
     "iopub.status.idle": "2022-06-17T14:35:10.008430Z",
     "shell.execute_reply": "2022-06-17T14:35:10.007419Z",
     "shell.execute_reply.started": "2022-06-17T14:35:09.975420Z"
    },
    "jupyter": {
     "outputs_hidden": false
    },
    "pycharm": {
     "name": "#%%\n"
    }
   },
   "outputs": [
    {
     "name": "stdout",
     "output_type": "stream",
     "text": [
      "assigned cluster: 8\n"
     ]
    },
    {
     "ename": "ValueError",
     "evalue": "Expected 2D array, got 1D array instead:\narray=[ 5.41450024 -0.2756139   0.22696179 ... -0.65683168  0.5824548\n  0.24912848].\nReshape your data either using array.reshape(-1, 1) if your data has a single feature or array.reshape(1, -1) if it contains a single sample.",
     "output_type": "error",
     "traceback": [
      "\u001b[0;31m---------------------------------------------------------------------------\u001b[0m",
      "\u001b[0;31mValueError\u001b[0m                                Traceback (most recent call last)",
      "\u001b[0;32m/tmp/ipykernel_197555/3707517292.py\u001b[0m in \u001b[0;36m<module>\u001b[0;34m\u001b[0m\n\u001b[1;32m      8\u001b[0m \u001b[0;31m################################\u001b[0m\u001b[0;34m\u001b[0m\u001b[0;34m\u001b[0m\u001b[0;34m\u001b[0m\u001b[0m\n\u001b[1;32m      9\u001b[0m \u001b[0mprint\u001b[0m\u001b[0;34m(\u001b[0m\u001b[0;34m\"assigned cluster: \"\u001b[0m\u001b[0;34m+\u001b[0m\u001b[0mstr\u001b[0m\u001b[0;34m(\u001b[0m\u001b[0mpck\u001b[0m\u001b[0;34m.\u001b[0m\u001b[0mlabels_\u001b[0m\u001b[0;34m[\u001b[0m\u001b[0mexplained_image_index\u001b[0m\u001b[0;34m]\u001b[0m\u001b[0;34m)\u001b[0m\u001b[0;34m)\u001b[0m\u001b[0;34m\u001b[0m\u001b[0;34m\u001b[0m\u001b[0m\n\u001b[0;32m---> 10\u001b[0;31m \u001b[0mprint_label_by_distribution\u001b[0m\u001b[0;34m(\u001b[0m\u001b[0mpck\u001b[0m\u001b[0;34m,\u001b[0m\u001b[0mexplained_image_index\u001b[0m\u001b[0;34m,\u001b[0m\u001b[0mfeatures\u001b[0m\u001b[0;34m)\u001b[0m\u001b[0;34m\u001b[0m\u001b[0;34m\u001b[0m\u001b[0m\n\u001b[0m\u001b[1;32m     11\u001b[0m \u001b[0;31m#Here the cluster to which an assignment should be explained can be set\u001b[0m\u001b[0;34m\u001b[0m\u001b[0;34m\u001b[0m\u001b[0;34m\u001b[0m\u001b[0m\n\u001b[1;32m     12\u001b[0m \u001b[0mexplained_cluster\u001b[0m\u001b[0;34m=\u001b[0m\u001b[0mpck\u001b[0m\u001b[0;34m.\u001b[0m\u001b[0mlabels_\u001b[0m\u001b[0;34m[\u001b[0m\u001b[0mexplained_image_index\u001b[0m\u001b[0;34m]\u001b[0m\u001b[0;34m\u001b[0m\u001b[0;34m\u001b[0m\u001b[0m\n",
      "\u001b[0;32m/tmp/ipykernel_197555/1726480333.py\u001b[0m in \u001b[0;36mprint_label_by_distribution\u001b[0;34m(pck_algo, image_index, feature_list)\u001b[0m\n\u001b[1;32m      1\u001b[0m \u001b[0;32mdef\u001b[0m \u001b[0mprint_label_by_distribution\u001b[0m\u001b[0;34m(\u001b[0m\u001b[0mpck_algo\u001b[0m\u001b[0;34m,\u001b[0m\u001b[0mimage_index\u001b[0m\u001b[0;34m,\u001b[0m\u001b[0mfeature_list\u001b[0m\u001b[0;34m)\u001b[0m\u001b[0;34m:\u001b[0m\u001b[0;34m\u001b[0m\u001b[0;34m\u001b[0m\u001b[0m\n\u001b[1;32m      2\u001b[0m     \u001b[0mfeature\u001b[0m\u001b[0;34m=\u001b[0m\u001b[0mfeature_list\u001b[0m\u001b[0;34m[\u001b[0m\u001b[0mimage_index\u001b[0m\u001b[0;34m]\u001b[0m\u001b[0;34m\u001b[0m\u001b[0;34m\u001b[0m\u001b[0m\n\u001b[0;32m----> 3\u001b[0;31m     \u001b[0mdist\u001b[0m\u001b[0;34m=\u001b[0m \u001b[0meuclidean_distances\u001b[0m\u001b[0;34m(\u001b[0m\u001b[0mfeature\u001b[0m\u001b[0;34m,\u001b[0m\u001b[0mpck_algo\u001b[0m\u001b[0;34m.\u001b[0m\u001b[0mcluster_centers_\u001b[0m\u001b[0;34m)\u001b[0m\u001b[0;34m\u001b[0m\u001b[0;34m\u001b[0m\u001b[0m\n\u001b[0m\u001b[1;32m      4\u001b[0m     \u001b[0mselectedLabel\u001b[0m\u001b[0;34m=\u001b[0m\u001b[0mnp\u001b[0m\u001b[0;34m.\u001b[0m\u001b[0margmin\u001b[0m\u001b[0;34m(\u001b[0m\u001b[0mdist\u001b[0m\u001b[0;34m)\u001b[0m\u001b[0;34m\u001b[0m\u001b[0;34m\u001b[0m\u001b[0m\n\u001b[1;32m      5\u001b[0m     \u001b[0mprint\u001b[0m\u001b[0;34m(\u001b[0m\u001b[0;34m\"Cluster suggested by distribution: \"\u001b[0m\u001b[0;34m+\u001b[0m\u001b[0mstr\u001b[0m\u001b[0;34m(\u001b[0m\u001b[0mselectedLabel\u001b[0m\u001b[0;34m)\u001b[0m\u001b[0;34m)\u001b[0m\u001b[0;34m\u001b[0m\u001b[0;34m\u001b[0m\u001b[0m\n",
      "\u001b[0;32m~/anaconda3/envs/con_clust/lib/python3.7/site-packages/sklearn/metrics/pairwise.py\u001b[0m in \u001b[0;36meuclidean_distances\u001b[0;34m(X, Y, Y_norm_squared, squared, X_norm_squared)\u001b[0m\n\u001b[1;32m    300\u001b[0m            [1.41421356]])\n\u001b[1;32m    301\u001b[0m     \"\"\"\n\u001b[0;32m--> 302\u001b[0;31m     \u001b[0mX\u001b[0m\u001b[0;34m,\u001b[0m \u001b[0mY\u001b[0m \u001b[0;34m=\u001b[0m \u001b[0mcheck_pairwise_arrays\u001b[0m\u001b[0;34m(\u001b[0m\u001b[0mX\u001b[0m\u001b[0;34m,\u001b[0m \u001b[0mY\u001b[0m\u001b[0;34m)\u001b[0m\u001b[0;34m\u001b[0m\u001b[0;34m\u001b[0m\u001b[0m\n\u001b[0m\u001b[1;32m    303\u001b[0m \u001b[0;34m\u001b[0m\u001b[0m\n\u001b[1;32m    304\u001b[0m     \u001b[0;32mif\u001b[0m \u001b[0mX_norm_squared\u001b[0m \u001b[0;32mis\u001b[0m \u001b[0;32mnot\u001b[0m \u001b[0;32mNone\u001b[0m\u001b[0;34m:\u001b[0m\u001b[0;34m\u001b[0m\u001b[0;34m\u001b[0m\u001b[0m\n",
      "\u001b[0;32m~/anaconda3/envs/con_clust/lib/python3.7/site-packages/sklearn/metrics/pairwise.py\u001b[0m in \u001b[0;36mcheck_pairwise_arrays\u001b[0;34m(X, Y, precomputed, dtype, accept_sparse, force_all_finite, copy)\u001b[0m\n\u001b[1;32m    160\u001b[0m             \u001b[0mcopy\u001b[0m\u001b[0;34m=\u001b[0m\u001b[0mcopy\u001b[0m\u001b[0;34m,\u001b[0m\u001b[0;34m\u001b[0m\u001b[0;34m\u001b[0m\u001b[0m\n\u001b[1;32m    161\u001b[0m             \u001b[0mforce_all_finite\u001b[0m\u001b[0;34m=\u001b[0m\u001b[0mforce_all_finite\u001b[0m\u001b[0;34m,\u001b[0m\u001b[0;34m\u001b[0m\u001b[0;34m\u001b[0m\u001b[0m\n\u001b[0;32m--> 162\u001b[0;31m             \u001b[0mestimator\u001b[0m\u001b[0;34m=\u001b[0m\u001b[0mestimator\u001b[0m\u001b[0;34m,\u001b[0m\u001b[0;34m\u001b[0m\u001b[0;34m\u001b[0m\u001b[0m\n\u001b[0m\u001b[1;32m    163\u001b[0m         )\n\u001b[1;32m    164\u001b[0m         Y = check_array(\n",
      "\u001b[0;32m~/anaconda3/envs/con_clust/lib/python3.7/site-packages/sklearn/utils/validation.py\u001b[0m in \u001b[0;36mcheck_array\u001b[0;34m(array, accept_sparse, accept_large_sparse, dtype, order, copy, force_all_finite, ensure_2d, allow_nd, ensure_min_samples, ensure_min_features, estimator)\u001b[0m\n\u001b[1;32m    771\u001b[0m                     \u001b[0;34m\"Reshape your data either using array.reshape(-1, 1) if \"\u001b[0m\u001b[0;34m\u001b[0m\u001b[0;34m\u001b[0m\u001b[0m\n\u001b[1;32m    772\u001b[0m                     \u001b[0;34m\"your data has a single feature or array.reshape(1, -1) \"\u001b[0m\u001b[0;34m\u001b[0m\u001b[0;34m\u001b[0m\u001b[0m\n\u001b[0;32m--> 773\u001b[0;31m                     \u001b[0;34m\"if it contains a single sample.\"\u001b[0m\u001b[0;34m.\u001b[0m\u001b[0mformat\u001b[0m\u001b[0;34m(\u001b[0m\u001b[0marray\u001b[0m\u001b[0;34m)\u001b[0m\u001b[0;34m\u001b[0m\u001b[0;34m\u001b[0m\u001b[0m\n\u001b[0m\u001b[1;32m    774\u001b[0m                 )\n\u001b[1;32m    775\u001b[0m \u001b[0;34m\u001b[0m\u001b[0m\n",
      "\u001b[0;31mValueError\u001b[0m: Expected 2D array, got 1D array instead:\narray=[ 5.41450024 -0.2756139   0.22696179 ... -0.65683168  0.5824548\n  0.24912848].\nReshape your data either using array.reshape(-1, 1) if your data has a single feature or array.reshape(1, -1) if it contains a single sample."
     ]
    }
   ],
   "source": [
    "#Here we look at 2 explanations for the cluster. The first uses only the distribution and does not use constraints in the clusterer.\n",
    "#The second uses a classfifier to predict cluster assignment. It cant see the labels directly but uses some of them indirectly\n",
    "#because they can appear in the labels assigned by PCK Means.\n",
    "#Note that the explanations can contradict each other because of this. Due to the weight w the assigned label may be contradicting the label suggested by the underlying distribution.\n",
    "\n",
    "#Here the image to be explained can be set\n",
    "explained_image_index=0\n",
    "################################\n",
    "print(\"assigned cluster: \"+str(pck.labels_[explained_image_index]))\n",
    "print_label_by_distribution(pck,explained_image_index,features)\n",
    "#Here the cluster to which an assignment should be explained can be set\n",
    "explained_cluster=pck.labels_[explained_image_index]\n",
    "################################\n",
    "#Here batch size (decrease if not enough memory) and number of samples (decreause for speedup but lower quality explanations) can be set\n",
    "lime_batch_size=250\n",
    "lime_number_samples=1000"
   ]
  },
  {
   "cell_type": "code",
   "execution_count": 43,
   "metadata": {
    "collapsed": false,
    "execution": {
     "iopub.execute_input": "2022-06-17T14:37:26.962565Z",
     "iopub.status.busy": "2022-06-17T14:37:26.962224Z",
     "iopub.status.idle": "2022-06-17T14:37:30.303643Z",
     "shell.execute_reply": "2022-06-17T14:37:30.302196Z",
     "shell.execute_reply.started": "2022-06-17T14:37:26.962530Z"
    },
    "jupyter": {
     "outputs_hidden": false
    },
    "pycharm": {
     "name": "#%%\n"
    }
   },
   "outputs": [
    {
     "ename": "NameError",
     "evalue": "name 'lime_number_samples' is not defined",
     "output_type": "error",
     "traceback": [
      "\u001b[0;31m---------------------------------------------------------------------------\u001b[0m",
      "\u001b[0;31mNameError\u001b[0m                                 Traceback (most recent call last)",
      "\u001b[0;32m/tmp/ipykernel_197555/2347593851.py\u001b[0m in \u001b[0;36m<module>\u001b[0;34m\u001b[0m\n\u001b[1;32m      1\u001b[0m \u001b[0;32mfrom\u001b[0m \u001b[0mlime\u001b[0m \u001b[0;32mimport\u001b[0m \u001b[0mlime_image\u001b[0m\u001b[0;34m\u001b[0m\u001b[0;34m\u001b[0m\u001b[0m\n\u001b[1;32m      2\u001b[0m \u001b[0mexplainer\u001b[0m \u001b[0;34m=\u001b[0m \u001b[0mlime_image\u001b[0m\u001b[0;34m.\u001b[0m\u001b[0mLimeImageExplainer\u001b[0m\u001b[0;34m(\u001b[0m\u001b[0;34m)\u001b[0m\u001b[0;34m\u001b[0m\u001b[0;34m\u001b[0m\u001b[0m\n\u001b[0;32m----> 3\u001b[0;31m \u001b[0mexplanation1\u001b[0m \u001b[0;34m=\u001b[0m \u001b[0mexplainer\u001b[0m\u001b[0;34m.\u001b[0m\u001b[0mexplain_instance\u001b[0m\u001b[0;34m(\u001b[0m\u001b[0mtrain_filtered_list\u001b[0m\u001b[0;34m[\u001b[0m\u001b[0mexplained_image_index\u001b[0m\u001b[0;34m]\u001b[0m\u001b[0;34m[\u001b[0m\u001b[0;34m\"image\"\u001b[0m\u001b[0;34m]\u001b[0m\u001b[0;34m/\u001b[0m\u001b[0;36m255.0\u001b[0m\u001b[0;34m,\u001b[0m \u001b[0mclassifier_function_creator\u001b[0m\u001b[0;34m(\u001b[0m\u001b[0mpck\u001b[0m\u001b[0;34m,\u001b[0m\u001b[0meuclidean_distances\u001b[0m\u001b[0;34m)\u001b[0m\u001b[0;34m,\u001b[0m\u001b[0mlabels\u001b[0m\u001b[0;34m=\u001b[0m\u001b[0;34m[\u001b[0m\u001b[0;36m0\u001b[0m\u001b[0;34m,\u001b[0m\u001b[0;36m1\u001b[0m\u001b[0;34m,\u001b[0m\u001b[0;36m2\u001b[0m\u001b[0;34m,\u001b[0m\u001b[0;36m3\u001b[0m\u001b[0;34m,\u001b[0m\u001b[0;36m4\u001b[0m\u001b[0;34m,\u001b[0m\u001b[0;36m5\u001b[0m\u001b[0;34m,\u001b[0m\u001b[0;36m6\u001b[0m\u001b[0;34m,\u001b[0m\u001b[0;36m7\u001b[0m\u001b[0;34m,\u001b[0m\u001b[0;36m8\u001b[0m\u001b[0;34m,\u001b[0m\u001b[0;36m9\u001b[0m\u001b[0;34m,\u001b[0m\u001b[0;36m10\u001b[0m\u001b[0;34m,\u001b[0m\u001b[0;36m11\u001b[0m\u001b[0;34m,\u001b[0m\u001b[0;36m12\u001b[0m\u001b[0;34m,\u001b[0m\u001b[0;36m13\u001b[0m\u001b[0;34m,\u001b[0m\u001b[0;36m14\u001b[0m\u001b[0;34m,\u001b[0m\u001b[0;36m15\u001b[0m\u001b[0;34m,\u001b[0m\u001b[0;36m16\u001b[0m\u001b[0;34m,\u001b[0m\u001b[0;36m17\u001b[0m\u001b[0;34m,\u001b[0m\u001b[0;36m18\u001b[0m\u001b[0;34m,\u001b[0m\u001b[0;36m19\u001b[0m\u001b[0;34m]\u001b[0m\u001b[0;34m,\u001b[0m \u001b[0mtop_labels\u001b[0m\u001b[0;34m=\u001b[0m\u001b[0;36m20\u001b[0m\u001b[0;34m,\u001b[0m \u001b[0mhide_color\u001b[0m\u001b[0;34m=\u001b[0m\u001b[0;36m0\u001b[0m\u001b[0;34m,\u001b[0m \u001b[0mnum_samples\u001b[0m\u001b[0;34m=\u001b[0m\u001b[0mlime_number_samples\u001b[0m\u001b[0;34m,\u001b[0m\u001b[0mbatch_size\u001b[0m \u001b[0;34m=\u001b[0m\u001b[0mlime_batch_size\u001b[0m\u001b[0;34m)\u001b[0m\u001b[0;34m\u001b[0m\u001b[0;34m\u001b[0m\u001b[0m\n\u001b[0m",
      "\u001b[0;31mNameError\u001b[0m: name 'lime_number_samples' is not defined"
     ]
    }
   ],
   "source": [
    "from lime import lime_image\n",
    "explainer = lime_image.LimeImageExplainer()\n",
    "explanation1 = explainer.explain_instance(train_filtered_list[explained_image_index][\"image\"]/255.0, classifier_function_creator(pck,euclidean_distances),labels=[0,1,2,3,4,5,6,7,8,9,10,11,12,13,14,15,16,17,18,19], top_labels=20, hide_color=0, num_samples=lime_number_samples,batch_size =lime_batch_size)"
   ]
  },
  {
   "cell_type": "code",
   "execution_count": null,
   "metadata": {
    "collapsed": false,
    "execution": {
     "iopub.status.busy": "2022-06-17T14:37:30.304145Z",
     "iopub.status.idle": "2022-06-17T14:37:30.304353Z",
     "shell.execute_reply": "2022-06-17T14:37:30.304255Z",
     "shell.execute_reply.started": "2022-06-17T14:37:30.304242Z"
    },
    "jupyter": {
     "outputs_hidden": false
    },
    "pycharm": {
     "name": "#%%\n"
    }
   },
   "outputs": [],
   "source": [
    "from skimage.segmentation import mark_boundaries\n",
    "temp, mask = explanation1.get_image_and_mask(explained_cluster, positive_only=False, num_features=25, hide_rest=False)\n",
    "plt.imshow(mark_boundaries(temp/1.5, mask))"
   ]
  },
  {
   "cell_type": "code",
   "execution_count": null,
   "metadata": {
    "collapsed": false,
    "execution": {
     "iopub.status.busy": "2022-06-17T14:37:30.305136Z",
     "iopub.status.idle": "2022-06-17T14:37:30.305330Z",
     "shell.execute_reply": "2022-06-17T14:37:30.305237Z",
     "shell.execute_reply.started": "2022-06-17T14:37:30.305225Z"
    },
    "jupyter": {
     "outputs_hidden": false
    },
    "pycharm": {
     "name": "#%%\n"
    }
   },
   "outputs": [],
   "source": [
    "clf2 = RandomForestClassifier(max_depth=10, random_state=0)\n",
    "explanation2 = explainer.explain_instance(train_filtered_list[explained_image_index][\"image\"]/255.0, classifier_function_creator2(clf2,features,pck.labels_),labels=[0,1,2,3,4,5,6,7,8,9,10,11,12,13,14,15,16,17,18,19], top_labels=20, hide_color=0, num_samples=lime_number_samples,batch_size =lime_batch_size)"
   ]
  },
  {
   "cell_type": "code",
   "execution_count": null,
   "metadata": {
    "collapsed": false,
    "execution": {
     "iopub.status.busy": "2022-06-17T14:37:30.306060Z",
     "iopub.status.idle": "2022-06-17T14:37:30.306251Z",
     "shell.execute_reply": "2022-06-17T14:37:30.306159Z",
     "shell.execute_reply.started": "2022-06-17T14:37:30.306148Z"
    },
    "jupyter": {
     "outputs_hidden": false
    },
    "pycharm": {
     "name": "#%%\n"
    }
   },
   "outputs": [],
   "source": [
    "from skimage.segmentation import mark_boundaries\n",
    "temp2, mask2 = explanation2.get_image_and_mask(explained_cluster, positive_only=False, num_features=25, hide_rest=False)\n",
    "plt.imshow(mark_boundaries(temp2/1.5, mask2))"
   ]
  },
  {
   "cell_type": "code",
   "execution_count": null,
   "metadata": {
    "collapsed": false,
    "execution": {
     "iopub.status.busy": "2022-06-17T14:37:30.306886Z",
     "iopub.status.idle": "2022-06-17T14:37:30.307103Z",
     "shell.execute_reply": "2022-06-17T14:37:30.306990Z",
     "shell.execute_reply.started": "2022-06-17T14:37:30.306978Z"
    },
    "jupyter": {
     "outputs_hidden": false
    },
    "pycharm": {
     "name": "#%%\n"
    }
   },
   "outputs": [],
   "source": [
    "#Here follow other features explained\n",
    "#TODO show class assigned by distribution\n",
    "#TODO adjust weight w for cld?"
   ]
  },
  {
   "cell_type": "code",
   "execution_count": null,
   "metadata": {
    "collapsed": false,
    "execution": {
     "iopub.status.busy": "2022-06-17T14:37:30.307708Z",
     "iopub.status.idle": "2022-06-17T14:37:30.307927Z",
     "shell.execute_reply": "2022-06-17T14:37:30.307812Z",
     "shell.execute_reply.started": "2022-06-17T14:37:30.307800Z"
    },
    "jupyter": {
     "outputs_hidden": false
    },
    "pycharm": {
     "name": "#%%\n"
    }
   },
   "outputs": [],
   "source": [
    "#effnet explanations\n",
    "if EFFNET_ENABLED:\n",
    "    pck_effnet = PCKMeans(n_clusters=n_cluster,max_iter=100,w=500)\n",
    "    #pck_effnet._initialize_cluster_centers=types.MethodType( initialize_cluster_centers, pck_effnet )\n",
    "    pck_effnet.fit(feature_effnet, ml=pairwise_constraints[0], cl=pairwise_constraints[1])\n",
    "    #metrics.adjusted_rand_score(y, pck_effnet.labels_)\n",
    "\n",
    "    #Here you can change the explained cluster\n",
    "    explained_cluster=pck_effnet.labels_[explained_image_index]\n",
    "\n",
    "    print(\"Adjusted random score using max labels\"+str(metrics.adjusted_rand_score(y, pck_effnet.labels_)))\n",
    "    print(\"Silhouette score \"+str(metrics.silhouette_score(features, pck_effnet.labels_)))\n",
    "\n",
    "    explainer = lime_image.LimeImageExplainer()\n",
    "    explanation1 = explainer.explain_instance(train_filtered_list[explained_image_index][\"image\"]/255.0, classifier_function_creator(pck_effnet,euclidean_distances,\"effnet\"),labels=[0,1,2,3,4,5,6,7,8,9,10,11,12,13,14,15,16,17,18,19], top_labels=20, hide_color=0, num_samples=lime_number_samples,batch_size =lime_batch_size)\n",
    "    clf2 = RandomForestClassifier(max_depth=10, random_state=0)\n",
    "    explanation2 = explainer.explain_instance(train_filtered_list[explained_image_index][\"image\"]/255.0, classifier_function_creator2(clf2,feature_effnet,pck_effnet.labels_,\"effnet\"),labels=[0,1,2,3,4,5,6,7,8,9,10,11,12,13,14,15,16,17,18,19], top_labels=20, hide_color=0, num_samples=lime_number_samples,batch_size =lime_batch_size)\n",
    "    from skimage.segmentation import mark_boundaries\n",
    "    temp, mask = explanation1.get_image_and_mask(explained_cluster, positive_only=False, num_features=25, hide_rest=False)\n",
    "    plt.imshow(mark_boundaries(temp/1.5, mask))\n",
    "    plt.show()\n",
    "\n",
    "    from skimage.segmentation import mark_boundaries\n",
    "    temp2, mask2 = explanation2.get_image_and_mask(explained_cluster, positive_only=False, num_features=25, hide_rest=False)\n",
    "    plt.imshow(mark_boundaries(temp2/1.5, mask2))\n",
    "    plt.show()"
   ]
  },
  {
   "cell_type": "code",
   "execution_count": null,
   "metadata": {
    "collapsed": false,
    "execution": {
     "iopub.status.busy": "2022-06-17T14:37:30.308695Z",
     "iopub.status.idle": "2022-06-17T14:37:30.308906Z",
     "shell.execute_reply": "2022-06-17T14:37:30.308804Z",
     "shell.execute_reply.started": "2022-06-17T14:37:30.308791Z"
    },
    "jupyter": {
     "outputs_hidden": false
    },
    "pycharm": {
     "name": "#%%\n"
    }
   },
   "outputs": [],
   "source": [
    "#orb explanations\n",
    "import types\n",
    "\n",
    "if ORB_ENABLED:\n",
    "    pck_orb = PCKMeans(n_clusters=n_cluster,max_iter=100,w=500)\n",
    "    #pck_orb._initialize_cluster_centers=types.MethodType( initialize_cluster_centers, pck_orb )\n",
    "    pck_orb.fit(feature_orb, ml=pairwise_constraints[0], cl=pairwise_constraints[1])\n",
    "    #metrics.adjusted_rand_score(y, pck_orb.labels_)\n",
    "\n",
    "    #Here you can change the explained cluster\n",
    "    explained_cluster=pck_orb.labels_[explained_image_index]\n",
    "\n",
    "    print(\"Adjusted random score using max labels\"+str(metrics.adjusted_rand_score(y, pck_orb.labels_)))\n",
    "    print(\"Silhouette score \"+str(metrics.silhouette_score(features, pck_orb.labels_)))\n",
    "\n",
    "    explainer = lime_image.LimeImageExplainer()\n",
    "    explanation1 = explainer.explain_instance(train_filtered_list[explained_image_index][\"image\"]/255.0, classifier_function_creator(pck_orb,euclidean_distances,\"orb\"),labels=[0,1,2,3,4,5,6,7,8,9,10,11,12,13,14,15,16,17,18,19], top_labels=20, hide_color=0, num_samples=lime_number_samples,batch_size =lime_batch_size)\n",
    "    clf2 = RandomForestClassifier(max_depth=10, random_state=0)\n",
    "    explanation2 = explainer.explain_instance(train_filtered_list[explained_image_index][\"image\"]/255.0, classifier_function_creator2(clf2,feature_orb,pck_orb.labels_,\"orb\"),labels=[0,1,2,3,4,5,6,7,8,9,10,11,12,13,14,15,16,17,18,19], top_labels=20, hide_color=0, num_samples=lime_number_samples,batch_size =lime_batch_size)\n",
    "    from skimage.segmentation import mark_boundaries\n",
    "    temp, mask = explanation1.get_image_and_mask(explained_cluster, positive_only=False, num_features=25, hide_rest=False)\n",
    "    plt.imshow(mark_boundaries(temp/1.5, mask))\n",
    "    plt.show()\n",
    "    from skimage.segmentation import mark_boundaries\n",
    "    temp2, mask2 = explanation2.get_image_and_mask(explained_cluster, positive_only=False, num_features=25, hide_rest=False)\n",
    "    plt.imshow(mark_boundaries(temp2/1.5, mask2))\n",
    "    plt.show()"
   ]
  },
  {
   "cell_type": "code",
   "execution_count": null,
   "metadata": {
    "collapsed": false,
    "execution": {
     "iopub.status.busy": "2022-06-17T14:37:30.309757Z",
     "iopub.status.idle": "2022-06-17T14:37:30.309990Z",
     "shell.execute_reply": "2022-06-17T14:37:30.309855Z",
     "shell.execute_reply.started": "2022-06-17T14:37:30.309844Z"
    },
    "jupyter": {
     "outputs_hidden": false
    },
    "pycharm": {
     "name": "#%%\n"
    }
   },
   "outputs": [],
   "source": [
    "#color layout descriptor explanations\n",
    "if CLD_ENABLED:\n",
    "    import types\n",
    "\n",
    "    fitted=False\n",
    "    while not fitted:\n",
    "        try:\n",
    "            pck_cld = PCKMeans(n_clusters=n_cluster,max_iter=100,w=50000)\n",
    "            pck_cld._initialize_cluster_centers=types.MethodType( initialize_cluster_centers, pck_cld )\n",
    "            pck_cld.fit(feature_cld, ml=pairwise_constraints[0], cl=pairwise_constraints[1])\n",
    "            fitted=True\n",
    "        except Exception as e:\n",
    "            if str(e)==\"\":\n",
    "                pass\n",
    "            else:\n",
    "                raise e\n",
    "    print(\"passed\")\n",
    "    #metrics.adjusted_rand_score(y, pck_cld.labels_)\n",
    "    #Here you can change the explained cluster\n",
    "    explained_cluster=pck_cld.labels_[explained_image_index]\n",
    "\n",
    "    print(\"Adjusted random score using max labels\"+str(metrics.adjusted_rand_score(y, pck_cld.labels_)))\n",
    "    print(\"Silhouette score \"+str(metrics.silhouette_score(features, pck_cld.labels_)))\n",
    "\n",
    "    explainer = lime_image.LimeImageExplainer()\n",
    "    explanation1 = explainer.explain_instance(train_filtered_list[explained_image_index][\"image\"]/255.0, classifier_function_creator(pck_cld,euclidean_distances,\"cld\"),labels=[0,1,2,3,4,5,6,7,8,9,10,11,12,13,14,15,16,17,18,19], top_labels=20, hide_color=0, num_samples=lime_number_samples,batch_size =lime_batch_size)\n",
    "    clf2 = RandomForestClassifier(max_depth=10, random_state=0)\n",
    "    explanation2 = explainer.explain_instance(train_filtered_list[explained_image_index][\"image\"]/255.0, classifier_function_creator2(clf2,feature_cld,pck_cld.labels_,\"cld\"),labels=[0,1,2,3,4,5,6,7,8,9,10,11,12,13,14,15,16,17,18,19], top_labels=20, hide_color=0, num_samples=lime_number_samples,batch_size =lime_batch_size)\n",
    "    from skimage.segmentation import mark_boundaries\n",
    "    temp, mask = explanation1.get_image_and_mask(explained_cluster, positive_only=False, num_features=25, hide_rest=False)\n",
    "    plt.imshow(mark_boundaries(temp/1.5, mask))\n",
    "    plt.show()\n",
    "    from skimage.segmentation import mark_boundaries\n",
    "    temp2, mask2 = explanation2.get_image_and_mask(explained_cluster, positive_only=False, num_features=25, hide_rest=False)\n",
    "    plt.imshow(mark_boundaries(temp2/1.5, mask2))\n",
    "    plt.show()"
   ]
  },
  {
   "cell_type": "code",
   "execution_count": null,
   "metadata": {
    "collapsed": false,
    "execution": {
     "iopub.status.busy": "2022-06-17T14:37:30.310697Z",
     "iopub.status.idle": "2022-06-17T14:37:30.310964Z",
     "shell.execute_reply": "2022-06-17T14:37:30.310827Z",
     "shell.execute_reply.started": "2022-06-17T14:37:30.310812Z"
    },
    "jupyter": {
     "outputs_hidden": false
    },
    "pycharm": {
     "name": "#%%\n"
    }
   },
   "outputs": [],
   "source": [
    "#surf explanations\n",
    "if SURF_ENABLED:\n",
    "    pck_surf = PCKMeans(n_clusters=n_cluster,max_iter=100,w=500)\n",
    "    #pck_surf._initialize_cluster_centers=types.MethodType( initialize_cluster_centers, pck_surf )\n",
    "    pck_surf.fit(feature_surf, ml=pairwise_constraints[0], cl=pairwise_constraints[1])\n",
    "    #metrics.adjusted_rand_score(y, pck_surf.labels_)\n",
    "\n",
    "    #Here you can change the explained cluster\n",
    "    explained_cluster=pck_surf.labels_[explained_image_index]\n",
    "\n",
    "    print(\"Adjusted random score using max labels\"+str(metrics.adjusted_rand_score(y, pck_surf.labels_)))\n",
    "    print(\"Silhouette score \"+str(metrics.silhouette_score(features, pck_surf.labels_)))\n",
    "\n",
    "    explainer = lime_image.LimeImageExplainer()\n",
    "    explanation1 = explainer.explain_instance(train_filtered_list[explained_image_index][\"image\"]/255.0, classifier_function_creator(pck_surf,euclidean_distances,\"surf\"),labels=[0,1,2,3,4,5,6,7,8,9,10,11,12,13,14,15,16,17,18,19], top_labels=20, hide_color=0, num_samples=lime_number_samples,batch_size =lime_batch_size)\n",
    "    clf2 = RandomForestClassifier(max_depth=10, random_state=0)\n",
    "    explanation2 = explainer.explain_instance(train_filtered_list[explained_image_index][\"image\"]/255.0, classifier_function_creator2(clf2,feature_surf,pck_surf.labels_,\"surf\"),labels=[0,1,2,3,4,5,6,7,8,9,10,11,12,13,14,15,16,17,18,19], top_labels=20, hide_color=0, num_samples=lime_number_samples,batch_size =lime_batch_size)\n",
    "    from skimage.segmentation import mark_boundaries\n",
    "    temp, mask = explanation1.get_image_and_mask(explained_cluster, positive_only=False, num_features=25, hide_rest=False)\n",
    "    plt.imshow(mark_boundaries(temp/1.5, mask))\n",
    "    plt.show()\n",
    "\n",
    "    from skimage.segmentation import mark_boundaries\n",
    "    temp2, mask2 = explanation2.get_image_and_mask(explained_cluster, positive_only=False, num_features=25, hide_rest=False)\n",
    "    plt.imshow(mark_boundaries(temp2/1.5, mask2))\n",
    "    plt.show()"
   ]
  },
  {
   "cell_type": "code",
   "execution_count": null,
   "metadata": {
    "collapsed": false,
    "execution": {
     "iopub.status.busy": "2022-06-17T14:37:30.311721Z",
     "iopub.status.idle": "2022-06-17T14:37:30.311987Z",
     "shell.execute_reply": "2022-06-17T14:37:30.311822Z",
     "shell.execute_reply.started": "2022-06-17T14:37:30.311810Z"
    },
    "jupyter": {
     "outputs_hidden": false
    },
    "pycharm": {
     "name": "#%%\n"
    }
   },
   "outputs": [],
   "source": [
    "#hash explanation\n",
    "if HASHING_ENABLED:\n",
    "    pck_hash = PCKMeans(n_clusters=n_cluster,max_iter=100,w=500)\n",
    "    #pck_hash._initialize_cluster_centers=types.MethodType( initialize_cluster_centers, pck_hash )\n",
    "    pck_hash.fit(feature_hash, ml=pairwise_constraints[0], cl=pairwise_constraints[1])\n",
    "    #metrics.adjusted_rand_score(y, pck_hash.labels_)\n",
    "\n",
    "    #Here you can change the explained cluster\n",
    "    explained_cluster=pck_hash.labels_[explained_image_index]\n",
    "\n",
    "    print(\"Adjusted random score using max labels\"+str(metrics.adjusted_rand_score(y, pck_hash.labels_)))\n",
    "    print(\"Silhouette score \"+str(metrics.silhouette_score(features, pck_hash.labels_)))\n",
    "\n",
    "    explainer = lime_image.LimeImageExplainer()\n",
    "    explanation1 = explainer.explain_instance(train_filtered_list[explained_image_index][\"image\"]/255.0, classifier_function_creator(pck_hash,euclidean_distances,\"hash\"),labels=[0,1,2,3,4,5,6,7,8,9,10,11,12,13,14,15,16,17,18,19], top_labels=20, hide_color=0, num_samples=lime_number_samples,batch_size =lime_batch_size)\n",
    "    clf2 = RandomForestClassifier(max_depth=10, random_state=0)\n",
    "    explanation2 = explainer.explain_instance(train_filtered_list[explained_image_index][\"image\"]/255.0, classifier_function_creator2(clf2,feature_hash,pck_hash.labels_,\"hash\"),labels=[0,1,2,3,4,5,6,7,8,9,10,11,12,13,14,15,16,17,18,19], top_labels=20, hide_color=0, num_samples=lime_number_samples,batch_size =lime_batch_size)\n",
    "    from skimage.segmentation import mark_boundaries\n",
    "    temp, mask = explanation1.get_image_and_mask(explained_cluster, positive_only=False, num_features=25, hide_rest=False)\n",
    "    plt.imshow(mark_boundaries(temp/1.5, mask))\n",
    "    plt.show()\n",
    "    from skimage.segmentation import mark_boundaries\n",
    "    temp2, mask2 = explanation2.get_image_and_mask(explained_cluster, positive_only=False, num_features=25, hide_rest=False)\n",
    "    plt.imshow(mark_boundaries(temp2/1.5, mask2))\n",
    "    plt.show()"
   ]
  },
  {
   "cell_type": "code",
   "execution_count": null,
   "metadata": {
    "collapsed": false,
    "jupyter": {
     "outputs_hidden": false
    },
    "pycharm": {
     "name": "#%%\n"
    }
   },
   "outputs": [],
   "source": []
  },
  {
   "cell_type": "code",
   "execution_count": null,
   "metadata": {
    "collapsed": false,
    "jupyter": {
     "outputs_hidden": false
    },
    "pycharm": {
     "name": "#%%\n"
    }
   },
   "outputs": [],
   "source": []
  },
  {
   "cell_type": "code",
   "execution_count": null,
   "metadata": {
    "collapsed": false,
    "execution": {
     "iopub.status.busy": "2022-06-17T14:37:30.313342Z",
     "iopub.status.idle": "2022-06-17T14:37:30.313560Z",
     "shell.execute_reply": "2022-06-17T14:37:30.313456Z",
     "shell.execute_reply.started": "2022-06-17T14:37:30.313444Z"
    },
    "jupyter": {
     "outputs_hidden": false
    },
    "pycharm": {
     "name": "#%%\n"
    }
   },
   "outputs": [],
   "source": [
    "#here are example images for the clusters\n",
    "#This made more senses than asking the expert again wether the clusters are correct and calculating a score based on that.\n",
    "# Mainly because it is way faster to check multiple images at once."
   ]
  },
  {
   "cell_type": "code",
   "execution_count": null,
   "metadata": {
    "collapsed": false,
    "execution": {
     "iopub.status.busy": "2022-06-17T14:37:30.314193Z",
     "iopub.status.idle": "2022-06-17T14:37:30.314422Z",
     "shell.execute_reply": "2022-06-17T14:37:30.314310Z",
     "shell.execute_reply.started": "2022-06-17T14:37:30.314296Z"
    },
    "jupyter": {
     "outputs_hidden": false
    },
    "pycharm": {
     "name": "#%%\n"
    }
   },
   "outputs": [],
   "source": [
    "def show_example_images(algorithm,data_list,cluster=0,ammount=10):\n",
    "    counter = 0\n",
    "    for k,data in enumerate(data_list):\n",
    "            if counter == ammount:\n",
    "                break\n",
    "            im = data['image']\n",
    "            pred = algorithm.labels_[k]\n",
    "            if pred == cluster:\n",
    "                    plt.imshow(im)\n",
    "                    plt.show()\n",
    "                    counter += 1\n",
    "                    if counter == ammount:\n",
    "                        break"
   ]
  },
  {
   "cell_type": "code",
   "execution_count": null,
   "metadata": {
    "collapsed": false,
    "execution": {
     "iopub.status.busy": "2022-06-17T14:37:30.315321Z",
     "iopub.status.idle": "2022-06-17T14:37:30.315658Z",
     "shell.execute_reply": "2022-06-17T14:37:30.315544Z",
     "shell.execute_reply.started": "2022-06-17T14:37:30.315529Z"
    },
    "jupyter": {
     "outputs_hidden": false
    },
    "pycharm": {
     "name": "#%%\n"
    }
   },
   "outputs": [],
   "source": [
    "show_example_images(pck,train_filtered_list,cluster=0,ammount=10)"
   ]
  },
  {
   "cell_type": "code",
   "execution_count": null,
   "metadata": {
    "collapsed": false,
    "execution": {
     "iopub.status.busy": "2022-06-17T14:37:30.316426Z",
     "iopub.status.idle": "2022-06-17T14:37:30.316662Z",
     "shell.execute_reply": "2022-06-17T14:37:30.316547Z",
     "shell.execute_reply.started": "2022-06-17T14:37:30.316533Z"
    },
    "jupyter": {
     "outputs_hidden": false
    },
    "pycharm": {
     "name": "#%%\n"
    }
   },
   "outputs": [],
   "source": [
    "show_example_images(pck_effnet,train_filtered_list,cluster=0,ammount=10)"
   ]
  },
  {
   "cell_type": "markdown",
   "metadata": {
    "pycharm": {
     "name": "#%% md\n"
    }
   },
   "source": []
  },
  {
   "cell_type": "code",
   "execution_count": null,
   "metadata": {
    "collapsed": false,
    "execution": {
     "iopub.status.busy": "2022-06-17T14:37:30.317412Z",
     "iopub.status.idle": "2022-06-17T14:37:30.317718Z",
     "shell.execute_reply": "2022-06-17T14:37:30.317613Z",
     "shell.execute_reply.started": "2022-06-17T14:37:30.317600Z"
    },
    "jupyter": {
     "outputs_hidden": false
    },
    "pycharm": {
     "name": "#%%\n"
    }
   },
   "outputs": [],
   "source": [
    "show_example_images(pck_surf,train_filtered_list,cluster=0,ammount=10)"
   ]
  },
  {
   "cell_type": "code",
   "execution_count": null,
   "metadata": {
    "collapsed": false,
    "execution": {
     "iopub.status.busy": "2022-06-17T14:37:30.318452Z",
     "iopub.status.idle": "2022-06-17T14:37:30.318673Z",
     "shell.execute_reply": "2022-06-17T14:37:30.318564Z",
     "shell.execute_reply.started": "2022-06-17T14:37:30.318551Z"
    },
    "jupyter": {
     "outputs_hidden": false
    },
    "pycharm": {
     "name": "#%%\n"
    }
   },
   "outputs": [],
   "source": [
    "show_example_images(pck_orb,train_filtered_list,cluster=0,ammount=10)"
   ]
  },
  {
   "cell_type": "code",
   "execution_count": null,
   "metadata": {
    "collapsed": false,
    "execution": {
     "iopub.status.busy": "2022-06-17T14:37:30.319413Z",
     "iopub.status.idle": "2022-06-17T14:37:30.319639Z",
     "shell.execute_reply": "2022-06-17T14:37:30.319538Z",
     "shell.execute_reply.started": "2022-06-17T14:37:30.319525Z"
    },
    "jupyter": {
     "outputs_hidden": false
    },
    "pycharm": {
     "name": "#%%\n"
    }
   },
   "outputs": [],
   "source": [
    "show_example_images(pck_cld,train_filtered_list,cluster=1,ammount=10)"
   ]
  },
  {
   "cell_type": "code",
   "execution_count": null,
   "metadata": {
    "collapsed": false,
    "execution": {
     "iopub.status.busy": "2022-06-17T14:37:30.320496Z",
     "iopub.status.idle": "2022-06-17T14:37:30.320717Z",
     "shell.execute_reply": "2022-06-17T14:37:30.320609Z",
     "shell.execute_reply.started": "2022-06-17T14:37:30.320596Z"
    },
    "jupyter": {
     "outputs_hidden": false
    },
    "pycharm": {
     "name": "#%%\n"
    }
   },
   "outputs": [],
   "source": [
    "show_example_images(pck_hash,train_filtered_list,cluster=0,ammount=10)"
   ]
  },
  {
   "cell_type": "code",
   "execution_count": null,
   "metadata": {
    "collapsed": false,
    "execution": {
     "iopub.status.busy": "2022-06-17T14:37:30.321343Z",
     "iopub.status.idle": "2022-06-17T14:37:30.321566Z",
     "shell.execute_reply": "2022-06-17T14:37:30.321459Z",
     "shell.execute_reply.started": "2022-06-17T14:37:30.321446Z"
    },
    "jupyter": {
     "outputs_hidden": false
    },
    "pycharm": {
     "name": "#%%\n"
    }
   },
   "outputs": [],
   "source": [
    "#here follow calculations for images due to the large number of queries they need only labeloracle is used\n",
    "#i would not recommend recomputing them\n",
    "\n",
    "#Also all features have to be enabled to calculate the comparision!"
   ]
  },
  {
   "cell_type": "code",
   "execution_count": null,
   "metadata": {
    "collapsed": false,
    "execution": {
     "iopub.status.busy": "2022-06-17T14:37:30.322503Z",
     "iopub.status.idle": "2022-06-17T14:37:30.322726Z",
     "shell.execute_reply": "2022-06-17T14:37:30.322617Z",
     "shell.execute_reply.started": "2022-06-17T14:37:30.322604Z"
    },
    "jupyter": {
     "outputs_hidden": false
    },
    "pycharm": {
     "name": "#%%\n"
    }
   },
   "outputs": [],
   "source": [
    "start=time.time()\n",
    "import multiprocessing\n",
    "pool = multiprocessing.Pool(processes=8)\n",
    "kwargs={\"power_of_query_count\":5,\"tries\":2}\n",
    "kwargs1={\"power_of_query_count\":5,\"tries\":2,\"weight\":50000}\n",
    "kwargs2={\"power_of_query_count\":4,\"tries\":2,\"use_explore_consolidate\":False}\n",
    "kwargs3={\"power_of_query_count\":4,\"tries\":2,\"use_explore_consolidate\":True}\n",
    "async_result1=pool.apply_async(calculate_score_per_query,(features,train_filtered_list,n_cluster,y),kwargs)\n",
    "async_result2=pool.apply_async(calculate_score_per_query,(feature_surf,train_filtered_list,n_cluster,y),kwargs)\n",
    "async_result3=pool.apply_async(calculate_score_per_query,(feature_effnet,train_filtered_list,n_cluster,y),kwargs)\n",
    "async_result4=pool.apply_async(calculate_score_per_query,(feature_cld,train_filtered_list,n_cluster,y),kwargs1)\n",
    "async_result5=pool.apply_async(calculate_score_per_query,(feature_hash,train_filtered_list,n_cluster,y),kwargs)\n",
    "async_result6=pool.apply_async(calculate_score_per_query,(feature_orb,train_filtered_list,n_cluster,y),kwargs)\n",
    "async_result7=pool.apply_async(calculate_score_per_query,(features,train_filtered_list,n_cluster,y),kwargs2)\n",
    "async_result8=pool.apply_async(calculate_score_per_query,(features,train_filtered_list,n_cluster,y),kwargs3)\n",
    "\n",
    "values_random,values_sil,querry_counts = async_result1.get(timeout=1800)\n",
    "print(\"1\")\n",
    "print(time.time()-start)\n",
    "values_random_surf,values_sil_surf,querry_counts = async_result2.get(timeout=1800)\n",
    "print(\"2\")\n",
    "print(time.time()-start)\n",
    "values_random_effnet,values_sil_effnet,querry_counts = async_result3.get(timeout=1800)\n",
    "print(\"3\")\n",
    "print(time.time()-start)\n",
    "values_random_cld,values_sil_cld,querry_counts=async_result4.get(timeout=1800)\n",
    "print(\"4\")\n",
    "print(time.time()-start)\n",
    "values_random_hash,values_sil_hash,querry_counts=async_result5.get(timeout=1800)\n",
    "print(\"5\")\n",
    "print(time.time()-start)\n",
    "values_random_orb,values_orb_hash,querry_counts=async_result6.get(timeout=1800)\n",
    "print(\"6\")\n",
    "print(time.time()-start)\n",
    "values_random_random,values_sil_random,querry_counts2 = async_result7.get(timeout=1800)\n",
    "print(\"7\")\n",
    "print(time.time()-start)\n",
    "values_random_explore,values_sil_explore,querry_counts2 = async_result8.get(timeout=1800)\n",
    "print(\"8\")\n",
    "pool.close()\n",
    "pool.join()\n",
    "print(time.time()-start)"
   ]
  },
  {
   "cell_type": "code",
   "execution_count": null,
   "metadata": {
    "collapsed": false,
    "execution": {
     "iopub.status.busy": "2022-06-17T14:37:30.323295Z",
     "iopub.status.idle": "2022-06-17T14:37:30.323492Z",
     "shell.execute_reply": "2022-06-17T14:37:30.323395Z",
     "shell.execute_reply.started": "2022-06-17T14:37:30.323384Z"
    },
    "jupyter": {
     "outputs_hidden": false
    },
    "pycharm": {
     "name": "#%%\n"
    }
   },
   "outputs": [],
   "source": [
    "#TODO use standard error insteaf of deviation?\n",
    "fig, ax = plt.subplots(1, 1)\n",
    "fig.dpi=300\n",
    "ax.set_title(\"Adjusted Random Score for number of queries\")\n",
    "ax.set_xlabel(\"number of queries\")\n",
    "ax.set_ylabel(\"Score\")\n",
    "score_arr=np.array(values_random)\n",
    "train_scores_mean = np.mean(score_arr, axis=1)\n",
    "train_scores_std = np.std(score_arr, axis=1)\n",
    "ax.grid()\n",
    "ax.fill_between(querry_counts, train_scores_mean - train_scores_std,\n",
    "                    train_scores_mean + train_scores_std, alpha=0.1, color=\"r\")\n",
    "ax.plot(querry_counts, train_scores_mean, 'o-', color=\"r\",\n",
    "            label=\"Training score\")\n",
    "#ax.tick_params(labelsize=text_fontsize)\n",
    "#ax.legend(loc=\"best\", fontsize=text_fontsize)\n",
    "plt.show()"
   ]
  },
  {
   "cell_type": "code",
   "execution_count": null,
   "metadata": {
    "collapsed": false,
    "execution": {
     "iopub.status.busy": "2022-06-17T14:37:30.324166Z",
     "iopub.status.idle": "2022-06-17T14:37:30.324365Z",
     "shell.execute_reply": "2022-06-17T14:37:30.324268Z",
     "shell.execute_reply.started": "2022-06-17T14:37:30.324257Z"
    },
    "jupyter": {
     "outputs_hidden": false
    },
    "pycharm": {
     "name": "#%%\n"
    }
   },
   "outputs": [],
   "source": [
    "fig, ax = plt.subplots(1, 1)\n",
    "fig.dpi=300\n",
    "ax.set_title(\"Silhouette score for number of queries\")\n",
    "ax.set_xlabel(\"number of queries\")\n",
    "ax.set_ylabel(\"Score\")\n",
    "score_arr=np.array(values_sil)\n",
    "train_scores_mean = np.mean(score_arr, axis=1)\n",
    "train_scores_std = np.std(score_arr, axis=1)\n",
    "ax.grid()\n",
    "ax.fill_between(querry_counts, train_scores_mean - train_scores_std,\n",
    "                    train_scores_mean + train_scores_std, alpha=0.1, color=\"r\")\n",
    "ax.plot(querry_counts, train_scores_mean, 'o-', color=\"r\",\n",
    "            label=\"Training score\")\n",
    "#ax.tick_params(labelsize=text_fontsize)\n",
    "#ax.legend(loc=\"best\", fontsize=text_fontsize)\n",
    "plt.show()"
   ]
  },
  {
   "cell_type": "code",
   "execution_count": null,
   "metadata": {
    "collapsed": false,
    "execution": {
     "iopub.status.busy": "2022-06-17T14:37:30.325112Z",
     "iopub.status.idle": "2022-06-17T14:37:30.325335Z",
     "shell.execute_reply": "2022-06-17T14:37:30.325226Z",
     "shell.execute_reply.started": "2022-06-17T14:37:30.325213Z"
    },
    "jupyter": {
     "outputs_hidden": false
    },
    "pycharm": {
     "name": "#%%\n"
    }
   },
   "outputs": [],
   "source": [
    "fig, ax = plt.subplots(1, 1)\n",
    "fig.dpi=300\n",
    "ax.set_title(\"Adjusted Random Score using labels over different numbers of queries\")\n",
    "ax.set_xlabel(\"Number of queries\")\n",
    "ax.set_ylabel(\"Adjusted Random Score\")\n",
    "#dict_random={\"surf\":values_random_surf,\"cld\":values_random_cld,\"ahash\":values_random_hash}\n",
    "dict_random={\"all\":values_random,\"effnet\":values_random_effnet,\"surf\":values_random_surf,\"cld\":values_random_cld,\"ahash\":values_random_hash,\"orb\":values_random_orb}\n",
    "for key in dict_random:\n",
    "    score_arr=np.array(dict_random[key])\n",
    "    train_scores_mean = np.mean(score_arr, axis=1)\n",
    "    train_scores_std = np.std(score_arr, axis=1)\n",
    "    ax.grid()\n",
    "    ax.fill_between(querry_counts, train_scores_mean - train_scores_std,\n",
    "                        train_scores_mean + train_scores_std, alpha=0.2)\n",
    "    ax.plot(querry_counts, train_scores_mean, 'o-',\n",
    "                label=key)\n",
    "#ax.tick_params(labelsize=text_fontsizew)\n",
    "#ax.legend(loc=\"best\", fontsize=text_fontsize)\n",
    "plt.legend()\n",
    "plt.show()"
   ]
  },
  {
   "cell_type": "code",
   "execution_count": null,
   "metadata": {
    "collapsed": false,
    "execution": {
     "iopub.status.busy": "2022-06-17T14:37:30.325949Z",
     "iopub.status.idle": "2022-06-17T14:37:30.326157Z",
     "shell.execute_reply": "2022-06-17T14:37:30.326058Z",
     "shell.execute_reply.started": "2022-06-17T14:37:30.326046Z"
    },
    "jupyter": {
     "outputs_hidden": false
    },
    "pycharm": {
     "name": "#%%\n"
    }
   },
   "outputs": [],
   "source": [
    "fig, ax = plt.subplots(1, 1)\n",
    "fig.dpi=300\n",
    "ax.set_title(\"Silhouette score over different numbers of queries\")\n",
    "ax.set_xlabel(\"Number of queries\")\n",
    "ax.set_ylabel(\"Adjusted Random Score\")\n",
    "#dict_random={\"surf\":values_random_surf,\"cld\":values_random_cld,\"ahash\":values_random_hash}\n",
    "dict_random={\"all\":values_sil,\"effnet\":values_sil_effnet,\"surf\":values_sil_surf,\"cld\":values_sil_cld,\"ahash\":values_sil_hash}\n",
    "for key in dict_random:\n",
    "    score_arr=np.array(dict_random[key])\n",
    "    train_scores_mean = np.mean(score_arr, axis=1)\n",
    "    train_scores_std = np.std(score_arr, axis=1)\n",
    "    ax.grid()\n",
    "    ax.fill_between(querry_counts, train_scores_mean - train_scores_std,\n",
    "                        train_scores_mean + train_scores_std, alpha=0.2)\n",
    "    ax.plot(querry_counts, train_scores_mean, 'o-',\n",
    "                label=key)\n",
    "#ax.tick_params(labelsize=text_fontsizew)\n",
    "#ax.legend(loc=\"best\", fontsize=text_fontsize)\n",
    "plt.legend()\n",
    "plt.show()"
   ]
  },
  {
   "cell_type": "code",
   "execution_count": null,
   "metadata": {
    "collapsed": false,
    "execution": {
     "iopub.status.busy": "2022-06-17T14:37:30.326767Z",
     "iopub.status.idle": "2022-06-17T14:37:30.326966Z",
     "shell.execute_reply": "2022-06-17T14:37:30.326870Z",
     "shell.execute_reply.started": "2022-06-17T14:37:30.326858Z"
    },
    "jupyter": {
     "outputs_hidden": false
    },
    "pycharm": {
     "name": "#%%\n"
    }
   },
   "outputs": [],
   "source": [
    "\n",
    "fig, ax = plt.subplots(1, 1)\n",
    "fig.dpi=300\n",
    "ax.set_title(\"Adjusted Random Score using labels over different numbers of queries\")\n",
    "ax.set_xlabel(\"Number of queries\")\n",
    "ax.set_ylabel(\"Adjusted Random Score\")\n",
    "#dict_random={\"surf\":values_random_surf,\"cld\":values_random_cld,\"ahash\":values_random_hash}\n",
    "dict_random={\"random\":values_random_random,\"explore consolidate\":values_random_explore}\n",
    "for key in dict_random:\n",
    "    score_arr=np.array(dict_random[key])\n",
    "    train_scores_mean = np.mean(score_arr, axis=1)\n",
    "    train_scores_std = np.std(score_arr, axis=1)\n",
    "    ax.grid()\n",
    "    ax.fill_between(querry_counts2, train_scores_mean - train_scores_std,\n",
    "                        train_scores_mean + train_scores_std, alpha=0.2)\n",
    "    ax.plot(querry_counts2, train_scores_mean, 'o-',\n",
    "                label=key)\n",
    "#ax.tick_params(labelsize=text_fontsizew)\n",
    "#ax.legend(loc=\"best\", fontsize=text_fontsize)\n",
    "plt.legend()\n",
    "plt.show()"
   ]
  },
  {
   "cell_type": "code",
   "execution_count": null,
   "metadata": {
    "collapsed": false,
    "execution": {
     "iopub.status.busy": "2022-06-17T14:37:30.327614Z",
     "iopub.status.idle": "2022-06-17T14:37:30.327816Z",
     "shell.execute_reply": "2022-06-17T14:37:30.327720Z",
     "shell.execute_reply.started": "2022-06-17T14:37:30.327708Z"
    },
    "jupyter": {
     "outputs_hidden": false
    },
    "pycharm": {
     "name": "#%%\n"
    }
   },
   "outputs": [],
   "source": [
    "fig, ax = plt.subplots(1, 1)\n",
    "fig.dpi=300\n",
    "ax.set_title(\"Silhouette score over different numbers of queries\")\n",
    "ax.set_xlabel(\"Number of queries\")\n",
    "ax.set_ylabel(\"Adjusted Random Score\")\n",
    "#dict_random={\"surf\":values_random_surf,\"cld\":values_random_cld,\"ahash\":values_random_hash}\n",
    "dict_random={\"random\":values_sil_random,\"explore consolidate\":values_sil_explore}\n",
    "for key in dict_random:\n",
    "    score_arr=np.array(dict_random[key])\n",
    "    train_scores_mean = np.mean(score_arr, axis=1)\n",
    "    train_scores_std = np.std(score_arr, axis=1)\n",
    "    ax.grid()\n",
    "    ax.fill_between(querry_counts2, train_scores_mean - train_scores_std,\n",
    "                        train_scores_mean + train_scores_std, alpha=0.2)\n",
    "    ax.plot(querry_counts2, train_scores_mean, 'o-',\n",
    "                label=key)\n",
    "#ax.tick_params(labelsize=text_fontsizew)\n",
    "#ax.legend(loc=\"best\", fontsize=text_fontsize)\n",
    "plt.legend()\n",
    "plt.show()"
   ]
  },
  {
   "cell_type": "code",
   "execution_count": null,
   "metadata": {
    "collapsed": false,
    "execution": {
     "iopub.status.busy": "2022-06-17T14:37:30.328505Z",
     "iopub.status.idle": "2022-06-17T14:37:30.328704Z",
     "shell.execute_reply": "2022-06-17T14:37:30.328607Z",
     "shell.execute_reply.started": "2022-06-17T14:37:30.328595Z"
    },
    "jupyter": {
     "outputs_hidden": false
    },
    "pycharm": {
     "name": "#%%\n"
    }
   },
   "outputs": [],
   "source": [
    "#TODO test LABELORRACLE with heuristic"
   ]
  },
  {
   "cell_type": "code",
   "execution_count": null,
   "metadata": {
    "collapsed": false,
    "jupyter": {
     "outputs_hidden": false
    },
    "pycharm": {
     "is_executing": true,
     "name": "#%%\n"
    }
   },
   "outputs": [],
   "source": []
  }
 ],
 "metadata": {
  "kernelspec": {
   "display_name": "Python 3 (ipykernel)",
   "language": "python",
   "name": "python3"
  },
  "language_info": {
   "codemirror_mode": {
    "name": "ipython",
    "version": 3
   },
   "file_extension": ".py",
   "mimetype": "text/x-python",
   "name": "python",
   "nbconvert_exporter": "python",
   "pygments_lexer": "ipython3",
   "version": "3.7.13"
  }
 },
 "nbformat": 4,
 "nbformat_minor": 4
}
